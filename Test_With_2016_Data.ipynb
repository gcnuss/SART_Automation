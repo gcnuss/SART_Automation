{
 "cells": [
  {
   "cell_type": "markdown",
   "metadata": {},
   "source": [
    "## Initial Event Preparation\n",
    "- Occurs pre-event\n",
    "- Instantiate class and define bracket format via the dictionary and lists of tuples as shown below"
   ]
  },
  {
   "cell_type": "code",
   "execution_count": 1,
   "metadata": {
    "collapsed": true
   },
   "outputs": [],
   "source": [
    "from SART_Class_v2 import SART\n",
    "import pandas as pd"
   ]
  },
  {
   "cell_type": "code",
   "execution_count": 2,
   "metadata": {
    "collapsed": true
   },
   "outputs": [],
   "source": [
    "r0_seeds = {'Heat 101': [1, 32, 33, 64, 65], 'Heat 102': [16, 17, 48, 49, 80],\n",
    "    'Heat 103': [8, 25, 40, 57, 72], 'Heat 104': [9, 24, 41, 56, 73],\n",
    "    'Heat 105': [4, 29, 36, 61, 68], 'Heat 106': [13, 20, 45, 52, 77],\n",
    "    'Heat 107': [5, 28, 37, 60, 69], 'Heat 108': [12, 21, 44, 53, 76],\n",
    "    'Heat 109': [2, 31, 34, 63, 66], 'Heat 110': [15, 18, 47, 50, 79],\n",
    "    'Heat 111': [7, 26, 39, 58, 71], 'Heat 112': [10, 23, 42, 55, 74],\n",
    "    'Heat 113': [3, 30, 35, 62, 67], 'Heat 114': [14, 19, 46, 51, 78],\n",
    "    'Heat 115': [6, 27, 38, 59, 70], 'Heat 116': [11, 22, 43, 54, 75]}\n",
    "\n",
    "#heat pairs round 1 - 4:\n",
    "h_pairs = [(101, 102), (103, 104), (105, 106), (107, 108), (109, 110),\n",
    "    (111, 112), (113, 114), (115, 116), (201, 203), (205, 207), (209, 211),\n",
    "    (213, 215), (202, 204), (206, 208), (210, 212), (214, 216), (301, 302),\n",
    "    (303, 304), (305, 306), (307, 308), (309, 310), (311, 312), (313, 314),\n",
    "    (315, 316), (401, 402), (403, 404), (405, 406), (407, 408), (409, 410),\n",
    "    (411, 412), (413, 414), (415, 416)]\n",
    "\n",
    "#heat pairs round 2 - 5 that prior round feed into e.g. 101, 102 feed into 201, 202:\n",
    "fd_into_ht_pairs = [(201, 202), (203, 204), (205, 206), (207, 208),\n",
    "    (209, 210), (211, 212), (213, 214), (215, 216), (316, 312), (315, 311),\n",
    "    (314, 310), (313, 309), (308, 304), (307, 303), (306, 302), (305, 301),\n",
    "    (403, 401), (404, 402), (407, 405), (408, 406), (411, 409), (412, 410),\n",
    "    (415, 413), (416, 414), (502, 501), (504, 503), (506, 505), (508, 507),\n",
    "    (510, 509), (512, 511), (514, 513), (516, 515)]\n",
    "\n",
    "#Bracket columns:\n",
    "columns = ['Round', 'Nxt_Heat', 'First_name', 'Surname', 'Time', 'Nxt_Heat_Time']\n",
    "\n",
    "#Heat start times:\n",
    "#Heat start times:\n",
    "start_times = {'Heat 101': '12:00pm',\n",
    "             'Heat 102': '12:03pm',\n",
    "             'Heat 103': '12:06pm',\n",
    "             'Heat 104': '12:09pm',\n",
    "             'Heat 105': '12:12pm',\n",
    "             'Heat 106': '12:15pm',\n",
    "             'Heat 107': '12:18pm',\n",
    "             'Heat 108': '12:21pm',\n",
    "             'Heat 109': '12:24pm',\n",
    "             'Heat 110': '12:27pm',\n",
    "             'Heat 111': '12:30pm',\n",
    "             'Heat 112': '12:33pm',\n",
    "             'Heat 113': '12:36pm',\n",
    "             'Heat 114': '12:39pm',\n",
    "             'Heat 115': '12:42pm',\n",
    "             'Heat 116': '12:45pm',\n",
    "             'Heat 201': '3:00pm',\n",
    "             'Heat 202': '3:03pm',\n",
    "             'Heat 203': '3:06pm',\n",
    "             'Heat 204': '3:09pm',\n",
    "             'Heat 205': '3:12pm',\n",
    "             'Heat 206': '3:15pm',\n",
    "             'Heat 207': '3:18pm',\n",
    "             'Heat 208': '3:21pm',\n",
    "             'Heat 209': '3:24pm',\n",
    "             'Heat 210': '3:27pm',\n",
    "             'Heat 211': '3:30pm',\n",
    "             'Heat 212': '3:33pm',\n",
    "             'Heat 213': '3:36pm',\n",
    "             'Heat 214': '3:39pm',\n",
    "             'Heat 215': '3:42pm',\n",
    "             'Heat 216': '3:45pm',\n",
    "             'Heat 301': '8:00pm',\n",
    "             'Heat 302': '8:03pm',\n",
    "             'Heat 303': '8:06pm',\n",
    "             'Heat 304': '8:09pm',\n",
    "             'Heat 305': '8:12pm',\n",
    "             'Heat 306': '8:15pm',\n",
    "             'Heat 307': '8:18pm',\n",
    "             'Heat 308': '8:21pm',\n",
    "             'Heat 309': '8:24pm',\n",
    "             'Heat 310': '8:27pm',\n",
    "             'Heat 311': '8:30pm',\n",
    "             'Heat 312': '8:33pm',\n",
    "             'Heat 313': '8:36pm',\n",
    "             'Heat 314': '8:39pm',\n",
    "             'Heat 315': '8:42pm',\n",
    "             'Heat 316': '8:45pm',\n",
    "             'Heat 401': '9:15am',\n",
    "             'Heat 402': '9:18am',\n",
    "             'Heat 403': '9:21am',\n",
    "             'Heat 404': '9:24am',\n",
    "             'Heat 405': '9:27am',\n",
    "             'Heat 406': '9:30am',\n",
    "             'Heat 407': '9:33am',\n",
    "             'Heat 408': '9:36am',\n",
    "             'Heat 409': '9:39am',\n",
    "             'Heat 410': '9:42am',\n",
    "             'Heat 411': '9:45am',\n",
    "             'Heat 412': '9:48am',\n",
    "             'Heat 413': '9:51am',\n",
    "             'Heat 414': '9:54am',\n",
    "             'Heat 415': '9:57am',\n",
    "             'Heat 416': '10:00am',\n",
    "             'Heat 501': '11:15am',\n",
    "             'Heat 502': '11:18am',\n",
    "             'Heat 503': '11:21am',\n",
    "             'Heat 504': '11:24am',\n",
    "             'Heat 505': '11:27am',\n",
    "             'Heat 506': '11:30am',\n",
    "             'Heat 507': '11:33am',\n",
    "             'Heat 508': '11:36am',\n",
    "             'Heat 509': '11:39am',\n",
    "             'Heat 510': '11:42am',\n",
    "             'Heat 511': '11:45am',\n",
    "             'Heat 512': '11:48am',\n",
    "             'Heat 513': '11:51am',\n",
    "             'Heat 514': '11:54am',\n",
    "             'Heat 515': '11:57am',\n",
    "             'Heat 516': '12:00pm'}"
   ]
  },
  {
   "cell_type": "code",
   "execution_count": 75,
   "metadata": {},
   "outputs": [
    {
     "data": {
      "text/plain": [
       "[((101, 102), (201, 202)),\n",
       " ((103, 104), (203, 204)),\n",
       " ((105, 106), (205, 206)),\n",
       " ((107, 108), (207, 208)),\n",
       " ((109, 110), (209, 210)),\n",
       " ((111, 112), (211, 212)),\n",
       " ((113, 114), (213, 214)),\n",
       " ((115, 116), (215, 216)),\n",
       " ((201, 203), (316, 312)),\n",
       " ((205, 207), (315, 311)),\n",
       " ((209, 211), (314, 310)),\n",
       " ((213, 215), (313, 309)),\n",
       " ((202, 204), (308, 304)),\n",
       " ((206, 208), (307, 303)),\n",
       " ((210, 212), (306, 302)),\n",
       " ((214, 216), (305, 301)),\n",
       " ((301, 302), (403, 401)),\n",
       " ((303, 304), (404, 402)),\n",
       " ((305, 306), (407, 405)),\n",
       " ((307, 308), (408, 406)),\n",
       " ((309, 310), (411, 409)),\n",
       " ((311, 312), (412, 410)),\n",
       " ((313, 314), (415, 413)),\n",
       " ((315, 316), (416, 414)),\n",
       " ((401, 402), (502, 501)),\n",
       " ((403, 404), (504, 503)),\n",
       " ((405, 406), (506, 505)),\n",
       " ((407, 408), (508, 507)),\n",
       " ((409, 410), (510, 509)),\n",
       " ((411, 412), (512, 511)),\n",
       " ((413, 414), (514, 513)),\n",
       " ((415, 416), (516, 515))]"
      ]
     },
     "execution_count": 75,
     "metadata": {},
     "output_type": "execute_result"
    }
   ],
   "source": [
    "zip(h_pairs, fd_into_ht_pairs)"
   ]
  },
  {
   "cell_type": "code",
   "execution_count": 3,
   "metadata": {
    "collapsed": true
   },
   "outputs": [],
   "source": [
    "sart17 = SART(r0_seeds, h_pairs, fd_into_ht_pairs, columns, start_times)"
   ]
  },
  {
   "cell_type": "markdown",
   "metadata": {},
   "source": [
    "#### Call Functions to prepare the keys for our DataFrame\n",
    "- Using the r0_seeds, h_pairs, and fd_into_ht_pairs data\n",
    "- This is done in a few functions behind the scenes for this class"
   ]
  },
  {
   "cell_type": "code",
   "execution_count": 4,
   "metadata": {
    "collapsed": true
   },
   "outputs": [],
   "source": [
    "sart17.prepare_sd_h_keys()"
   ]
  },
  {
   "cell_type": "markdown",
   "metadata": {},
   "source": [
    "#### Create the Bracket DataFrame"
   ]
  },
  {
   "cell_type": "code",
   "execution_count": 5,
   "metadata": {
    "collapsed": true
   },
   "outputs": [],
   "source": [
    "sart17.create_bracket()"
   ]
  },
  {
   "cell_type": "code",
   "execution_count": 6,
   "metadata": {},
   "outputs": [
    {
     "data": {
      "text/html": [
       "<div>\n",
       "<style>\n",
       "    .dataframe thead tr:only-child th {\n",
       "        text-align: right;\n",
       "    }\n",
       "\n",
       "    .dataframe thead th {\n",
       "        text-align: left;\n",
       "    }\n",
       "\n",
       "    .dataframe tbody tr th {\n",
       "        vertical-align: top;\n",
       "    }\n",
       "</style>\n",
       "<table border=\"1\" class=\"dataframe\">\n",
       "  <thead>\n",
       "    <tr style=\"text-align: right;\">\n",
       "      <th></th>\n",
       "      <th>Round</th>\n",
       "      <th>Nxt_Heat</th>\n",
       "      <th>First_name</th>\n",
       "      <th>Surname</th>\n",
       "      <th>Time</th>\n",
       "      <th>Nxt_Heat_Time</th>\n",
       "    </tr>\n",
       "    <tr>\n",
       "      <th>Seed</th>\n",
       "      <th></th>\n",
       "      <th></th>\n",
       "      <th></th>\n",
       "      <th></th>\n",
       "      <th></th>\n",
       "      <th></th>\n",
       "    </tr>\n",
       "  </thead>\n",
       "  <tbody>\n",
       "    <tr>\n",
       "      <th>1</th>\n",
       "      <td>0</td>\n",
       "      <td>Heat 101</td>\n",
       "      <td>NaN</td>\n",
       "      <td>NaN</td>\n",
       "      <td>NaN</td>\n",
       "      <td>12:00pm</td>\n",
       "    </tr>\n",
       "    <tr>\n",
       "      <th>2</th>\n",
       "      <td>0</td>\n",
       "      <td>Heat 109</td>\n",
       "      <td>NaN</td>\n",
       "      <td>NaN</td>\n",
       "      <td>NaN</td>\n",
       "      <td>12:24pm</td>\n",
       "    </tr>\n",
       "    <tr>\n",
       "      <th>3</th>\n",
       "      <td>0</td>\n",
       "      <td>Heat 113</td>\n",
       "      <td>NaN</td>\n",
       "      <td>NaN</td>\n",
       "      <td>NaN</td>\n",
       "      <td>12:36pm</td>\n",
       "    </tr>\n",
       "    <tr>\n",
       "      <th>4</th>\n",
       "      <td>0</td>\n",
       "      <td>Heat 105</td>\n",
       "      <td>NaN</td>\n",
       "      <td>NaN</td>\n",
       "      <td>NaN</td>\n",
       "      <td>12:12pm</td>\n",
       "    </tr>\n",
       "    <tr>\n",
       "      <th>5</th>\n",
       "      <td>0</td>\n",
       "      <td>Heat 107</td>\n",
       "      <td>NaN</td>\n",
       "      <td>NaN</td>\n",
       "      <td>NaN</td>\n",
       "      <td>12:18pm</td>\n",
       "    </tr>\n",
       "  </tbody>\n",
       "</table>\n",
       "</div>"
      ],
      "text/plain": [
       "     Round  Nxt_Heat First_name Surname Time Nxt_Heat_Time\n",
       "Seed                                                      \n",
       "1        0  Heat 101        NaN     NaN  NaN       12:00pm\n",
       "2        0  Heat 109        NaN     NaN  NaN       12:24pm\n",
       "3        0  Heat 113        NaN     NaN  NaN       12:36pm\n",
       "4        0  Heat 105        NaN     NaN  NaN       12:12pm\n",
       "5        0  Heat 107        NaN     NaN  NaN       12:18pm"
      ]
     },
     "execution_count": 6,
     "metadata": {},
     "output_type": "execute_result"
    }
   ],
   "source": [
    "sart17.bracket_df.head()"
   ]
  },
  {
   "cell_type": "code",
   "execution_count": 7,
   "metadata": {},
   "outputs": [
    {
     "name": "stdout",
     "output_type": "stream",
     "text": [
      "<class 'pandas.core.frame.DataFrame'>\n",
      "Index: 400 entries, 1 to W416\n",
      "Data columns (total 6 columns):\n",
      "Round            400 non-null object\n",
      "Nxt_Heat         400 non-null object\n",
      "First_name       0 non-null object\n",
      "Surname          0 non-null object\n",
      "Time             0 non-null object\n",
      "Nxt_Heat_Time    400 non-null object\n",
      "dtypes: object(6)\n",
      "memory usage: 21.9+ KB\n"
     ]
    }
   ],
   "source": [
    "sart17.bracket_df.info()\n",
    "#for a bracket of 80 people and 5 rounds, total s/b 400 and it is"
   ]
  },
  {
   "cell_type": "markdown",
   "metadata": {},
   "source": [
    "## Time Trial"
   ]
  },
  {
   "cell_type": "markdown",
   "metadata": {},
   "source": [
    "#### Process the time trial results\n",
    "- Use the CSV results file pulled from SportSoftware\n",
    "- Address any ties, mp's, dnf's, and dns's as shown below"
   ]
  },
  {
   "cell_type": "code",
   "execution_count": 8,
   "metadata": {
    "collapsed": true
   },
   "outputs": [],
   "source": [
    "sart17.process_time_trial_results('test_data/TimeTrialResults.csv')"
   ]
  },
  {
   "cell_type": "code",
   "execution_count": 9,
   "metadata": {
    "collapsed": true
   },
   "outputs": [],
   "source": [
    "sart17.tt_df_cleaned.sort_values(by='Seed', inplace=True)\n",
    "\n",
    "#Adjusting seeds to break ties based on time at go control:\n",
    "sart17.tt_df_cleaned.loc['0', ['Seed']] = 2\n",
    "sart17.tt_df_cleaned.loc['1', ['Seed']] = 3\n",
    "sart17.tt_df_cleaned.loc['2', ['Seed']] = 1\n",
    "sart17.tt_df_cleaned.loc['24', ['Seed']] = 26\n",
    "sart17.tt_df_cleaned.loc['25', ['Seed']] = 25\n",
    "\n",
    "#Set high times to drive mp and dnfs to last seeds:\n",
    "sart17.tt_df_cleaned.loc['73', ['Time']] = '50:10'\n",
    "sart17.tt_df_cleaned.loc['74', ['Time']] = '50:20'\n",
    "sart17.tt_df_cleaned.loc['75', ['Time']] = '50:30'\n",
    "\n",
    "#These steps completed by reviewing data and pulling tie-breakers from SS"
   ]
  },
  {
   "cell_type": "markdown",
   "metadata": {},
   "source": [
    "#### Add the time trial results to the Bracket DataFrame Using Seed as Key\n",
    "- Now each person has their Round 1 Heat Assignment since those were already associated with each seed in the Bracket DF"
   ]
  },
  {
   "cell_type": "code",
   "execution_count": 10,
   "metadata": {
    "collapsed": true
   },
   "outputs": [],
   "source": [
    "sart17.add_time_trial_results()"
   ]
  },
  {
   "cell_type": "markdown",
   "metadata": {},
   "source": [
    "#### Print the .txt file with next heat assignments for use in handing out heat assignment info"
   ]
  },
  {
   "cell_type": "code",
   "execution_count": 11,
   "metadata": {
    "collapsed": true
   },
   "outputs": [],
   "source": [
    "from __future__ import print_function\n",
    "print(*sart17.print_heat_assigns(1), sep='\\n', file = open(\"test_data/R1_heat_assigns\", 'w'))"
   ]
  },
  {
   "cell_type": "markdown",
   "metadata": {},
   "source": [
    "#### Process the next round CSV for import to SportSoftware with correct heat assignments\n",
    "- This function pulls in the existing CSV, updates the heat assignments, and then in the following line exports a new CSV with those new assignments"
   ]
  },
  {
   "cell_type": "code",
   "execution_count": 12,
   "metadata": {
    "collapsed": true
   },
   "outputs": [],
   "source": [
    "r1_ss_import = sart17.assign_nxt_ht_to_ss_import_csv('test_data/SARTEntriesDataImport-Woodland-preevent.csv', 0)\n",
    "#Round must be put in as an integer here!"
   ]
  },
  {
   "cell_type": "code",
   "execution_count": 13,
   "metadata": {
    "collapsed": true
   },
   "outputs": [],
   "source": [
    "r1_ss_import.to_csv('test_data/2016TEST-populated_import_forWoodland.csv')"
   ]
  },
  {
   "cell_type": "markdown",
   "metadata": {},
   "source": [
    "## Round 1"
   ]
  },
  {
   "cell_type": "markdown",
   "metadata": {},
   "source": [
    "#### Import and process the results from Round 1\n",
    "\n",
    "- Use the CSV results pulled from SportSoftware\n",
    "- Address any ties, mp's, dnf's, and dns's as shown below"
   ]
  },
  {
   "cell_type": "code",
   "execution_count": 14,
   "metadata": {},
   "outputs": [
    {
     "name": "stdout",
     "output_type": "stream",
     "text": [
      "<class 'pandas.core.frame.DataFrame'>\n",
      "Index: 74 entries, 3 to 73\n",
      "Data columns (total 4 columns):\n",
      "Surname       74 non-null object\n",
      "First_name    74 non-null object\n",
      "Time          74 non-null object\n",
      "Heat          74 non-null int64\n",
      "dtypes: int64(1), object(3)\n",
      "memory usage: 2.9+ KB\n"
     ]
    }
   ],
   "source": [
    "r1_results = sart17.clean_results_csv('test_data/R1-Woodland-Results.csv')\n",
    "r1_results.sort_values(by='Heat', inplace=True)\n",
    "\n",
    "r1_results.info()"
   ]
  },
  {
   "cell_type": "code",
   "execution_count": 15,
   "metadata": {
    "collapsed": true
   },
   "outputs": [],
   "source": [
    "#break ties:\n",
    "r1_results.loc['67', ['Time']] = '17:19.5'\n",
    "\n",
    "#Set high times to drive mp and dnfs to last seeds:\n",
    "r1_results.loc['49', ['Time']] = '55:10'\n",
    "\n",
    "#Added two dns's\n",
    "r1_results.loc['74', ['Surname']] = 'Nasman'\n",
    "r1_results.loc['74', ['First_name']] = 'Linnea'\n",
    "r1_results.loc['74', ['Time']] = '50:10'\n",
    "r1_results.loc['74', ['Heat']] = 108 #get heat from bracket_df\n",
    "\n",
    "r1_results.loc['75', ['Surname']] = 'Nordberg'\n",
    "r1_results.loc['75', ['First_name']] = 'Robin'\n",
    "r1_results.loc['75', ['Time']] = '50:20'\n",
    "r1_results.loc['75', ['Heat']] = 107 #get heat from bracket_df"
   ]
  },
  {
   "cell_type": "markdown",
   "metadata": {},
   "source": [
    "#### Assign next round heats\n",
    "- This populates the results from Round 1 in the Bracket DF as appropriate based on processing method for this bracket / tournament\n",
    "- Results in each person being assigned to their appropriate next heat"
   ]
  },
  {
   "cell_type": "code",
   "execution_count": 16,
   "metadata": {
    "collapsed": true
   },
   "outputs": [],
   "source": [
    "sart17.nxt_ht_assigns(r1_results, 1)"
   ]
  },
  {
   "cell_type": "code",
   "execution_count": 17,
   "metadata": {},
   "outputs": [
    {
     "data": {
      "text/html": [
       "<div>\n",
       "<style>\n",
       "    .dataframe thead tr:only-child th {\n",
       "        text-align: right;\n",
       "    }\n",
       "\n",
       "    .dataframe thead th {\n",
       "        text-align: left;\n",
       "    }\n",
       "\n",
       "    .dataframe tbody tr th {\n",
       "        vertical-align: top;\n",
       "    }\n",
       "</style>\n",
       "<table border=\"1\" class=\"dataframe\">\n",
       "  <thead>\n",
       "    <tr style=\"text-align: right;\">\n",
       "      <th></th>\n",
       "      <th>Round</th>\n",
       "      <th>Nxt_Heat</th>\n",
       "      <th>First_name</th>\n",
       "      <th>Surname</th>\n",
       "      <th>Time</th>\n",
       "      <th>Nxt_Heat_Time</th>\n",
       "    </tr>\n",
       "    <tr>\n",
       "      <th>Seed</th>\n",
       "      <th></th>\n",
       "      <th></th>\n",
       "      <th></th>\n",
       "      <th></th>\n",
       "      <th></th>\n",
       "      <th></th>\n",
       "    </tr>\n",
       "  </thead>\n",
       "  <tbody>\n",
       "    <tr>\n",
       "      <th>101/102-Q1</th>\n",
       "      <td>1</td>\n",
       "      <td>Heat 201</td>\n",
       "      <td>Scott</td>\n",
       "      <td>Sheldrake</td>\n",
       "      <td>14:58</td>\n",
       "      <td>3:00pm</td>\n",
       "    </tr>\n",
       "    <tr>\n",
       "      <th>101/102-Q2</th>\n",
       "      <td>1</td>\n",
       "      <td>Heat 201</td>\n",
       "      <td>Ott</td>\n",
       "      <td>Toomet</td>\n",
       "      <td>16:22</td>\n",
       "      <td>3:00pm</td>\n",
       "    </tr>\n",
       "    <tr>\n",
       "      <th>101/102-Q3</th>\n",
       "      <td>1</td>\n",
       "      <td>Heat 201</td>\n",
       "      <td>Susan</td>\n",
       "      <td>Grandjean</td>\n",
       "      <td>17:01</td>\n",
       "      <td>3:00pm</td>\n",
       "    </tr>\n",
       "    <tr>\n",
       "      <th>W101</th>\n",
       "      <td>1</td>\n",
       "      <td>Heat 201</td>\n",
       "      <td>Will</td>\n",
       "      <td>Enger</td>\n",
       "      <td>13:59</td>\n",
       "      <td>3:00pm</td>\n",
       "    </tr>\n",
       "    <tr>\n",
       "      <th>W102</th>\n",
       "      <td>1</td>\n",
       "      <td>Heat 201</td>\n",
       "      <td>Vladimir</td>\n",
       "      <td>Gusiatnikov</td>\n",
       "      <td>14:35</td>\n",
       "      <td>3:00pm</td>\n",
       "    </tr>\n",
       "  </tbody>\n",
       "</table>\n",
       "</div>"
      ],
      "text/plain": [
       "           Round  Nxt_Heat First_name      Surname   Time Nxt_Heat_Time\n",
       "Seed                                                                   \n",
       "101/102-Q1     1  Heat 201      Scott    Sheldrake  14:58        3:00pm\n",
       "101/102-Q2     1  Heat 201        Ott       Toomet  16:22        3:00pm\n",
       "101/102-Q3     1  Heat 201      Susan    Grandjean  17:01        3:00pm\n",
       "W101           1  Heat 201       Will        Enger  13:59        3:00pm\n",
       "W102           1  Heat 201   Vladimir  Gusiatnikov  14:35        3:00pm"
      ]
     },
     "execution_count": 17,
     "metadata": {},
     "output_type": "execute_result"
    }
   ],
   "source": [
    "#visual for example purposes:\n",
    "sart17.bracket_df[sart17.bracket_df['Nxt_Heat'] == 'Heat 201']"
   ]
  },
  {
   "cell_type": "markdown",
   "metadata": {},
   "source": [
    "#### Print the .txt file with next heat assignments for use in handing out heat assignment info"
   ]
  },
  {
   "cell_type": "code",
   "execution_count": 18,
   "metadata": {
    "collapsed": true
   },
   "outputs": [],
   "source": [
    "print(*sart17.print_heat_assigns(2), sep='\\n', file = open(\"test_data/R2_heat_assigns\", 'w'))"
   ]
  },
  {
   "cell_type": "markdown",
   "metadata": {},
   "source": [
    "#### Process the next round CSV for import to SportSoftware with correct heat assignments\n",
    "- This function pulls in the existing CSV, updates the heat assignments, and then in the following line exports a new CSV with those new assignments"
   ]
  },
  {
   "cell_type": "code",
   "execution_count": 19,
   "metadata": {},
   "outputs": [],
   "source": [
    "r2_ss_import = sart17.assign_nxt_ht_to_ss_import_csv('test_data/SARTEntriesDataImport-Carkeek-preevent2.csv', 1)\n",
    "#Round must be put in as an integer here!"
   ]
  },
  {
   "cell_type": "code",
   "execution_count": 20,
   "metadata": {},
   "outputs": [],
   "source": [
    "r2_ss_import.to_csv('test_data/2016TEST-populated_import_forCarkeek.csv')"
   ]
  },
  {
   "cell_type": "markdown",
   "metadata": {
    "collapsed": true
   },
   "source": [
    "## Round 2"
   ]
  },
  {
   "cell_type": "markdown",
   "metadata": {},
   "source": [
    "#### Import and process the results from Round 2\n",
    "\n",
    "- Use the CSV results pulled from SportSoftware\n",
    "- Address any ties, mp's, dnf's, and dns's as shown below"
   ]
  },
  {
   "cell_type": "code",
   "execution_count": 21,
   "metadata": {},
   "outputs": [
    {
     "name": "stdout",
     "output_type": "stream",
     "text": [
      "<class 'pandas.core.frame.DataFrame'>\n",
      "Index: 75 entries, 4 to 73\n",
      "Data columns (total 4 columns):\n",
      "Surname       75 non-null object\n",
      "First_name    75 non-null object\n",
      "Time          75 non-null object\n",
      "Heat          75 non-null int64\n",
      "dtypes: int64(1), object(3)\n",
      "memory usage: 2.9+ KB\n"
     ]
    }
   ],
   "source": [
    "r2_results = sart17.clean_results_csv('test_data/R2-Carkeek-Results.csv')\n",
    "r2_results.sort_values(by='Heat', inplace=True)\n",
    "\n",
    "r2_results.info()"
   ]
  },
  {
   "cell_type": "code",
   "execution_count": 81,
   "metadata": {
    "collapsed": true
   },
   "outputs": [],
   "source": [
    "#break ties:\n",
    "#none this round\n",
    "\n",
    "#Set high times to drive mp and dnfs to last seeds:\n",
    "r2_results.loc['45', ['Time']] = '59:59' #Kristy Ricks\n",
    "r2_results.loc['68', ['Time']] = '59:59' #Stan Woods\n",
    "r2_results.loc['74', ['Time']] = '59:58' # Kyle Hopkins\n",
    "\n",
    "#Added one dns\n",
    "r2_results.loc['76', ['Surname']] = 'Nasman'\n",
    "r2_results.loc['76', ['First_name']] = 'Linnea'\n",
    "r2_results.loc['76', ['Time']] = '59:59'\n",
    "r2_results.loc['76', ['Heat']] = 208 #get heat from bracket_df"
   ]
  },
  {
   "cell_type": "code",
   "execution_count": 82,
   "metadata": {},
   "outputs": [
    {
     "name": "stdout",
     "output_type": "stream",
     "text": [
      "<class 'pandas.core.frame.DataFrame'>\n",
      "Index: 76 entries, 4 to 76\n",
      "Data columns (total 4 columns):\n",
      "Surname       76 non-null object\n",
      "First_name    76 non-null object\n",
      "Time          76 non-null object\n",
      "Heat          76 non-null float64\n",
      "dtypes: float64(1), object(3)\n",
      "memory usage: 5.5+ KB\n"
     ]
    }
   ],
   "source": [
    "r2_results.info()"
   ]
  },
  {
   "cell_type": "markdown",
   "metadata": {},
   "source": [
    "#### Assign next round heats\n",
    "- This populates the results from Round 1 in the Bracket DF as appropriate based on processing method for this bracket / tournament\n",
    "- Results in each person being assigned to their appropriate next heat"
   ]
  },
  {
   "cell_type": "code",
   "execution_count": 83,
   "metadata": {},
   "outputs": [],
   "source": [
    "sart17.nxt_ht_assigns(r2_results, 2)"
   ]
  },
  {
   "cell_type": "code",
   "execution_count": 84,
   "metadata": {},
   "outputs": [
    {
     "data": {
      "text/html": [
       "<div>\n",
       "<style>\n",
       "    .dataframe thead tr:only-child th {\n",
       "        text-align: right;\n",
       "    }\n",
       "\n",
       "    .dataframe thead th {\n",
       "        text-align: left;\n",
       "    }\n",
       "\n",
       "    .dataframe tbody tr th {\n",
       "        vertical-align: top;\n",
       "    }\n",
       "</style>\n",
       "<table border=\"1\" class=\"dataframe\">\n",
       "  <thead>\n",
       "    <tr style=\"text-align: right;\">\n",
       "      <th></th>\n",
       "      <th>Round</th>\n",
       "      <th>Nxt_Heat</th>\n",
       "      <th>First_name</th>\n",
       "      <th>Surname</th>\n",
       "      <th>Time</th>\n",
       "      <th>Nxt_Heat_Time</th>\n",
       "    </tr>\n",
       "    <tr>\n",
       "      <th>Seed</th>\n",
       "      <th></th>\n",
       "      <th></th>\n",
       "      <th></th>\n",
       "      <th></th>\n",
       "      <th></th>\n",
       "      <th></th>\n",
       "    </tr>\n",
       "  </thead>\n",
       "  <tbody>\n",
       "    <tr>\n",
       "      <th>201/203-Q1</th>\n",
       "      <td>2</td>\n",
       "      <td>Heat 316</td>\n",
       "      <td>Kai</td>\n",
       "      <td>Mihata</td>\n",
       "      <td>16:58</td>\n",
       "      <td>8:45pm</td>\n",
       "    </tr>\n",
       "    <tr>\n",
       "      <th>201/203-Q2</th>\n",
       "      <td>2</td>\n",
       "      <td>Heat 316</td>\n",
       "      <td>Vladimir</td>\n",
       "      <td>Gusiatnikov</td>\n",
       "      <td>17:23</td>\n",
       "      <td>8:45pm</td>\n",
       "    </tr>\n",
       "    <tr>\n",
       "      <th>201/203-Q3</th>\n",
       "      <td>2</td>\n",
       "      <td>Heat 316</td>\n",
       "      <td>Ott</td>\n",
       "      <td>Toomet</td>\n",
       "      <td>18:39</td>\n",
       "      <td>8:45pm</td>\n",
       "    </tr>\n",
       "    <tr>\n",
       "      <th>W201</th>\n",
       "      <td>2</td>\n",
       "      <td>Heat 316</td>\n",
       "      <td>Will</td>\n",
       "      <td>Enger</td>\n",
       "      <td>16:46</td>\n",
       "      <td>8:45pm</td>\n",
       "    </tr>\n",
       "    <tr>\n",
       "      <th>W203</th>\n",
       "      <td>2</td>\n",
       "      <td>Heat 316</td>\n",
       "      <td>Aron</td>\n",
       "      <td>Walker</td>\n",
       "      <td>15:53</td>\n",
       "      <td>8:45pm</td>\n",
       "    </tr>\n",
       "  </tbody>\n",
       "</table>\n",
       "</div>"
      ],
      "text/plain": [
       "           Round  Nxt_Heat First_name      Surname   Time Nxt_Heat_Time\n",
       "Seed                                                                   \n",
       "201/203-Q1     2  Heat 316        Kai       Mihata  16:58        8:45pm\n",
       "201/203-Q2     2  Heat 316   Vladimir  Gusiatnikov  17:23        8:45pm\n",
       "201/203-Q3     2  Heat 316        Ott       Toomet  18:39        8:45pm\n",
       "W201           2  Heat 316       Will        Enger  16:46        8:45pm\n",
       "W203           2  Heat 316       Aron       Walker  15:53        8:45pm"
      ]
     },
     "execution_count": 84,
     "metadata": {},
     "output_type": "execute_result"
    }
   ],
   "source": [
    "#visual for example purposes:\n",
    "sart17.bracket_df[sart17.bracket_df['Nxt_Heat'] == 'Heat 316']"
   ]
  },
  {
   "cell_type": "markdown",
   "metadata": {},
   "source": [
    "#### Print the .txt file with next heat assignments for use in handing out heat assignment info"
   ]
  },
  {
   "cell_type": "code",
   "execution_count": 85,
   "metadata": {
    "collapsed": true
   },
   "outputs": [],
   "source": [
    "print(*sart17.print_heat_assigns(3), sep='\\n', file = open(\"test_data/R3_heat_assigns\", 'w'))"
   ]
  },
  {
   "cell_type": "markdown",
   "metadata": {},
   "source": [
    "#### Process the next round CSV for import to SportSoftware with correct heat assignments\n",
    "- This function pulls in the existing CSV, updates the heat assignments, and then in the following line exports a new CSV with those new assignments"
   ]
  },
  {
   "cell_type": "code",
   "execution_count": 86,
   "metadata": {
    "collapsed": true
   },
   "outputs": [],
   "source": [
    "r3_ss_import = sart17.assign_nxt_ht_to_ss_import_csv('test_data/SARTEntriesDataImport-SPU-preevent.csv', 2)\n",
    "#Round must be put in as an integer here!"
   ]
  },
  {
   "cell_type": "code",
   "execution_count": 87,
   "metadata": {
    "collapsed": true
   },
   "outputs": [],
   "source": [
    "r3_ss_import.to_csv('test_data/2016TEST-populated_import_forSPU.csv')"
   ]
  },
  {
   "cell_type": "markdown",
   "metadata": {},
   "source": [
    "## Round 3"
   ]
  },
  {
   "cell_type": "markdown",
   "metadata": {},
   "source": [
    "#### Import and process the results from Round 2\n",
    "\n",
    "- Use the CSV results pulled from SportSoftware\n",
    "- Address any ties, mp's, dnf's, and dns's as shown below"
   ]
  },
  {
   "cell_type": "code",
   "execution_count": 88,
   "metadata": {},
   "outputs": [
    {
     "name": "stdout",
     "output_type": "stream",
     "text": [
      "<class 'pandas.core.frame.DataFrame'>\n",
      "Index: 72 entries, 1 to 71\n",
      "Data columns (total 4 columns):\n",
      "Surname       72 non-null object\n",
      "First_name    72 non-null object\n",
      "Time          72 non-null object\n",
      "Heat          72 non-null int64\n",
      "dtypes: int64(1), object(3)\n",
      "memory usage: 2.8+ KB\n"
     ]
    }
   ],
   "source": [
    "r3_results = sart17.clean_results_csv('test_data/R3-SPU-Results.csv')\n",
    "r3_results.sort_values(by='Heat', inplace=True)\n",
    "\n",
    "r3_results.info()"
   ]
  },
  {
   "cell_type": "code",
   "execution_count": 89,
   "metadata": {},
   "outputs": [
    {
     "data": {
      "text/html": [
       "<div>\n",
       "<style>\n",
       "    .dataframe thead tr:only-child th {\n",
       "        text-align: right;\n",
       "    }\n",
       "\n",
       "    .dataframe thead th {\n",
       "        text-align: left;\n",
       "    }\n",
       "\n",
       "    .dataframe tbody tr th {\n",
       "        vertical-align: top;\n",
       "    }\n",
       "</style>\n",
       "<table border=\"1\" class=\"dataframe\">\n",
       "  <thead>\n",
       "    <tr style=\"text-align: right;\">\n",
       "      <th></th>\n",
       "      <th>Surname</th>\n",
       "      <th>First_name</th>\n",
       "      <th>Time</th>\n",
       "      <th>Heat</th>\n",
       "    </tr>\n",
       "  </thead>\n",
       "  <tbody>\n",
       "    <tr>\n",
       "      <th>70</th>\n",
       "      <td>Byers</td>\n",
       "      <td>Kate</td>\n",
       "      <td>30:35</td>\n",
       "      <td>316</td>\n",
       "    </tr>\n",
       "  </tbody>\n",
       "</table>\n",
       "</div>"
      ],
      "text/plain": [
       "   Surname First_name   Time  Heat\n",
       "70   Byers       Kate  30:35   316"
      ]
     },
     "execution_count": 89,
     "metadata": {},
     "output_type": "execute_result"
    }
   ],
   "source": [
    "r3_results[r3_results['Surname']=='Byers']"
   ]
  },
  {
   "cell_type": "code",
   "execution_count": 90,
   "metadata": {
    "collapsed": true
   },
   "outputs": [],
   "source": [
    "#break ties:\n",
    "r3_results.loc['70', ['Time']] = '30:35.5' #Kate Byers vs. Nancy Devine\n",
    "\n",
    "#Set high times to drive mp and dnfs (and disqs) to last seeds:\n",
    "r3_results.loc['4', ['Time']] = '59:00' #Kai Mihata\n",
    "r3_results.loc['13', ['Time']] = '59:00' #Allister Beck\n",
    "r3_results.loc['14', ['Time']] = '59:10' # Jack Bruneel\n",
    "r3_results.loc['28', ['Time']] = '59:00' # Ben Brady\n",
    "r3_results.loc['32', ['Time']] = '59:20' # Kevin Mihata\n",
    "r3_results.loc['33', ['Time']] = '59:30' # Robin Nordberg\n",
    "r3_results.loc['46', ['Time']] = '59:10' # David Vaisar\n",
    "r3_results.loc['50', ['Time']] = '59:00' # Oleg S\n",
    "r3_results.loc['57', ['Time']] = '59:00' # Alexey S\n",
    "r3_results.loc['58', ['Time']] = '59:10' # Bruce C\n",
    "r3_results.loc['63', ['Time']] = '59:00' # Brian Gruber\n",
    "r3_results.loc['66', ['Time']] = '59:20' # Sherri Brady\n",
    "r3_results.loc['67', ['Time']] = '59:30' # Keith B\n",
    "r3_results.loc['68', ['Time']] = '59:40' # Raza Safder\n",
    "\n",
    "\n",
    "#Added four dns's\n",
    "r3_results.loc['72', ['Surname']] = 'Nasman'\n",
    "r3_results.loc['72', ['First_name']] = 'Linnea'\n",
    "r3_results.loc['72', ['Time']] = '59:00'\n",
    "r3_results.loc['72', ['Heat']] = 303 #get heat from bracket_df\n",
    "\n",
    "r3_results.loc['73', ['Surname']] = 'Hopkins'\n",
    "r3_results.loc['73', ['First_name']] = 'Jared'\n",
    "r3_results.loc['73', ['Time']] = '59:59'\n",
    "r3_results.loc['73', ['Heat']] = 301\n",
    "\n",
    "r3_results.loc['74', ['Surname']] = 'Hopkins'\n",
    "r3_results.loc['74', ['First_name']] = 'Kyle'\n",
    "r3_results.loc['74', ['Time']] = '59:58'\n",
    "r3_results.loc['74', ['Heat']] = 302\n",
    "\n",
    "r3_results.loc['75', ['Surname']] = 'Cheng'\n",
    "r3_results.loc['75', ['First_name']] = 'Shannon'\n",
    "r3_results.loc['75', ['Time']] = '59:57'\n",
    "r3_results.loc['75', ['Heat']] = 306"
   ]
  },
  {
   "cell_type": "markdown",
   "metadata": {},
   "source": [
    "#### Assign next round heats\n",
    "- This populates the results from Round 1 in the Bracket DF as appropriate based on processing method for this bracket / tournament\n",
    "- Results in each person being assigned to their appropriate next heat"
   ]
  },
  {
   "cell_type": "code",
   "execution_count": 91,
   "metadata": {},
   "outputs": [],
   "source": [
    "sart17.nxt_ht_assigns(r3_results, 3)"
   ]
  },
  {
   "cell_type": "code",
   "execution_count": 116,
   "metadata": {},
   "outputs": [
    {
     "data": {
      "text/html": [
       "<div>\n",
       "<style>\n",
       "    .dataframe thead tr:only-child th {\n",
       "        text-align: right;\n",
       "    }\n",
       "\n",
       "    .dataframe thead th {\n",
       "        text-align: left;\n",
       "    }\n",
       "\n",
       "    .dataframe tbody tr th {\n",
       "        vertical-align: top;\n",
       "    }\n",
       "</style>\n",
       "<table border=\"1\" class=\"dataframe\">\n",
       "  <thead>\n",
       "    <tr style=\"text-align: right;\">\n",
       "      <th></th>\n",
       "      <th>Round</th>\n",
       "      <th>Nxt_Heat</th>\n",
       "      <th>First_name</th>\n",
       "      <th>Surname</th>\n",
       "      <th>Time</th>\n",
       "      <th>Nxt_Heat_Time</th>\n",
       "    </tr>\n",
       "    <tr>\n",
       "      <th>Seed</th>\n",
       "      <th></th>\n",
       "      <th></th>\n",
       "      <th></th>\n",
       "      <th></th>\n",
       "      <th></th>\n",
       "      <th></th>\n",
       "    </tr>\n",
       "  </thead>\n",
       "  <tbody>\n",
       "    <tr>\n",
       "      <th>205/207-Q4</th>\n",
       "      <td>2</td>\n",
       "      <td>Heat 311</td>\n",
       "      <td>Peter</td>\n",
       "      <td>Golde</td>\n",
       "      <td>19:45</td>\n",
       "      <td>8:30pm</td>\n",
       "    </tr>\n",
       "    <tr>\n",
       "      <th>205/207-Q5</th>\n",
       "      <td>2</td>\n",
       "      <td>Heat 311</td>\n",
       "      <td>Nicole</td>\n",
       "      <td>Whitmore</td>\n",
       "      <td>19:50</td>\n",
       "      <td>8:30pm</td>\n",
       "    </tr>\n",
       "    <tr>\n",
       "      <th>205/207-Q6</th>\n",
       "      <td>2</td>\n",
       "      <td>Heat 311</td>\n",
       "      <td>Cameron</td>\n",
       "      <td>Devine</td>\n",
       "      <td>20:04</td>\n",
       "      <td>8:30pm</td>\n",
       "    </tr>\n",
       "    <tr>\n",
       "      <th>205/207-Q7</th>\n",
       "      <td>2</td>\n",
       "      <td>Heat 311</td>\n",
       "      <td>Benjamin</td>\n",
       "      <td>Brady</td>\n",
       "      <td>20:31</td>\n",
       "      <td>8:30pm</td>\n",
       "    </tr>\n",
       "    <tr>\n",
       "      <th>205/207-Q8</th>\n",
       "      <td>2</td>\n",
       "      <td>Heat 311</td>\n",
       "      <td>Julie</td>\n",
       "      <td>Cassata</td>\n",
       "      <td>21:13</td>\n",
       "      <td>8:30pm</td>\n",
       "    </tr>\n",
       "  </tbody>\n",
       "</table>\n",
       "</div>"
      ],
      "text/plain": [
       "           Round  Nxt_Heat First_name   Surname   Time Nxt_Heat_Time\n",
       "Seed                                                                \n",
       "205/207-Q4     2  Heat 311      Peter     Golde  19:45        8:30pm\n",
       "205/207-Q5     2  Heat 311     Nicole  Whitmore  19:50        8:30pm\n",
       "205/207-Q6     2  Heat 311    Cameron    Devine  20:04        8:30pm\n",
       "205/207-Q7     2  Heat 311   Benjamin     Brady  20:31        8:30pm\n",
       "205/207-Q8     2  Heat 311      Julie   Cassata  21:13        8:30pm"
      ]
     },
     "execution_count": 116,
     "metadata": {},
     "output_type": "execute_result"
    }
   ],
   "source": [
    "#visual for example purposes:\n",
    "sart17.bracket_df[(sart17.bracket_df['Nxt_Heat'] == 'Heat 311')]"
   ]
  },
  {
   "cell_type": "code",
   "execution_count": 117,
   "metadata": {},
   "outputs": [
    {
     "data": {
      "text/html": [
       "<div>\n",
       "<style>\n",
       "    .dataframe thead tr:only-child th {\n",
       "        text-align: right;\n",
       "    }\n",
       "\n",
       "    .dataframe thead th {\n",
       "        text-align: left;\n",
       "    }\n",
       "\n",
       "    .dataframe tbody tr th {\n",
       "        vertical-align: top;\n",
       "    }\n",
       "</style>\n",
       "<table border=\"1\" class=\"dataframe\">\n",
       "  <thead>\n",
       "    <tr style=\"text-align: right;\">\n",
       "      <th></th>\n",
       "      <th>Round</th>\n",
       "      <th>Nxt_Heat</th>\n",
       "      <th>First_name</th>\n",
       "      <th>Surname</th>\n",
       "      <th>Time</th>\n",
       "      <th>Nxt_Heat_Time</th>\n",
       "    </tr>\n",
       "    <tr>\n",
       "      <th>Seed</th>\n",
       "      <th></th>\n",
       "      <th></th>\n",
       "      <th></th>\n",
       "      <th></th>\n",
       "      <th></th>\n",
       "      <th></th>\n",
       "    </tr>\n",
       "  </thead>\n",
       "  <tbody>\n",
       "    <tr>\n",
       "      <th>201/203-Q4</th>\n",
       "      <td>2</td>\n",
       "      <td>Heat 312</td>\n",
       "      <td>Erica</td>\n",
       "      <td>Lay</td>\n",
       "      <td>18:53</td>\n",
       "      <td>8:33pm</td>\n",
       "    </tr>\n",
       "    <tr>\n",
       "      <th>201/203-Q5</th>\n",
       "      <td>2</td>\n",
       "      <td>Heat 312</td>\n",
       "      <td>Scott</td>\n",
       "      <td>Sheldrake</td>\n",
       "      <td>19:20</td>\n",
       "      <td>8:33pm</td>\n",
       "    </tr>\n",
       "    <tr>\n",
       "      <th>201/203-Q6</th>\n",
       "      <td>2</td>\n",
       "      <td>Heat 312</td>\n",
       "      <td>Susan</td>\n",
       "      <td>Grandjean</td>\n",
       "      <td>21:28</td>\n",
       "      <td>8:33pm</td>\n",
       "    </tr>\n",
       "    <tr>\n",
       "      <th>201/203-Q7</th>\n",
       "      <td>2</td>\n",
       "      <td>Heat 312</td>\n",
       "      <td>Emily</td>\n",
       "      <td>Ross</td>\n",
       "      <td>21:33</td>\n",
       "      <td>8:33pm</td>\n",
       "    </tr>\n",
       "    <tr>\n",
       "      <th>201/203-Q8</th>\n",
       "      <td>2</td>\n",
       "      <td>Heat 312</td>\n",
       "      <td>jacob</td>\n",
       "      <td>krogh</td>\n",
       "      <td>35:32</td>\n",
       "      <td>8:33pm</td>\n",
       "    </tr>\n",
       "  </tbody>\n",
       "</table>\n",
       "</div>"
      ],
      "text/plain": [
       "           Round  Nxt_Heat First_name    Surname   Time Nxt_Heat_Time\n",
       "Seed                                                                 \n",
       "201/203-Q4     2  Heat 312      Erica        Lay  18:53        8:33pm\n",
       "201/203-Q5     2  Heat 312      Scott  Sheldrake  19:20        8:33pm\n",
       "201/203-Q6     2  Heat 312      Susan  Grandjean  21:28        8:33pm\n",
       "201/203-Q7     2  Heat 312      Emily       Ross  21:33        8:33pm\n",
       "201/203-Q8     2  Heat 312      jacob      krogh  35:32        8:33pm"
      ]
     },
     "execution_count": 117,
     "metadata": {},
     "output_type": "execute_result"
    }
   ],
   "source": [
    "sart17.bracket_df[(sart17.bracket_df['Nxt_Heat'] == 'Heat 312')]"
   ]
  },
  {
   "cell_type": "code",
   "execution_count": 118,
   "metadata": {},
   "outputs": [
    {
     "data": {
      "text/html": [
       "<div>\n",
       "<style>\n",
       "    .dataframe thead tr:only-child th {\n",
       "        text-align: right;\n",
       "    }\n",
       "\n",
       "    .dataframe thead th {\n",
       "        text-align: left;\n",
       "    }\n",
       "\n",
       "    .dataframe tbody tr th {\n",
       "        vertical-align: top;\n",
       "    }\n",
       "</style>\n",
       "<table border=\"1\" class=\"dataframe\">\n",
       "  <thead>\n",
       "    <tr style=\"text-align: right;\">\n",
       "      <th></th>\n",
       "      <th>Round</th>\n",
       "      <th>Nxt_Heat</th>\n",
       "      <th>First_name</th>\n",
       "      <th>Surname</th>\n",
       "      <th>Time</th>\n",
       "      <th>Nxt_Heat_Time</th>\n",
       "    </tr>\n",
       "    <tr>\n",
       "      <th>Seed</th>\n",
       "      <th></th>\n",
       "      <th></th>\n",
       "      <th></th>\n",
       "      <th></th>\n",
       "      <th></th>\n",
       "      <th></th>\n",
       "    </tr>\n",
       "  </thead>\n",
       "  <tbody>\n",
       "    <tr>\n",
       "      <th>311/312-Q1</th>\n",
       "      <td>3</td>\n",
       "      <td>Heat 412</td>\n",
       "      <td>Evgeny</td>\n",
       "      <td>Remizov</td>\n",
       "      <td>21:05</td>\n",
       "      <td>9:48am</td>\n",
       "    </tr>\n",
       "    <tr>\n",
       "      <th>311/312-Q2</th>\n",
       "      <td>3</td>\n",
       "      <td>Heat 412</td>\n",
       "      <td>Kirk</td>\n",
       "      <td>Devine</td>\n",
       "      <td>26:05</td>\n",
       "      <td>9:48am</td>\n",
       "    </tr>\n",
       "    <tr>\n",
       "      <th>311/312-Q3</th>\n",
       "      <td>3</td>\n",
       "      <td>Heat 412</td>\n",
       "      <td>Jud</td>\n",
       "      <td>Kelley</td>\n",
       "      <td>31:37</td>\n",
       "      <td>9:48am</td>\n",
       "    </tr>\n",
       "    <tr>\n",
       "      <th>W311</th>\n",
       "      <td>3</td>\n",
       "      <td>Heat 412</td>\n",
       "      <td>Tomas</td>\n",
       "      <td>Vaisar</td>\n",
       "      <td>21:01</td>\n",
       "      <td>9:48am</td>\n",
       "    </tr>\n",
       "    <tr>\n",
       "      <th>W312</th>\n",
       "      <td>3</td>\n",
       "      <td>Heat 412</td>\n",
       "      <td>Dan</td>\n",
       "      <td>Grabski</td>\n",
       "      <td>29:40</td>\n",
       "      <td>9:48am</td>\n",
       "    </tr>\n",
       "  </tbody>\n",
       "</table>\n",
       "</div>"
      ],
      "text/plain": [
       "           Round  Nxt_Heat First_name  Surname   Time Nxt_Heat_Time\n",
       "Seed                                                               \n",
       "311/312-Q1     3  Heat 412     Evgeny  Remizov  21:05        9:48am\n",
       "311/312-Q2     3  Heat 412       Kirk   Devine  26:05        9:48am\n",
       "311/312-Q3     3  Heat 412        Jud   Kelley  31:37        9:48am\n",
       "W311           3  Heat 412      Tomas   Vaisar  21:01        9:48am\n",
       "W312           3  Heat 412        Dan  Grabski  29:40        9:48am"
      ]
     },
     "execution_count": 118,
     "metadata": {},
     "output_type": "execute_result"
    }
   ],
   "source": [
    "sart17.bracket_df[(sart17.bracket_df['Nxt_Heat'] == 'Heat 412')]"
   ]
  },
  {
   "cell_type": "code",
   "execution_count": 119,
   "metadata": {},
   "outputs": [
    {
     "data": {
      "text/html": [
       "<div>\n",
       "<style>\n",
       "    .dataframe thead tr:only-child th {\n",
       "        text-align: right;\n",
       "    }\n",
       "\n",
       "    .dataframe thead th {\n",
       "        text-align: left;\n",
       "    }\n",
       "\n",
       "    .dataframe tbody tr th {\n",
       "        vertical-align: top;\n",
       "    }\n",
       "</style>\n",
       "<table border=\"1\" class=\"dataframe\">\n",
       "  <thead>\n",
       "    <tr style=\"text-align: right;\">\n",
       "      <th></th>\n",
       "      <th>Round</th>\n",
       "      <th>Nxt_Heat</th>\n",
       "      <th>First_name</th>\n",
       "      <th>Surname</th>\n",
       "      <th>Time</th>\n",
       "      <th>Nxt_Heat_Time</th>\n",
       "    </tr>\n",
       "    <tr>\n",
       "      <th>Seed</th>\n",
       "      <th></th>\n",
       "      <th></th>\n",
       "      <th></th>\n",
       "      <th></th>\n",
       "      <th></th>\n",
       "      <th></th>\n",
       "    </tr>\n",
       "  </thead>\n",
       "  <tbody>\n",
       "    <tr>\n",
       "      <th>311/312-Q4</th>\n",
       "      <td>3</td>\n",
       "      <td>Heat 410</td>\n",
       "      <td>Kristy</td>\n",
       "      <td>Ricks</td>\n",
       "      <td>31:42</td>\n",
       "      <td>9:42am</td>\n",
       "    </tr>\n",
       "    <tr>\n",
       "      <th>311/312-Q5</th>\n",
       "      <td>3</td>\n",
       "      <td>Heat 410</td>\n",
       "      <td>Oleg</td>\n",
       "      <td>Slyusarchuk</td>\n",
       "      <td>59:00</td>\n",
       "      <td>9:42am</td>\n",
       "    </tr>\n",
       "    <tr>\n",
       "      <th>311/312-Q6</th>\n",
       "      <td>3</td>\n",
       "      <td>Heat 410</td>\n",
       "      <td>NaN</td>\n",
       "      <td>NaN</td>\n",
       "      <td>NaN</td>\n",
       "      <td>9:42am</td>\n",
       "    </tr>\n",
       "    <tr>\n",
       "      <th>311/312-Q7</th>\n",
       "      <td>3</td>\n",
       "      <td>Heat 410</td>\n",
       "      <td>NaN</td>\n",
       "      <td>NaN</td>\n",
       "      <td>NaN</td>\n",
       "      <td>9:42am</td>\n",
       "    </tr>\n",
       "    <tr>\n",
       "      <th>311/312-Q8</th>\n",
       "      <td>3</td>\n",
       "      <td>Heat 410</td>\n",
       "      <td>NaN</td>\n",
       "      <td>NaN</td>\n",
       "      <td>NaN</td>\n",
       "      <td>9:42am</td>\n",
       "    </tr>\n",
       "  </tbody>\n",
       "</table>\n",
       "</div>"
      ],
      "text/plain": [
       "           Round  Nxt_Heat First_name      Surname   Time Nxt_Heat_Time\n",
       "Seed                                                                   \n",
       "311/312-Q4     3  Heat 410     Kristy        Ricks  31:42        9:42am\n",
       "311/312-Q5     3  Heat 410       Oleg  Slyusarchuk  59:00        9:42am\n",
       "311/312-Q6     3  Heat 410        NaN          NaN    NaN        9:42am\n",
       "311/312-Q7     3  Heat 410        NaN          NaN    NaN        9:42am\n",
       "311/312-Q8     3  Heat 410        NaN          NaN    NaN        9:42am"
      ]
     },
     "execution_count": 119,
     "metadata": {},
     "output_type": "execute_result"
    }
   ],
   "source": [
    "sart17.bracket_df[(sart17.bracket_df['Nxt_Heat'] == 'Heat 410')]"
   ]
  },
  {
   "cell_type": "markdown",
   "metadata": {},
   "source": [
    "#### Print the .txt file with next heat assignments for use in handing out heat assignment info"
   ]
  },
  {
   "cell_type": "code",
   "execution_count": 69,
   "metadata": {
    "collapsed": true
   },
   "outputs": [],
   "source": [
    "print(*sart17.print_heat_assigns(4), sep='\\n', file = open(\"test_data/R4_heat_assigns\", 'w'))"
   ]
  },
  {
   "cell_type": "markdown",
   "metadata": {},
   "source": [
    "#### Process the next round CSV for import to SportSoftware with correct heat assignments\n",
    "- This function pulls in the existing CSV, updates the heat assignments, and then in the following line exports a new CSV with those new assignments"
   ]
  },
  {
   "cell_type": "code",
   "execution_count": 70,
   "metadata": {
    "collapsed": true
   },
   "outputs": [],
   "source": [
    "r4_ss_import = sart17.assign_nxt_ht_to_ss_import_csv('test_data/SARTEntriesDataImport-UW1-preevent.csv', 3)\n",
    "#Round must be put in as an integer here!"
   ]
  },
  {
   "cell_type": "code",
   "execution_count": 71,
   "metadata": {},
   "outputs": [],
   "source": [
    "temp = pd.read_csv('test_data/SARTEntriesDataImport-UW1-preevent.csv')"
   ]
  },
  {
   "cell_type": "code",
   "execution_count": 74,
   "metadata": {},
   "outputs": [
    {
     "data": {
      "text/html": [
       "<div>\n",
       "<style>\n",
       "    .dataframe thead tr:only-child th {\n",
       "        text-align: right;\n",
       "    }\n",
       "\n",
       "    .dataframe thead th {\n",
       "        text-align: left;\n",
       "    }\n",
       "\n",
       "    .dataframe tbody tr th {\n",
       "        vertical-align: top;\n",
       "    }\n",
       "</style>\n",
       "<table border=\"1\" class=\"dataframe\">\n",
       "  <thead>\n",
       "    <tr style=\"text-align: right;\">\n",
       "      <th></th>\n",
       "      <th>Round</th>\n",
       "      <th>Nxt_Heat</th>\n",
       "      <th>First_name</th>\n",
       "      <th>Surname</th>\n",
       "      <th>Time</th>\n",
       "      <th>Nxt_Heat_Time</th>\n",
       "    </tr>\n",
       "    <tr>\n",
       "      <th>Seed</th>\n",
       "      <th></th>\n",
       "      <th></th>\n",
       "      <th></th>\n",
       "      <th></th>\n",
       "      <th></th>\n",
       "      <th></th>\n",
       "    </tr>\n",
       "  </thead>\n",
       "  <tbody>\n",
       "  </tbody>\n",
       "</table>\n",
       "</div>"
      ],
      "text/plain": [
       "Empty DataFrame\n",
       "Columns: [Round, Nxt_Heat, First_name, Surname, Time, Nxt_Heat_Time]\n",
       "Index: []"
      ]
     },
     "execution_count": 74,
     "metadata": {},
     "output_type": "execute_result"
    }
   ],
   "source": [
    "bracket_df_temp = sart17.bracket_df[(pd.notnull(sart17.bracket_df['Surname'])) & (sart17.bracket_df['Round'] == 3)]\n",
    "\n",
    "bracket_df_temp[bracket_df_temp['Surname']=='Hopkins']"
   ]
  },
  {
   "cell_type": "markdown",
   "metadata": {},
   "source": [
    "# Round 4"
   ]
  },
  {
   "cell_type": "code",
   "execution_count": null,
   "metadata": {
    "collapsed": true
   },
   "outputs": [],
   "source": []
  },
  {
   "cell_type": "markdown",
   "metadata": {},
   "source": [
    "#### Import and process the results from Round 2\n",
    "\n",
    "- Use the CSV results pulled from SportSoftware\n",
    "- Address any ties, mp's, dnf's, and dns's as shown below"
   ]
  },
  {
   "cell_type": "code",
   "execution_count": null,
   "metadata": {
    "collapsed": true
   },
   "outputs": [],
   "source": []
  },
  {
   "cell_type": "code",
   "execution_count": null,
   "metadata": {
    "collapsed": true
   },
   "outputs": [],
   "source": []
  },
  {
   "cell_type": "markdown",
   "metadata": {},
   "source": [
    "#### Assign next round heats\n",
    "- This populates the results from Round 1 in the Bracket DF as appropriate based on processing method for this bracket / tournament\n",
    "- Results in each person being assigned to their appropriate next heat"
   ]
  },
  {
   "cell_type": "code",
   "execution_count": null,
   "metadata": {
    "collapsed": true
   },
   "outputs": [],
   "source": []
  },
  {
   "cell_type": "code",
   "execution_count": null,
   "metadata": {
    "collapsed": true
   },
   "outputs": [],
   "source": []
  },
  {
   "cell_type": "markdown",
   "metadata": {},
   "source": [
    "#### Print the .txt file with next heat assignments for use in handing out heat assignment info"
   ]
  },
  {
   "cell_type": "code",
   "execution_count": null,
   "metadata": {
    "collapsed": true
   },
   "outputs": [],
   "source": []
  },
  {
   "cell_type": "markdown",
   "metadata": {},
   "source": [
    "#### Process the next round CSV for import to SportSoftware with correct heat assignments\n",
    "- This function pulls in the existing CSV, updates the heat assignments, and then in the following line exports a new CSV with those new assignments"
   ]
  },
  {
   "cell_type": "code",
   "execution_count": null,
   "metadata": {
    "collapsed": true
   },
   "outputs": [],
   "source": []
  },
  {
   "cell_type": "code",
   "execution_count": null,
   "metadata": {
    "collapsed": true
   },
   "outputs": [],
   "source": []
  },
  {
   "cell_type": "markdown",
   "metadata": {},
   "source": [
    "## Round 5"
   ]
  },
  {
   "cell_type": "code",
   "execution_count": null,
   "metadata": {
    "collapsed": true
   },
   "outputs": [],
   "source": []
  },
  {
   "cell_type": "markdown",
   "metadata": {},
   "source": [
    "#### Import and process the results from Round 2\n",
    "\n",
    "- Use the CSV results pulled from SportSoftware\n",
    "- Address any ties, mp's, dnf's, and dns's as shown below"
   ]
  },
  {
   "cell_type": "code",
   "execution_count": null,
   "metadata": {
    "collapsed": true
   },
   "outputs": [],
   "source": []
  },
  {
   "cell_type": "code",
   "execution_count": null,
   "metadata": {
    "collapsed": true
   },
   "outputs": [],
   "source": []
  },
  {
   "cell_type": "markdown",
   "metadata": {},
   "source": [
    "#### Assign next round heats\n",
    "- This populates the results from Round 1 in the Bracket DF as appropriate based on processing method for this bracket / tournament\n",
    "- Results in each person being assigned to their appropriate next heat"
   ]
  },
  {
   "cell_type": "code",
   "execution_count": null,
   "metadata": {
    "collapsed": true
   },
   "outputs": [],
   "source": []
  },
  {
   "cell_type": "code",
   "execution_count": null,
   "metadata": {
    "collapsed": true
   },
   "outputs": [],
   "source": []
  },
  {
   "cell_type": "markdown",
   "metadata": {},
   "source": [
    "#### Print the .txt file with next heat assignments for use in handing out heat assignment info"
   ]
  },
  {
   "cell_type": "code",
   "execution_count": null,
   "metadata": {
    "collapsed": true
   },
   "outputs": [],
   "source": []
  },
  {
   "cell_type": "markdown",
   "metadata": {},
   "source": [
    "#### Process the next round CSV for import to SportSoftware with correct heat assignments\n",
    "- This function pulls in the existing CSV, updates the heat assignments, and then in the following line exports a new CSV with those new assignments"
   ]
  },
  {
   "cell_type": "code",
   "execution_count": null,
   "metadata": {
    "collapsed": true
   },
   "outputs": [],
   "source": []
  },
  {
   "cell_type": "code",
   "execution_count": null,
   "metadata": {
    "collapsed": true
   },
   "outputs": [],
   "source": []
  },
  {
   "cell_type": "code",
   "execution_count": 40,
   "metadata": {
    "collapsed": true
   },
   "outputs": [],
   "source": [
    "#repeat process with files for Round 2 - 5 imports to SS and Round 2 - 4 exports from SS to bracket\n",
    "#Once all that is confirmed clean, then write function for calculating final results based on Round 5"
   ]
  }
 ],
 "metadata": {
  "kernelspec": {
   "display_name": "Python 2",
   "language": "python",
   "name": "python2"
  },
  "language_info": {
   "codemirror_mode": {
    "name": "ipython",
    "version": 2
   },
   "file_extension": ".py",
   "mimetype": "text/x-python",
   "name": "python",
   "nbconvert_exporter": "python",
   "pygments_lexer": "ipython2",
   "version": "2.7.13"
  }
 },
 "nbformat": 4,
 "nbformat_minor": 2
}
