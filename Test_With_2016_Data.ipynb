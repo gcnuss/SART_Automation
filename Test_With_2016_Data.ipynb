{
 "cells": [
  {
   "cell_type": "code",
   "execution_count": 65,
   "metadata": {},
   "outputs": [],
   "source": [
    "from SART_Class_v2 import SART"
   ]
  },
  {
   "cell_type": "code",
   "execution_count": 2,
   "metadata": {},
   "outputs": [],
   "source": [
    "r0_seeds = {'Heat 101': [1, 32, 33, 64, 65], 'Heat 102': [16, 17, 48, 49, 80],\n",
    "    'Heat 103': [8, 25, 40, 57, 72], 'Heat 104': [9, 24, 41, 56, 73],\n",
    "    'Heat 105': [4, 29, 36, 61, 68], 'Heat 106': [13, 20, 45, 52, 77],\n",
    "    'Heat 107': [5, 28, 37, 60, 69], 'Heat 108': [12, 21, 44, 53, 76],\n",
    "    'Heat 109': [2, 31, 34, 63, 66], 'Heat 110': [15, 18, 47, 50, 79],\n",
    "    'Heat 111': [7, 26, 39, 58, 71], 'Heat 112': [10, 23, 42, 55, 74],\n",
    "    'Heat 113': [3, 30, 35, 62, 67], 'Heat 114': [14, 19, 46, 51, 78],\n",
    "    'Heat 115': [6, 27, 38, 59, 70], 'Heat 116': [11, 22, 43, 54, 75]}\n",
    "\n",
    "#heat pairs round 1 - 4:\n",
    "h_pairs = [(101, 102), (103, 104), (105, 106), (107, 108), (109, 110),\n",
    "    (111, 112), (113, 114), (115, 116), (201, 203), (205, 207), (209, 211),\n",
    "    (213, 215), (202, 204), (206, 208), (210, 212), (214, 216), (301, 302),\n",
    "    (303, 304), (305, 306), (307, 308), (309, 310), (311, 312), (313, 314),\n",
    "    (315, 316), (401, 402), (403, 404), (405, 406), (407, 408), (409, 410),\n",
    "    (411, 412), (413, 414), (415, 416)]\n",
    "\n",
    "#heat pairs round 2 - 5 that prior round feed into e.g. 101, 102 feed into 201, 202:\n",
    "fd_into_ht_pairs = [(201, 202), (203, 204), (205, 206), (207, 208),\n",
    "    (209, 210), (211, 212), (213, 214), (215, 216), (316, 312), (315, 311),\n",
    "    (314, 310), (313, 309), (308, 304), (307, 303), (306, 302), (305, 301),\n",
    "    (403, 401), (404, 402), (407, 405), (408, 406), (411, 409), (412, 410),\n",
    "    (415, 413), (416, 414), (502, 501), (504, 503), (506, 505), (508, 507),\n",
    "    (510, 509), (512, 511), (514, 513), (516, 515)]\n",
    "\n",
    "#Bracket columns:\n",
    "columns = ['Round', 'Nxt_Heat', 'First_name', 'Surname', 'Time', 'Nxt_Heat_Time']\n",
    "\n",
    "#Heat start times:\n",
    "#Heat start times:\n",
    "start_times = {'Heat 101': '12:00pm',\n",
    "             'Heat 102': '12:03pm',\n",
    "             'Heat 103': '12:06pm',\n",
    "             'Heat 104': '12:09pm',\n",
    "             'Heat 105': '12:12pm',\n",
    "             'Heat 106': '12:15pm',\n",
    "             'Heat 107': '12:18pm',\n",
    "             'Heat 108': '12:21pm',\n",
    "             'Heat 109': '12:24pm',\n",
    "             'Heat 110': '12:27pm',\n",
    "             'Heat 111': '12:30pm',\n",
    "             'Heat 112': '12:33pm',\n",
    "             'Heat 113': '12:36pm',\n",
    "             'Heat 114': '12:39pm',\n",
    "             'Heat 115': '12:42pm',\n",
    "             'Heat 116': '12:45pm',\n",
    "             'Heat 201': '3:00pm',\n",
    "             'Heat 202': '3:03pm',\n",
    "             'Heat 203': '3:06pm',\n",
    "             'Heat 204': '3:09pm',\n",
    "             'Heat 205': '3:12pm',\n",
    "             'Heat 206': '3:15pm',\n",
    "             'Heat 207': '3:18pm',\n",
    "             'Heat 208': '3:21pm',\n",
    "             'Heat 209': '3:24pm',\n",
    "             'Heat 210': '3:27pm',\n",
    "             'Heat 211': '3:30pm',\n",
    "             'Heat 212': '3:33pm',\n",
    "             'Heat 213': '3:36pm',\n",
    "             'Heat 214': '3:39pm',\n",
    "             'Heat 215': '3:42pm',\n",
    "             'Heat 216': '3:45pm',\n",
    "             'Heat 301': '8:00pm',\n",
    "             'Heat 302': '8:03pm',\n",
    "             'Heat 303': '8:06pm',\n",
    "             'Heat 304': '8:09pm',\n",
    "             'Heat 305': '8:12pm',\n",
    "             'Heat 306': '8:15pm',\n",
    "             'Heat 307': '8:18pm',\n",
    "             'Heat 308': '8:21pm',\n",
    "             'Heat 309': '8:24pm',\n",
    "             'Heat 310': '8:27pm',\n",
    "             'Heat 311': '8:30pm',\n",
    "             'Heat 312': '8:33pm',\n",
    "             'Heat 313': '8:36pm',\n",
    "             'Heat 314': '8:39pm',\n",
    "             'Heat 315': '8:42pm',\n",
    "             'Heat 316': '8:45pm',\n",
    "             'Heat 401': '9:15am',\n",
    "             'Heat 402': '9:18am',\n",
    "             'Heat 403': '9:21am',\n",
    "             'Heat 404': '9:24am',\n",
    "             'Heat 405': '9:27am',\n",
    "             'Heat 406': '9:30am',\n",
    "             'Heat 407': '9:33am',\n",
    "             'Heat 408': '9:36am',\n",
    "             'Heat 409': '9:39am',\n",
    "             'Heat 410': '9:42am',\n",
    "             'Heat 411': '9:45am',\n",
    "             'Heat 412': '9:48am',\n",
    "             'Heat 413': '9:51am',\n",
    "             'Heat 414': '9:54am',\n",
    "             'Heat 415': '9:57am',\n",
    "             'Heat 416': '10:00am',\n",
    "             'Heat 501': '11:15am',\n",
    "             'Heat 502': '11:18am',\n",
    "             'Heat 503': '11:21am',\n",
    "             'Heat 504': '11:24am',\n",
    "             'Heat 505': '11:27am',\n",
    "             'Heat 506': '11:30am',\n",
    "             'Heat 507': '11:33am',\n",
    "             'Heat 508': '11:36am',\n",
    "             'Heat 509': '11:39am',\n",
    "             'Heat 510': '11:42am',\n",
    "             'Heat 511': '11:45am',\n",
    "             'Heat 512': '11:48am',\n",
    "             'Heat 513': '11:51am',\n",
    "             'Heat 514': '11:54am',\n",
    "             'Heat 515': '11:57am',\n",
    "             'Heat 516': '12:00pm'}"
   ]
  },
  {
   "cell_type": "code",
   "execution_count": 3,
   "metadata": {},
   "outputs": [],
   "source": [
    "sart17 = SART(r0_seeds, h_pairs, fd_into_ht_pairs, columns, start_times)"
   ]
  },
  {
   "cell_type": "code",
   "execution_count": 4,
   "metadata": {},
   "outputs": [],
   "source": [
    "sart17.prepare_sd_h_keys()"
   ]
  },
  {
   "cell_type": "code",
   "execution_count": 5,
   "metadata": {},
   "outputs": [],
   "source": [
    "sart17.create_bracket()"
   ]
  },
  {
   "cell_type": "code",
   "execution_count": 6,
   "metadata": {},
   "outputs": [
    {
     "name": "stdout",
     "output_type": "stream",
     "text": [
      "<class 'pandas.core.frame.DataFrame'>\n",
      "Index: 400 entries, 1 to W416\n",
      "Data columns (total 6 columns):\n",
      "Round            400 non-null object\n",
      "Nxt_Heat         400 non-null object\n",
      "First_name       0 non-null object\n",
      "Surname          0 non-null object\n",
      "Time             0 non-null object\n",
      "Nxt_Heat_Time    400 non-null object\n",
      "dtypes: object(6)\n",
      "memory usage: 21.9+ KB\n"
     ]
    }
   ],
   "source": [
    "sart17.bracket_df.info()"
   ]
  },
  {
   "cell_type": "code",
   "execution_count": 7,
   "metadata": {
    "collapsed": true
   },
   "outputs": [],
   "source": [
    "sart17.process_time_trial_results('test_data/TimeTrialResults.csv')"
   ]
  },
  {
   "cell_type": "code",
   "execution_count": 8,
   "metadata": {},
   "outputs": [],
   "source": [
    "sart17.tt_df_cleaned.sort_values(by='Seed', inplace=True)\n",
    "\n",
    "#Adjusting seeds to break ties based on time at go control:\n",
    "sart17.tt_df_cleaned.loc['0', ['Seed']] = 2\n",
    "sart17.tt_df_cleaned.loc['1', ['Seed']] = 3\n",
    "sart17.tt_df_cleaned.loc['2', ['Seed']] = 1\n",
    "sart17.tt_df_cleaned.loc['24', ['Seed']] = 26\n",
    "sart17.tt_df_cleaned.loc['25', ['Seed']] = 25\n",
    "\n",
    "#Set high times to drive mp and dnfs to last seeds:\n",
    "sart17.tt_df_cleaned.loc['73', ['Time']] = '50:10'\n",
    "sart17.tt_df_cleaned.loc['74', ['Time']] = '50:20'\n",
    "sart17.tt_df_cleaned.loc['75', ['Time']] = '50:30'\n",
    "\n",
    "#These steps completed by reviewing data and pulling tie-breakers from SS"
   ]
  },
  {
   "cell_type": "code",
   "execution_count": 9,
   "metadata": {
    "collapsed": true
   },
   "outputs": [],
   "source": [
    "sart17.add_time_trial_results()"
   ]
  },
  {
   "cell_type": "code",
   "execution_count": 69,
   "metadata": {},
   "outputs": [],
   "source": [
    "from __future__ import print_function\n",
    "print(*sart17.print_heat_assigns(1), sep='\\n', file = open(\"test_data/R1_heat_assigns\", 'w'))"
   ]
  },
  {
   "cell_type": "code",
   "execution_count": 21,
   "metadata": {},
   "outputs": [],
   "source": [
    "r1_ss_import = sart17.assign_nxt_ht_to_ss_import_csv('test_data/SARTEntriesDataImport-Woodland-preevent.csv', 0)\n",
    "#Round must be put in as an integer here!"
   ]
  },
  {
   "cell_type": "code",
   "execution_count": 22,
   "metadata": {
    "collapsed": true
   },
   "outputs": [],
   "source": [
    "r1_ss_import.to_csv('test_data/2016TEST-populated_import_forWoodland.csv')"
   ]
  },
  {
   "cell_type": "code",
   "execution_count": 87,
   "metadata": {},
   "outputs": [
    {
     "name": "stdout",
     "output_type": "stream",
     "text": [
      "<class 'pandas.core.frame.DataFrame'>\n",
      "Index: 74 entries, 55 to 49\n",
      "Data columns (total 4 columns):\n",
      "Surname       74 non-null object\n",
      "First_name    74 non-null object\n",
      "Time          74 non-null object\n",
      "Heat          74 non-null int64\n",
      "dtypes: int64(1), object(3)\n",
      "memory usage: 2.9+ KB\n"
     ]
    }
   ],
   "source": [
    "r1_results = sart17.clean_results_csv('test_data/R1-Woodland-Results.csv')\n",
    "r1_results.sort_values(by='Heat')\n",
    "\n",
    "r1_results.info()"
   ]
  },
  {
   "cell_type": "code",
   "execution_count": 91,
   "metadata": {},
   "outputs": [],
   "source": [
    "#break ties:\n",
    "r1_results.loc['67', ['Time']] = '17:19.5'\n",
    "\n",
    "#Set high times to drive mp and dnfs to last seeds:\n",
    "r1_results.loc['49', ['Time']] = '55:10'\n",
    "\n",
    "#Added two dns's\n",
    "r1_results.loc['74', ['Surname']] = 'Nasman'\n",
    "r1_results.loc['74', ['First_name']] = 'Linnea'\n",
    "r1_results.loc['74', ['Time']] = '50:10'\n",
    "r1_results.loc['74', ['Heat']] = 108 #get heat from bracket_df\n",
    "\n",
    "r1_results.loc['75', ['Surname']] = 'Nordberg'\n",
    "r1_results.loc['75', ['First_name']] = 'Robin'\n",
    "r1_results.loc['75', ['Time']] = '50:20'\n",
    "r1_results.loc['75', ['Heat']] = 107 #get heat from bracket_df"
   ]
  },
  {
   "cell_type": "code",
   "execution_count": 92,
   "metadata": {},
   "outputs": [],
   "source": [
    "sart17.nxt_ht_assigns(r1_results, 1)"
   ]
  },
  {
   "cell_type": "code",
   "execution_count": 93,
   "metadata": {},
   "outputs": [
    {
     "data": {
      "text/html": [
       "<div>\n",
       "<style>\n",
       "    .dataframe thead tr:only-child th {\n",
       "        text-align: right;\n",
       "    }\n",
       "\n",
       "    .dataframe thead th {\n",
       "        text-align: left;\n",
       "    }\n",
       "\n",
       "    .dataframe tbody tr th {\n",
       "        vertical-align: top;\n",
       "    }\n",
       "</style>\n",
       "<table border=\"1\" class=\"dataframe\">\n",
       "  <thead>\n",
       "    <tr style=\"text-align: right;\">\n",
       "      <th></th>\n",
       "      <th>Round</th>\n",
       "      <th>Nxt_Heat</th>\n",
       "      <th>First_name</th>\n",
       "      <th>Surname</th>\n",
       "      <th>Time</th>\n",
       "      <th>Nxt_Heat_Time</th>\n",
       "    </tr>\n",
       "    <tr>\n",
       "      <th>Seed</th>\n",
       "      <th></th>\n",
       "      <th></th>\n",
       "      <th></th>\n",
       "      <th></th>\n",
       "      <th></th>\n",
       "      <th></th>\n",
       "    </tr>\n",
       "  </thead>\n",
       "  <tbody>\n",
       "    <tr>\n",
       "      <th>107/108-Q4</th>\n",
       "      <td>1</td>\n",
       "      <td>Heat 208</td>\n",
       "      <td>Kevin</td>\n",
       "      <td>Mihata</td>\n",
       "      <td>18:00</td>\n",
       "      <td>3:21pm</td>\n",
       "    </tr>\n",
       "    <tr>\n",
       "      <th>107/108-Q5</th>\n",
       "      <td>1</td>\n",
       "      <td>Heat 208</td>\n",
       "      <td>Zarina</td>\n",
       "      <td>Parpia</td>\n",
       "      <td>23:56</td>\n",
       "      <td>3:21pm</td>\n",
       "    </tr>\n",
       "    <tr>\n",
       "      <th>107/108-Q6</th>\n",
       "      <td>1</td>\n",
       "      <td>Heat 208</td>\n",
       "      <td>Kayla</td>\n",
       "      <td>Martin</td>\n",
       "      <td>32:30</td>\n",
       "      <td>3:21pm</td>\n",
       "    </tr>\n",
       "    <tr>\n",
       "      <th>107/108-Q7</th>\n",
       "      <td>1</td>\n",
       "      <td>Heat 208</td>\n",
       "      <td>Linnea</td>\n",
       "      <td>Nasman</td>\n",
       "      <td>50:10</td>\n",
       "      <td>3:21pm</td>\n",
       "    </tr>\n",
       "    <tr>\n",
       "      <th>107/108-Q8</th>\n",
       "      <td>1</td>\n",
       "      <td>Heat 208</td>\n",
       "      <td>Robin</td>\n",
       "      <td>Nordberg</td>\n",
       "      <td>50:20</td>\n",
       "      <td>3:21pm</td>\n",
       "    </tr>\n",
       "  </tbody>\n",
       "</table>\n",
       "</div>"
      ],
      "text/plain": [
       "           Round  Nxt_Heat First_name   Surname   Time Nxt_Heat_Time\n",
       "Seed                                                                \n",
       "107/108-Q4     1  Heat 208      Kevin    Mihata  18:00        3:21pm\n",
       "107/108-Q5     1  Heat 208     Zarina    Parpia  23:56        3:21pm\n",
       "107/108-Q6     1  Heat 208      Kayla    Martin  32:30        3:21pm\n",
       "107/108-Q7     1  Heat 208     Linnea    Nasman  50:10        3:21pm\n",
       "107/108-Q8     1  Heat 208      Robin  Nordberg  50:20        3:21pm"
      ]
     },
     "execution_count": 93,
     "metadata": {},
     "output_type": "execute_result"
    }
   ],
   "source": [
    "sart17.bracket_df[sart17.bracket_df['Nxt_Heat'] == 'Heat 208']"
   ]
  },
  {
   "cell_type": "code",
   "execution_count": 94,
   "metadata": {
    "collapsed": true
   },
   "outputs": [],
   "source": [
    "print(*sart17.print_heat_assigns(2), sep='\\n', file = open(\"test_data/R2_heat_assigns\", 'w'))"
   ]
  },
  {
   "cell_type": "code",
   "execution_count": 95,
   "metadata": {
    "collapsed": true
   },
   "outputs": [],
   "source": [
    "#repeat process with files for Round 2 - 5 imports to SS and Round 2 - 4 exports from SS to bracket\n",
    "#Once all that is confirmed clean, then write function for calculating final results based on Round 5"
   ]
  },
  {
   "cell_type": "code",
   "execution_count": null,
   "metadata": {
    "collapsed": true
   },
   "outputs": [],
   "source": []
  }
 ],
 "metadata": {
  "kernelspec": {
   "display_name": "Python 2",
   "language": "python",
   "name": "python2"
  },
  "language_info": {
   "codemirror_mode": {
    "name": "ipython",
    "version": 2
   },
   "file_extension": ".py",
   "mimetype": "text/x-python",
   "name": "python",
   "nbconvert_exporter": "python",
   "pygments_lexer": "ipython2",
   "version": "2.7.13"
  }
 },
 "nbformat": 4,
 "nbformat_minor": 2
}
