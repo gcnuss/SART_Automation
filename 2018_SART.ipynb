{
 "cells": [
  {
   "cell_type": "markdown",
   "metadata": {},
   "source": [
    "## Initial Event Preparation\n",
    "- Occurs pre-event\n",
    "- Instantiate class and define bracket format via the dictionary and lists of tuples as shown below\n",
    "\n",
    "#### Important Note:\n",
    "Final registration includes 57 people for this year.  Utilize definitions and functions for 56 people and also execute function for adding the one-off 57th person to the bracket format.  The time calculations and next heat assignments functions will handle the 57th person as-is."
   ]
  },
  {
   "cell_type": "code",
   "execution_count": 1,
   "metadata": {
    "collapsed": true
   },
   "outputs": [],
   "source": [
    "from SART_Class_v4 import SART\n",
    "import pandas as pd"
   ]
  },
  {
   "cell_type": "code",
   "execution_count": 2,
   "metadata": {
    "collapsed": true
   },
   "outputs": [],
   "source": [
    "#ALL UPDATES FOR 2018 COMPLETE, INCLUDES CHANGE TO 64 PERSON BRACKET\n",
    "#Round 0 seeding assignments for Round 1 Heats:\n",
    "r0_seeds = {'Heat 101': [1, 32, 33, 64], 'Heat 102': [16, 17, 48, 49],\n",
    "    'Heat 103': [8, 25, 40, 57], 'Heat 104': [9, 24, 41, 56],\n",
    "    'Heat 105': [4, 29, 36, 61], 'Heat 106': [13, 20, 45, 52],\n",
    "    'Heat 107': [5, 28, 37, 60], 'Heat 108': [12, 21, 44, 53],\n",
    "    'Heat 109': [2, 31, 34, 63], 'Heat 110': [15, 18, 47, 50],\n",
    "    'Heat 111': [7, 26, 39, 58], 'Heat 112': [10, 23, 42, 55],\n",
    "    'Heat 113': [3, 30, 35, 62], 'Heat 114': [14, 19, 46, 51],\n",
    "    'Heat 115': [6, 27, 38, 59], 'Heat 116': [11, 22, 43, 54]}\n",
    "\n",
    "r0_seeds_fiftysix = {'Heat 101': [1, 32, 33], 'Heat 102': [16, 17, 48, 49],\n",
    "    'Heat 103': [8, 25, 40], 'Heat 104': [9, 24, 41, 56],\n",
    "    'Heat 105': [4, 29, 36], 'Heat 106': [13, 20, 45, 52],\n",
    "    'Heat 107': [5, 28, 37], 'Heat 108': [12, 21, 44, 53],\n",
    "    'Heat 109': [2, 31, 34], 'Heat 110': [15, 18, 47, 50],\n",
    "    'Heat 111': [7, 26, 39], 'Heat 112': [10, 23, 42, 55],\n",
    "    'Heat 113': [3, 30, 35], 'Heat 114': [14, 19, 46, 51],\n",
    "    'Heat 115': [6, 27, 38], 'Heat 116': [11, 22, 43, 54]}\n",
    "\n",
    "#Heat Pairs - prior heats and feed into heats\n",
    "bef_aft_ht_pairs = [((101, 102), (201, 202)),\n",
    "                     ((103, 104), (203, 204)),\n",
    "                     ((105, 106), (205, 206)),\n",
    "                     ((107, 108), (207, 208)),\n",
    "                     ((109, 110), (209, 210)), #210 becomes 202 for 56\n",
    "                     ((111, 112), (211, 212)), #212 becomes 204 for 56\n",
    "                     ((113, 114), (213, 214)), #214 becomes 206 for 56\n",
    "                     ((115, 116), (215, 216)), #216 becomes 208 for 56\n",
    "                     ((201, 203), (301, 302)),\n",
    "                     ((205, 207), (305, 306)),\n",
    "                     ((209, 211), (309, 310)),\n",
    "                     ((213, 215), (313, 314)),\n",
    "                     ((202, 204), (303, 304)),\n",
    "                     ((206, 208), (307, 308)),\n",
    "                     ((210, 212), (311, 312)), #remove this line for 56, include for 64\n",
    "                     ((214, 216), (315, 316)), #remove this line for 56, include for 64\n",
    "                     ((301, 305), (416, 414)),\n",
    "                     ((309, 313), (415, 413)),\n",
    "                     ((302, 306), (412, 410)),\n",
    "                     ((310, 314), (411, 409)),\n",
    "                     ((303, 307), (408, 406)),\n",
    "                     ((311, 315), (407, 405)), #remove this line for 56, include for 64\n",
    "                     ((304, 308), (404, 402)),\n",
    "                     ((312, 316), (403, 401)), #remove this line for 56, include for 64\n",
    "                     ((416, 415), (516, 515)),\n",
    "                     ((414, 413), (514, 513)),\n",
    "                     ((412, 411), (512, 511)),\n",
    "                     ((410, 409), (510, 509)),\n",
    "                     ((408, 407), (508, 507)),\n",
    "                     ((406, 405), (506, 505)),\n",
    "                     ((404, 403), (504, 503)),\n",
    "                     ((402, 401), (502, 501))]\n",
    "\n",
    "bef_aft_ht_pairs_fiftysix = [((101, 102), (201, 202)),\n",
    "                     ((103, 104), (203, 204)),\n",
    "                     ((105, 106), (205, 206)),\n",
    "                     ((107, 108), (207, 208)),\n",
    "                     ((109, 110), (209, 202)), #210 becomes 202 for 56\n",
    "                     ((111, 112), (211, 204)), #212 becomes 204 for 56\n",
    "                     ((113, 114), (213, 206)), #214 becomes 206 for 56\n",
    "                     ((115, 116), (215, 208)), #216 becomes 208 for 56\n",
    "                     ((201, 203), (301, 302)),\n",
    "                     ((205, 207), (305, 306)),\n",
    "                     ((209, 211), (309, 310)),\n",
    "                     ((213, 215), (313, 314)),\n",
    "                     ((202, 204), (303, 304)),\n",
    "                     ((206, 208), (307, 308)),\n",
    "                     #((210, 212), (311, 312)), #remove this line for 56, include for 64\n",
    "                     #((214, 216), (315, 316)), #remove this line for 56, include for 64\n",
    "                     ((301, 305), (416, 414)),\n",
    "                     ((309, 313), (415, 413)),\n",
    "                     ((302, 306), (412, 410)),\n",
    "                     ((310, 314), (411, 409)),\n",
    "                     ((303, 307), (408, 406)),\n",
    "                     #((311, 315), (407, 405)), #remove this line for 56, include for 64\n",
    "                     ((304, 308), (404, 402)),\n",
    "                     #((312, 316), (403, 401)), #remove this line for 56, include for 64\n",
    "                     ((416, 415), (516, 515)),\n",
    "                     ((414, 413), (514, 513)),\n",
    "                     ((412, 411), (512, 511)),\n",
    "                     ((410, 409), (510, 509)),\n",
    "                     ((408, 408), (508, 508)), #407, 507 are empty - same group of 6 for 408, 508\n",
    "                     ((406, 406), (506, 506)), #405, 505 are empty - same group of 6 for 406, 506\n",
    "                     ((404, 404), (504, 504)), #403, 503 are empty - same group of 6 for 404, 504\n",
    "                     ((402, 402), (502, 502))] #401, 501 are empty - same group of 6 for 402, 502\n",
    "\n",
    "#Only needed for 56 person bracket; don't need for 64 person bracket\n",
    "six_person_heats_R2_R3 = [202, 204, 206, 208, 303, 304, 307, 308]\n",
    "six_person_heats_R4 = [408, 406, 404, 402]\n",
    "\n",
    "#Bracket columns:\n",
    "columns = ['Round', 'Nxt_Heat', 'First_name', 'Surname', 'Time', 'Nxt_Heat_Time']\n",
    "\n",
    "#Heat start times:\n",
    "#Round 1 - 11:15am - 12pm\n",
    "#Round 2 - 2:15 - 3:00pm\n",
    "#Round 3 - 4:15 - 5pm\n",
    "#Round 4 - 9:15 - 10am\n",
    "#Round 5 - 11:15am - 12pm\n",
    "start_times = {'Heat 101': '11:15am',\n",
    "             'Heat 102': '11:18am',\n",
    "             'Heat 103': '11:21am',\n",
    "             'Heat 104': '11:24am',\n",
    "             'Heat 105': '11:27am',\n",
    "             'Heat 106': '11:30am',\n",
    "             'Heat 107': '11:33am',\n",
    "             'Heat 108': '11:36am',\n",
    "             'Heat 109': '11:39am',\n",
    "             'Heat 110': '11:42am',\n",
    "             'Heat 111': '11:45am',\n",
    "             'Heat 112': '11:48am',\n",
    "             'Heat 113': '11:51am',\n",
    "             'Heat 114': '11:54am',\n",
    "             'Heat 115': '11:57am',\n",
    "             'Heat 116': '12:00pm',\n",
    "             'Heat 201': '2:15pm',\n",
    "             'Heat 202': '2:18pm',\n",
    "             'Heat 203': '2:21pm',\n",
    "             'Heat 204': '2:24pm',\n",
    "             'Heat 205': '2:27pm',\n",
    "             'Heat 206': '2:30pm',\n",
    "             'Heat 207': '2:33pm',\n",
    "             'Heat 208': '2:36pm',\n",
    "             'Heat 209': '2:39pm',\n",
    "             'Heat 210': '2:42pm',\n",
    "             'Heat 211': '2:45pm',\n",
    "             'Heat 212': '2:48pm',\n",
    "             'Heat 213': '2:51pm',\n",
    "             'Heat 214': '2:54pm',\n",
    "             'Heat 215': '2:57pm',\n",
    "             'Heat 216': '3:00pm',\n",
    "             'Heat 301': '4:15pm',\n",
    "             'Heat 302': '4:18pm',\n",
    "             'Heat 303': '4:21pm',\n",
    "             'Heat 304': '4:24pm',\n",
    "             'Heat 305': '4:27pm',\n",
    "             'Heat 306': '4:30pm',\n",
    "             'Heat 307': '4:33pm',\n",
    "             'Heat 308': '4:36pm',\n",
    "             'Heat 309': '4:39pm',\n",
    "             'Heat 310': '4:42pm',\n",
    "             'Heat 311': '4:45pm',\n",
    "             'Heat 312': '4:48pm',\n",
    "             'Heat 313': '4:51pm',\n",
    "             'Heat 314': '4:54pm',\n",
    "             'Heat 315': '4:57pm',\n",
    "             'Heat 316': '5:00pm',\n",
    "             'Heat 401': '9:15am',\n",
    "             'Heat 402': '9:18am',\n",
    "             'Heat 403': '9:21am',\n",
    "             'Heat 404': '9:24am',\n",
    "             'Heat 405': '9:27am',\n",
    "             'Heat 406': '9:30am',\n",
    "             'Heat 407': '9:33am',\n",
    "             'Heat 408': '9:36am',\n",
    "             'Heat 409': '9:39am',\n",
    "             'Heat 410': '9:42am',\n",
    "             'Heat 411': '9:45am',\n",
    "             'Heat 412': '9:48am',\n",
    "             'Heat 413': '9:51am',\n",
    "             'Heat 414': '9:54am',\n",
    "             'Heat 415': '9:57am',\n",
    "             'Heat 416': '10:00am',\n",
    "             'Heat 501': '11:15am',\n",
    "             'Heat 502': '11:18am',\n",
    "             'Heat 503': '11:21am',\n",
    "             'Heat 504': '11:24am',\n",
    "             'Heat 505': '11:27am',\n",
    "             'Heat 506': '11:30am',\n",
    "             'Heat 507': '11:33am',\n",
    "             'Heat 508': '11:36am',\n",
    "             'Heat 509': '11:39am',\n",
    "             'Heat 510': '11:42am',\n",
    "             'Heat 511': '11:45am',\n",
    "             'Heat 512': '11:48am',\n",
    "             'Heat 513': '11:51am',\n",
    "             'Heat 514': '11:54am',\n",
    "             'Heat 515': '11:57am',\n",
    "             'Heat 516': '12:00pm'}"
   ]
  },
  {
   "cell_type": "code",
   "execution_count": 3,
   "metadata": {
    "collapsed": true
   },
   "outputs": [],
   "source": [
    "sart18 = SART(r0_seeds_fiftysix, bef_aft_ht_pairs_fiftysix, columns, start_times, six_person_heats_R2_R3, six_person_heats_R4)"
   ]
  },
  {
   "cell_type": "markdown",
   "metadata": {},
   "source": [
    "#### Call Functions to prepare the keys for our DataFrame\n",
    "- Using the r0_seeds and before/after heat pairs data\n",
    "- This is done in a few functions behind the scenes for this class"
   ]
  },
  {
   "cell_type": "code",
   "execution_count": 4,
   "metadata": {
    "collapsed": true
   },
   "outputs": [],
   "source": [
    "sart18.prepare_sd_h_keys(alter_for_fiftysix=True, include_fiftyseven=True)"
   ]
  },
  {
   "cell_type": "code",
   "execution_count": 10,
   "metadata": {},
   "outputs": [
    {
     "data": {
      "text/plain": [
       "['101/102-Q3',\n",
       " '101/102-Q4',\n",
       " '101/102-Q5',\n",
       " '109/110-Q3',\n",
       " '109/110-Q4',\n",
       " '109/110-Q5']"
      ]
     },
     "execution_count": 10,
     "metadata": {},
     "output_type": "execute_result"
    }
   ],
   "source": [
    "sart18.h_seed_key['Heat 202']"
   ]
  },
  {
   "cell_type": "markdown",
   "metadata": {},
   "source": [
    "#### Create the Bracket DataFrame"
   ]
  },
  {
   "cell_type": "code",
   "execution_count": 6,
   "metadata": {
    "collapsed": true
   },
   "outputs": [],
   "source": [
    "sart18.create_bracket()"
   ]
  },
  {
   "cell_type": "code",
   "execution_count": 14,
   "metadata": {},
   "outputs": [
    {
     "data": {
      "text/html": [
       "<div>\n",
       "<style>\n",
       "    .dataframe thead tr:only-child th {\n",
       "        text-align: right;\n",
       "    }\n",
       "\n",
       "    .dataframe thead th {\n",
       "        text-align: left;\n",
       "    }\n",
       "\n",
       "    .dataframe tbody tr th {\n",
       "        vertical-align: top;\n",
       "    }\n",
       "</style>\n",
       "<table border=\"1\" class=\"dataframe\">\n",
       "  <thead>\n",
       "    <tr style=\"text-align: right;\">\n",
       "      <th></th>\n",
       "      <th>Round</th>\n",
       "      <th>Nxt_Heat</th>\n",
       "      <th>First_name</th>\n",
       "      <th>Surname</th>\n",
       "      <th>Time</th>\n",
       "      <th>Nxt_Heat_Time</th>\n",
       "    </tr>\n",
       "    <tr>\n",
       "      <th>Seed</th>\n",
       "      <th></th>\n",
       "      <th></th>\n",
       "      <th></th>\n",
       "      <th></th>\n",
       "      <th></th>\n",
       "      <th></th>\n",
       "    </tr>\n",
       "  </thead>\n",
       "  <tbody>\n",
       "    <tr>\n",
       "      <th>1</th>\n",
       "      <td>0</td>\n",
       "      <td>Heat 101</td>\n",
       "      <td>NaN</td>\n",
       "      <td>NaN</td>\n",
       "      <td>NaN</td>\n",
       "      <td>11:15am</td>\n",
       "    </tr>\n",
       "    <tr>\n",
       "      <th>2</th>\n",
       "      <td>0</td>\n",
       "      <td>Heat 109</td>\n",
       "      <td>NaN</td>\n",
       "      <td>NaN</td>\n",
       "      <td>NaN</td>\n",
       "      <td>11:39am</td>\n",
       "    </tr>\n",
       "    <tr>\n",
       "      <th>3</th>\n",
       "      <td>0</td>\n",
       "      <td>Heat 113</td>\n",
       "      <td>NaN</td>\n",
       "      <td>NaN</td>\n",
       "      <td>NaN</td>\n",
       "      <td>11:51am</td>\n",
       "    </tr>\n",
       "    <tr>\n",
       "      <th>4</th>\n",
       "      <td>0</td>\n",
       "      <td>Heat 105</td>\n",
       "      <td>NaN</td>\n",
       "      <td>NaN</td>\n",
       "      <td>NaN</td>\n",
       "      <td>11:27am</td>\n",
       "    </tr>\n",
       "    <tr>\n",
       "      <th>5</th>\n",
       "      <td>0</td>\n",
       "      <td>Heat 107</td>\n",
       "      <td>NaN</td>\n",
       "      <td>NaN</td>\n",
       "      <td>NaN</td>\n",
       "      <td>11:33am</td>\n",
       "    </tr>\n",
       "  </tbody>\n",
       "</table>\n",
       "</div>"
      ],
      "text/plain": [
       "     Round  Nxt_Heat First_name Surname Time Nxt_Heat_Time\n",
       "Seed                                                      \n",
       "1        0  Heat 101        NaN     NaN  NaN       11:15am\n",
       "2        0  Heat 109        NaN     NaN  NaN       11:39am\n",
       "3        0  Heat 113        NaN     NaN  NaN       11:51am\n",
       "4        0  Heat 105        NaN     NaN  NaN       11:27am\n",
       "5        0  Heat 107        NaN     NaN  NaN       11:33am"
      ]
     },
     "execution_count": 14,
     "metadata": {},
     "output_type": "execute_result"
    }
   ],
   "source": [
    "sart18.bracket_df.head()"
   ]
  },
  {
   "cell_type": "code",
   "execution_count": 15,
   "metadata": {
    "collapsed": true
   },
   "outputs": [],
   "source": [
    "sart18.bracket_df.to_csv('2018_event_files/PreEvent_Bracket_Dataframe.csv')"
   ]
  },
  {
   "cell_type": "code",
   "execution_count": 16,
   "metadata": {},
   "outputs": [
    {
     "name": "stdout",
     "output_type": "stream",
     "text": [
      "<class 'pandas.core.frame.DataFrame'>\n",
      "Index: 285 entries, 1 to W416\n",
      "Data columns (total 6 columns):\n",
      "Round            285 non-null object\n",
      "Nxt_Heat         285 non-null object\n",
      "First_name       0 non-null object\n",
      "Surname          0 non-null object\n",
      "Time             0 non-null object\n",
      "Nxt_Heat_Time    285 non-null object\n",
      "dtypes: object(6)\n",
      "memory usage: 15.6+ KB\n"
     ]
    }
   ],
   "source": [
    "sart18.bracket_df.info()\n",
    "#for a bracket of 57 people and 5 rounds, total s/b 285 and it is"
   ]
  },
  {
   "cell_type": "code",
   "execution_count": 18,
   "metadata": {},
   "outputs": [
    {
     "data": {
      "text/html": [
       "<div>\n",
       "<style>\n",
       "    .dataframe thead tr:only-child th {\n",
       "        text-align: right;\n",
       "    }\n",
       "\n",
       "    .dataframe thead th {\n",
       "        text-align: left;\n",
       "    }\n",
       "\n",
       "    .dataframe tbody tr th {\n",
       "        vertical-align: top;\n",
       "    }\n",
       "</style>\n",
       "<table border=\"1\" class=\"dataframe\">\n",
       "  <thead>\n",
       "    <tr style=\"text-align: right;\">\n",
       "      <th></th>\n",
       "      <th>Round</th>\n",
       "      <th>Nxt_Heat</th>\n",
       "      <th>First_name</th>\n",
       "      <th>Surname</th>\n",
       "      <th>Time</th>\n",
       "      <th>Nxt_Heat_Time</th>\n",
       "    </tr>\n",
       "    <tr>\n",
       "      <th>Seed</th>\n",
       "      <th></th>\n",
       "      <th></th>\n",
       "      <th></th>\n",
       "      <th></th>\n",
       "      <th></th>\n",
       "      <th></th>\n",
       "    </tr>\n",
       "  </thead>\n",
       "  <tbody>\n",
       "    <tr>\n",
       "      <th>404-Q1</th>\n",
       "      <td>4</td>\n",
       "      <td>Heat 504</td>\n",
       "      <td>NaN</td>\n",
       "      <td>NaN</td>\n",
       "      <td>NaN</td>\n",
       "      <td>11:24am</td>\n",
       "    </tr>\n",
       "    <tr>\n",
       "      <th>404-Q2</th>\n",
       "      <td>4</td>\n",
       "      <td>Heat 504</td>\n",
       "      <td>NaN</td>\n",
       "      <td>NaN</td>\n",
       "      <td>NaN</td>\n",
       "      <td>11:24am</td>\n",
       "    </tr>\n",
       "    <tr>\n",
       "      <th>404-Q3</th>\n",
       "      <td>4</td>\n",
       "      <td>Heat 504</td>\n",
       "      <td>NaN</td>\n",
       "      <td>NaN</td>\n",
       "      <td>NaN</td>\n",
       "      <td>11:24am</td>\n",
       "    </tr>\n",
       "    <tr>\n",
       "      <th>404-Q4</th>\n",
       "      <td>4</td>\n",
       "      <td>Heat 504</td>\n",
       "      <td>NaN</td>\n",
       "      <td>NaN</td>\n",
       "      <td>NaN</td>\n",
       "      <td>11:24am</td>\n",
       "    </tr>\n",
       "    <tr>\n",
       "      <th>404-Q5</th>\n",
       "      <td>4</td>\n",
       "      <td>Heat 504</td>\n",
       "      <td>NaN</td>\n",
       "      <td>NaN</td>\n",
       "      <td>NaN</td>\n",
       "      <td>11:24am</td>\n",
       "    </tr>\n",
       "    <tr>\n",
       "      <th>404-Q6</th>\n",
       "      <td>4</td>\n",
       "      <td>Heat 504</td>\n",
       "      <td>NaN</td>\n",
       "      <td>NaN</td>\n",
       "      <td>NaN</td>\n",
       "      <td>11:24am</td>\n",
       "    </tr>\n",
       "  </tbody>\n",
       "</table>\n",
       "</div>"
      ],
      "text/plain": [
       "       Round  Nxt_Heat First_name Surname Time Nxt_Heat_Time\n",
       "Seed                                                        \n",
       "404-Q1     4  Heat 504        NaN     NaN  NaN       11:24am\n",
       "404-Q2     4  Heat 504        NaN     NaN  NaN       11:24am\n",
       "404-Q3     4  Heat 504        NaN     NaN  NaN       11:24am\n",
       "404-Q4     4  Heat 504        NaN     NaN  NaN       11:24am\n",
       "404-Q5     4  Heat 504        NaN     NaN  NaN       11:24am\n",
       "404-Q6     4  Heat 504        NaN     NaN  NaN       11:24am"
      ]
     },
     "execution_count": 18,
     "metadata": {},
     "output_type": "execute_result"
    }
   ],
   "source": [
    "sart18.bracket_df[sart18.bracket_df['Nxt_Heat']=='Heat 504']"
   ]
  },
  {
   "cell_type": "code",
   "execution_count": 19,
   "metadata": {},
   "outputs": [
    {
     "data": {
      "text/html": [
       "<div>\n",
       "<style>\n",
       "    .dataframe thead tr:only-child th {\n",
       "        text-align: right;\n",
       "    }\n",
       "\n",
       "    .dataframe thead th {\n",
       "        text-align: left;\n",
       "    }\n",
       "\n",
       "    .dataframe tbody tr th {\n",
       "        vertical-align: top;\n",
       "    }\n",
       "</style>\n",
       "<table border=\"1\" class=\"dataframe\">\n",
       "  <thead>\n",
       "    <tr style=\"text-align: right;\">\n",
       "      <th></th>\n",
       "      <th>Round</th>\n",
       "      <th>Nxt_Heat</th>\n",
       "      <th>First_name</th>\n",
       "      <th>Surname</th>\n",
       "      <th>Time</th>\n",
       "      <th>Nxt_Heat_Time</th>\n",
       "    </tr>\n",
       "    <tr>\n",
       "      <th>Seed</th>\n",
       "      <th></th>\n",
       "      <th></th>\n",
       "      <th></th>\n",
       "      <th></th>\n",
       "      <th></th>\n",
       "      <th></th>\n",
       "    </tr>\n",
       "  </thead>\n",
       "  <tbody>\n",
       "    <tr>\n",
       "      <th>202/204-Q1</th>\n",
       "      <td>2</td>\n",
       "      <td>Heat 303</td>\n",
       "      <td>NaN</td>\n",
       "      <td>NaN</td>\n",
       "      <td>NaN</td>\n",
       "      <td>4:21pm</td>\n",
       "    </tr>\n",
       "    <tr>\n",
       "      <th>202/204-Q10</th>\n",
       "      <td>2</td>\n",
       "      <td>Heat 304</td>\n",
       "      <td>NaN</td>\n",
       "      <td>NaN</td>\n",
       "      <td>NaN</td>\n",
       "      <td>4:24pm</td>\n",
       "    </tr>\n",
       "    <tr>\n",
       "      <th>202/204-Q11</th>\n",
       "      <td>2</td>\n",
       "      <td>Heat 304</td>\n",
       "      <td>NaN</td>\n",
       "      <td>NaN</td>\n",
       "      <td>NaN</td>\n",
       "      <td>4:24pm</td>\n",
       "    </tr>\n",
       "    <tr>\n",
       "      <th>202/204-Q2</th>\n",
       "      <td>2</td>\n",
       "      <td>Heat 303</td>\n",
       "      <td>NaN</td>\n",
       "      <td>NaN</td>\n",
       "      <td>NaN</td>\n",
       "      <td>4:21pm</td>\n",
       "    </tr>\n",
       "    <tr>\n",
       "      <th>202/204-Q3</th>\n",
       "      <td>2</td>\n",
       "      <td>Heat 303</td>\n",
       "      <td>NaN</td>\n",
       "      <td>NaN</td>\n",
       "      <td>NaN</td>\n",
       "      <td>4:21pm</td>\n",
       "    </tr>\n",
       "    <tr>\n",
       "      <th>202/204-Q4</th>\n",
       "      <td>2</td>\n",
       "      <td>Heat 303</td>\n",
       "      <td>NaN</td>\n",
       "      <td>NaN</td>\n",
       "      <td>NaN</td>\n",
       "      <td>4:21pm</td>\n",
       "    </tr>\n",
       "    <tr>\n",
       "      <th>202/204-Q5</th>\n",
       "      <td>2</td>\n",
       "      <td>Heat 304</td>\n",
       "      <td>NaN</td>\n",
       "      <td>NaN</td>\n",
       "      <td>NaN</td>\n",
       "      <td>4:24pm</td>\n",
       "    </tr>\n",
       "    <tr>\n",
       "      <th>202/204-Q6</th>\n",
       "      <td>2</td>\n",
       "      <td>Heat 304</td>\n",
       "      <td>NaN</td>\n",
       "      <td>NaN</td>\n",
       "      <td>NaN</td>\n",
       "      <td>4:24pm</td>\n",
       "    </tr>\n",
       "    <tr>\n",
       "      <th>202/204-Q7</th>\n",
       "      <td>2</td>\n",
       "      <td>Heat 304</td>\n",
       "      <td>NaN</td>\n",
       "      <td>NaN</td>\n",
       "      <td>NaN</td>\n",
       "      <td>4:24pm</td>\n",
       "    </tr>\n",
       "    <tr>\n",
       "      <th>202/204-Q8</th>\n",
       "      <td>2</td>\n",
       "      <td>Heat 304</td>\n",
       "      <td>NaN</td>\n",
       "      <td>NaN</td>\n",
       "      <td>NaN</td>\n",
       "      <td>4:24pm</td>\n",
       "    </tr>\n",
       "    <tr>\n",
       "      <th>202/204-Q9</th>\n",
       "      <td>2</td>\n",
       "      <td>Heat 304</td>\n",
       "      <td>NaN</td>\n",
       "      <td>NaN</td>\n",
       "      <td>NaN</td>\n",
       "      <td>4:24pm</td>\n",
       "    </tr>\n",
       "    <tr>\n",
       "      <th>W204</th>\n",
       "      <td>2</td>\n",
       "      <td>Heat 303</td>\n",
       "      <td>NaN</td>\n",
       "      <td>NaN</td>\n",
       "      <td>NaN</td>\n",
       "      <td>4:21pm</td>\n",
       "    </tr>\n",
       "  </tbody>\n",
       "</table>\n",
       "</div>"
      ],
      "text/plain": [
       "            Round  Nxt_Heat First_name Surname Time Nxt_Heat_Time\n",
       "Seed                                                             \n",
       "202/204-Q1      2  Heat 303        NaN     NaN  NaN        4:21pm\n",
       "202/204-Q10     2  Heat 304        NaN     NaN  NaN        4:24pm\n",
       "202/204-Q11     2  Heat 304        NaN     NaN  NaN        4:24pm\n",
       "202/204-Q2      2  Heat 303        NaN     NaN  NaN        4:21pm\n",
       "202/204-Q3      2  Heat 303        NaN     NaN  NaN        4:21pm\n",
       "202/204-Q4      2  Heat 303        NaN     NaN  NaN        4:21pm\n",
       "202/204-Q5      2  Heat 304        NaN     NaN  NaN        4:24pm\n",
       "202/204-Q6      2  Heat 304        NaN     NaN  NaN        4:24pm\n",
       "202/204-Q7      2  Heat 304        NaN     NaN  NaN        4:24pm\n",
       "202/204-Q8      2  Heat 304        NaN     NaN  NaN        4:24pm\n",
       "202/204-Q9      2  Heat 304        NaN     NaN  NaN        4:24pm\n",
       "W204            2  Heat 303        NaN     NaN  NaN        4:21pm"
      ]
     },
     "execution_count": 19,
     "metadata": {},
     "output_type": "execute_result"
    }
   ],
   "source": [
    "sart18.bracket_df.filter(like=\"204\", axis=0)"
   ]
  },
  {
   "cell_type": "code",
   "execution_count": null,
   "metadata": {
    "collapsed": true
   },
   "outputs": [],
   "source": []
  },
  {
   "cell_type": "markdown",
   "metadata": {},
   "source": [
    "## Time Trial"
   ]
  },
  {
   "cell_type": "markdown",
   "metadata": {},
   "source": [
    "#### Process the time trial results\n",
    "- Use the CSV results file pulled from SportSoftware\n",
    "- Address any ties, mp's, dnf's, and dns's as shown below"
   ]
  },
  {
   "cell_type": "code",
   "execution_count": null,
   "metadata": {
    "collapsed": true
   },
   "outputs": [],
   "source": [
    "sart18.process_time_trial_results('2018_event_files/00_NSC1_TimeTrial/TT_R0_Results.csv')"
   ]
  },
  {
   "cell_type": "code",
   "execution_count": null,
   "metadata": {
    "collapsed": true
   },
   "outputs": [],
   "source": [
    "sart18._check_TT_for_ties()"
   ]
  },
  {
   "cell_type": "code",
   "execution_count": null,
   "metadata": {
    "collapsed": true
   },
   "outputs": [],
   "source": [
    "sart18.tt_df_cleaned.tail(10)"
   ]
  },
  {
   "cell_type": "code",
   "execution_count": null,
   "metadata": {
    "collapsed": true
   },
   "outputs": [],
   "source": [
    "sart18.tt_df_cleaned.sort_values(by='Seed', inplace=True)\n",
    "\n",
    "#Adjusting seeds to break ties based on time at go control:\n",
    "\n",
    "#EXAMPLES FROM LAST YEAR:\n",
    "#Chris, Brett\n",
    "#sart18_56.tt_df_cleaned.loc['21', ['Time']] = '0:09:24'\n",
    "#sart18_56.tt_df_cleaned.loc['22', ['Time']] = '0:09:24.5'\n",
    "\n",
    "#Ethan, Carlo\n",
    "#sart18_56.tt_df_cleaned.loc['24', ['Seed']] = 26\n",
    "#sart18_56.tt_df_cleaned.loc['24', ['Time']] = '0:09:26.5'\n",
    "#sart18_56.tt_df_cleaned.loc['25', ['Seed']] = 25\n",
    "#sart18_56.tt_df_cleaned.loc['25', ['Time']] = '0:09:26'\n",
    "\n",
    "#Add DNS's\n",
    "#sart17.tt_df_cleaned.loc['74', ['Surname']] = 'Cassata'\n",
    "#sart17.tt_df_cleaned.loc['74', ['First_name']] = 'Julie'\n",
    "#sart17.tt_df_cleaned.loc['74', ['Time']] = '0:59:00'\n",
    "#sart17.tt_df_cleaned.loc['74', ['Seed']] = 75\n",
    "#sart17.tt_df_cleaned.loc['75', ['Heat']] = 116 #get from bracket_df\n",
    "\n",
    "#These steps completed by reviewing data and pulling tie-breakers from SS; tie break is who is ahead at the go control"
   ]
  },
  {
   "cell_type": "markdown",
   "metadata": {},
   "source": [
    "#### Add the time trial results to the Bracket DataFrame Using Seed as Key\n",
    "- Now each person has their Round 1 Heat Assignment since those were already associated with each seed in the Bracket DF"
   ]
  },
  {
   "cell_type": "code",
   "execution_count": null,
   "metadata": {
    "collapsed": true
   },
   "outputs": [],
   "source": [
    "sart18.add_time_trial_results()"
   ]
  },
  {
   "cell_type": "markdown",
   "metadata": {},
   "source": [
    "#### Print the .txt file with next heat assignments for use in handing out heat assignment info"
   ]
  },
  {
   "cell_type": "code",
   "execution_count": null,
   "metadata": {
    "collapsed": true
   },
   "outputs": [],
   "source": [
    "from __future__ import print_function\n",
    "print(*sart18.print_heat_assigns(1), sep='\\n', file = open(\"2018_event_files/01_NSC2/R1_heat_assigns.txt\", 'w'))"
   ]
  },
  {
   "cell_type": "markdown",
   "metadata": {},
   "source": [
    "#### Process the next round CSV for import to SportSoftware with correct heat assignments\n",
    "- This function pulls in the existing CSV, updates the heat assignments, and then in the following line exports a new CSV with those new assignments"
   ]
  },
  {
   "cell_type": "code",
   "execution_count": null,
   "metadata": {
    "collapsed": true
   },
   "outputs": [],
   "source": [
    "r1_ss_import = sart18.assign_nxt_ht_to_ss_import_csv('2018_event_files/01_NSC2/EntryForOE-20180906074203-R01-PreEvent.csv', 0)\n",
    "#Round must be put in as an integer here!"
   ]
  },
  {
   "cell_type": "code",
   "execution_count": null,
   "metadata": {
    "collapsed": true
   },
   "outputs": [],
   "source": [
    "r1_ss_import.to_csv('2018_event_files/01_NSC2/SS_import_R1_with_heats.csv', index=False)"
   ]
  },
  {
   "cell_type": "markdown",
   "metadata": {},
   "source": [
    "## Round 1"
   ]
  },
  {
   "cell_type": "markdown",
   "metadata": {},
   "source": [
    "#### Import and process the results from Round 1\n",
    "\n",
    "- Use the CSV results pulled from SportSoftware\n",
    "- Address any ties, mp's, dnf's, and dns's as shown below"
   ]
  },
  {
   "cell_type": "code",
   "execution_count": null,
   "metadata": {
    "collapsed": true
   },
   "outputs": [],
   "source": [
    "r1_results = sart18.clean_results_csv('2018_event_files/01_NSC2/R1_NSC_Results.csv')\n",
    "r1_results.sort_values(by='Heat', inplace=True)\n",
    "\n",
    "r1_results.reset_index(inplace=True, drop=True) #not required for actual event; necessary due to way test file was edited to support test\n",
    "r1_results.info()"
   ]
  },
  {
   "cell_type": "code",
   "execution_count": null,
   "metadata": {
    "collapsed": true
   },
   "outputs": [],
   "source": [
    "r1_results.head()"
   ]
  },
  {
   "cell_type": "code",
   "execution_count": null,
   "metadata": {
    "collapsed": true
   },
   "outputs": [],
   "source": [
    "r1_results[r1_results['Heat']==111], r1_results[r1_results['Heat']==112]"
   ]
  },
  {
   "cell_type": "code",
   "execution_count": null,
   "metadata": {
    "collapsed": true
   },
   "outputs": [],
   "source": [
    "#break ties:\n",
    "\n",
    "#Thomas L, Julia D\n",
    "#r1_results.loc[39, ['Time']] = '0:18:09.5'\n",
    "\n",
    "#Set high times to drive mp and dnfs to last seeds:\n",
    "\n",
    "#Lillian Bakker mp\n",
    "#r1_results.loc['42', ['Time']] = '59:00'\n",
    "\n",
    "#Jared Hopkins dnf\n",
    "#r1_results.loc['56', ['Time']] = '59:01'"
   ]
  },
  {
   "cell_type": "markdown",
   "metadata": {},
   "source": [
    "#### Assign next round heats\n",
    "- This populates the results from Round 1 in the Bracket DF as appropriate based on processing method for this bracket / tournament\n",
    "- Results in each person being assigned to their appropriate next heat"
   ]
  },
  {
   "cell_type": "code",
   "execution_count": null,
   "metadata": {
    "collapsed": true
   },
   "outputs": [],
   "source": [
    "sart18.nxt_ht_assigns_fiftysix(r1_results, 1)"
   ]
  },
  {
   "cell_type": "code",
   "execution_count": null,
   "metadata": {
    "collapsed": true
   },
   "outputs": [],
   "source": [
    "#visual for example purposes:\n",
    "sart18.bracket_df[sart18.bracket_df['Nxt_Heat'] == 'Heat 208']"
   ]
  },
  {
   "cell_type": "markdown",
   "metadata": {},
   "source": [
    "#### Print the .txt file with next heat assignments for use in handing out heat assignment info"
   ]
  },
  {
   "cell_type": "code",
   "execution_count": null,
   "metadata": {
    "collapsed": true
   },
   "outputs": [],
   "source": [
    "print(*sart18.print_heat_assigns(2), sep='\\n', file = open(\"2018_event_files/02_Shorecrest1/R2_heat_assigns.txt\", 'w'))"
   ]
  },
  {
   "cell_type": "markdown",
   "metadata": {},
   "source": [
    "#### Process the next round CSV for import to SportSoftware with correct heat assignments\n",
    "- This function pulls in the existing CSV, updates the heat assignments, and then in the following line exports a new CSV with those new assignments"
   ]
  },
  {
   "cell_type": "code",
   "execution_count": null,
   "metadata": {
    "collapsed": true
   },
   "outputs": [],
   "source": [
    "r2_ss_import = sart18.assign_nxt_ht_to_ss_import_csv('2018_event_files/02_Shorecrest1/EntryForOE-20180906074203-R02-PreEvent.csv', 1)\n",
    "#Round must be put in as an integer here!"
   ]
  },
  {
   "cell_type": "code",
   "execution_count": null,
   "metadata": {
    "collapsed": true
   },
   "outputs": [],
   "source": [
    "r2_ss_import.to_csv('2018_event_files/02_Shorecrest1/SS_import_R2_with_heats.csv', index=False)"
   ]
  },
  {
   "cell_type": "code",
   "execution_count": null,
   "metadata": {
    "collapsed": true
   },
   "outputs": [],
   "source": [
    "r2_ss_import[r2_ss_import['Long']=='Heat 208']"
   ]
  },
  {
   "cell_type": "markdown",
   "metadata": {
    "collapsed": true
   },
   "source": [
    "## Round 2"
   ]
  },
  {
   "cell_type": "markdown",
   "metadata": {},
   "source": [
    "#### Import and process the results from Round 2\n",
    "\n",
    "- Use the CSV results pulled from SportSoftware\n",
    "- Address any ties, mp's, dnf's, and dns's as shown below"
   ]
  },
  {
   "cell_type": "code",
   "execution_count": null,
   "metadata": {
    "collapsed": true
   },
   "outputs": [],
   "source": [
    "r2_results = sart18.clean_results_csv('2018_event_files/02_Shorecrest1/R2_Shorecrest1_Results.csv')\n",
    "r2_results.sort_values(by='Heat', inplace=True)\n",
    "\n",
    "r2_results.reset_index(inplace=True, drop=True) #not required for actual event; necessary due to way test file was edited to support test\n",
    "\n",
    "r2_results.info()"
   ]
  },
  {
   "cell_type": "code",
   "execution_count": null,
   "metadata": {
    "collapsed": true
   },
   "outputs": [],
   "source": [
    "r2_results[r2_results['Heat']==204]"
   ]
  },
  {
   "cell_type": "code",
   "execution_count": null,
   "metadata": {
    "collapsed": true
   },
   "outputs": [],
   "source": [
    "#break ties:\n",
    "\n",
    "#Format: r1_results.loc['67', ['Time']] = '17:19.5'\n",
    "\n",
    "#Set high times to drive mp and dnfs to last seeds:\n",
    "\n",
    "#Tom Herrnstein, mp\n",
    "#r2_results.loc[45, ['Time']] = '55:10'\n",
    "\n",
    "#Bruce C, mp\n",
    "#r2_results.loc[46, ['Time']] = '55:20'\n",
    "\n",
    "#Don H, dsq olive green\n",
    "#r2_results.loc[26, ['Time']] = '55:30'"
   ]
  },
  {
   "cell_type": "markdown",
   "metadata": {},
   "source": [
    "#### Assign next round heats\n",
    "- This populates the results from Round 1 in the Bracket DF as appropriate based on processing method for this bracket / tournament\n",
    "- Results in each person being assigned to their appropriate next heat"
   ]
  },
  {
   "cell_type": "code",
   "execution_count": null,
   "metadata": {
    "collapsed": true
   },
   "outputs": [],
   "source": [
    "sart18.nxt_ht_assigns_fiftysix(r2_results, 2)"
   ]
  },
  {
   "cell_type": "code",
   "execution_count": null,
   "metadata": {
    "collapsed": true
   },
   "outputs": [],
   "source": [
    "#visual for example purposes:\n",
    "sart18.bracket_df[sart18.bracket_df['Nxt_Heat'] == 'Heat 303']"
   ]
  },
  {
   "cell_type": "markdown",
   "metadata": {},
   "source": [
    "#### Print the .txt file with next heat assignments for use in handing out heat assignment info"
   ]
  },
  {
   "cell_type": "code",
   "execution_count": null,
   "metadata": {
    "collapsed": true
   },
   "outputs": [],
   "source": [
    "print(*sart18.print_heat_assigns(3), sep='\\n', file = open(\"2018_event_files/03_Shorecrest2/R3_heat_assigns.txt\", 'w'))"
   ]
  },
  {
   "cell_type": "markdown",
   "metadata": {},
   "source": [
    "#### Process the next round CSV for import to SportSoftware with correct heat assignments\n",
    "- This function pulls in the existing CSV, updates the heat assignments, and then in the following line exports a new CSV with those new assignments"
   ]
  },
  {
   "cell_type": "code",
   "execution_count": null,
   "metadata": {
    "collapsed": true
   },
   "outputs": [],
   "source": [
    "r3_ss_import = sart18.assign_nxt_ht_to_ss_import_csv('2018_event_files/03_Shorecrest2/EntryForOE-20180906074203-R03-PreEvent.csv', 2)\n",
    "#Round must be put in as an integer here!"
   ]
  },
  {
   "cell_type": "code",
   "execution_count": null,
   "metadata": {
    "collapsed": true
   },
   "outputs": [],
   "source": [
    "r3_ss_import.to_csv('2018_event_files/03_Shorecrest2/SS_import_R3_with_heats.csv', index=False)"
   ]
  },
  {
   "cell_type": "code",
   "execution_count": null,
   "metadata": {
    "collapsed": true
   },
   "outputs": [],
   "source": [
    "r3_ss_import[r3_ss_import['Long']=='Heat 310']"
   ]
  },
  {
   "cell_type": "markdown",
   "metadata": {},
   "source": [
    "## Round 3"
   ]
  },
  {
   "cell_type": "markdown",
   "metadata": {},
   "source": [
    "#### Import and process the results from Round 3\n",
    "\n",
    "- Use the CSV results pulled from SportSoftware\n",
    "- Address any ties, mp's, dnf's, and dns's as shown below"
   ]
  },
  {
   "cell_type": "code",
   "execution_count": null,
   "metadata": {
    "collapsed": true
   },
   "outputs": [],
   "source": [
    "r3_results = sart18.clean_results_csv('2018_event_files/03_Shorecrest2/R3_Shorecrest2_Results.csv')\n",
    "r3_results.sort_values(by='Heat', inplace=True)\n",
    "\n",
    "r3_results.info()\n"
   ]
  },
  {
   "cell_type": "code",
   "execution_count": null,
   "metadata": {
    "collapsed": true
   },
   "outputs": [],
   "source": [
    "r3_results.reset_index(inplace=True, drop=True)"
   ]
  },
  {
   "cell_type": "code",
   "execution_count": null,
   "metadata": {
    "collapsed": true
   },
   "outputs": [],
   "source": [
    "r3_results.tail()"
   ]
  },
  {
   "cell_type": "code",
   "execution_count": null,
   "metadata": {
    "collapsed": true
   },
   "outputs": [],
   "source": [
    "#break ties:\n",
    "#no ties to break\n",
    "\n",
    "#Set high times to drive mp and dnfs to last seeds:\n",
    "\n",
    "#Don Haliburton, mp\n",
    "#r3_results.loc[33, ['Time']] = '55:10'\n",
    "\n",
    "\n",
    "#Add dns's:\n",
    "\n",
    "#r3_results.loc['76', ['Surname']] = 'Gusiatnikov'\n",
    "#r3_results.loc['76', ['First_name']] = 'Vladimir'\n",
    "#r3_results.loc['76', ['Time']] = '59:10'\n",
    "#r3_results.loc['76', ['Heat']] = 304 #get heat from bracket_df"
   ]
  },
  {
   "cell_type": "markdown",
   "metadata": {},
   "source": [
    "#### Assign next round heats\n",
    "- This populates the results from Round 1 in the Bracket DF as appropriate based on processing method for this bracket / tournament\n",
    "- Results in each person being assigned to their appropriate next heat"
   ]
  },
  {
   "cell_type": "code",
   "execution_count": null,
   "metadata": {
    "collapsed": true
   },
   "outputs": [],
   "source": [
    "sart18.nxt_ht_assigns_fiftysix(r3_results, 3)\n"
   ]
  },
  {
   "cell_type": "code",
   "execution_count": null,
   "metadata": {
    "collapsed": true
   },
   "outputs": [],
   "source": [
    "#visual for example purposes:\n",
    "sart18.bracket_df[(sart18.bracket_df['Nxt_Heat'] == 'Heat 404')]\n"
   ]
  },
  {
   "cell_type": "markdown",
   "metadata": {},
   "source": [
    "#### Print the .txt file with next heat assignments for use in handing out heat assignment info"
   ]
  },
  {
   "cell_type": "code",
   "execution_count": null,
   "metadata": {
    "collapsed": true
   },
   "outputs": [],
   "source": [
    "print(*sart18.print_heat_assigns(4), sep='\\n', file = open(\"2018_event_files/04_Shoreline1/R4_heat_assigns.txt\", 'w'))"
   ]
  },
  {
   "cell_type": "markdown",
   "metadata": {},
   "source": [
    "#### Process the next round CSV for import to SportSoftware with correct heat assignments\n",
    "- This function pulls in the existing CSV, updates the heat assignments, and then in the following line exports a new CSV with those new assignments"
   ]
  },
  {
   "cell_type": "code",
   "execution_count": null,
   "metadata": {
    "collapsed": true
   },
   "outputs": [],
   "source": [
    "r4_ss_import = sart18.assign_nxt_ht_to_ss_import_csv('2018_event_files/04_Shoreline1/EntryForOE-20180906074203-R04-PreEvent.csv', 3)\n",
    "#Round must be put in as an integer here!"
   ]
  },
  {
   "cell_type": "code",
   "execution_count": null,
   "metadata": {
    "collapsed": true
   },
   "outputs": [],
   "source": [
    "r4_ss_import.to_csv('2018_event_files/04_Shoreline1/SS_import_R4_with_heats.csv', index=False)\n"
   ]
  },
  {
   "cell_type": "code",
   "execution_count": null,
   "metadata": {
    "collapsed": true
   },
   "outputs": [],
   "source": [
    "r4_ss_import[r4_ss_import['Long']=='Heat 406']"
   ]
  },
  {
   "cell_type": "markdown",
   "metadata": {},
   "source": [
    "# Round 4"
   ]
  },
  {
   "cell_type": "markdown",
   "metadata": {},
   "source": [
    "#### Import and process the results from Round 4\n",
    "\n",
    "- Use the CSV results pulled from SportSoftware\n",
    "- Address any ties, mp's, dnf's, and dns's as shown below"
   ]
  },
  {
   "cell_type": "code",
   "execution_count": null,
   "metadata": {
    "collapsed": true
   },
   "outputs": [],
   "source": [
    "r4_results = sart18.clean_results_csv('2018_event_files/04_Shoreline1/R4_Shoreline1_Results.csv')\n",
    "r4_results.sort_values(by='Heat', inplace=True)\n",
    "\n",
    "r4_results.info()"
   ]
  },
  {
   "cell_type": "code",
   "execution_count": null,
   "metadata": {
    "collapsed": true
   },
   "outputs": [],
   "source": [
    "r4_results.reset_index(inplace=True, drop=True)"
   ]
  },
  {
   "cell_type": "code",
   "execution_count": null,
   "metadata": {
    "collapsed": true
   },
   "outputs": [],
   "source": [
    "r4_results[r4_results['Heat']==404]"
   ]
  },
  {
   "cell_type": "code",
   "execution_count": null,
   "metadata": {
    "collapsed": true
   },
   "outputs": [],
   "source": [
    "r4_results.tail()"
   ]
  },
  {
   "cell_type": "code",
   "execution_count": null,
   "metadata": {
    "collapsed": true
   },
   "outputs": [],
   "source": [
    "#break ties:\n",
    "\n",
    "#r4_results.loc[47, ['Time']] = '0:13:38'\n",
    "#r4_results.loc[53, ['Time']] = '0:13:38.5'\n",
    "\n",
    "\n",
    "#Set high times to drive mp and dnfs to last seeds:\n",
    "\n",
    "#r4_results.loc['4', ['Time']] = '55:40' #Lillian B dnf\n",
    "#r4_results.loc['3', ['Time']] = '55:35'#Bob F mp\n",
    "#r4_results.loc[30, ['Time']] = '00:55:30' #Kevin M dnf\n",
    "#r4_results.loc['12', ['Time']] = '55:25' #Jared H mp\n",
    "#r4_results.loc[23, ['Time']] = '00:55:20' #Sue G mp\n",
    "#r4_results.loc[46, ['Time']] = '00:55:15' #Ott mp\n",
    "#r4_results.loc[43, ['Time']] = '00:55:10' #Tori B mp\n",
    "\n",
    "\n",
    "#Added dns's\n",
    "\n",
    "#Format:\n",
    "#r4_results.loc['77', ['Surname']] = 'Gusiatnikov'\n",
    "#r4_results.loc['77', ['First_name']] = 'Vladimir'\n",
    "#r4_results.loc['77', ['Time']] = '59:10'\n",
    "#r4_results.loc['77', ['Heat']] = 402 #get heat from bracket_df\n",
    "\n",
    "#r4_results.loc['78', ['Surname']] = 'Ratliff'\n",
    "#r4_results.loc['78', ['First_name']] = 'Hayden'\n",
    "#r4_results.loc['78', ['Time']] = '59:20'\n",
    "#r4_results.loc['78', ['Heat']] = 402 #get heat from bracket_df"
   ]
  },
  {
   "cell_type": "markdown",
   "metadata": {},
   "source": [
    "#### Assign next round heats\n",
    "- This populates the results from Round 1 in the Bracket DF as appropriate based on processing method for this bracket / tournament\n",
    "- Results in each person being assigned to their appropriate next heat"
   ]
  },
  {
   "cell_type": "code",
   "execution_count": null,
   "metadata": {
    "collapsed": true
   },
   "outputs": [],
   "source": [
    "sart18.nxt_ht_assigns_fiftysix(r4_results, 4)"
   ]
  },
  {
   "cell_type": "code",
   "execution_count": null,
   "metadata": {
    "collapsed": true
   },
   "outputs": [],
   "source": [
    "#visual for example purposes:\n",
    "sart18.bracket_df[(sart18.bracket_df['Nxt_Heat'] == 'Heat 504')]"
   ]
  },
  {
   "cell_type": "markdown",
   "metadata": {},
   "source": [
    "#### Print the .txt file with next heat assignments for use in handing out heat assignment info"
   ]
  },
  {
   "cell_type": "code",
   "execution_count": null,
   "metadata": {
    "collapsed": true
   },
   "outputs": [],
   "source": [
    "print(*sart18.print_heat_assigns(5), sep='\\n', file = open(\"2018_event_files/05_Shoreline2_Champs/R5_heat_assigns.txt\", 'w'))"
   ]
  },
  {
   "cell_type": "markdown",
   "metadata": {},
   "source": [
    "#### Process the next round CSV for import to SportSoftware with correct heat assignments\n",
    "- This function pulls in the existing CSV, updates the heat assignments, and then in the following line exports a new CSV with those new assignments"
   ]
  },
  {
   "cell_type": "code",
   "execution_count": null,
   "metadata": {
    "collapsed": true
   },
   "outputs": [],
   "source": [
    "r5_ss_import = sart18.assign_nxt_ht_to_ss_import_csv('2018_event_files/05_Shoreline2_Champs/EntryForOE-20180906074203-R05-PreEvent.csv', 4)\n",
    "#Round must be put in as an integer here!"
   ]
  },
  {
   "cell_type": "code",
   "execution_count": null,
   "metadata": {
    "collapsed": true
   },
   "outputs": [],
   "source": [
    "r5_ss_import.to_csv('2018_event_files/05_Shoreline2_Champs/SS_import_R5_with_heats.csv')"
   ]
  },
  {
   "cell_type": "code",
   "execution_count": null,
   "metadata": {
    "collapsed": true
   },
   "outputs": [],
   "source": [
    "r5_ss_import[r5_ss_import['Long']=='Heat 504']"
   ]
  },
  {
   "cell_type": "markdown",
   "metadata": {},
   "source": [
    "## Round 5"
   ]
  },
  {
   "cell_type": "markdown",
   "metadata": {},
   "source": [
    "#### Import and process the results from Round 5\n",
    "\n",
    "- Use the CSV results pulled from SportSoftware\n",
    "- Address any ties, mp's, dnf's, and dns's as shown below"
   ]
  },
  {
   "cell_type": "code",
   "execution_count": null,
   "metadata": {
    "collapsed": true
   },
   "outputs": [],
   "source": [
    "r5_results = sart18.clean_results_csv('2018_event_files/05_Shoreline2_Champs/R5_Shoreline2_Results.csv')"
   ]
  },
  {
   "cell_type": "code",
   "execution_count": null,
   "metadata": {
    "collapsed": true
   },
   "outputs": [],
   "source": [
    "r5_results.info()"
   ]
  },
  {
   "cell_type": "code",
   "execution_count": null,
   "metadata": {
    "collapsed": true
   },
   "outputs": [],
   "source": [
    "#break ties:\n",
    "#Format: r5_results.loc['11', ['Time']] = '29:45.5' #Jud vs Terry\n",
    "\n",
    "#Set high times to drive mp and dnfs (and disqs) to last seeds:\n",
    "\n",
    "#r5_results.loc['4', ['Time']] = '55:00' #Courtney C mp\n",
    "#r5_results.loc['17', ['Time']] = '55:10' #Shannon C mp\n",
    "#r5_results.loc[50, ['Time']] = '00:55:20' #Janne M mp\n",
    "#r5_results.loc[24, ['Time']] = '00:55:30' #Christophe mp\n",
    "\n",
    "#Added dns's\n",
    "\n",
    "#r5_results.loc['75', ['Surname']] = 'Lee'\n",
    "#r5_results.loc['75', ['First_name']] = 'Brandon'\n",
    "#r5_results.loc['75', ['Time']] = '59:10'\n",
    "#r5_results.loc['75', ['Heat']] = 501 #get heat from bracket_df\n",
    "\n",
    "#r5_results.loc['76', ['Surname']] = 'Bakker'\n",
    "#r5_results.loc['76', ['First_name']] = 'Lillian'\n",
    "#r5_results.loc['76', ['Time']] = '59:20'\n",
    "#r5_results.loc['76', ['Heat']] = 501 #get heat from bracket_df\n",
    "\n",
    "#r5_results.loc['77', ['Surname']] = 'Gusiatnikov'\n",
    "#r5_results.loc['77', ['First_name']] = 'Vladimir'\n",
    "#r5_results.loc['77', ['Time']] = '59:30'\n",
    "#r5_results.loc['77', ['Heat']] = 501 #get heat from bracket_df\n",
    "\n",
    "#r5_results.loc['78', ['Surname']] = 'Ratliff'\n",
    "#r5_results.loc['78', ['First_name']] = 'Hayden'\n",
    "#r5_results.loc['78', ['Time']] = '59:40'\n",
    "#r5_results.loc['78', ['Heat']] = 501 #get heat from bracket_df"
   ]
  },
  {
   "cell_type": "code",
   "execution_count": null,
   "metadata": {
    "collapsed": true
   },
   "outputs": [],
   "source": [
    "r5_results[r5_results['First_name']=='Matthew']"
   ]
  },
  {
   "cell_type": "markdown",
   "metadata": {},
   "source": [
    "#### print .txt file with final results!"
   ]
  },
  {
   "cell_type": "code",
   "execution_count": null,
   "metadata": {
    "collapsed": true
   },
   "outputs": [],
   "source": [
    "print(*sart18.print_final_results(r4_results, r5_results), sep='\\n', file = open(\"2018_event_files/Final_Results.txt\", 'w'))"
   ]
  },
  {
   "cell_type": "code",
   "execution_count": null,
   "metadata": {
    "collapsed": true
   },
   "outputs": [],
   "source": []
  }
 ],
 "metadata": {
  "kernelspec": {
   "display_name": "Python 2",
   "language": "python",
   "name": "python2"
  },
  "language_info": {
   "codemirror_mode": {
    "name": "ipython",
    "version": 2
   },
   "file_extension": ".py",
   "mimetype": "text/x-python",
   "name": "python",
   "nbconvert_exporter": "python",
   "pygments_lexer": "ipython2",
   "version": "2.7.13"
  }
 },
 "nbformat": 4,
 "nbformat_minor": 2
}
