{
 "cells": [
  {
   "cell_type": "markdown",
   "metadata": {},
   "source": [
    "## Initial Event Preparation\n",
    "- Occurs pre-event\n",
    "- Instantiate class and define bracket format via the dictionary and lists of tuples as shown below"
   ]
  },
  {
   "cell_type": "code",
   "execution_count": 2,
   "metadata": {},
   "outputs": [],
   "source": [
    "from SART_Class_v3 import SART\n",
    "import pandas as pd"
   ]
  },
  {
   "cell_type": "code",
   "execution_count": 3,
   "metadata": {
    "collapsed": true
   },
   "outputs": [],
   "source": [
    "#ALL UPDATES FOR 2018 COMPLETE, INCLUDES CHANGE TO 64 PERSON BRACKET\n",
    "#Round 0 seeding assignments for Round 1 Heats:\n",
    "r0_seeds = {'Heat 101': [1, 32, 33, 64], 'Heat 102': [16, 17, 48, 49],\n",
    "    'Heat 103': [8, 25, 40, 57], 'Heat 104': [9, 24, 41, 56],\n",
    "    'Heat 105': [4, 29, 36, 61], 'Heat 106': [13, 20, 45, 52],\n",
    "    'Heat 107': [5, 28, 37, 60], 'Heat 108': [12, 21, 44, 53],\n",
    "    'Heat 109': [2, 31, 34, 63], 'Heat 110': [15, 18, 47, 50],\n",
    "    'Heat 111': [7, 26, 39, 58], 'Heat 112': [10, 23, 42, 55],\n",
    "    'Heat 113': [3, 30, 35, 62], 'Heat 114': [14, 19, 46, 51],\n",
    "    'Heat 115': [6, 27, 38, 59], 'Heat 116': [11, 22, 43, 54]}\n",
    "\n",
    "r0_seeds_fiftysix = {'Heat 101': [1, 32, 33], 'Heat 102': [16, 17, 48, 49],\n",
    "    'Heat 103': [8, 25, 40], 'Heat 104': [9, 24, 41, 56],\n",
    "    'Heat 105': [4, 29, 36], 'Heat 106': [13, 20, 45, 52],\n",
    "    'Heat 107': [5, 28, 37], 'Heat 108': [12, 21, 44, 53],\n",
    "    'Heat 109': [2, 31, 34], 'Heat 110': [15, 18, 47, 50],\n",
    "    'Heat 111': [7, 26, 39], 'Heat 112': [10, 23, 42, 55],\n",
    "    'Heat 113': [3, 30, 35], 'Heat 114': [14, 19, 46, 51],\n",
    "    'Heat 115': [6, 27, 38], 'Heat 116': [11, 22, 43, 54]}\n",
    "\n",
    "#Heat Pairs - prior heats and feed into heats\n",
    "bef_aft_ht_pairs = [((101, 102), (201, 202)),\n",
    "                     ((103, 104), (203, 204)),\n",
    "                     ((105, 106), (205, 206)),\n",
    "                     ((107, 108), (207, 208)),\n",
    "                     ((109, 110), (209, 210)), #210 becomes 202 for 56\n",
    "                     ((111, 112), (211, 212)), #212 becomes 204 for 56\n",
    "                     ((113, 114), (213, 214)), #214 becomes 206 for 56\n",
    "                     ((115, 116), (215, 216)), #216 becomes 208 for 56\n",
    "                     ((201, 203), (301, 302)),\n",
    "                     ((205, 207), (305, 306)),\n",
    "                     ((209, 211), (309, 310)),\n",
    "                     ((213, 215), (313, 314)),\n",
    "                     ((202, 204), (303, 304)),\n",
    "                     ((206, 208), (307, 308)),\n",
    "                     ((210, 212), (311, 312)), #remove this line for 56, include for 64\n",
    "                     ((214, 216), (315, 316)), #remove this line for 56, include for 64\n",
    "                     ((301, 305), (416, 414)),\n",
    "                     ((309, 313), (415, 413)),\n",
    "                     ((302, 306), (412, 410)),\n",
    "                     ((310, 314), (411, 409)),\n",
    "                     ((303, 307), (408, 406)),\n",
    "                     ((311, 315), (407, 405)), #remove this line for 56, include for 64\n",
    "                     ((304, 308), (404, 402)),\n",
    "                     ((312, 316), (403, 401)), #remove this line for 56, include for 64\n",
    "                     ((416, 415), (516, 515)),\n",
    "                     ((414, 413), (514, 513)),\n",
    "                     ((412, 411), (512, 511)),\n",
    "                     ((410, 409), (510, 509)),\n",
    "                     ((408, 407), (508, 507)),\n",
    "                     ((406, 405), (506, 505)),\n",
    "                     ((404, 403), (504, 503)),\n",
    "                     ((402, 401), (502, 501))]\n",
    "\n",
    "bef_aft_ht_pairs_fiftysix = [((101, 102), (201, 202)),\n",
    "                     ((103, 104), (203, 204)),\n",
    "                     ((105, 106), (205, 206)),\n",
    "                     ((107, 108), (207, 208)),\n",
    "                     ((109, 110), (209, 202)), #210 becomes 202 for 56\n",
    "                     ((111, 112), (211, 204)), #212 becomes 204 for 56\n",
    "                     ((113, 114), (213, 206)), #214 becomes 206 for 56\n",
    "                     ((115, 116), (215, 208)), #216 becomes 208 for 56\n",
    "                     ((201, 203), (301, 302)),\n",
    "                     ((205, 207), (305, 306)),\n",
    "                     ((209, 211), (309, 310)),\n",
    "                     ((213, 215), (313, 314)),\n",
    "                     ((202, 204), (303, 304)),\n",
    "                     ((206, 208), (307, 308)),\n",
    "                     #((210, 212), (311, 312)), #remove this line for 56, include for 64\n",
    "                     #((214, 216), (315, 316)), #remove this line for 56, include for 64\n",
    "                     ((301, 305), (416, 414)),\n",
    "                     ((309, 313), (415, 413)),\n",
    "                     ((302, 306), (412, 410)),\n",
    "                     ((310, 314), (411, 409)),\n",
    "                     ((303, 307), (408, 406)),\n",
    "                     #((311, 315), (407, 405)), #remove this line for 56, include for 64\n",
    "                     ((304, 308), (404, 402)),\n",
    "                     #((312, 316), (403, 401)), #remove this line for 56, include for 64\n",
    "                     ((416, 415), (516, 515)),\n",
    "                     ((414, 413), (514, 513)),\n",
    "                     ((412, 411), (512, 511)),\n",
    "                     ((410, 409), (510, 509)),\n",
    "                     ((408, 408), (508, 508)), #407, 507 are empty - same group of 6 for 408, 508\n",
    "                     ((406, 406), (506, 506)), #405, 505 are empty - same group of 6 for 406, 506\n",
    "                     ((404, 404), (504, 504)), #403, 503 are empty - same group of 6 for 404, 504\n",
    "                     ((402, 402), (502, 502))] #401, 501 are empty - same group of 6 for 402, 502\n",
    "\n",
    "#Only needed for 56 person bracket; don't need for 64 person bracket\n",
    "six_person_heats_R2_R3 = [202, 204, 206, 208, 303, 304, 307, 308]\n",
    "six_person_heats_R4 = [408, 406, 404, 402]\n",
    "\n",
    "#Bracket columns:\n",
    "columns = ['Round', 'Nxt_Heat', 'First_name', 'Surname', 'Time', 'Nxt_Heat_Time']\n",
    "\n",
    "#Heat start times:\n",
    "#Round 1 - 11:15am - 12pm\n",
    "#Round 2 - 2:15 - 3:00pm\n",
    "#Round 3 - 4:15 - 5pm\n",
    "#Round 4 - 9:15 - 10am\n",
    "#Round 5 - 11:15am - 12pm\n",
    "start_times = {'Heat 101': '11:15am',\n",
    "             'Heat 102': '11:18am',\n",
    "             'Heat 103': '11:21am',\n",
    "             'Heat 104': '11:24am',\n",
    "             'Heat 105': '11:27am',\n",
    "             'Heat 106': '11:30am',\n",
    "             'Heat 107': '11:33am',\n",
    "             'Heat 108': '11:36am',\n",
    "             'Heat 109': '11:39am',\n",
    "             'Heat 110': '11:42am',\n",
    "             'Heat 111': '11:45am',\n",
    "             'Heat 112': '11:48am',\n",
    "             'Heat 113': '11:51am',\n",
    "             'Heat 114': '11:54am',\n",
    "             'Heat 115': '11:57am',\n",
    "             'Heat 116': '12:00pm',\n",
    "             'Heat 201': '2:15pm',\n",
    "             'Heat 202': '2:18pm',\n",
    "             'Heat 203': '2:21pm',\n",
    "             'Heat 204': '2:24pm',\n",
    "             'Heat 205': '2:27pm',\n",
    "             'Heat 206': '2:30pm',\n",
    "             'Heat 207': '2:33pm',\n",
    "             'Heat 208': '2:36pm',\n",
    "             'Heat 209': '2:39pm',\n",
    "             'Heat 210': '2:42pm',\n",
    "             'Heat 211': '2:45pm',\n",
    "             'Heat 212': '2:48pm',\n",
    "             'Heat 213': '2:51pm',\n",
    "             'Heat 214': '2:54pm',\n",
    "             'Heat 215': '2:57pm',\n",
    "             'Heat 216': '3:00pm',\n",
    "             'Heat 301': '4:15pm',\n",
    "             'Heat 302': '4:18pm',\n",
    "             'Heat 303': '4:21pm',\n",
    "             'Heat 304': '4:24pm',\n",
    "             'Heat 305': '4:27pm',\n",
    "             'Heat 306': '4:30pm',\n",
    "             'Heat 307': '4:33pm',\n",
    "             'Heat 308': '4:36pm',\n",
    "             'Heat 309': '4:39pm',\n",
    "             'Heat 310': '4:42pm',\n",
    "             'Heat 311': '4:45pm',\n",
    "             'Heat 312': '4:48pm',\n",
    "             'Heat 313': '4:51pm',\n",
    "             'Heat 314': '4:54pm',\n",
    "             'Heat 315': '4:57pm',\n",
    "             'Heat 316': '5:00pm',\n",
    "             'Heat 401': '9:15am',\n",
    "             'Heat 402': '9:18am',\n",
    "             'Heat 403': '9:21am',\n",
    "             'Heat 404': '9:24am',\n",
    "             'Heat 405': '9:27am',\n",
    "             'Heat 406': '9:30am',\n",
    "             'Heat 407': '9:33am',\n",
    "             'Heat 408': '9:36am',\n",
    "             'Heat 409': '9:39am',\n",
    "             'Heat 410': '9:42am',\n",
    "             'Heat 411': '9:45am',\n",
    "             'Heat 412': '9:48am',\n",
    "             'Heat 413': '9:51am',\n",
    "             'Heat 414': '9:54am',\n",
    "             'Heat 415': '9:57am',\n",
    "             'Heat 416': '10:00am',\n",
    "             'Heat 501': '11:15am',\n",
    "             'Heat 502': '11:18am',\n",
    "             'Heat 503': '11:21am',\n",
    "             'Heat 504': '11:24am',\n",
    "             'Heat 505': '11:27am',\n",
    "             'Heat 506': '11:30am',\n",
    "             'Heat 507': '11:33am',\n",
    "             'Heat 508': '11:36am',\n",
    "             'Heat 509': '11:39am',\n",
    "             'Heat 510': '11:42am',\n",
    "             'Heat 511': '11:45am',\n",
    "             'Heat 512': '11:48am',\n",
    "             'Heat 513': '11:51am',\n",
    "             'Heat 514': '11:54am',\n",
    "             'Heat 515': '11:57am',\n",
    "             'Heat 516': '12:00pm'}"
   ]
  },
  {
   "cell_type": "code",
   "execution_count": 4,
   "metadata": {
    "collapsed": true
   },
   "outputs": [],
   "source": [
    "sart18_56 = SART(r0_seeds_fiftysix, bef_aft_ht_pairs_fiftysix, columns, start_times, six_person_heats_R2_R3, six_person_heats_R4)"
   ]
  },
  {
   "cell_type": "markdown",
   "metadata": {},
   "source": [
    "#### Call Functions to prepare the keys for our DataFrame\n",
    "- Using the r0_seeds, h_pairs, and fd_into_ht_pairs data\n",
    "- This is done in a few functions behind the scenes for this class"
   ]
  },
  {
   "cell_type": "code",
   "execution_count": 5,
   "metadata": {
    "collapsed": true
   },
   "outputs": [],
   "source": [
    "sart18_56.prepare_sd_h_keys(alter_for_fiftysix=True)"
   ]
  },
  {
   "cell_type": "markdown",
   "metadata": {},
   "source": [
    "#### Create the Bracket DataFrame"
   ]
  },
  {
   "cell_type": "code",
   "execution_count": 6,
   "metadata": {
    "collapsed": true
   },
   "outputs": [],
   "source": [
    "sart18_56.create_bracket()"
   ]
  },
  {
   "cell_type": "code",
   "execution_count": 7,
   "metadata": {},
   "outputs": [
    {
     "data": {
      "text/html": [
       "<div>\n",
       "<style>\n",
       "    .dataframe thead tr:only-child th {\n",
       "        text-align: right;\n",
       "    }\n",
       "\n",
       "    .dataframe thead th {\n",
       "        text-align: left;\n",
       "    }\n",
       "\n",
       "    .dataframe tbody tr th {\n",
       "        vertical-align: top;\n",
       "    }\n",
       "</style>\n",
       "<table border=\"1\" class=\"dataframe\">\n",
       "  <thead>\n",
       "    <tr style=\"text-align: right;\">\n",
       "      <th></th>\n",
       "      <th>Round</th>\n",
       "      <th>Nxt_Heat</th>\n",
       "      <th>First_name</th>\n",
       "      <th>Surname</th>\n",
       "      <th>Time</th>\n",
       "      <th>Nxt_Heat_Time</th>\n",
       "    </tr>\n",
       "    <tr>\n",
       "      <th>Seed</th>\n",
       "      <th></th>\n",
       "      <th></th>\n",
       "      <th></th>\n",
       "      <th></th>\n",
       "      <th></th>\n",
       "      <th></th>\n",
       "    </tr>\n",
       "  </thead>\n",
       "  <tbody>\n",
       "    <tr>\n",
       "      <th>1</th>\n",
       "      <td>0</td>\n",
       "      <td>Heat 101</td>\n",
       "      <td>NaN</td>\n",
       "      <td>NaN</td>\n",
       "      <td>NaN</td>\n",
       "      <td>11:15am</td>\n",
       "    </tr>\n",
       "    <tr>\n",
       "      <th>2</th>\n",
       "      <td>0</td>\n",
       "      <td>Heat 109</td>\n",
       "      <td>NaN</td>\n",
       "      <td>NaN</td>\n",
       "      <td>NaN</td>\n",
       "      <td>11:39am</td>\n",
       "    </tr>\n",
       "    <tr>\n",
       "      <th>3</th>\n",
       "      <td>0</td>\n",
       "      <td>Heat 113</td>\n",
       "      <td>NaN</td>\n",
       "      <td>NaN</td>\n",
       "      <td>NaN</td>\n",
       "      <td>11:51am</td>\n",
       "    </tr>\n",
       "    <tr>\n",
       "      <th>4</th>\n",
       "      <td>0</td>\n",
       "      <td>Heat 105</td>\n",
       "      <td>NaN</td>\n",
       "      <td>NaN</td>\n",
       "      <td>NaN</td>\n",
       "      <td>11:27am</td>\n",
       "    </tr>\n",
       "    <tr>\n",
       "      <th>5</th>\n",
       "      <td>0</td>\n",
       "      <td>Heat 107</td>\n",
       "      <td>NaN</td>\n",
       "      <td>NaN</td>\n",
       "      <td>NaN</td>\n",
       "      <td>11:33am</td>\n",
       "    </tr>\n",
       "  </tbody>\n",
       "</table>\n",
       "</div>"
      ],
      "text/plain": [
       "     Round  Nxt_Heat First_name Surname Time Nxt_Heat_Time\n",
       "Seed                                                      \n",
       "1        0  Heat 101        NaN     NaN  NaN       11:15am\n",
       "2        0  Heat 109        NaN     NaN  NaN       11:39am\n",
       "3        0  Heat 113        NaN     NaN  NaN       11:51am\n",
       "4        0  Heat 105        NaN     NaN  NaN       11:27am\n",
       "5        0  Heat 107        NaN     NaN  NaN       11:33am"
      ]
     },
     "execution_count": 7,
     "metadata": {},
     "output_type": "execute_result"
    }
   ],
   "source": [
    "sart18_56.bracket_df.head()"
   ]
  },
  {
   "cell_type": "code",
   "execution_count": 8,
   "metadata": {},
   "outputs": [
    {
     "name": "stdout",
     "output_type": "stream",
     "text": [
      "<class 'pandas.core.frame.DataFrame'>\n",
      "Index: 280 entries, 1 to W416\n",
      "Data columns (total 6 columns):\n",
      "Round            280 non-null object\n",
      "Nxt_Heat         280 non-null object\n",
      "First_name       0 non-null object\n",
      "Surname          0 non-null object\n",
      "Time             0 non-null object\n",
      "Nxt_Heat_Time    280 non-null object\n",
      "dtypes: object(6)\n",
      "memory usage: 15.3+ KB\n"
     ]
    }
   ],
   "source": [
    "sart18_56.bracket_df.info()\n",
    "#for a bracket of 56 people and 5 rounds, total s/b 280 and it is"
   ]
  },
  {
   "cell_type": "code",
   "execution_count": 9,
   "metadata": {},
   "outputs": [
    {
     "data": {
      "text/html": [
       "<div>\n",
       "<style>\n",
       "    .dataframe thead tr:only-child th {\n",
       "        text-align: right;\n",
       "    }\n",
       "\n",
       "    .dataframe thead th {\n",
       "        text-align: left;\n",
       "    }\n",
       "\n",
       "    .dataframe tbody tr th {\n",
       "        vertical-align: top;\n",
       "    }\n",
       "</style>\n",
       "<table border=\"1\" class=\"dataframe\">\n",
       "  <thead>\n",
       "    <tr style=\"text-align: right;\">\n",
       "      <th></th>\n",
       "      <th>Round</th>\n",
       "      <th>Nxt_Heat</th>\n",
       "      <th>First_name</th>\n",
       "      <th>Surname</th>\n",
       "      <th>Time</th>\n",
       "      <th>Nxt_Heat_Time</th>\n",
       "    </tr>\n",
       "    <tr>\n",
       "      <th>Seed</th>\n",
       "      <th></th>\n",
       "      <th></th>\n",
       "      <th></th>\n",
       "      <th></th>\n",
       "      <th></th>\n",
       "      <th></th>\n",
       "    </tr>\n",
       "  </thead>\n",
       "  <tbody>\n",
       "    <tr>\n",
       "      <th>404-Q1</th>\n",
       "      <td>4</td>\n",
       "      <td>Heat 504</td>\n",
       "      <td>NaN</td>\n",
       "      <td>NaN</td>\n",
       "      <td>NaN</td>\n",
       "      <td>11:24am</td>\n",
       "    </tr>\n",
       "    <tr>\n",
       "      <th>404-Q2</th>\n",
       "      <td>4</td>\n",
       "      <td>Heat 504</td>\n",
       "      <td>NaN</td>\n",
       "      <td>NaN</td>\n",
       "      <td>NaN</td>\n",
       "      <td>11:24am</td>\n",
       "    </tr>\n",
       "    <tr>\n",
       "      <th>404-Q3</th>\n",
       "      <td>4</td>\n",
       "      <td>Heat 504</td>\n",
       "      <td>NaN</td>\n",
       "      <td>NaN</td>\n",
       "      <td>NaN</td>\n",
       "      <td>11:24am</td>\n",
       "    </tr>\n",
       "    <tr>\n",
       "      <th>404-Q4</th>\n",
       "      <td>4</td>\n",
       "      <td>Heat 504</td>\n",
       "      <td>NaN</td>\n",
       "      <td>NaN</td>\n",
       "      <td>NaN</td>\n",
       "      <td>11:24am</td>\n",
       "    </tr>\n",
       "    <tr>\n",
       "      <th>404-Q5</th>\n",
       "      <td>4</td>\n",
       "      <td>Heat 504</td>\n",
       "      <td>NaN</td>\n",
       "      <td>NaN</td>\n",
       "      <td>NaN</td>\n",
       "      <td>11:24am</td>\n",
       "    </tr>\n",
       "    <tr>\n",
       "      <th>404-Q6</th>\n",
       "      <td>4</td>\n",
       "      <td>Heat 504</td>\n",
       "      <td>NaN</td>\n",
       "      <td>NaN</td>\n",
       "      <td>NaN</td>\n",
       "      <td>11:24am</td>\n",
       "    </tr>\n",
       "  </tbody>\n",
       "</table>\n",
       "</div>"
      ],
      "text/plain": [
       "       Round  Nxt_Heat First_name Surname Time Nxt_Heat_Time\n",
       "Seed                                                        \n",
       "404-Q1     4  Heat 504        NaN     NaN  NaN       11:24am\n",
       "404-Q2     4  Heat 504        NaN     NaN  NaN       11:24am\n",
       "404-Q3     4  Heat 504        NaN     NaN  NaN       11:24am\n",
       "404-Q4     4  Heat 504        NaN     NaN  NaN       11:24am\n",
       "404-Q5     4  Heat 504        NaN     NaN  NaN       11:24am\n",
       "404-Q6     4  Heat 504        NaN     NaN  NaN       11:24am"
      ]
     },
     "execution_count": 9,
     "metadata": {},
     "output_type": "execute_result"
    }
   ],
   "source": [
    "sart18_56.bracket_df[sart18_56.bracket_df['Nxt_Heat']=='Heat 504']"
   ]
  },
  {
   "cell_type": "code",
   "execution_count": 11,
   "metadata": {},
   "outputs": [
    {
     "data": {
      "text/html": [
       "<div>\n",
       "<style>\n",
       "    .dataframe thead tr:only-child th {\n",
       "        text-align: right;\n",
       "    }\n",
       "\n",
       "    .dataframe thead th {\n",
       "        text-align: left;\n",
       "    }\n",
       "\n",
       "    .dataframe tbody tr th {\n",
       "        vertical-align: top;\n",
       "    }\n",
       "</style>\n",
       "<table border=\"1\" class=\"dataframe\">\n",
       "  <thead>\n",
       "    <tr style=\"text-align: right;\">\n",
       "      <th></th>\n",
       "      <th>Round</th>\n",
       "      <th>Nxt_Heat</th>\n",
       "      <th>First_name</th>\n",
       "      <th>Surname</th>\n",
       "      <th>Time</th>\n",
       "      <th>Nxt_Heat_Time</th>\n",
       "    </tr>\n",
       "    <tr>\n",
       "      <th>Seed</th>\n",
       "      <th></th>\n",
       "      <th></th>\n",
       "      <th></th>\n",
       "      <th></th>\n",
       "      <th></th>\n",
       "      <th></th>\n",
       "    </tr>\n",
       "  </thead>\n",
       "  <tbody>\n",
       "    <tr>\n",
       "      <th>202/204-Q1</th>\n",
       "      <td>2</td>\n",
       "      <td>Heat 303</td>\n",
       "      <td>NaN</td>\n",
       "      <td>NaN</td>\n",
       "      <td>NaN</td>\n",
       "      <td>4:21pm</td>\n",
       "    </tr>\n",
       "    <tr>\n",
       "      <th>202/204-Q10</th>\n",
       "      <td>2</td>\n",
       "      <td>Heat 304</td>\n",
       "      <td>NaN</td>\n",
       "      <td>NaN</td>\n",
       "      <td>NaN</td>\n",
       "      <td>4:24pm</td>\n",
       "    </tr>\n",
       "    <tr>\n",
       "      <th>202/204-Q2</th>\n",
       "      <td>2</td>\n",
       "      <td>Heat 303</td>\n",
       "      <td>NaN</td>\n",
       "      <td>NaN</td>\n",
       "      <td>NaN</td>\n",
       "      <td>4:21pm</td>\n",
       "    </tr>\n",
       "    <tr>\n",
       "      <th>202/204-Q3</th>\n",
       "      <td>2</td>\n",
       "      <td>Heat 303</td>\n",
       "      <td>NaN</td>\n",
       "      <td>NaN</td>\n",
       "      <td>NaN</td>\n",
       "      <td>4:21pm</td>\n",
       "    </tr>\n",
       "    <tr>\n",
       "      <th>202/204-Q4</th>\n",
       "      <td>2</td>\n",
       "      <td>Heat 303</td>\n",
       "      <td>NaN</td>\n",
       "      <td>NaN</td>\n",
       "      <td>NaN</td>\n",
       "      <td>4:21pm</td>\n",
       "    </tr>\n",
       "    <tr>\n",
       "      <th>202/204-Q5</th>\n",
       "      <td>2</td>\n",
       "      <td>Heat 304</td>\n",
       "      <td>NaN</td>\n",
       "      <td>NaN</td>\n",
       "      <td>NaN</td>\n",
       "      <td>4:24pm</td>\n",
       "    </tr>\n",
       "    <tr>\n",
       "      <th>202/204-Q6</th>\n",
       "      <td>2</td>\n",
       "      <td>Heat 304</td>\n",
       "      <td>NaN</td>\n",
       "      <td>NaN</td>\n",
       "      <td>NaN</td>\n",
       "      <td>4:24pm</td>\n",
       "    </tr>\n",
       "    <tr>\n",
       "      <th>202/204-Q7</th>\n",
       "      <td>2</td>\n",
       "      <td>Heat 304</td>\n",
       "      <td>NaN</td>\n",
       "      <td>NaN</td>\n",
       "      <td>NaN</td>\n",
       "      <td>4:24pm</td>\n",
       "    </tr>\n",
       "    <tr>\n",
       "      <th>202/204-Q8</th>\n",
       "      <td>2</td>\n",
       "      <td>Heat 304</td>\n",
       "      <td>NaN</td>\n",
       "      <td>NaN</td>\n",
       "      <td>NaN</td>\n",
       "      <td>4:24pm</td>\n",
       "    </tr>\n",
       "    <tr>\n",
       "      <th>202/204-Q9</th>\n",
       "      <td>2</td>\n",
       "      <td>Heat 304</td>\n",
       "      <td>NaN</td>\n",
       "      <td>NaN</td>\n",
       "      <td>NaN</td>\n",
       "      <td>4:24pm</td>\n",
       "    </tr>\n",
       "    <tr>\n",
       "      <th>W204</th>\n",
       "      <td>2</td>\n",
       "      <td>Heat 303</td>\n",
       "      <td>NaN</td>\n",
       "      <td>NaN</td>\n",
       "      <td>NaN</td>\n",
       "      <td>4:21pm</td>\n",
       "    </tr>\n",
       "  </tbody>\n",
       "</table>\n",
       "</div>"
      ],
      "text/plain": [
       "            Round  Nxt_Heat First_name Surname Time Nxt_Heat_Time\n",
       "Seed                                                             \n",
       "202/204-Q1      2  Heat 303        NaN     NaN  NaN        4:21pm\n",
       "202/204-Q10     2  Heat 304        NaN     NaN  NaN        4:24pm\n",
       "202/204-Q2      2  Heat 303        NaN     NaN  NaN        4:21pm\n",
       "202/204-Q3      2  Heat 303        NaN     NaN  NaN        4:21pm\n",
       "202/204-Q4      2  Heat 303        NaN     NaN  NaN        4:21pm\n",
       "202/204-Q5      2  Heat 304        NaN     NaN  NaN        4:24pm\n",
       "202/204-Q6      2  Heat 304        NaN     NaN  NaN        4:24pm\n",
       "202/204-Q7      2  Heat 304        NaN     NaN  NaN        4:24pm\n",
       "202/204-Q8      2  Heat 304        NaN     NaN  NaN        4:24pm\n",
       "202/204-Q9      2  Heat 304        NaN     NaN  NaN        4:24pm\n",
       "W204            2  Heat 303        NaN     NaN  NaN        4:21pm"
      ]
     },
     "execution_count": 11,
     "metadata": {},
     "output_type": "execute_result"
    }
   ],
   "source": [
    "sart18_56.bracket_df.filter(like=\"204\", axis=0)"
   ]
  },
  {
   "cell_type": "markdown",
   "metadata": {},
   "source": [
    "## Time Trial"
   ]
  },
  {
   "cell_type": "markdown",
   "metadata": {},
   "source": [
    "#### Process the time trial results\n",
    "- Use the CSV results file pulled from SportSoftware\n",
    "- Address any ties, mp's, dnf's, and dns's as shown below"
   ]
  },
  {
   "cell_type": "code",
   "execution_count": 13,
   "metadata": {},
   "outputs": [],
   "source": [
    "sart18_56.process_time_trial_results('2018_TestFiles_from2017/TT_R0_Results.csv')"
   ]
  },
  {
   "cell_type": "code",
   "execution_count": 14,
   "metadata": {},
   "outputs": [
    {
     "data": {
      "text/plain": [
       "'Warning: Ties exist - diff in list length is 9.  Fix before proceeding.'"
      ]
     },
     "execution_count": 14,
     "metadata": {},
     "output_type": "execute_result"
    }
   ],
   "source": [
    "sart18_56._check_TT_for_ties()"
   ]
  },
  {
   "cell_type": "code",
   "execution_count": 15,
   "metadata": {},
   "outputs": [
    {
     "data": {
      "text/html": [
       "<div>\n",
       "<style>\n",
       "    .dataframe thead tr:only-child th {\n",
       "        text-align: right;\n",
       "    }\n",
       "\n",
       "    .dataframe thead th {\n",
       "        text-align: left;\n",
       "    }\n",
       "\n",
       "    .dataframe tbody tr th {\n",
       "        vertical-align: top;\n",
       "    }\n",
       "</style>\n",
       "<table border=\"1\" class=\"dataframe\">\n",
       "  <thead>\n",
       "    <tr style=\"text-align: right;\">\n",
       "      <th></th>\n",
       "      <th>Surname</th>\n",
       "      <th>First_name</th>\n",
       "      <th>Time</th>\n",
       "      <th>Seed</th>\n",
       "    </tr>\n",
       "  </thead>\n",
       "  <tbody>\n",
       "    <tr>\n",
       "      <th>64</th>\n",
       "      <td>Kelley</td>\n",
       "      <td>Jud</td>\n",
       "      <td>0:13:06</td>\n",
       "      <td>65</td>\n",
       "    </tr>\n",
       "    <tr>\n",
       "      <th>65</th>\n",
       "      <td>Forgrave</td>\n",
       "      <td>Bob</td>\n",
       "      <td>0:13:08</td>\n",
       "      <td>66</td>\n",
       "    </tr>\n",
       "    <tr>\n",
       "      <th>66</th>\n",
       "      <td>Ricks</td>\n",
       "      <td>Kristy</td>\n",
       "      <td>0:13:21</td>\n",
       "      <td>67</td>\n",
       "    </tr>\n",
       "    <tr>\n",
       "      <th>67</th>\n",
       "      <td>Byers</td>\n",
       "      <td>Kate</td>\n",
       "      <td>0:13:45</td>\n",
       "      <td>68</td>\n",
       "    </tr>\n",
       "    <tr>\n",
       "      <th>68</th>\n",
       "      <td>Nasman</td>\n",
       "      <td>Linnea</td>\n",
       "      <td>0:13:45</td>\n",
       "      <td>69</td>\n",
       "    </tr>\n",
       "    <tr>\n",
       "      <th>69</th>\n",
       "      <td>Buchholz</td>\n",
       "      <td>Larson</td>\n",
       "      <td>0:14:23</td>\n",
       "      <td>70</td>\n",
       "    </tr>\n",
       "    <tr>\n",
       "      <th>70</th>\n",
       "      <td>Klinge</td>\n",
       "      <td>Jill</td>\n",
       "      <td>0:14:45</td>\n",
       "      <td>71</td>\n",
       "    </tr>\n",
       "    <tr>\n",
       "      <th>71</th>\n",
       "      <td>Lee</td>\n",
       "      <td>Brandon</td>\n",
       "      <td>0:17:06</td>\n",
       "      <td>72</td>\n",
       "    </tr>\n",
       "    <tr>\n",
       "      <th>72</th>\n",
       "      <td>Hopkins</td>\n",
       "      <td>Kyle</td>\n",
       "      <td>0:17:48</td>\n",
       "      <td>73</td>\n",
       "    </tr>\n",
       "    <tr>\n",
       "      <th>73</th>\n",
       "      <td>Hopkins</td>\n",
       "      <td>Jared</td>\n",
       "      <td>0:33:52</td>\n",
       "      <td>74</td>\n",
       "    </tr>\n",
       "  </tbody>\n",
       "</table>\n",
       "</div>"
      ],
      "text/plain": [
       "     Surname First_name     Time  Seed\n",
       "64    Kelley        Jud  0:13:06    65\n",
       "65  Forgrave        Bob  0:13:08    66\n",
       "66     Ricks     Kristy  0:13:21    67\n",
       "67     Byers       Kate  0:13:45    68\n",
       "68    Nasman     Linnea  0:13:45    69\n",
       "69  Buchholz     Larson  0:14:23    70\n",
       "70    Klinge       Jill  0:14:45    71\n",
       "71       Lee    Brandon  0:17:06    72\n",
       "72   Hopkins       Kyle  0:17:48    73\n",
       "73   Hopkins      Jared  0:33:52    74"
      ]
     },
     "execution_count": 15,
     "metadata": {},
     "output_type": "execute_result"
    }
   ],
   "source": [
    "sart18_56.tt_df_cleaned.tail(10)"
   ]
  },
  {
   "cell_type": "code",
   "execution_count": 16,
   "metadata": {
    "collapsed": true
   },
   "outputs": [],
   "source": [
    "sart18_56.tt_df_cleaned.sort_values(by='Seed', inplace=True)\n",
    "\n",
    "#Adjusting seeds to break ties based on time at go control:\n",
    "\n",
    "#Chris, Brett\n",
    "sart18_56.tt_df_cleaned.loc['21', ['Time']] = '0:09:24'\n",
    "sart18_56.tt_df_cleaned.loc['22', ['Time']] = '0:09:24.5'\n",
    "\n",
    "#Ethan, Carlo\n",
    "sart18_56.tt_df_cleaned.loc['24', ['Seed']] = 26\n",
    "sart18_56.tt_df_cleaned.loc['24', ['Time']] = '0:09:26.5'\n",
    "sart18_56.tt_df_cleaned.loc['25', ['Seed']] = 25\n",
    "sart18_56.tt_df_cleaned.loc['25', ['Time']] = '0:09:26'\n",
    "\n",
    "#Ott, Kyle\n",
    "sart18_56.tt_df_cleaned.loc['27', ['Time']] = '0:09:35'\n",
    "sart18_56.tt_df_cleaned.loc['28', ['Time']] = '0:09:35.5'\n",
    "\n",
    "#Rachel, Matt F\n",
    "sart18_56.tt_df_cleaned.loc['31', ['Time']] = '0:09:51'\n",
    "sart18_56.tt_df_cleaned.loc['32', ['Time']] = '0:09:51.5'\n",
    "\n",
    "#David V, RJ\n",
    "sart18_56.tt_df_cleaned.loc['39', ['Seed']] = 41\n",
    "sart18_56.tt_df_cleaned.loc['39', ['Time']] = '0:10:13.5'\n",
    "sart18_56.tt_df_cleaned.loc['40', ['Seed']] = 40\n",
    "sart18_56.tt_df_cleaned.loc['40', ['Time']] = '0:10:13'\n",
    "\n",
    "#Christophe, Ryan B\n",
    "sart18_56.tt_df_cleaned.loc['43', ['Seed']] = 45\n",
    "sart18_56.tt_df_cleaned.loc['43', ['Time']] = '0:10:17.5'\n",
    "sart18_56.tt_df_cleaned.loc['44', ['Seed']] = 44\n",
    "sart18_56.tt_df_cleaned.loc['44', ['Time']] = '0:10:17'\n",
    "\n",
    "#Sherri Jessica, Joanne\n",
    "sart18_56.tt_df_cleaned.loc['48', ['Seed']] = 49\n",
    "sart18_56.tt_df_cleaned.loc['48', ['Time']] = '0:10:36'\n",
    "sart18_56.tt_df_cleaned.loc['49', ['Seed']] = 51\n",
    "sart18_56.tt_df_cleaned.loc['49', ['Time']] = '0:10:36.5'\n",
    "sart18_56.tt_df_cleaned.loc['50', ['Seed']] = 50\n",
    "sart18_56.tt_df_cleaned.loc['50', ['Time']] = '0:10:36.2'\n",
    "\n",
    "#Kate, Linnea\n",
    "sart18_56.tt_df_cleaned.loc['67', ['Time']] = '0:13:45'\n",
    "sart18_56.tt_df_cleaned.loc['68', ['Time']] = '0:13:45.5'\n",
    "\n",
    "#These steps completed by reviewing data and pulling tie-breakers from SS; tie break is who is ahead at the go control"
   ]
  },
  {
   "cell_type": "markdown",
   "metadata": {},
   "source": [
    "NOT NEEDED FOR TEST - ONLY DOING 56 PEOPLE\n",
    "\n",
    "#Add DNS's\n",
    "sart17.tt_df_cleaned.loc['74', ['Surname']] = 'Cassata'\n",
    "sart17.tt_df_cleaned.loc['74', ['First_name']] = 'Julie'\n",
    "sart17.tt_df_cleaned.loc['74', ['Time']] = '0:59:00'\n",
    "sart17.tt_df_cleaned.loc['74', ['Seed']] = 75\n",
    "#sart17.tt_df_cleaned.loc['75', ['Heat']] = 116 #get from bracket_df\n",
    "\n",
    "sart17.tt_df_cleaned.loc['75', ['Surname']] = 'Bone'\n",
    "sart17.tt_df_cleaned.loc['75', ['First_name']] = 'Eric'\n",
    "sart17.tt_df_cleaned.loc['75', ['Time']] = '0:59:10'\n",
    "sart17.tt_df_cleaned.loc['75', ['Seed']] = 76\n",
    "#sart17.tt_df_cleaned.loc['76', ['Heat']] = 108 #get from bracket_df\n",
    "\n",
    "sart17.tt_df_cleaned.loc['76', ['Surname']] = 'Cutler'\n",
    "sart17.tt_df_cleaned.loc['76', ['First_name']] = 'Courtney'\n",
    "sart17.tt_df_cleaned.loc['76', ['Time']] = '0:59:20'\n",
    "sart17.tt_df_cleaned.loc['76', ['Seed']] = 77\n",
    "#sart17.tt_df_cleaned.loc['77', ['Heat']] = 106 #get from bracket_df\n",
    "\n",
    "sart17.tt_df_cleaned.loc['77', ['Surname']] = 'Ratliff'\n",
    "sart17.tt_df_cleaned.loc['77', ['First_name']] = 'Hayden'\n",
    "sart17.tt_df_cleaned.loc['77', ['Time']] = '0:59:30'\n",
    "sart17.tt_df_cleaned.loc['77', ['Seed']] = 78\n",
    "#sart17.tt_df_cleaned.loc['78', ['Heat']] = 114 #get from bracket_df\n",
    "\n",
    "sart17.tt_df_cleaned.loc['78', ['Surname']] = 'Smith'\n",
    "sart17.tt_df_cleaned.loc['78', ['First_name']] = 'Ben'\n",
    "sart17.tt_df_cleaned.loc['78', ['Time']] = '0:59:40'\n",
    "sart17.tt_df_cleaned.loc['78', ['Seed']] = 79\n",
    "#sart17.tt_df_cleaned.loc['79', ['Heat']] = 110 #get from bracket_df\n",
    "\n",
    "sart17.tt_df_cleaned.loc['79', ['Surname']] = 'Gusiatnikov'\n",
    "sart17.tt_df_cleaned.loc['79', ['First_name']] = 'Vladimir'\n",
    "sart17.tt_df_cleaned.loc['79', ['Time']] = '0:59:50'\n",
    "sart17.tt_df_cleaned.loc['79', ['Seed']] = 80\n",
    "#sart17.tt_df_cleaned.loc['80', ['Heat']] = 102 #get from bracket_df"
   ]
  },
  {
   "cell_type": "markdown",
   "metadata": {},
   "source": [
    "#### Add the time trial results to the Bracket DataFrame Using Seed as Key\n",
    "- Now each person has their Round 1 Heat Assignment since those were already associated with each seed in the Bracket DF"
   ]
  },
  {
   "cell_type": "code",
   "execution_count": 17,
   "metadata": {},
   "outputs": [
    {
     "name": "stdout",
     "output_type": "stream",
     "text": [
      "No Ties, results added to bracket!\n"
     ]
    }
   ],
   "source": [
    "sart18_56.add_time_trial_results()"
   ]
  },
  {
   "cell_type": "markdown",
   "metadata": {},
   "source": [
    "#### Print the .txt file with next heat assignments for use in handing out heat assignment info"
   ]
  },
  {
   "cell_type": "code",
   "execution_count": 18,
   "metadata": {
    "collapsed": true
   },
   "outputs": [],
   "source": [
    "from __future__ import print_function\n",
    "print(*sart18_56.print_heat_assigns(1), sep='\\n', file = open(\"2018_TestFiles_from2017/R1_heat_assigns.txt\", 'w'))"
   ]
  },
  {
   "cell_type": "markdown",
   "metadata": {},
   "source": [
    "#### Process the next round CSV for import to SportSoftware with correct heat assignments\n",
    "- This function pulls in the existing CSV, updates the heat assignments, and then in the following line exports a new CSV with those new assignments"
   ]
  },
  {
   "cell_type": "code",
   "execution_count": 23,
   "metadata": {},
   "outputs": [],
   "source": [
    "r1_ss_import = sart18_56.assign_nxt_ht_to_ss_import_csv('2018_TestFiles_from2017/EntryForOE-R01-Lynndale-preevent.csv', 0)\n",
    "#Round must be put in as an integer here!"
   ]
  },
  {
   "cell_type": "code",
   "execution_count": 24,
   "metadata": {},
   "outputs": [],
   "source": [
    "r1_ss_import.to_csv('2018_TestFiles_from2017/SS_import_R1_with_heats.csv', index=False)"
   ]
  },
  {
   "cell_type": "markdown",
   "metadata": {},
   "source": [
    "## Round 1"
   ]
  },
  {
   "cell_type": "markdown",
   "metadata": {},
   "source": [
    "#### Import and process the results from Round 1\n",
    "\n",
    "- Use the CSV results pulled from SportSoftware\n",
    "- Address any ties, mp's, dnf's, and dns's as shown below"
   ]
  },
  {
   "cell_type": "code",
   "execution_count": 68,
   "metadata": {},
   "outputs": [
    {
     "name": "stdout",
     "output_type": "stream",
     "text": [
      "<class 'pandas.core.frame.DataFrame'>\n",
      "RangeIndex: 56 entries, 0 to 55\n",
      "Data columns (total 4 columns):\n",
      "Surname       56 non-null object\n",
      "First_name    56 non-null object\n",
      "Time          56 non-null object\n",
      "Heat          56 non-null int64\n",
      "dtypes: int64(1), object(3)\n",
      "memory usage: 1.8+ KB\n"
     ]
    }
   ],
   "source": [
    "r1_results = sart18_56.clean_results_csv('2018_TestFiles_from2017/R1_Lynndale_Results.csv')\n",
    "r1_results.sort_values(by='Heat', inplace=True)\n",
    "\n",
    "r1_results.reset_index(inplace=True, drop=True) #not required for actual event; necessary due to way test file was edited to support test\n",
    "r1_results.info()"
   ]
  },
  {
   "cell_type": "code",
   "execution_count": 69,
   "metadata": {},
   "outputs": [
    {
     "data": {
      "text/html": [
       "<div>\n",
       "<style>\n",
       "    .dataframe thead tr:only-child th {\n",
       "        text-align: right;\n",
       "    }\n",
       "\n",
       "    .dataframe thead th {\n",
       "        text-align: left;\n",
       "    }\n",
       "\n",
       "    .dataframe tbody tr th {\n",
       "        vertical-align: top;\n",
       "    }\n",
       "</style>\n",
       "<table border=\"1\" class=\"dataframe\">\n",
       "  <thead>\n",
       "    <tr style=\"text-align: right;\">\n",
       "      <th></th>\n",
       "      <th>Surname</th>\n",
       "      <th>First_name</th>\n",
       "      <th>Time</th>\n",
       "      <th>Heat</th>\n",
       "    </tr>\n",
       "  </thead>\n",
       "  <tbody>\n",
       "    <tr>\n",
       "      <th>0</th>\n",
       "      <td>Ferguson</td>\n",
       "      <td>Matthew</td>\n",
       "      <td>0:25:36</td>\n",
       "      <td>101</td>\n",
       "    </tr>\n",
       "    <tr>\n",
       "      <th>1</th>\n",
       "      <td>Enger</td>\n",
       "      <td>Will</td>\n",
       "      <td>0:15:56</td>\n",
       "      <td>101</td>\n",
       "    </tr>\n",
       "    <tr>\n",
       "      <th>2</th>\n",
       "      <td>Caulfield</td>\n",
       "      <td>Rachel</td>\n",
       "      <td>0:23:49</td>\n",
       "      <td>101</td>\n",
       "    </tr>\n",
       "    <tr>\n",
       "      <th>3</th>\n",
       "      <td>Long</td>\n",
       "      <td>Robert</td>\n",
       "      <td>0:22:26</td>\n",
       "      <td>102</td>\n",
       "    </tr>\n",
       "    <tr>\n",
       "      <th>4</th>\n",
       "      <td>Gruber</td>\n",
       "      <td>Brian</td>\n",
       "      <td>0:21:15</td>\n",
       "      <td>102</td>\n",
       "    </tr>\n",
       "  </tbody>\n",
       "</table>\n",
       "</div>"
      ],
      "text/plain": [
       "     Surname First_name     Time  Heat\n",
       "0   Ferguson    Matthew  0:25:36   101\n",
       "1      Enger       Will  0:15:56   101\n",
       "2  Caulfield     Rachel  0:23:49   101\n",
       "3       Long     Robert  0:22:26   102\n",
       "4     Gruber      Brian  0:21:15   102"
      ]
     },
     "execution_count": 69,
     "metadata": {},
     "output_type": "execute_result"
    }
   ],
   "source": [
    "r1_results.head()"
   ]
  },
  {
   "cell_type": "code",
   "execution_count": 70,
   "metadata": {},
   "outputs": [
    {
     "data": {
      "text/plain": [
       "(     Surname First_name     Time  Heat\n",
       " 35  Colleran     Joshua  0:23:19   111\n",
       " 36  O'Connor      Ethan  0:22:19   111\n",
       " 37    Laraia     Thomas  0:18:09   111,\n",
       "       Surname First_name     Time  Heat\n",
       " 38   Collings      Laura  0:25:00   112\n",
       " 39    Doubson      Julia  0:18:09   112\n",
       " 40  Potrebich       Nina  0:20:28   112\n",
       " 41   Buchholz      Brett  0:21:26   112)"
      ]
     },
     "execution_count": 70,
     "metadata": {},
     "output_type": "execute_result"
    }
   ],
   "source": [
    "r1_results[r1_results['Heat']==111], r1_results[r1_results['Heat']==112]"
   ]
  },
  {
   "cell_type": "code",
   "execution_count": 71,
   "metadata": {
    "collapsed": true
   },
   "outputs": [],
   "source": [
    "#break ties:\n",
    "\n",
    "#Thomas L, Julia D\n",
    "r1_results.loc[39, ['Time']] = '0:18:09.5'\n",
    "\n",
    "#Set high times to drive mp and dnfs to last seeds:\n",
    "\n",
    "#Lillian Bakker mp\n",
    "#r1_results.loc['42', ['Time']] = '59:00'\n",
    "\n",
    "#Jared Hopkins dnf\n",
    "#r1_results.loc['56', ['Time']] = '59:01'"
   ]
  },
  {
   "cell_type": "code",
   "execution_count": 72,
   "metadata": {},
   "outputs": [
    {
     "data": {
      "text/html": [
       "<div>\n",
       "<style>\n",
       "    .dataframe thead tr:only-child th {\n",
       "        text-align: right;\n",
       "    }\n",
       "\n",
       "    .dataframe thead th {\n",
       "        text-align: left;\n",
       "    }\n",
       "\n",
       "    .dataframe tbody tr th {\n",
       "        vertical-align: top;\n",
       "    }\n",
       "</style>\n",
       "<table border=\"1\" class=\"dataframe\">\n",
       "  <thead>\n",
       "    <tr style=\"text-align: right;\">\n",
       "      <th></th>\n",
       "      <th>Surname</th>\n",
       "      <th>First_name</th>\n",
       "      <th>Time</th>\n",
       "      <th>Heat</th>\n",
       "    </tr>\n",
       "  </thead>\n",
       "  <tbody>\n",
       "    <tr>\n",
       "      <th>37</th>\n",
       "      <td>Laraia</td>\n",
       "      <td>Thomas</td>\n",
       "      <td>0:18:09</td>\n",
       "      <td>111</td>\n",
       "    </tr>\n",
       "  </tbody>\n",
       "</table>\n",
       "</div>"
      ],
      "text/plain": [
       "   Surname First_name     Time  Heat\n",
       "37  Laraia     Thomas  0:18:09   111"
      ]
     },
     "execution_count": 72,
     "metadata": {},
     "output_type": "execute_result"
    }
   ],
   "source": [
    "r1_results[r1_results['Time']=='0:18:09']"
   ]
  },
  {
   "cell_type": "markdown",
   "metadata": {},
   "source": [
    "DONT NEED TO DO FOR TEST:\n",
    "    \n",
    "#Added dns'\n",
    "r1_results.loc['76', ['Surname']] = 'Gusiatnikov'\n",
    "r1_results.loc['76', ['First_name']] = 'Vladimir'\n",
    "r1_results.loc['76', ['Time']] = '59:10'\n",
    "r1_results.loc['76', ['Heat']] = 102 #get heat from bracket_df\n",
    "\n",
    "r1_results.loc['77', ['Surname']] = 'Cutler'\n",
    "r1_results.loc['77', ['First_name']] = 'Courtney'\n",
    "r1_results.loc['77', ['Time']] = '59:20'\n",
    "r1_results.loc['77', ['Heat']] = 114 #get heat from bracket_df\n",
    "\n",
    "r1_results.loc['78', ['Surname']] = 'Smith'\n",
    "r1_results.loc['78', ['First_name']] = 'Ben'\n",
    "r1_results.loc['78', ['Time']] = '59:30'\n",
    "r1_results.loc['78', ['Heat']] = 110 #get heat from bracket_df\n",
    "\n",
    "r1_results.loc['79', ['Surname']] = 'Ratliff'\n",
    "r1_results.loc['79', ['First_name']] = 'Hayden'\n",
    "r1_results.loc['79', ['Time']] = '59:40'\n",
    "r1_results.loc['79', ['Heat']] = 106 #get heat from bracket_df"
   ]
  },
  {
   "cell_type": "markdown",
   "metadata": {},
   "source": [
    "#### Assign next round heats\n",
    "- This populates the results from Round 1 in the Bracket DF as appropriate based on processing method for this bracket / tournament\n",
    "- Results in each person being assigned to their appropriate next heat"
   ]
  },
  {
   "cell_type": "code",
   "execution_count": 73,
   "metadata": {},
   "outputs": [
    {
     "name": "stdout",
     "output_type": "stream",
     "text": [
      "No Ties, proceeding with next heat assignments!\n",
      "No Ties, proceeding with next heat assignments!\n",
      "No Ties, proceeding with next heat assignments!\n",
      "No Ties, proceeding with next heat assignments!\n",
      "No Ties, proceeding with next heat assignments!\n",
      "No Ties, proceeding with next heat assignments!\n",
      "No Ties, proceeding with next heat assignments!\n",
      "No Ties, proceeding with next heat assignments!\n"
     ]
    }
   ],
   "source": [
    "sart18_56.nxt_ht_assigns(r1_results, 1)"
   ]
  },
  {
   "cell_type": "code",
   "execution_count": 74,
   "metadata": {},
   "outputs": [
    {
     "data": {
      "text/html": [
       "<div>\n",
       "<style>\n",
       "    .dataframe thead tr:only-child th {\n",
       "        text-align: right;\n",
       "    }\n",
       "\n",
       "    .dataframe thead th {\n",
       "        text-align: left;\n",
       "    }\n",
       "\n",
       "    .dataframe tbody tr th {\n",
       "        vertical-align: top;\n",
       "    }\n",
       "</style>\n",
       "<table border=\"1\" class=\"dataframe\">\n",
       "  <thead>\n",
       "    <tr style=\"text-align: right;\">\n",
       "      <th></th>\n",
       "      <th>Round</th>\n",
       "      <th>Nxt_Heat</th>\n",
       "      <th>First_name</th>\n",
       "      <th>Surname</th>\n",
       "      <th>Time</th>\n",
       "      <th>Nxt_Heat_Time</th>\n",
       "    </tr>\n",
       "    <tr>\n",
       "      <th>Seed</th>\n",
       "      <th></th>\n",
       "      <th></th>\n",
       "      <th></th>\n",
       "      <th></th>\n",
       "      <th></th>\n",
       "      <th></th>\n",
       "    </tr>\n",
       "  </thead>\n",
       "  <tbody>\n",
       "    <tr>\n",
       "      <th>107/108-Q3</th>\n",
       "      <td>1</td>\n",
       "      <td>Heat 208</td>\n",
       "      <td>Kate</td>\n",
       "      <td>Knapp</td>\n",
       "      <td>0:20:14</td>\n",
       "      <td>2:36pm</td>\n",
       "    </tr>\n",
       "    <tr>\n",
       "      <th>107/108-Q4</th>\n",
       "      <td>1</td>\n",
       "      <td>Heat 208</td>\n",
       "      <td>Abra</td>\n",
       "      <td>McNair</td>\n",
       "      <td>0:21:52</td>\n",
       "      <td>2:36pm</td>\n",
       "    </tr>\n",
       "    <tr>\n",
       "      <th>107/108-Q5</th>\n",
       "      <td>1</td>\n",
       "      <td>Heat 208</td>\n",
       "      <td>Don</td>\n",
       "      <td>Haliburton</td>\n",
       "      <td>0:30:29</td>\n",
       "      <td>2:36pm</td>\n",
       "    </tr>\n",
       "    <tr>\n",
       "      <th>115/116-Q3</th>\n",
       "      <td>1</td>\n",
       "      <td>Heat 208</td>\n",
       "      <td>Benjamin</td>\n",
       "      <td>Brady</td>\n",
       "      <td>0:21:09</td>\n",
       "      <td>2:36pm</td>\n",
       "    </tr>\n",
       "    <tr>\n",
       "      <th>115/116-Q4</th>\n",
       "      <td>1</td>\n",
       "      <td>Heat 208</td>\n",
       "      <td>Stan</td>\n",
       "      <td>Woods</td>\n",
       "      <td>0:23:28</td>\n",
       "      <td>2:36pm</td>\n",
       "    </tr>\n",
       "    <tr>\n",
       "      <th>115/116-Q5</th>\n",
       "      <td>1</td>\n",
       "      <td>Heat 208</td>\n",
       "      <td>Reid</td>\n",
       "      <td>Howard</td>\n",
       "      <td>0:27:03</td>\n",
       "      <td>2:36pm</td>\n",
       "    </tr>\n",
       "  </tbody>\n",
       "</table>\n",
       "</div>"
      ],
      "text/plain": [
       "           Round  Nxt_Heat First_name     Surname     Time Nxt_Heat_Time\n",
       "Seed                                                                    \n",
       "107/108-Q3     1  Heat 208       Kate       Knapp  0:20:14        2:36pm\n",
       "107/108-Q4     1  Heat 208       Abra      McNair  0:21:52        2:36pm\n",
       "107/108-Q5     1  Heat 208        Don  Haliburton  0:30:29        2:36pm\n",
       "115/116-Q3     1  Heat 208   Benjamin       Brady  0:21:09        2:36pm\n",
       "115/116-Q4     1  Heat 208       Stan       Woods  0:23:28        2:36pm\n",
       "115/116-Q5     1  Heat 208       Reid      Howard  0:27:03        2:36pm"
      ]
     },
     "execution_count": 74,
     "metadata": {},
     "output_type": "execute_result"
    }
   ],
   "source": [
    "#visual for example purposes:\n",
    "sart18_56.bracket_df[sart18_56.bracket_df['Nxt_Heat'] == 'Heat 208']"
   ]
  },
  {
   "cell_type": "markdown",
   "metadata": {},
   "source": [
    "#### Print the .txt file with next heat assignments for use in handing out heat assignment info"
   ]
  },
  {
   "cell_type": "code",
   "execution_count": 75,
   "metadata": {
    "collapsed": true
   },
   "outputs": [],
   "source": [
    "print(*sart18_56.print_heat_assigns(2), sep='\\n', file = open(\"2018_TestFiles_from2017/R2_heat_assigns.txt\", 'w'))"
   ]
  },
  {
   "cell_type": "markdown",
   "metadata": {},
   "source": [
    "#### Process the next round CSV for import to SportSoftware with correct heat assignments\n",
    "- This function pulls in the existing CSV, updates the heat assignments, and then in the following line exports a new CSV with those new assignments"
   ]
  },
  {
   "cell_type": "code",
   "execution_count": 76,
   "metadata": {
    "collapsed": true
   },
   "outputs": [],
   "source": [
    "r2_ss_import = sart18_56.assign_nxt_ht_to_ss_import_csv('2018_TestFiles_from2017/EntryForOE-R02-EdmondsCC-preevent.csv', 1)\n",
    "#Round must be put in as an integer here!"
   ]
  },
  {
   "cell_type": "code",
   "execution_count": 77,
   "metadata": {
    "collapsed": true
   },
   "outputs": [],
   "source": [
    "r2_ss_import.to_csv('2018_TestFiles_from2017/SS_import_R2_with_heats.csv', index=False)"
   ]
  },
  {
   "cell_type": "code",
   "execution_count": 96,
   "metadata": {},
   "outputs": [
    {
     "data": {
      "text/html": [
       "<div>\n",
       "<style>\n",
       "    .dataframe thead tr:only-child th {\n",
       "        text-align: right;\n",
       "    }\n",
       "\n",
       "    .dataframe thead th {\n",
       "        text-align: left;\n",
       "    }\n",
       "\n",
       "    .dataframe tbody tr th {\n",
       "        vertical-align: top;\n",
       "    }\n",
       "</style>\n",
       "<table border=\"1\" class=\"dataframe\">\n",
       "  <thead>\n",
       "    <tr style=\"text-align: right;\">\n",
       "      <th></th>\n",
       "      <th>OE0001</th>\n",
       "      <th>Stno</th>\n",
       "      <th>XStno</th>\n",
       "      <th>Chipno</th>\n",
       "      <th>Database Id</th>\n",
       "      <th>Surname</th>\n",
       "      <th>First name</th>\n",
       "      <th>YB</th>\n",
       "      <th>S</th>\n",
       "      <th>Block</th>\n",
       "      <th>...</th>\n",
       "      <th>EMail</th>\n",
       "      <th>Rented</th>\n",
       "      <th>Start fee</th>\n",
       "      <th>Paid</th>\n",
       "      <th>Team</th>\n",
       "      <th>Course no.</th>\n",
       "      <th>Course</th>\n",
       "      <th>km</th>\n",
       "      <th>m</th>\n",
       "      <th>Course controls</th>\n",
       "    </tr>\n",
       "  </thead>\n",
       "  <tbody>\n",
       "    <tr>\n",
       "      <th>2</th>\n",
       "      <td>NaN</td>\n",
       "      <td>1004</td>\n",
       "      <td>NaN</td>\n",
       "      <td>2092232</td>\n",
       "      <td>4</td>\n",
       "      <td>Brady</td>\n",
       "      <td>Sherri</td>\n",
       "      <td>NaN</td>\n",
       "      <td>F</td>\n",
       "      <td>NaN</td>\n",
       "      <td>...</td>\n",
       "      <td>NaN</td>\n",
       "      <td>NaN</td>\n",
       "      <td>0</td>\n",
       "      <td>X</td>\n",
       "      <td>NaN</td>\n",
       "      <td>NaN</td>\n",
       "      <td>NaN</td>\n",
       "      <td>NaN</td>\n",
       "      <td>NaN</td>\n",
       "      <td>NaN</td>\n",
       "    </tr>\n",
       "    <tr>\n",
       "      <th>6</th>\n",
       "      <td>NaN</td>\n",
       "      <td>1010</td>\n",
       "      <td>NaN</td>\n",
       "      <td>1402428</td>\n",
       "      <td>10</td>\n",
       "      <td>Caulfield</td>\n",
       "      <td>Rachel</td>\n",
       "      <td>NaN</td>\n",
       "      <td>F</td>\n",
       "      <td>NaN</td>\n",
       "      <td>...</td>\n",
       "      <td>NaN</td>\n",
       "      <td>NaN</td>\n",
       "      <td>0</td>\n",
       "      <td>X</td>\n",
       "      <td>NaN</td>\n",
       "      <td>NaN</td>\n",
       "      <td>NaN</td>\n",
       "      <td>NaN</td>\n",
       "      <td>NaN</td>\n",
       "      <td>NaN</td>\n",
       "    </tr>\n",
       "    <tr>\n",
       "      <th>15</th>\n",
       "      <td>NaN</td>\n",
       "      <td>1023</td>\n",
       "      <td>NaN</td>\n",
       "      <td>1302562</td>\n",
       "      <td>23</td>\n",
       "      <td>Gordeeva</td>\n",
       "      <td>Anastasiya</td>\n",
       "      <td>NaN</td>\n",
       "      <td>F</td>\n",
       "      <td>NaN</td>\n",
       "      <td>...</td>\n",
       "      <td>NaN</td>\n",
       "      <td>NaN</td>\n",
       "      <td>0</td>\n",
       "      <td>X</td>\n",
       "      <td>NaN</td>\n",
       "      <td>NaN</td>\n",
       "      <td>NaN</td>\n",
       "      <td>NaN</td>\n",
       "      <td>NaN</td>\n",
       "      <td>NaN</td>\n",
       "    </tr>\n",
       "    <tr>\n",
       "      <th>39</th>\n",
       "      <td>NaN</td>\n",
       "      <td>1058</td>\n",
       "      <td>NaN</td>\n",
       "      <td>2053405</td>\n",
       "      <td>58</td>\n",
       "      <td>Waterhouse</td>\n",
       "      <td>Tim</td>\n",
       "      <td>NaN</td>\n",
       "      <td>M</td>\n",
       "      <td>NaN</td>\n",
       "      <td>...</td>\n",
       "      <td>NaN</td>\n",
       "      <td>NaN</td>\n",
       "      <td>0</td>\n",
       "      <td>X</td>\n",
       "      <td>NaN</td>\n",
       "      <td>NaN</td>\n",
       "      <td>NaN</td>\n",
       "      <td>NaN</td>\n",
       "      <td>NaN</td>\n",
       "      <td>NaN</td>\n",
       "    </tr>\n",
       "    <tr>\n",
       "      <th>42</th>\n",
       "      <td>NaN</td>\n",
       "      <td>1061</td>\n",
       "      <td>NaN</td>\n",
       "      <td>1391714</td>\n",
       "      <td>61</td>\n",
       "      <td>Woods</td>\n",
       "      <td>Joanne</td>\n",
       "      <td>NaN</td>\n",
       "      <td>F</td>\n",
       "      <td>NaN</td>\n",
       "      <td>...</td>\n",
       "      <td>NaN</td>\n",
       "      <td>NaN</td>\n",
       "      <td>0</td>\n",
       "      <td>X</td>\n",
       "      <td>NaN</td>\n",
       "      <td>NaN</td>\n",
       "      <td>NaN</td>\n",
       "      <td>NaN</td>\n",
       "      <td>NaN</td>\n",
       "      <td>NaN</td>\n",
       "    </tr>\n",
       "    <tr>\n",
       "      <th>49</th>\n",
       "      <td>NaN</td>\n",
       "      <td>1071</td>\n",
       "      <td>NaN</td>\n",
       "      <td>2025780</td>\n",
       "      <td>71</td>\n",
       "      <td>Ferguson</td>\n",
       "      <td>Matthew</td>\n",
       "      <td>NaN</td>\n",
       "      <td>M</td>\n",
       "      <td>NaN</td>\n",
       "      <td>...</td>\n",
       "      <td>NaN</td>\n",
       "      <td>NaN</td>\n",
       "      <td>0</td>\n",
       "      <td>X</td>\n",
       "      <td>NaN</td>\n",
       "      <td>NaN</td>\n",
       "      <td>NaN</td>\n",
       "      <td>NaN</td>\n",
       "      <td>NaN</td>\n",
       "      <td>NaN</td>\n",
       "    </tr>\n",
       "  </tbody>\n",
       "</table>\n",
       "<p>6 rows × 57 columns</p>\n",
       "</div>"
      ],
      "text/plain": [
       "    OE0001  Stno  XStno   Chipno  Database Id     Surname  First name  YB  S  \\\n",
       "2      NaN  1004    NaN  2092232            4       Brady      Sherri NaN  F   \n",
       "6      NaN  1010    NaN  1402428           10   Caulfield      Rachel NaN  F   \n",
       "15     NaN  1023    NaN  1302562           23    Gordeeva  Anastasiya NaN  F   \n",
       "39     NaN  1058    NaN  2053405           58  Waterhouse         Tim NaN  M   \n",
       "42     NaN  1061    NaN  1391714           61       Woods      Joanne NaN  F   \n",
       "49     NaN  1071    NaN  2025780           71    Ferguson     Matthew NaN  M   \n",
       "\n",
       "    Block       ...         EMail  Rented  Start fee  Paid  Team  Course no.  \\\n",
       "2     NaN       ...           NaN     NaN          0     X   NaN         NaN   \n",
       "6     NaN       ...           NaN     NaN          0     X   NaN         NaN   \n",
       "15    NaN       ...           NaN     NaN          0     X   NaN         NaN   \n",
       "39    NaN       ...           NaN     NaN          0     X   NaN         NaN   \n",
       "42    NaN       ...           NaN     NaN          0     X   NaN         NaN   \n",
       "49    NaN       ...           NaN     NaN          0     X   NaN         NaN   \n",
       "\n",
       "    Course  km   m  Course controls  \n",
       "2      NaN NaN NaN              NaN  \n",
       "6      NaN NaN NaN              NaN  \n",
       "15     NaN NaN NaN              NaN  \n",
       "39     NaN NaN NaN              NaN  \n",
       "42     NaN NaN NaN              NaN  \n",
       "49     NaN NaN NaN              NaN  \n",
       "\n",
       "[6 rows x 57 columns]"
      ]
     },
     "execution_count": 96,
     "metadata": {},
     "output_type": "execute_result"
    }
   ],
   "source": [
    "r2_ss_import[r2_ss_import['Long']=='Heat 202']"
   ]
  },
  {
   "cell_type": "markdown",
   "metadata": {
    "collapsed": true
   },
   "source": [
    "## Round 2"
   ]
  },
  {
   "cell_type": "markdown",
   "metadata": {},
   "source": [
    "#### Import and process the results from Round 2\n",
    "\n",
    "- Use the CSV results pulled from SportSoftware\n",
    "- Address any ties, mp's, dnf's, and dns's as shown below"
   ]
  },
  {
   "cell_type": "code",
   "execution_count": 78,
   "metadata": {},
   "outputs": [
    {
     "name": "stdout",
     "output_type": "stream",
     "text": [
      "<class 'pandas.core.frame.DataFrame'>\n",
      "RangeIndex: 56 entries, 0 to 55\n",
      "Data columns (total 4 columns):\n",
      "Surname       56 non-null object\n",
      "First_name    56 non-null object\n",
      "Time          56 non-null object\n",
      "Heat          56 non-null int64\n",
      "dtypes: int64(1), object(3)\n",
      "memory usage: 1.8+ KB\n"
     ]
    }
   ],
   "source": [
    "r2_results = sart18_56.clean_results_csv('2018_TestFiles_from2017/R2_EdmondsCC_Results.csv')\n",
    "r2_results.sort_values(by='Heat', inplace=True)\n",
    "\n",
    "r2_results.reset_index(inplace=True, drop=True) #not required for actual event; necessary due to way test file was edited to support test\n",
    "\n",
    "r2_results.info()"
   ]
  },
  {
   "cell_type": "code",
   "execution_count": 89,
   "metadata": {},
   "outputs": [
    {
     "data": {
      "text/html": [
       "<div>\n",
       "<style>\n",
       "    .dataframe thead tr:only-child th {\n",
       "        text-align: right;\n",
       "    }\n",
       "\n",
       "    .dataframe thead th {\n",
       "        text-align: left;\n",
       "    }\n",
       "\n",
       "    .dataframe tbody tr th {\n",
       "        vertical-align: top;\n",
       "    }\n",
       "</style>\n",
       "<table border=\"1\" class=\"dataframe\">\n",
       "  <thead>\n",
       "    <tr style=\"text-align: right;\">\n",
       "      <th></th>\n",
       "      <th>Surname</th>\n",
       "      <th>First_name</th>\n",
       "      <th>Time</th>\n",
       "      <th>Heat</th>\n",
       "    </tr>\n",
       "  </thead>\n",
       "  <tbody>\n",
       "    <tr>\n",
       "      <th>12</th>\n",
       "      <td>Jensen</td>\n",
       "      <td>Rebecca</td>\n",
       "      <td>0:19:23</td>\n",
       "      <td>204</td>\n",
       "    </tr>\n",
       "    <tr>\n",
       "      <th>13</th>\n",
       "      <td>Tarry</td>\n",
       "      <td>Stephen</td>\n",
       "      <td>0:22:41</td>\n",
       "      <td>204</td>\n",
       "    </tr>\n",
       "  </tbody>\n",
       "</table>\n",
       "</div>"
      ],
      "text/plain": [
       "   Surname First_name     Time  Heat\n",
       "12  Jensen    Rebecca  0:19:23   204\n",
       "13   Tarry    Stephen  0:22:41   204"
      ]
     },
     "execution_count": 89,
     "metadata": {},
     "output_type": "execute_result"
    }
   ],
   "source": [
    "r2_results[r2_results['Heat']==204]"
   ]
  },
  {
   "cell_type": "code",
   "execution_count": 82,
   "metadata": {
    "collapsed": true
   },
   "outputs": [],
   "source": [
    "#break ties:\n",
    "\n",
    "#Format: r1_results.loc['67', ['Time']] = '17:19.5'\n",
    "\n",
    "#Set high times to drive mp and dnfs to last seeds:\n",
    "\n",
    "#Tom Herrnstein, mp\n",
    "r2_results.loc[45, ['Time']] = '55:10'\n",
    "\n",
    "#Bruce C, mp\n",
    "r2_results.loc[46, ['Time']] = '55:20'\n",
    "\n",
    "#Don H, dsq olive green\n",
    "r2_results.loc[26, ['Time']] = '55:30'"
   ]
  },
  {
   "cell_type": "markdown",
   "metadata": {},
   "source": [
    "DONT NEED FOR TEST\n",
    "\n",
    "#Added dns's\n",
    "r2_results.loc['76', ['Surname']] = 'Gusiatnikov'\n",
    "r2_results.loc['76', ['First_name']] = 'Vladimir'\n",
    "r2_results.loc['76', ['Time']] = '59:10'\n",
    "r2_results.loc['76', ['Heat']] = 202 #get heat from bracket_df\n",
    "\n",
    "r2_results.loc['77', ['Surname']] = 'Hopkins'\n",
    "r2_results.loc['77', ['First_name']] = 'Kyle'\n",
    "r2_results.loc['77', ['Time']] = '59:20'\n",
    "r2_results.loc['77', ['Heat']] = 204 #get heat from bracket_df\n",
    "\n",
    "r2_results.loc['78', ['Surname']] = 'Smith'\n",
    "r2_results.loc['78', ['First_name']] = 'Ben'\n",
    "r2_results.loc['78', ['Time']] = '59:30'\n",
    "r2_results.loc['78', ['Heat']] = 210 #get heat from bracket_df\n",
    "\n",
    "r2_results.loc['79', ['Surname']] = 'Ratliff'\n",
    "r2_results.loc['79', ['First_name']] = 'Hayden'\n",
    "r2_results.loc['79', ['Time']] = '59:40'\n",
    "r2_results.loc['79', ['Heat']] = 206 #get heat from bracket_df"
   ]
  },
  {
   "cell_type": "markdown",
   "metadata": {},
   "source": [
    "#### Assign next round heats\n",
    "- This populates the results from Round 1 in the Bracket DF as appropriate based on processing method for this bracket / tournament\n",
    "- Results in each person being assigned to their appropriate next heat"
   ]
  },
  {
   "cell_type": "code",
   "execution_count": 83,
   "metadata": {},
   "outputs": [
    {
     "name": "stdout",
     "output_type": "stream",
     "text": [
      "No Ties, proceeding with next heat assignments!\n",
      "No Ties, proceeding with next heat assignments!\n",
      "No Ties, proceeding with next heat assignments!\n",
      "No Ties, proceeding with next heat assignments!\n",
      "No Ties, proceeding with next heat assignments!\n",
      "No Ties, proceeding with next heat assignments!\n"
     ]
    }
   ],
   "source": [
    "sart18_56.nxt_ht_assigns(r2_results, 2)"
   ]
  },
  {
   "cell_type": "code",
   "execution_count": 86,
   "metadata": {},
   "outputs": [
    {
     "data": {
      "text/html": [
       "<div>\n",
       "<style>\n",
       "    .dataframe thead tr:only-child th {\n",
       "        text-align: right;\n",
       "    }\n",
       "\n",
       "    .dataframe thead th {\n",
       "        text-align: left;\n",
       "    }\n",
       "\n",
       "    .dataframe tbody tr th {\n",
       "        vertical-align: top;\n",
       "    }\n",
       "</style>\n",
       "<table border=\"1\" class=\"dataframe\">\n",
       "  <thead>\n",
       "    <tr style=\"text-align: right;\">\n",
       "      <th></th>\n",
       "      <th>Round</th>\n",
       "      <th>Nxt_Heat</th>\n",
       "      <th>First_name</th>\n",
       "      <th>Surname</th>\n",
       "      <th>Time</th>\n",
       "      <th>Nxt_Heat_Time</th>\n",
       "    </tr>\n",
       "    <tr>\n",
       "      <th>Seed</th>\n",
       "      <th></th>\n",
       "      <th></th>\n",
       "      <th></th>\n",
       "      <th></th>\n",
       "      <th></th>\n",
       "      <th></th>\n",
       "    </tr>\n",
       "  </thead>\n",
       "  <tbody>\n",
       "    <tr>\n",
       "      <th>202/204-Q1</th>\n",
       "      <td>2</td>\n",
       "      <td>Heat 303</td>\n",
       "      <td>Stephen</td>\n",
       "      <td>Tarry</td>\n",
       "      <td>0:22:41</td>\n",
       "      <td>4:21pm</td>\n",
       "    </tr>\n",
       "    <tr>\n",
       "      <th>202/204-Q2</th>\n",
       "      <td>2</td>\n",
       "      <td>Heat 303</td>\n",
       "      <td>Matthew</td>\n",
       "      <td>Ferguson</td>\n",
       "      <td>0:25:14</td>\n",
       "      <td>4:21pm</td>\n",
       "    </tr>\n",
       "    <tr>\n",
       "      <th>202/204-Q3</th>\n",
       "      <td>2</td>\n",
       "      <td>Heat 303</td>\n",
       "      <td>NaN</td>\n",
       "      <td>NaN</td>\n",
       "      <td>NaN</td>\n",
       "      <td>4:21pm</td>\n",
       "    </tr>\n",
       "    <tr>\n",
       "      <th>202/204-Q4</th>\n",
       "      <td>2</td>\n",
       "      <td>Heat 303</td>\n",
       "      <td>NaN</td>\n",
       "      <td>NaN</td>\n",
       "      <td>NaN</td>\n",
       "      <td>4:21pm</td>\n",
       "    </tr>\n",
       "    <tr>\n",
       "      <th>W202</th>\n",
       "      <td>2</td>\n",
       "      <td>Heat 303</td>\n",
       "      <td>Sherri</td>\n",
       "      <td>Brady</td>\n",
       "      <td>0:22:23</td>\n",
       "      <td>4:21pm</td>\n",
       "    </tr>\n",
       "    <tr>\n",
       "      <th>W204</th>\n",
       "      <td>2</td>\n",
       "      <td>Heat 303</td>\n",
       "      <td>Rebecca</td>\n",
       "      <td>Jensen</td>\n",
       "      <td>0:19:23</td>\n",
       "      <td>4:21pm</td>\n",
       "    </tr>\n",
       "  </tbody>\n",
       "</table>\n",
       "</div>"
      ],
      "text/plain": [
       "           Round  Nxt_Heat First_name   Surname     Time Nxt_Heat_Time\n",
       "Seed                                                                  \n",
       "202/204-Q1     2  Heat 303    Stephen     Tarry  0:22:41        4:21pm\n",
       "202/204-Q2     2  Heat 303    Matthew  Ferguson  0:25:14        4:21pm\n",
       "202/204-Q3     2  Heat 303        NaN       NaN      NaN        4:21pm\n",
       "202/204-Q4     2  Heat 303        NaN       NaN      NaN        4:21pm\n",
       "W202           2  Heat 303     Sherri     Brady  0:22:23        4:21pm\n",
       "W204           2  Heat 303    Rebecca    Jensen  0:19:23        4:21pm"
      ]
     },
     "execution_count": 86,
     "metadata": {},
     "output_type": "execute_result"
    }
   ],
   "source": [
    "#visual for example purposes:\n",
    "sart18_56.bracket_df[sart18_56.bracket_df['Nxt_Heat'] == 'Heat 303']\n",
    "\n",
    "#Test Note: NANs exist because test is not perfect (results from last year have people in diff heats than test would put them)"
   ]
  },
  {
   "cell_type": "markdown",
   "metadata": {},
   "source": [
    "#### Print the .txt file with next heat assignments for use in handing out heat assignment info"
   ]
  },
  {
   "cell_type": "code",
   "execution_count": 97,
   "metadata": {
    "collapsed": true
   },
   "outputs": [],
   "source": [
    "print(*sart18_56.print_heat_assigns(3), sep='\\n', file = open(\"2018_TestFiles_from2017/R3_heat_assigns.txt\", 'w'))"
   ]
  },
  {
   "cell_type": "markdown",
   "metadata": {},
   "source": [
    "#### Process the next round CSV for import to SportSoftware with correct heat assignments\n",
    "- This function pulls in the existing CSV, updates the heat assignments, and then in the following line exports a new CSV with those new assignments"
   ]
  },
  {
   "cell_type": "code",
   "execution_count": null,
   "metadata": {
    "collapsed": true
   },
   "outputs": [],
   "source": [
    "r3_ss_import = sart17.assign_nxt_ht_to_ss_import_csv('2017_event_files/EntryForOE-R03-LynnwoodGolf-preevent.csv', 2)\n",
    "#Round must be put in as an integer here!"
   ]
  },
  {
   "cell_type": "code",
   "execution_count": null,
   "metadata": {
    "collapsed": true
   },
   "outputs": [],
   "source": [
    "r3_ss_import.to_csv('2017_event_files/SS_import_R3_with_heats.csv', index=False)"
   ]
  },
  {
   "cell_type": "markdown",
   "metadata": {},
   "source": [
    "## Round 3"
   ]
  },
  {
   "cell_type": "markdown",
   "metadata": {},
   "source": [
    "#### Import and process the results from Round 3\n",
    "\n",
    "- Use the CSV results pulled from SportSoftware\n",
    "- Address any ties, mp's, dnf's, and dns's as shown below"
   ]
  },
  {
   "cell_type": "code",
   "execution_count": null,
   "metadata": {},
   "outputs": [],
   "source": [
    "r3_results = sart17.clean_results_csv('2017_event_files/R3_LynnwoodGolf_Results.csv')\n",
    "r3_results.sort_values(by='Heat', inplace=True)\n",
    "\n",
    "r3_results.info()\n"
   ]
  },
  {
   "cell_type": "code",
   "execution_count": null,
   "metadata": {
    "collapsed": true
   },
   "outputs": [],
   "source": [
    "#break ties:\n",
    "#no ties to break\n",
    "\n",
    "#Set high times to drive mp and dnfs to last seeds:\n",
    "\n",
    "#Don Haliburton, mp\n",
    "r3_results.loc['13', ['Time']] = '55:10'\n",
    "\n",
    "\n",
    "#Add dns's:\n",
    "\n",
    "r3_results.loc['76', ['Surname']] = 'Gusiatnikov'\n",
    "r3_results.loc['76', ['First_name']] = 'Vladimir'\n",
    "r3_results.loc['76', ['Time']] = '59:10'\n",
    "r3_results.loc['76', ['Heat']] = 304 #get heat from bracket_df\n",
    "\n",
    "r3_results.loc['77', ['Surname']] = 'Prior'\n",
    "r3_results.loc['77', ['First_name']] = 'Mark'\n",
    "r3_results.loc['77', ['Time']] = '59:20'\n",
    "r3_results.loc['77', ['Heat']] = 316 #get heat from bracket_df\n",
    "\n",
    "r3_results.loc['78', ['Surname']] = 'Devine'\n",
    "r3_results.loc['78', ['First_name']] = 'Cameron'\n",
    "r3_results.loc['78', ['Time']] = '59:30'\n",
    "r3_results.loc['78', ['Heat']] = 310 #get heat from bracket_df\n",
    "\n",
    "r3_results.loc['79', ['Surname']] = 'Ratliff'\n",
    "r3_results.loc['79', ['First_name']] = 'Hayden'\n",
    "r3_results.loc['79', ['Time']] = '59:40'\n",
    "r3_results.loc['79', ['Heat']] = 303 #get heat from bracket_df"
   ]
  },
  {
   "cell_type": "markdown",
   "metadata": {},
   "source": [
    "#### Assign next round heats\n",
    "- This populates the results from Round 1 in the Bracket DF as appropriate based on processing method for this bracket / tournament\n",
    "- Results in each person being assigned to their appropriate next heat"
   ]
  },
  {
   "cell_type": "code",
   "execution_count": null,
   "metadata": {},
   "outputs": [],
   "source": [
    "sart17.nxt_ht_assigns(r3_results, 3)\n"
   ]
  },
  {
   "cell_type": "code",
   "execution_count": null,
   "metadata": {},
   "outputs": [],
   "source": [
    "#visual for example purposes:\n",
    "sart17.bracket_df[(sart17.bracket_df['Nxt_Heat'] == 'Heat 411')]\n"
   ]
  },
  {
   "cell_type": "markdown",
   "metadata": {},
   "source": [
    "#### Print the .txt file with next heat assignments for use in handing out heat assignment info"
   ]
  },
  {
   "cell_type": "code",
   "execution_count": null,
   "metadata": {
    "collapsed": true
   },
   "outputs": [],
   "source": [
    "print(*sart17.print_heat_assigns(4), sep='\\n', file = open(\"2017_event_files/R4_heat_assigns.txt\", 'w'))"
   ]
  },
  {
   "cell_type": "markdown",
   "metadata": {},
   "source": [
    "#### Process the next round CSV for import to SportSoftware with correct heat assignments\n",
    "- This function pulls in the existing CSV, updates the heat assignments, and then in the following line exports a new CSV with those new assignments"
   ]
  },
  {
   "cell_type": "code",
   "execution_count": null,
   "metadata": {
    "collapsed": true
   },
   "outputs": [],
   "source": [
    "r4_ss_import = sart17.assign_nxt_ht_to_ss_import_csv('2017_event_files/EntryForOE-R04-SouthSeattleColl1-preevent.csv', 3)\n",
    "#Round must be put in as an integer here!"
   ]
  },
  {
   "cell_type": "code",
   "execution_count": null,
   "metadata": {
    "collapsed": true
   },
   "outputs": [],
   "source": [
    "r4_ss_import.to_csv('2017_event_files/SS_import_R4_with_heats.csv', index=False)\n"
   ]
  },
  {
   "cell_type": "markdown",
   "metadata": {},
   "source": [
    "# Round 4"
   ]
  },
  {
   "cell_type": "markdown",
   "metadata": {},
   "source": [
    "#### Import and process the results from Round 4\n",
    "\n",
    "- Use the CSV results pulled from SportSoftware\n",
    "- Address any ties, mp's, dnf's, and dns's as shown below"
   ]
  },
  {
   "cell_type": "code",
   "execution_count": null,
   "metadata": {},
   "outputs": [],
   "source": [
    "r4_results = sart17.clean_results_csv('2017_event_files/R4_SSC1_Results.csv')\n",
    "r4_results.sort_values(by='Heat', inplace=True)\n",
    "\n",
    "r4_results.info()"
   ]
  },
  {
   "cell_type": "code",
   "execution_count": null,
   "metadata": {
    "collapsed": true
   },
   "outputs": [],
   "source": [
    "#break ties:\n",
    "\n",
    "r4_results.loc['70', ['Time']] = '0:13:38'\n",
    "r4_results.loc['74', ['Time']] = '0:13:38.5'\n",
    "\n",
    "\n",
    "#Set high times to drive mp and dnfs to last seeds:\n",
    "\n",
    "r4_results.loc['4', ['Time']] = '55:40' #Lillian B dnf\n",
    "r4_results.loc['3', ['Time']] = '55:35'#Bob F mp\n",
    "r4_results.loc['46', ['Time']] = '55:30' #Kevin M dnf\n",
    "r4_results.loc['12', ['Time']] = '55:25' #Jared H mp\n",
    "r4_results.loc['61', ['Time']] = '55:20' #Sue G mp\n",
    "r4_results.loc['66', ['Time']] = '55:15' #Ott mp\n",
    "r4_results.loc['65', ['Time']] = '55:10' #Tori B mp\n",
    "\n",
    "\n",
    "#Added dns's\n",
    "\n",
    "#Format:\n",
    "r4_results.loc['77', ['Surname']] = 'Gusiatnikov'\n",
    "r4_results.loc['77', ['First_name']] = 'Vladimir'\n",
    "r4_results.loc['77', ['Time']] = '59:10'\n",
    "r4_results.loc['77', ['Heat']] = 402 #get heat from bracket_df\n",
    "\n",
    "r4_results.loc['78', ['Surname']] = 'Ratliff'\n",
    "r4_results.loc['78', ['First_name']] = 'Hayden'\n",
    "r4_results.loc['78', ['Time']] = '59:20'\n",
    "r4_results.loc['78', ['Heat']] = 402 #get heat from bracket_df\n",
    "\n",
    "r4_results.loc['79', ['Surname']] = 'Ferguson'\n",
    "r4_results.loc['79', ['First_name']] = 'Matthew'\n",
    "r4_results.loc['79', ['Time']] = '59:30'\n",
    "r4_results.loc['79', ['Heat']] = 406 #get heat from bracket_df"
   ]
  },
  {
   "cell_type": "markdown",
   "metadata": {},
   "source": [
    "#### Assign next round heats\n",
    "- This populates the results from Round 1 in the Bracket DF as appropriate based on processing method for this bracket / tournament\n",
    "- Results in each person being assigned to their appropriate next heat"
   ]
  },
  {
   "cell_type": "code",
   "execution_count": null,
   "metadata": {},
   "outputs": [],
   "source": [
    "sart17.nxt_ht_assigns(r4_results, 4)"
   ]
  },
  {
   "cell_type": "code",
   "execution_count": null,
   "metadata": {},
   "outputs": [],
   "source": [
    "#visual for example purposes:\n",
    "sart17.bracket_df[(sart17.bracket_df['Nxt_Heat'] == 'Heat 501')]"
   ]
  },
  {
   "cell_type": "markdown",
   "metadata": {},
   "source": [
    "#### Print the .txt file with next heat assignments for use in handing out heat assignment info"
   ]
  },
  {
   "cell_type": "code",
   "execution_count": null,
   "metadata": {
    "collapsed": true
   },
   "outputs": [],
   "source": [
    "print(*sart17.print_heat_assigns(5), sep='\\n', file = open(\"2017_event_files/R5_heat_assigns.txt\", 'w'))"
   ]
  },
  {
   "cell_type": "markdown",
   "metadata": {},
   "source": [
    "#### Process the next round CSV for import to SportSoftware with correct heat assignments\n",
    "- This function pulls in the existing CSV, updates the heat assignments, and then in the following line exports a new CSV with those new assignments"
   ]
  },
  {
   "cell_type": "code",
   "execution_count": null,
   "metadata": {
    "collapsed": true
   },
   "outputs": [],
   "source": [
    "r5_ss_import = sart17.assign_nxt_ht_to_ss_import_csv('2017_event_files/EntryForOE-R05-SouthSeattleColl2-Champs-preevent.csv', 4)\n",
    "#Round must be put in as an integer here!"
   ]
  },
  {
   "cell_type": "code",
   "execution_count": null,
   "metadata": {
    "collapsed": true
   },
   "outputs": [],
   "source": [
    "r5_ss_import.to_csv('2017_event_files/SS_import_R5_with_heats.csv')"
   ]
  },
  {
   "cell_type": "markdown",
   "metadata": {},
   "source": [
    "## Round 5"
   ]
  },
  {
   "cell_type": "markdown",
   "metadata": {},
   "source": [
    "#### Import and process the results from Round 5\n",
    "\n",
    "- Use the CSV results pulled from SportSoftware\n",
    "- Address any ties, mp's, dnf's, and dns's as shown below"
   ]
  },
  {
   "cell_type": "code",
   "execution_count": null,
   "metadata": {
    "collapsed": true
   },
   "outputs": [],
   "source": [
    "r5_results = sart17.clean_results_csv('2017_event_files/R5_SSC2Champs_Results.csv')"
   ]
  },
  {
   "cell_type": "code",
   "execution_count": null,
   "metadata": {},
   "outputs": [],
   "source": [
    "r5_results.info()"
   ]
  },
  {
   "cell_type": "code",
   "execution_count": null,
   "metadata": {
    "collapsed": true
   },
   "outputs": [],
   "source": [
    "r5_results.sort_values(by=['Heat', 'Time'], ascending=[False, True], inplace=True)"
   ]
  },
  {
   "cell_type": "code",
   "execution_count": null,
   "metadata": {
    "collapsed": true
   },
   "outputs": [],
   "source": [
    "r5_results.reset_index(inplace=True, drop=True)\n",
    "r5_results.index += 1"
   ]
  },
  {
   "cell_type": "code",
   "execution_count": null,
   "metadata": {
    "collapsed": true
   },
   "outputs": [],
   "source": [
    "#break ties:\n",
    "#Format: r5_results.loc['11', ['Time']] = '29:45.5' #Jud vs Terry\n",
    "\n",
    "#Set high times to drive mp and dnfs (and disqs) to last seeds:\n",
    "\n",
    "r5_results.loc['4', ['Time']] = '55:00' #Courtney C mp\n",
    "r5_results.loc['17', ['Time']] = '55:10' #Shannon C mp\n",
    "r5_results.loc['22', ['Time']] = '55:20' #Janne M mp\n",
    "r5_results.loc['46', ['Time']] = '55:30' #Christophe mp\n",
    "\n",
    "#Added dns's\n",
    "\n",
    "r5_results.loc['75', ['Surname']] = 'Lee'\n",
    "r5_results.loc['75', ['First_name']] = 'Brandon'\n",
    "r5_results.loc['75', ['Time']] = '59:10'\n",
    "r5_results.loc['75', ['Heat']] = 501 #get heat from bracket_df\n",
    "\n",
    "r5_results.loc['76', ['Surname']] = 'Bakker'\n",
    "r5_results.loc['76', ['First_name']] = 'Lillian'\n",
    "r5_results.loc['76', ['Time']] = '59:20'\n",
    "r5_results.loc['76', ['Heat']] = 501 #get heat from bracket_df\n",
    "\n",
    "r5_results.loc['77', ['Surname']] = 'Gusiatnikov'\n",
    "r5_results.loc['77', ['First_name']] = 'Vladimir'\n",
    "r5_results.loc['77', ['Time']] = '59:30'\n",
    "r5_results.loc['77', ['Heat']] = 501 #get heat from bracket_df\n",
    "\n",
    "r5_results.loc['78', ['Surname']] = 'Ratliff'\n",
    "r5_results.loc['78', ['First_name']] = 'Hayden'\n",
    "r5_results.loc['78', ['Time']] = '59:40'\n",
    "r5_results.loc['78', ['Heat']] = 501 #get heat from bracket_df\n",
    "\n",
    "r5_results.loc['79', ['Surname']] = 'Ferguson'\n",
    "r5_results.loc['79', ['First_name']] = 'Matthew'\n",
    "r5_results.loc['79', ['Time']] = '59:50'\n",
    "r5_results.loc['79', ['Heat']] = 505 #get heat from bracket_df"
   ]
  },
  {
   "cell_type": "markdown",
   "metadata": {},
   "source": [
    "#### print .txt file with final results!"
   ]
  },
  {
   "cell_type": "code",
   "execution_count": null,
   "metadata": {},
   "outputs": [],
   "source": [
    "print(*sart17.print_final_results(r5_results), sep='\\n', file = open(\"2017_event_files/Final_Results.txt\", 'w'))"
   ]
  },
  {
   "cell_type": "code",
   "execution_count": null,
   "metadata": {
    "collapsed": true
   },
   "outputs": [],
   "source": []
  }
 ],
 "metadata": {
  "kernelspec": {
   "display_name": "Python 2",
   "language": "python",
   "name": "python2"
  },
  "language_info": {
   "codemirror_mode": {
    "name": "ipython",
    "version": 2
   },
   "file_extension": ".py",
   "mimetype": "text/x-python",
   "name": "python",
   "nbconvert_exporter": "python",
   "pygments_lexer": "ipython2",
   "version": "2.7.13"
  }
 },
 "nbformat": 4,
 "nbformat_minor": 2
}
