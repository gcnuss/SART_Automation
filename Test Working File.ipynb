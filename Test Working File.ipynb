{
 "cells": [
  {
   "cell_type": "code",
   "execution_count": 5,
   "metadata": {
    "collapsed": true
   },
   "outputs": [],
   "source": [
    "import pandas as pd\n",
    "import numpy as np\n",
    "from collections import defaultdict"
   ]
  },
  {
   "cell_type": "code",
   "execution_count": 48,
   "metadata": {
    "collapsed": true
   },
   "outputs": [],
   "source": [
    "class SART(object):\n",
    "    \n",
    "    def __init__(self, r0_seeds, h_pairs, fd_into_ht_pairs, columns):\n",
    "        self.r0_seeds = r0_seeds\n",
    "        self.h_pairs = h_pairs\n",
    "        self.fd_into_ht_pairs = fd_into_ht_pairs\n",
    "        self.columns = columns\n",
    "        self.h_seed_key = defaultdict(lambda: [], self.r0_seeds)\n",
    "        self.bef_aft_ht_pairs = zip(self.h_pairs, self.fd_into_ht_pairs)\n",
    "        self.sd_h_key = None\n",
    "        self.bracket_df = None\n",
    "        \n",
    "    def _define_ht_sd_keys(self, pri_heat_pair1, pri_heat_pair2, win_heat, lose_heat):\n",
    "        self.h_seed_key['Heat {}'.format(win_heat)].append('W{}'.format(pri_heat_pair1))\n",
    "        self.h_seed_key['Heat {}'.format(win_heat)].append('W{}'.format(pri_heat_pair2))\n",
    "        \n",
    "        for i in range(1,4):\n",
    "            self.h_seed_key['Heat {}'.format(win_heat)].append('{}/{}-Q{}'.format(pri_heat_pair1, pri_heat_pair2, i))\n",
    "            \n",
    "        for i in range(4,9):\n",
    "            self.h_seed_key['Heat {}'.format(lose_heat)].append('{}/{}-Q{}'.format(pri_heat_pair1, pri_heat_pair2, i))\n",
    "    \n",
    "    def _assign_ht_sd_keys(self):\n",
    "        for pri_heats, wn_ls_heats in self.bef_aft_ht_pairs:\n",
    "            pri_heat1 = pri_heats[0]\n",
    "            pri_heat2 = pri_heats[1]\n",
    "            win_ht = wn_ls_heats[0]\n",
    "            lose_ht = wn_ls_heats[1]\n",
    "            self._define_ht_sd_keys(pri_heat1, pri_heat2, win_ht, lose_ht)\n",
    "    \n",
    "    def _assign_flip_sd_ht_keys(self):\n",
    "        self.sd_h_key = {val:key for key, value in self.h_seed_key.iteritems() for i, val in enumerate(value)}\n",
    "    \n",
    "    def prepare_sd_h_keys(self):\n",
    "        self._assign_ht_sd_keys()\n",
    "        self._assign_flip_sd_ht_keys()\n",
    "    \n",
    "    def create_bracket(self):\n",
    "        RH_index = [i for i in self.sd_h_key.keys()]\n",
    "        self.bracket_df = pd.DataFrame(index=RH_index, columns=self.columns)\n",
    "        self.bracket_df.index.name = 'Seed'\n",
    "        \n",
    "        for val in self.bracket_df.index:\n",
    "            self.bracket_df.loc[val,['Nxt_Heat']] = self.sd_h_key[val]\n",
    "            self.bracket_df.loc[val,['Round']] = int(str(self.bracket_df.loc[val,['Nxt_Heat']]).split()[2][0])-1\n",
    "            \n",
    "        self.bracket_df.sort_index(inplace=True)"
   ]
  },
  {
   "cell_type": "code",
   "execution_count": 51,
   "metadata": {},
   "outputs": [],
   "source": [
    "r0_seeds = {'Heat 101': [1, 32, 33, 64, 65], 'Heat 102': [16, 17, 48, 49, 80],\n",
    "    'Heat 103': [8, 25, 40, 57, 72], 'Heat 104': [9, 24, 41, 56, 73],\n",
    "    'Heat 105': [4, 29, 36, 61, 68], 'Heat 106': [13, 20, 45, 52, 77],\n",
    "    'Heat 107': [5, 28, 37, 60, 69], 'Heat 108': [12, 21, 44, 53, 76],\n",
    "    'Heat 109': [2, 31, 34, 63, 66], 'Heat 110': [15, 18, 47, 50, 79],\n",
    "    'Heat 111': [7, 26, 39, 58, 71], 'Heat 112': [10, 23, 42, 55, 74],\n",
    "    'Heat 113': [3, 30, 35, 62, 67], 'Heat 114': [14, 19, 46, 51, 78],\n",
    "    'Heat 115': [6, 27, 38, 59, 70], 'Heat 116': [11, 22, 43, 54, 75]}\n",
    "\n",
    "    #heat pairs round 1 - 4:\n",
    "h_pairs = [(101, 102), (103, 104), (105, 106), (107, 108), (109, 110),\n",
    "    (111, 112), (113, 114), (115, 116), (201, 203), (205, 207), (209, 211),\n",
    "    (213, 215), (202, 204), (206, 208), (210, 212), (214, 216), (301, 302),\n",
    "    (303, 304), (305, 306), (307, 308), (309, 310), (311, 312), (313, 314),\n",
    "    (315, 316), (401, 402), (403, 404), (405, 406), (407, 408), (409, 410),\n",
    "    (411, 412), (413, 414), (415, 416)]\n",
    "\n",
    "    #heat pairs round 2 - 5 that prior round feed into e.g. 101, 102 feed into 201, 202:\n",
    "fd_into_ht_pairs = [(201, 202), (203, 204), (205, 206), (207, 208),\n",
    "    (209, 210), (211, 212), (213, 214), (215, 216), (316, 312), (315, 311),\n",
    "    (314, 310), (313, 309), (308, 304), (307, 303), (306, 302), (305, 301),\n",
    "    (403, 401), (404, 402), (407, 405), (408, 406), (411, 409), (412, 410),\n",
    "    (415, 413), (416, 414), (502, 501), (504, 503), (506, 505), (508, 507),\n",
    "    (510, 509), (512, 511), (514, 513), (516, 515)]\n",
    "\n",
    "    #Bracket columns:\n",
    "columns = ['Round', 'Nxt_Heat', 'First_name', 'Surname', 'Time', 'Nxt_Heat_Time']"
   ]
  },
  {
   "cell_type": "code",
   "execution_count": 52,
   "metadata": {
    "collapsed": true
   },
   "outputs": [],
   "source": [
    "sart_2017 = SART(r0_seeds, h_pairs, fd_into_ht_pairs, columns)"
   ]
  },
  {
   "cell_type": "code",
   "execution_count": 53,
   "metadata": {},
   "outputs": [],
   "source": [
    "sart_2017.prepare_sd_h_keys()"
   ]
  },
  {
   "cell_type": "code",
   "execution_count": 54,
   "metadata": {
    "collapsed": true
   },
   "outputs": [],
   "source": [
    "sart_2017.create_bracket()"
   ]
  },
  {
   "cell_type": "code",
   "execution_count": 56,
   "metadata": {},
   "outputs": [
    {
     "data": {
      "text/html": [
       "<div>\n",
       "<style>\n",
       "    .dataframe thead tr:only-child th {\n",
       "        text-align: right;\n",
       "    }\n",
       "\n",
       "    .dataframe thead th {\n",
       "        text-align: left;\n",
       "    }\n",
       "\n",
       "    .dataframe tbody tr th {\n",
       "        vertical-align: top;\n",
       "    }\n",
       "</style>\n",
       "<table border=\"1\" class=\"dataframe\">\n",
       "  <thead>\n",
       "    <tr style=\"text-align: right;\">\n",
       "      <th></th>\n",
       "      <th>Round</th>\n",
       "      <th>Nxt_Heat</th>\n",
       "      <th>First_name</th>\n",
       "      <th>Surname</th>\n",
       "      <th>Time</th>\n",
       "      <th>Nxt_Heat_Time</th>\n",
       "    </tr>\n",
       "    <tr>\n",
       "      <th>Seed</th>\n",
       "      <th></th>\n",
       "      <th></th>\n",
       "      <th></th>\n",
       "      <th></th>\n",
       "      <th></th>\n",
       "      <th></th>\n",
       "    </tr>\n",
       "  </thead>\n",
       "  <tbody>\n",
       "    <tr>\n",
       "      <th>1</th>\n",
       "      <td>0</td>\n",
       "      <td>Heat 101</td>\n",
       "      <td>NaN</td>\n",
       "      <td>NaN</td>\n",
       "      <td>NaN</td>\n",
       "      <td>NaN</td>\n",
       "    </tr>\n",
       "    <tr>\n",
       "      <th>2</th>\n",
       "      <td>0</td>\n",
       "      <td>Heat 109</td>\n",
       "      <td>NaN</td>\n",
       "      <td>NaN</td>\n",
       "      <td>NaN</td>\n",
       "      <td>NaN</td>\n",
       "    </tr>\n",
       "    <tr>\n",
       "      <th>3</th>\n",
       "      <td>0</td>\n",
       "      <td>Heat 113</td>\n",
       "      <td>NaN</td>\n",
       "      <td>NaN</td>\n",
       "      <td>NaN</td>\n",
       "      <td>NaN</td>\n",
       "    </tr>\n",
       "    <tr>\n",
       "      <th>4</th>\n",
       "      <td>0</td>\n",
       "      <td>Heat 105</td>\n",
       "      <td>NaN</td>\n",
       "      <td>NaN</td>\n",
       "      <td>NaN</td>\n",
       "      <td>NaN</td>\n",
       "    </tr>\n",
       "    <tr>\n",
       "      <th>5</th>\n",
       "      <td>0</td>\n",
       "      <td>Heat 107</td>\n",
       "      <td>NaN</td>\n",
       "      <td>NaN</td>\n",
       "      <td>NaN</td>\n",
       "      <td>NaN</td>\n",
       "    </tr>\n",
       "  </tbody>\n",
       "</table>\n",
       "</div>"
      ],
      "text/plain": [
       "     Round  Nxt_Heat First_name Surname Time Nxt_Heat_Time\n",
       "Seed                                                      \n",
       "1        0  Heat 101        NaN     NaN  NaN           NaN\n",
       "2        0  Heat 109        NaN     NaN  NaN           NaN\n",
       "3        0  Heat 113        NaN     NaN  NaN           NaN\n",
       "4        0  Heat 105        NaN     NaN  NaN           NaN\n",
       "5        0  Heat 107        NaN     NaN  NaN           NaN"
      ]
     },
     "execution_count": 56,
     "metadata": {},
     "output_type": "execute_result"
    }
   ],
   "source": [
    "sart_2017.bracket_df.head()"
   ]
  },
  {
   "cell_type": "code",
   "execution_count": null,
   "metadata": {
    "collapsed": true
   },
   "outputs": [],
   "source": []
  }
 ],
 "metadata": {
  "kernelspec": {
   "display_name": "Python 2",
   "language": "python",
   "name": "python2"
  },
  "language_info": {
   "codemirror_mode": {
    "name": "ipython",
    "version": 2
   },
   "file_extension": ".py",
   "mimetype": "text/x-python",
   "name": "python",
   "nbconvert_exporter": "python",
   "pygments_lexer": "ipython2",
   "version": "2.7.13"
  }
 },
 "nbformat": 4,
 "nbformat_minor": 2
}
