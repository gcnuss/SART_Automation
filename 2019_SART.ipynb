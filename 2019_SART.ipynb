{
 "cells": [
  {
   "cell_type": "markdown",
   "metadata": {},
   "source": [
    "# Initial Event Preparation\n",
    "- Occurs pre-event\n",
    "- Instantiate class and define bracket format via the dictionary and lists of tuples as shown below\n",
    "\n",
    "#### 2019 Bracket Note:\n",
    "Registration is at 69 people for this year's SART.  We will be doing 5 person heats and essentially an 80 person bracket, but combining  heats in the bottom half of the bracket after Round 2 in order to ensure good competition for everyone.  This will result in a full 40 person upper half of the bracket, and full 20 person upper half of the bottom half of the bracket.  The lowest 9 people will be condensed into 2 heats instead of 4 after Round 2, final shuffling up/down will occur in Round 3, and then they will have a combined time score staying in the same heat for Round 4 and 5."
   ]
  },
  {
   "cell_type": "code",
   "execution_count": 17,
   "metadata": {},
   "outputs": [],
   "source": [
    "#Import the SART class - this class contains a set of pre-defined functions used throughout the event.  \n",
    "from SART_Class_v6 import SART\n",
    "\n",
    "#Import the pandas library for working with dataframes in python\n",
    "import pandas as pd"
   ]
  },
  {
   "cell_type": "markdown",
   "metadata": {},
   "source": [
    "### Define Round 0 Seed Assignments for Round 1 Heats\n",
    "\n",
    "- The following dictionary lists the seeds from the time trial that will feed into each round 1 heat.\n",
    "- This is for an 80 person bracket."
   ]
  },
  {
   "cell_type": "code",
   "execution_count": 18,
   "metadata": {
    "collapsed": true
   },
   "outputs": [],
   "source": [
    "#Round 0 seeding assignments for Round 1 Heats:\n",
    "\n",
    "#CURRENTLY SET FOR 74 PEOPLE\n",
    "r0_seeds = {'Heat 101': [1, 32, 33, 64, 65], 'Heat 102': [16, 17, 48, 49],\n",
    "    'Heat 103': [8, 25, 40, 57, 72], 'Heat 104': [9, 24, 41, 56, 73],\n",
    "    'Heat 105': [4, 29, 36, 61, 68], 'Heat 106': [13, 20, 45, 52],\n",
    "    'Heat 107': [5, 28, 37, 60, 69], 'Heat 108': [12, 21, 44, 53],\n",
    "    'Heat 109': [2, 31, 34, 63, 66], 'Heat 110': [15, 18, 47, 50],\n",
    "    'Heat 111': [7, 26, 39, 58, 71], 'Heat 112': [10, 23, 42, 55, 74],\n",
    "    'Heat 113': [3, 30, 35, 62, 67], 'Heat 114': [14, 19, 46, 51],\n",
    "    'Heat 115': [6, 27, 38, 59, 70], 'Heat 116': [11, 22, 43, 54]}"
   ]
  },
  {
   "cell_type": "markdown",
   "metadata": {},
   "source": [
    "#### Define Heat Pairings For Round 1 through Round 5\n",
    "\n",
    "- The following lists of tuples define the pairs of heats that compete against each other in a given round, and the pairs of heats they feed into for the next round\n",
    "- For example: In Round 1 Heat 101 & 102 are paired.  In Round 2, the winners of Heat 101 & 102, and the next two fastest times, move to Heat 201.  The remaining four people from Heats 101 & 102 move to Heat 202.\n",
    "- The current version covers a 74 person bracket, using the logic for an 80 person bracket and then combining the bottom four heats into two heats after Round 2 to maintain larger heat sizes in the bottom of the bracket."
   ]
  },
  {
   "cell_type": "code",
   "execution_count": 19,
   "metadata": {
    "collapsed": true
   },
   "outputs": [],
   "source": [
    "#Heat Pairs - prior heats and feed into heats\n",
    "bef_aft_ht_pairs = [((101, 102), (201, 202)),\n",
    "                     ((103, 104), (203, 204)),\n",
    "                     ((105, 106), (205, 206)),\n",
    "                     ((107, 108), (207, 208)),\n",
    "                     ((109, 110), (209, 210)),\n",
    "                     ((111, 112), (211, 212)),\n",
    "                     ((113, 114), (213, 214)),\n",
    "                     ((115, 116), (215, 216)),\n",
    "                    \n",
    "                     ((201, 203), (301, 302)),\n",
    "                     ((205, 207), (305, 306)),\n",
    "                     ((209, 211), (309, 310)),\n",
    "                     ((213, 215), (313, 314)),\n",
    "                     ((202, 204), (303, 304)),\n",
    "                     ((206, 208), (307, 308)),\n",
    "                     ((210, 212), (311, 304)), #312 moves to 304 for 69-74 people\n",
    "                     ((214, 216), (315, 308)), #316 moves to 308 for 69-74 people\n",
    "                    \n",
    "                     ((301, 305), (416, 414)),\n",
    "                     ((309, 313), (415, 413)),\n",
    "                     ((302, 306), (412, 410)),\n",
    "                     ((310, 314), (411, 409)),\n",
    "                     ((303, 307), (408, 406)),\n",
    "                     ((311, 315), (407, 405)),\n",
    "                     ((304, 308), (404, 402)),\n",
    "                     #((312, 316), (403, 401)), #Remove this line for 69-74 people\n",
    "                    \n",
    "                     ((416, 415), (516, 515)),\n",
    "                     ((414, 413), (514, 513)),\n",
    "                     ((412, 411), (512, 511)),\n",
    "                     ((410, 409), (510, 509)),\n",
    "                     ((408, 407), (508, 507)),\n",
    "                     ((406, 405), (506, 505)),\n",
    "                     ((404, 404), (504, 504)), #403, 503 are empty - same group of 5 - 9 for 404, 504\n",
    "                     ((402, 402), (502, 502))] #401, 501 are empty - same group of 5 - 9 for 402, 502\n",
    "\n",
    "\n",
    "#Note which heats will have up to 9 people\n",
    "combined_heats_R3 = [304, 308]\n",
    "nine_person_heat_R4 = [402]"
   ]
  },
  {
   "cell_type": "markdown",
   "metadata": {},
   "source": [
    "### Define column names for the master bracket dataframe that will be used in this jupyter notebook throughout the event\n",
    "\n",
    "- The definitions from above will be fed into this dataframe to build our format for the event"
   ]
  },
  {
   "cell_type": "code",
   "execution_count": 20,
   "metadata": {
    "collapsed": true
   },
   "outputs": [],
   "source": [
    "#Bracket columns:\n",
    "columns = ['Round', 'Nxt_Heat', 'First_name', 'Surname', 'Time', 'Nxt_Heat_Time']"
   ]
  },
  {
   "cell_type": "markdown",
   "metadata": {},
   "source": [
    "### Define Heat Start Times for Round 1 through Round 5\n",
    "\n",
    "- These start times are used for print outs from this jupyter notebook, which Kathy uses at the start.  You'll still have to define start organization and draw the mass start times in SportSoftware separately."
   ]
  },
  {
   "cell_type": "code",
   "execution_count": 21,
   "metadata": {
    "collapsed": true
   },
   "outputs": [],
   "source": [
    "#Heat start times\n",
    "#Round 1 - 11:15am - 12pm\n",
    "#Round 2 - 2:15 - 3:00pm\n",
    "#Round 3 - 4:15 - 5pm\n",
    "#Round 4 - 9:00 - 9:45am\n",
    "#Round 5 - 11am - 12pm\n",
    "start_times = {'Heat 101': '11:15am',\n",
    "             'Heat 102': '11:18am',\n",
    "             'Heat 103': '11:21am',\n",
    "             'Heat 104': '11:24am',\n",
    "             'Heat 105': '11:27am',\n",
    "             'Heat 106': '11:30am',\n",
    "             'Heat 107': '11:33am',\n",
    "             'Heat 108': '11:36am',\n",
    "             'Heat 109': '11:39am',\n",
    "             'Heat 110': '11:42am',\n",
    "             'Heat 111': '11:45am',\n",
    "             'Heat 112': '11:48am',\n",
    "             'Heat 113': '11:51am',\n",
    "             'Heat 114': '11:54am',\n",
    "             'Heat 115': '11:57am',\n",
    "             'Heat 116': '12:00pm',\n",
    "               \n",
    "             'Heat 201': '2:15pm',\n",
    "             'Heat 202': '2:18pm',\n",
    "             'Heat 203': '2:21pm',\n",
    "             'Heat 204': '2:24pm',\n",
    "             'Heat 205': '2:27pm',\n",
    "             'Heat 206': '2:30pm',\n",
    "             'Heat 207': '2:33pm',\n",
    "             'Heat 208': '2:36pm',\n",
    "             'Heat 209': '2:39pm',\n",
    "             'Heat 210': '2:42pm',\n",
    "             'Heat 211': '2:45pm',\n",
    "             'Heat 212': '2:48pm',\n",
    "             'Heat 213': '2:51pm',\n",
    "             'Heat 214': '2:54pm',\n",
    "             'Heat 215': '2:57pm',\n",
    "             'Heat 216': '3:00pm',\n",
    "               \n",
    "             'Heat 301': '4:15pm',\n",
    "             'Heat 302': '4:18pm',\n",
    "             'Heat 303': '4:21pm',\n",
    "             'Heat 304': '4:24pm',\n",
    "             'Heat 305': '4:27pm',\n",
    "             'Heat 306': '4:30pm',\n",
    "             'Heat 307': '4:33pm',\n",
    "             'Heat 308': '4:36pm',\n",
    "             'Heat 309': '4:39pm',\n",
    "             'Heat 310': '4:42pm',\n",
    "             'Heat 311': '4:45pm',\n",
    "             'Heat 312': '4:48pm',\n",
    "             'Heat 313': '4:51pm',\n",
    "             'Heat 314': '4:54pm',\n",
    "             'Heat 315': '4:57pm',\n",
    "             'Heat 316': '5:00pm',\n",
    "               \n",
    "             'Heat 401': '9:00am',\n",
    "             'Heat 402': '9:03am',\n",
    "             'Heat 403': '9:06am',\n",
    "             'Heat 404': '9:09am',\n",
    "             'Heat 405': '9:12am',\n",
    "             'Heat 406': '9:15am',\n",
    "             'Heat 407': '9:18am',\n",
    "             'Heat 408': '9:21am',\n",
    "             'Heat 409': '9:24am',\n",
    "             'Heat 410': '9:27am',\n",
    "             'Heat 411': '9:30am',\n",
    "             'Heat 412': '9:33am',\n",
    "             'Heat 413': '9:36am',\n",
    "             'Heat 414': '9:39am',\n",
    "             'Heat 415': '9:42am',\n",
    "             'Heat 416': '9:45am',\n",
    "               \n",
    "             'Heat 501': '11:00am',\n",
    "             'Heat 502': '11:03am',\n",
    "             'Heat 503': '11:06am',\n",
    "             'Heat 504': '11:09am',\n",
    "             'Heat 505': '11:12am',\n",
    "             'Heat 506': '11:15am',\n",
    "             'Heat 507': '11:18am',\n",
    "             'Heat 508': '11:21am',\n",
    "             'Heat 509': '11:24am',\n",
    "             'Heat 510': '11:27am',\n",
    "             'Heat 511': '11:30am',\n",
    "             'Heat 512': '11:33am',\n",
    "             'Heat 513': '11:39am',\n",
    "             'Heat 514': '11:45am',\n",
    "             'Heat 515': '11:51am',\n",
    "             'Heat 516': '12:00pm'}"
   ]
  },
  {
   "cell_type": "markdown",
   "metadata": {},
   "source": [
    "### Instantiate Class Instance for sart19"
   ]
  },
  {
   "cell_type": "code",
   "execution_count": 22,
   "metadata": {
    "collapsed": true
   },
   "outputs": [],
   "source": [
    "#This version uses the seed and heat pairing definitions for a 74 person bracket.  \n",
    "#We also feed in the column names and start times defined above.\n",
    "sart19 = SART(r0_seeds, bef_aft_ht_pairs, columns, start_times, combined_heats_R3, nine_person_heat_R4)"
   ]
  },
  {
   "cell_type": "markdown",
   "metadata": {},
   "source": [
    "### Call Functions to prepare the keys for our DataFrame\n",
    "\n",
    "- Using the r0_seeds and before/after heat pairs data\n",
    "- This is done in a few functions behind the scenes for this class\n",
    "- Each key (one for each record in the dataframe) represents a single person within a single round of the tournament\n",
    "- For example: Key W103 is the person who won Heat 103 during Round 1.  Key 103/104-Q1 is the person with the fastest non-winner time from Heat 103 & 104 (which are paired).  So in total, coming out of Heat 103/104 with four person heats, we'd have W103, W104, and 103/104-Q1 through 103/104-Q6."
   ]
  },
  {
   "cell_type": "code",
   "execution_count": 23,
   "metadata": {
    "collapsed": true
   },
   "outputs": [],
   "source": [
    "sart19.prepare_sd_h_keys()"
   ]
  },
  {
   "cell_type": "code",
   "execution_count": 24,
   "metadata": {},
   "outputs": [
    {
     "data": {
      "text/plain": [
       "['206/208-Q4',\n",
       " '206/208-Q5',\n",
       " '206/208-Q6',\n",
       " '214/216-Q4',\n",
       " '214/216-Q5',\n",
       " '214/216-Q6']"
      ]
     },
     "execution_count": 24,
     "metadata": {},
     "output_type": "execute_result"
    }
   ],
   "source": [
    "sart19.h_seed_key['Heat 308']"
   ]
  },
  {
   "cell_type": "markdown",
   "metadata": {},
   "source": [
    "### Create the Bracket DataFrame using all of the defined data from above"
   ]
  },
  {
   "cell_type": "code",
   "execution_count": 25,
   "metadata": {
    "collapsed": true
   },
   "outputs": [],
   "source": [
    "sart19.create_bracket()"
   ]
  },
  {
   "cell_type": "code",
   "execution_count": 26,
   "metadata": {},
   "outputs": [
    {
     "data": {
      "text/html": [
       "<div>\n",
       "<style>\n",
       "    .dataframe thead tr:only-child th {\n",
       "        text-align: right;\n",
       "    }\n",
       "\n",
       "    .dataframe thead th {\n",
       "        text-align: left;\n",
       "    }\n",
       "\n",
       "    .dataframe tbody tr th {\n",
       "        vertical-align: top;\n",
       "    }\n",
       "</style>\n",
       "<table border=\"1\" class=\"dataframe\">\n",
       "  <thead>\n",
       "    <tr style=\"text-align: right;\">\n",
       "      <th></th>\n",
       "      <th>Round</th>\n",
       "      <th>Nxt_Heat</th>\n",
       "      <th>First_name</th>\n",
       "      <th>Surname</th>\n",
       "      <th>Time</th>\n",
       "      <th>Nxt_Heat_Time</th>\n",
       "    </tr>\n",
       "    <tr>\n",
       "      <th>Seed</th>\n",
       "      <th></th>\n",
       "      <th></th>\n",
       "      <th></th>\n",
       "      <th></th>\n",
       "      <th></th>\n",
       "      <th></th>\n",
       "    </tr>\n",
       "  </thead>\n",
       "  <tbody>\n",
       "    <tr>\n",
       "      <th>1</th>\n",
       "      <td>0</td>\n",
       "      <td>Heat 101</td>\n",
       "      <td>NaN</td>\n",
       "      <td>NaN</td>\n",
       "      <td>NaN</td>\n",
       "      <td>11:15am</td>\n",
       "    </tr>\n",
       "    <tr>\n",
       "      <th>2</th>\n",
       "      <td>0</td>\n",
       "      <td>Heat 109</td>\n",
       "      <td>NaN</td>\n",
       "      <td>NaN</td>\n",
       "      <td>NaN</td>\n",
       "      <td>11:39am</td>\n",
       "    </tr>\n",
       "    <tr>\n",
       "      <th>3</th>\n",
       "      <td>0</td>\n",
       "      <td>Heat 113</td>\n",
       "      <td>NaN</td>\n",
       "      <td>NaN</td>\n",
       "      <td>NaN</td>\n",
       "      <td>11:51am</td>\n",
       "    </tr>\n",
       "    <tr>\n",
       "      <th>4</th>\n",
       "      <td>0</td>\n",
       "      <td>Heat 105</td>\n",
       "      <td>NaN</td>\n",
       "      <td>NaN</td>\n",
       "      <td>NaN</td>\n",
       "      <td>11:27am</td>\n",
       "    </tr>\n",
       "    <tr>\n",
       "      <th>5</th>\n",
       "      <td>0</td>\n",
       "      <td>Heat 107</td>\n",
       "      <td>NaN</td>\n",
       "      <td>NaN</td>\n",
       "      <td>NaN</td>\n",
       "      <td>11:33am</td>\n",
       "    </tr>\n",
       "  </tbody>\n",
       "</table>\n",
       "</div>"
      ],
      "text/plain": [
       "     Round  Nxt_Heat First_name Surname Time Nxt_Heat_Time\n",
       "Seed                                                      \n",
       "1        0  Heat 101        NaN     NaN  NaN       11:15am\n",
       "2        0  Heat 109        NaN     NaN  NaN       11:39am\n",
       "3        0  Heat 113        NaN     NaN  NaN       11:51am\n",
       "4        0  Heat 105        NaN     NaN  NaN       11:27am\n",
       "5        0  Heat 107        NaN     NaN  NaN       11:33am"
      ]
     },
     "execution_count": 26,
     "metadata": {},
     "output_type": "execute_result"
    }
   ],
   "source": [
    "#This cell shows what our dataframe looks like once created, pre-event.  \n",
    "#The format is all in place, but names and times are blank (will be filled out during the event based on results)\n",
    "sart19.bracket_df.head()"
   ]
  },
  {
   "cell_type": "code",
   "execution_count": 27,
   "metadata": {
    "collapsed": true
   },
   "outputs": [],
   "source": [
    "#Save a copy of the pre-event dataframe to a csv file\n",
    "sart19.bracket_df.to_csv('2019_event_files/PreEvent_Bracket_Dataframe.csv')"
   ]
  },
  {
   "cell_type": "code",
   "execution_count": 28,
   "metadata": {},
   "outputs": [
    {
     "name": "stdout",
     "output_type": "stream",
     "text": [
      "<class 'pandas.core.frame.DataFrame'>\n",
      "Index: 370 entries, 1 to W416\n",
      "Data columns (total 6 columns):\n",
      "Round            370 non-null object\n",
      "Nxt_Heat         370 non-null object\n",
      "First_name       0 non-null object\n",
      "Surname          0 non-null object\n",
      "Time             0 non-null object\n",
      "Nxt_Heat_Time    370 non-null object\n",
      "dtypes: object(6)\n",
      "memory usage: 20.2+ KB\n"
     ]
    }
   ],
   "source": [
    "#Verify the bracket size is as expected in terms of number of records\n",
    "sart19.bracket_df.info()\n",
    "#for a bracket of 74 people and 5 rounds, total s/b 370 and it is"
   ]
  },
  {
   "cell_type": "markdown",
   "metadata": {},
   "source": [
    "# Round 0 - Time Trial"
   ]
  },
  {
   "cell_type": "markdown",
   "metadata": {},
   "source": [
    "### Process the time trial results\n",
    "- Use the CSV results file pulled from SportSoftware\n",
    "- Address any ties, mp's, dnf's, and dns's as shown below"
   ]
  },
  {
   "cell_type": "code",
   "execution_count": null,
   "metadata": {
    "collapsed": true
   },
   "outputs": [],
   "source": [
    "#Using the time trial results csv as an input to the function, process the time trial results into the needed format\n",
    "sart19.process_time_trial_results('2019_event_files/00-GasworksTT/R0_TT_Results.csv')"
   ]
  },
  {
   "cell_type": "code",
   "execution_count": null,
   "metadata": {},
   "outputs": [],
   "source": [
    "#Run this function to check for ties.  The difference in list length tells you how many ties there are.\n",
    "sart19._check_TT_for_ties()"
   ]
  },
  {
   "cell_type": "code",
   "execution_count": null,
   "metadata": {},
   "outputs": [],
   "source": [
    "sart19.tt_df_cleaned.info()"
   ]
  },
  {
   "cell_type": "markdown",
   "metadata": {},
   "source": [
    "### Address any ties, mps, dnfs, and dns's\n",
    "\n",
    "- Currently these steps require some manual adjustment to records in the dataframe\n",
    "- Specific instructions are included in line throughout the next cells\n",
    "\n",
    "First, print the full list of results on the screen and identify what index and seed each person in a tie currently has, and what the maximum index for a starter is.\n",
    "\n",
    "Ties:\n",
    "\n",
    "For example, Stan and Tom tied, so we look them up in the dataframe and see Tom's index is 16 and seed is 17 and Stan's index is 17 and seed is 18.  Checking SportSoftware, per time at go control Stan won the tie break, however he is currently seeded below Tom so we need to swap them by redefining their seeds.  See below for details on the swap.\n",
    "\n",
    "DNSs:\n",
    "\n",
    "If people don't start a round but intend to compete in later rounds, you need to manually add them to the results for the dns round.  Identify the highest index used in the results dataframe, and start assigning DNS's at the next index number.  You'll assign each DNS a time higher than all race finishers to force them to the bottom of the bracket, and manually assign their Seed for Time Trial, or Heat for follow on Rounds.  Refer to a copy of the bracket definition to identify the appropriate Heat they should flow into based on finishing last in their prior heat.\n",
    "\n",
    "MPs and DNFs are similar - identify their index in the results dataframe, then reassign a high time to drive them to the bottom of their heat."
   ]
  },
  {
   "cell_type": "code",
   "execution_count": null,
   "metadata": {},
   "outputs": [],
   "source": [
    "#Print the full results list to gather details:\n",
    "sart19.tt_df_cleaned"
   ]
  },
  {
   "cell_type": "code",
   "execution_count": null,
   "metadata": {
    "collapsed": true
   },
   "outputs": [],
   "source": [
    "#Sort the results by the column \"Seed\" in place to update the existing tt_df_cleaned results dataframe\n",
    "sart19.tt_df_cleaned.sort_values(by='Seed', inplace=True)\n",
    "\n",
    "#FOLLOWING ARE EXAMPLES FROM LAST YEAR - WILL NEED TO REVISE DURING EVENT TO ADDRESS ACTUAL 2019 ITEMS\n",
    "\n",
    "#mp, Olga\n",
    "#no changes needed for this heat - seed already assigned properly (because she was in last place)\n",
    "\n",
    "#Adjust time trial result seeds to break ties based on time at go control (whoever was ahead at the go control):\n",
    "\n",
    "#Stan, Tom\n",
    "#sart19.tt_df_cleaned.loc['17', ['Seed']] = int(17) #call Stan's index and redefine his Seed from 18 to 17\n",
    "#sart19.tt_df_cleaned.loc['16', ['Seed']] = int(18) #call Tom's index and redefine his Seed from 17 to 18\n",
    "#sart19.tt_df_cleaned.loc['16', ['Time']] = '0:10:26.5' #call Tom's index and add a .5 to his time\n",
    "\n",
    "#Christophe, Peter\n",
    "#In this case, the two are already in the right order so no seed change is required.  Just adjust the time.\n",
    "#sart19.tt_df_cleaned.loc['21', ['Time']] = '0:10:39.5' #call Peter's index and add a .5 to his time\n",
    "\n",
    "\n",
    "#Add DNS's\n",
    "#Assign high times to push them to the bottom of the bracket.  Here are some examples from 2018:\n",
    "#sart19.tt_df_cleaned.loc['54', ['Surname']] = 'Roecks' #assign last name to Surname column\n",
    "#sart19.tt_df_cleaned.loc['54', ['First_name']] = 'Marissa' #assign first name to First_name column\n",
    "#sart19.tt_df_cleaned.loc['54', ['Time']] = '0:59:00' #assign high time\n",
    "#sart19.tt_df_cleaned.loc['54', ['Seed']] = int(55) #assign seed\n",
    "\n",
    "#sart19.tt_df_cleaned.loc['55', ['Surname']] = 'Bone'\n",
    "#sart19.tt_df_cleaned.loc['55', ['First_name']] = 'Eric'\n",
    "#sart19.tt_df_cleaned.loc['55', ['Time']] = '0:59:01'\n",
    "#sart19.tt_df_cleaned.loc['55', ['Seed']] = int(56)\n",
    "\n",
    "#sart19.tt_df_cleaned.loc['56', ['Surname']] = 'Chan'\n",
    "#sart19.tt_df_cleaned.loc['56', ['First_name']] = 'Jessie'\n",
    "#sart19.tt_df_cleaned.loc['56', ['Time']] = '0:59:02'\n",
    "#sart19.tt_df_cleaned.loc['56', ['Seed']] = int(57)\n",
    "\n",
    "#sart19.tt_df_cleaned.loc['57', ['Surname']] = 'Warner'\n",
    "#sart19.tt_df_cleaned.loc['57', ['First_name']] = 'Steve'\n",
    "#sart19.tt_df_cleaned.loc['57', ['Time']] = '0:59:03'\n",
    "#sart19.tt_df_cleaned.loc['57', ['Seed']] = int(58)"
   ]
  },
  {
   "cell_type": "code",
   "execution_count": null,
   "metadata": {},
   "outputs": [],
   "source": [
    "#Print full results dataframe again to verify manual changes are as expected\n",
    "sart19.tt_df_cleaned"
   ]
  },
  {
   "cell_type": "markdown",
   "metadata": {},
   "source": [
    "#### Add the time trial results to the Bracket DataFrame Using Seed as Key\n",
    "- Now each person has their Round 1 Heat Assignment since those were already associated with each seed in the Bracket DF"
   ]
  },
  {
   "cell_type": "code",
   "execution_count": null,
   "metadata": {},
   "outputs": [],
   "source": [
    "#Run function to add the cleaned up time trial results to the master bracket dataframe\n",
    "#Note that if you missed any ties, this function will catch them and warn you, and won't add the data to the dataframe\n",
    "sart19.add_time_trial_results()"
   ]
  },
  {
   "cell_type": "code",
   "execution_count": null,
   "metadata": {},
   "outputs": [],
   "source": [
    "#Now we see names and times populated for the Round 0 Seeds, with Nxt_Heat assignments for Round 1\n",
    "sart19.bracket_df.head()"
   ]
  },
  {
   "cell_type": "markdown",
   "metadata": {},
   "source": [
    "#### Print the .txt file with next heat assignments for use in handing out heat assignment info"
   ]
  },
  {
   "cell_type": "code",
   "execution_count": null,
   "metadata": {
    "collapsed": true
   },
   "outputs": [],
   "source": [
    "#This prints the next heat assignments for round 1.\n",
    "#Print 2 copies - one for start chief (Kathy), and one for event director (Eric) to fill out the large vinyl bracket\n",
    "from __future__ import print_function\n",
    "print(*sart19.print_heat_assigns(1), sep='\\n', file = open(\"2019_event_files/01-Woodland1/R1_heat_assigns.txt\", 'w'))"
   ]
  },
  {
   "cell_type": "markdown",
   "metadata": {},
   "source": [
    "#### Process the next round CSV for import to SportSoftware with correct heat assignments\n",
    "- This function pulls in the existing baseline Time Trial CSV created in LostTime, updates the heat assignments for Round 1, and then in the following line exports a new CSV with those new assignments.  For every round you'll use the Time Trial CSV as the baseline to pull into Jupyter Notebook.\n",
    "- This resulting file is what you'll import into SportSoftware to assign heats (i.e. classes in SS) for the next round"
   ]
  },
  {
   "cell_type": "code",
   "execution_count": null,
   "metadata": {
    "collapsed": true
   },
   "outputs": [],
   "source": [
    "#Pull in baseline file and apply next round heat assignments\n",
    "r1_ss_import = sart19.assign_nxt_ht_to_ss_import_csv('2019_event_files/2019SART_RegMaster.csv', 0)\n",
    "#Round must be put in as an integer here!"
   ]
  },
  {
   "cell_type": "code",
   "execution_count": null,
   "metadata": {
    "collapsed": true
   },
   "outputs": [],
   "source": [
    "#Export the revised data to CSV for import to SS\n",
    "r1_ss_import.to_csv('2019_event_files/01-Woodland1/SS_import_R1_with_heats.csv', index=False)"
   ]
  },
  {
   "cell_type": "markdown",
   "metadata": {},
   "source": [
    "## Round 1"
   ]
  },
  {
   "cell_type": "markdown",
   "metadata": {},
   "source": [
    "#### Import and process the results from Round 1\n",
    "\n",
    "- Use the CSV results pulled from SportSoftware\n",
    "- Address any ties, mp's, dnf's, and dns's as shown below"
   ]
  },
  {
   "cell_type": "code",
   "execution_count": null,
   "metadata": {},
   "outputs": [],
   "source": [
    "#Using the R1 results csv as an input to the function, process the results into the needed format\n",
    "r1_results = sart19.clean_results_csv('2019_event_files/01-Woodland1/R1_Woodland1_Results.csv')\n",
    "r1_results.sort_values(by='Heat', inplace=True)\n",
    "\n",
    "#View number of records in the results to assess how many DNS's you may have\n",
    "r1_results.info()"
   ]
  },
  {
   "cell_type": "code",
   "execution_count": null,
   "metadata": {},
   "outputs": [],
   "source": [
    "#Take a look at the results\n",
    "r1_results.head()"
   ]
  },
  {
   "cell_type": "markdown",
   "metadata": {},
   "source": [
    "### Address any ties, mps, dnfs, and dns's\n",
    "\n",
    "- Refer to the detailed instructions provided in the Time Trial section above"
   ]
  },
  {
   "cell_type": "code",
   "execution_count": null,
   "metadata": {
    "collapsed": true
   },
   "outputs": [],
   "source": [
    "#break ties:\n",
    "#none\n",
    "\n",
    "#FOLLOWING ARE EXAMPLES FROM LAST YEAR - WILL NEED TO REVISE DURING EVENT TO ADDRESS ACTUAL 2019 ITEMS\n",
    "\n",
    "\n",
    "\n",
    "#Set high times to drive mp and dnfs to last seeds (make sure to use distinct times to avoid ties!):\n",
    "\n",
    "#Olga mp\n",
    "#r1_results.loc['54', ['Time']] = '59:00'\n",
    "\n",
    "#Stephen mp\n",
    "#r1_results.loc['22', ['Time']] = '59:01'\n",
    "\n",
    "\n",
    "#Insert records for DNS's:\n",
    "#The only difference here relative to the time trial round instructions is that we assign a Heat rather than a Seed\n",
    "#You'll have to look at the bracket definition to identify which heat they should go into based on finishing last in\n",
    "#their prior heat\n",
    "#r1_results.loc[55, ['Surname']] = 'Bone'\n",
    "#r1_results.loc[55, ['First_name']] = 'Eric'\n",
    "#r1_results.loc[55, ['Time']] = '0:59:02'\n",
    "#r1_results.loc[55, ['Heat']] = 104  \n",
    "\n",
    "#r1_results.loc[56, ['Surname']] = 'Chan'\n",
    "#r1_results.loc[56, ['First_name']] = 'Jessie'\n",
    "#r1_results.loc[56, ['Time']] = '0:59:03'\n",
    "#r1_results.loc[56, ['Heat']] = 104\n",
    "\n",
    "#r1_results.loc[57, ['Surname']] = 'Warner'\n",
    "#r1_results.loc[57, ['First_name']] = 'Steve'\n",
    "#r1_results.loc[57, ['Time']] = '0:59:04'\n",
    "#r1_results.loc[57, ['Heat']] = 111"
   ]
  },
  {
   "cell_type": "markdown",
   "metadata": {},
   "source": [
    "#### Assign next round heats\n",
    "- This populates the results from Round 1 in the Bracket DF as appropriate based on processing method for this bracket / tournament\n",
    "- Results in each person being assigned to their appropriate next heat"
   ]
  },
  {
   "cell_type": "code",
   "execution_count": null,
   "metadata": {},
   "outputs": [],
   "source": [
    "#Run function to add Round 1 results to master bracket dataframe and therefore assign next heats as well.\n",
    "#Note that if you missed any ties, this function will catch them and warn you, and won't add the data to the dataframe\n",
    "sart19.nxt_ht_assigns(r1_results, 1)"
   ]
  },
  {
   "cell_type": "code",
   "execution_count": null,
   "metadata": {},
   "outputs": [],
   "source": [
    "#visual for example purposes:\n",
    "sart19.bracket_df[sart19.bracket_df['Nxt_Heat'] == 'Heat 204']"
   ]
  },
  {
   "cell_type": "markdown",
   "metadata": {},
   "source": [
    "#### Print the .txt file with next heat assignments for use in handing out heat assignment info"
   ]
  },
  {
   "cell_type": "code",
   "execution_count": null,
   "metadata": {
    "collapsed": true
   },
   "outputs": [],
   "source": [
    "#This prints the next heat assignments for round 2.\n",
    "#Print 2 copies - one for start chief (Kathy), and one for event director (Eric) to fill out the large vinyl bracket\n",
    "print(*sart19.print_heat_assigns(2), sep='\\n', file = open(\"2019_event_files/02-Woodland2/R2_heat_assigns.txt\", 'w'))"
   ]
  },
  {
   "cell_type": "markdown",
   "metadata": {},
   "source": [
    "#### Process the next round CSV for import to SportSoftware with correct heat assignments\n",
    "- This function pulls in the existing baseline Time Trial CSV created in LostTime, updates the heat assignments for Round 2, and then in the following line exports a new CSV with those new assignments.  For every round you'll use the Time Trial CSV as the baseline to pull into Jupyter Notebook.\n",
    "- This resulting file is what you'll import into SportSoftware to assign heats (i.e. classes in SS) for the next round"
   ]
  },
  {
   "cell_type": "code",
   "execution_count": null,
   "metadata": {
    "collapsed": true
   },
   "outputs": [],
   "source": [
    "#Pull in baseline file and apply next round heat assignments\n",
    "r2_ss_import = sart19.assign_nxt_ht_to_ss_import_csv('2019_event_files/2019SART_RegMaster.csv', 1)\n",
    "#Round must be put in as an integer here!"
   ]
  },
  {
   "cell_type": "code",
   "execution_count": null,
   "metadata": {
    "collapsed": true
   },
   "outputs": [],
   "source": [
    "#Export the revised data to CSV for import to SS\n",
    "r2_ss_import.to_csv('2019_event_files/02-Woodland2/SS_import_R2_with_heats.csv', index=False)"
   ]
  },
  {
   "cell_type": "code",
   "execution_count": null,
   "metadata": {},
   "outputs": [],
   "source": [
    "#Visual for example purposes\n",
    "r2_ss_import[r2_ss_import['Long']=='Heat 208']"
   ]
  },
  {
   "cell_type": "markdown",
   "metadata": {
    "collapsed": true
   },
   "source": [
    "# Round 2"
   ]
  },
  {
   "cell_type": "markdown",
   "metadata": {},
   "source": [
    "#### Import and process the results from Round 2\n",
    "\n",
    "- Use the CSV results pulled from SportSoftware\n",
    "- Address any ties, mp's, dnf's, and dns's as shown below"
   ]
  },
  {
   "cell_type": "code",
   "execution_count": null,
   "metadata": {},
   "outputs": [],
   "source": [
    "#Using the R2 results csv as an input to the function, process the results into the needed format\n",
    "r2_results = sart19.clean_results_csv('2019_event_files/02-Woodland2/R2_Woodland2_Results.csv')\n",
    "r2_results.sort_values(by='Heat', inplace=True)\n",
    "\n",
    "#View number of records in the results to assess how many DNS's you may have\n",
    "r2_results.info()"
   ]
  },
  {
   "cell_type": "code",
   "execution_count": null,
   "metadata": {},
   "outputs": [],
   "source": [
    "#Take a look at the results\n",
    "r2_results[r2_results['Heat']==204]"
   ]
  },
  {
   "cell_type": "markdown",
   "metadata": {},
   "source": [
    "### Address any ties, mps, dnfs, and dns's\n",
    "\n",
    "- Refer to the detailed instructions provided in the Time Trial section above"
   ]
  },
  {
   "cell_type": "code",
   "execution_count": null,
   "metadata": {
    "collapsed": true
   },
   "outputs": [],
   "source": [
    "#FOLLOWING ARE EXAMPLES FROM LAST YEAR - WILL NEED TO REVISE DURING EVENT TO ADDRESS ACTUAL 2019 ITEMS\n",
    "\n",
    "\n",
    "\n",
    "#break ties:\n",
    "#None\n",
    "\n",
    "#Set high times to drive mp and dnfs to last seeds:\n",
    "\n",
    "#Steve W (Aidan) mp\n",
    "#r2_results.loc['17', ['Time']] = '59:00'\n",
    "\n",
    "#Jessie C (Kyle) mp\n",
    "#r2_results.loc['20', ['Time']] = '59:01'\n",
    "\n",
    "#Add DNS's\n",
    "\n",
    "#r2_results.loc[57, ['Surname']] = 'Bone'\n",
    "#r2_results.loc[57, ['First_name']] = 'Eric'\n",
    "#r2_results.loc[57, ['Time']] = '0:59:03'\n",
    "#r2_results.loc[57, ['Heat']] = 204\n",
    "\n",
    "#r2_results.loc[56, ['Surname']] = 'Buchholz'\n",
    "#r2_results.loc[56, ['First_name']] = 'Brett'\n",
    "#r2_results.loc[56, ['Time']] = '0:59:02'\n",
    "#r2_results.loc[56, ['Heat']] = 215\n",
    "\n"
   ]
  },
  {
   "cell_type": "markdown",
   "metadata": {},
   "source": [
    "#### Assign next round heats\n",
    "- This populates the results from Round 1 in the Bracket DF as appropriate based on processing method for this bracket / tournament\n",
    "- Results in each person being assigned to their appropriate next heat"
   ]
  },
  {
   "cell_type": "code",
   "execution_count": null,
   "metadata": {},
   "outputs": [],
   "source": [
    "#Run function to add Round 2 results to master bracket dataframe and therefore assign next heats as well.\n",
    "#Note that if you missed any ties, this function will catch them and warn you, and won't add the data to the dataframe\n",
    "sart19.nxt_ht_assigns(r2_results, 2)"
   ]
  },
  {
   "cell_type": "code",
   "execution_count": null,
   "metadata": {},
   "outputs": [],
   "source": [
    "#visual for example purposes:\n",
    "sart19.bracket_df[sart19.bracket_df['Nxt_Heat'] == 'Heat 303']"
   ]
  },
  {
   "cell_type": "markdown",
   "metadata": {},
   "source": [
    "#### Print the .txt file with next heat assignments for use in handing out heat assignment info"
   ]
  },
  {
   "cell_type": "code",
   "execution_count": null,
   "metadata": {
    "collapsed": true
   },
   "outputs": [],
   "source": [
    "#This prints the next heat assignments for round 3.\n",
    "#Print 2 copies - one for start chief (Kathy), and one for event director (Eric) to fill out the large vinyl bracket\n",
    "print(*sart19.print_heat_assigns(3), sep='\\n', file = open(\"2019_event_files/03-SeattlePacific/R3_heat_assigns.txt\", 'w'))"
   ]
  },
  {
   "cell_type": "markdown",
   "metadata": {},
   "source": [
    "#### Process the next round CSV for import to SportSoftware with correct heat assignments\n",
    "- This function pulls in the existing baseline Time Trial CSV created in LostTime, updates the heat assignments for Round 3, and then in the following line exports a new CSV with those new assignments.  For every round you'll use the Time Trial CSV as the baseline to pull into Jupyter Notebook.\n",
    "- This resulting file is what you'll import into SportSoftware to assign heats (i.e. classes in SS) for the next round"
   ]
  },
  {
   "cell_type": "code",
   "execution_count": null,
   "metadata": {
    "collapsed": true
   },
   "outputs": [],
   "source": [
    "#Pull in baseline file and apply next round heat assignments\n",
    "r3_ss_import = sart19.assign_nxt_ht_to_ss_import_csv('2019_event_files/2019SART_RegMaster.csv', 2)\n",
    "#Round must be put in as an integer here!"
   ]
  },
  {
   "cell_type": "code",
   "execution_count": null,
   "metadata": {
    "collapsed": true
   },
   "outputs": [],
   "source": [
    "#Export the revised data to CSV for import to SS\n",
    "r3_ss_import.to_csv('2019_event_files/03-SeattlePacific/SS_import_R3_with_heats.csv', index=False)"
   ]
  },
  {
   "cell_type": "code",
   "execution_count": null,
   "metadata": {},
   "outputs": [],
   "source": [
    "#Visual for Example Purposes\n",
    "r3_ss_import[r3_ss_import['Long']=='Heat 304']"
   ]
  },
  {
   "cell_type": "markdown",
   "metadata": {},
   "source": [
    "## Round 3"
   ]
  },
  {
   "cell_type": "markdown",
   "metadata": {},
   "source": [
    "#### Import and process the results from Round 3\n",
    "\n",
    "- Use the CSV results pulled from SportSoftware\n",
    "- Address any ties, mp's, dnf's, and dns's as shown below"
   ]
  },
  {
   "cell_type": "code",
   "execution_count": null,
   "metadata": {},
   "outputs": [],
   "source": [
    "#Using the R3 results csv as an input to the function, process the results into the needed format\n",
    "r3_results = sart19.clean_results_csv('2019_event_files/03-SeattlePacific/R3_SeattlePacific_Results.csv')\n",
    "r3_results.sort_values(by='Heat', inplace=True)\n",
    "\n",
    "#View number of records in the results to assess how many DNS's you may have\n",
    "r3_results.info()"
   ]
  },
  {
   "cell_type": "code",
   "execution_count": null,
   "metadata": {
    "collapsed": true
   },
   "outputs": [],
   "source": [
    "r3_results.reset_index(inplace=True, drop=True)"
   ]
  },
  {
   "cell_type": "markdown",
   "metadata": {},
   "source": [
    "### Address any ties, mps, dnfs, and dns's\n",
    "\n",
    "- Refer to the detailed instructions provided in the Time Trial section above"
   ]
  },
  {
   "cell_type": "code",
   "execution_count": null,
   "metadata": {
    "collapsed": true
   },
   "outputs": [],
   "source": [
    "#break ties:\n",
    "\n",
    "#Abra, Peter (sort of - Peter won heat so doesn't matter but need to break tie for code to proceed)\n",
    "\n",
    "#r3_results.loc[47, ['Time']] = '0:25:03.5'\n",
    "\n",
    "#Set high times to drive mp and dnfs to last seeds:\n",
    "\n",
    "#Oyvind, mp\n",
    "#r3_results.loc[24, ['Time']] = '59:00'\n",
    "\n",
    "\n",
    "#Add dns's:\n",
    "\n",
    "#r3_results.loc[57, ['Surname']] = 'Bone'\n",
    "#r3_results.loc[57, ['First_name']] = 'Eric'\n",
    "#r3_results.loc[57, ['Time']] = '0:59:02'\n",
    "#r3_results.loc[57, ['Heat']] = 304\n",
    "\n",
    "#r3_results.loc[56, ['Surname']] = 'Kelley'\n",
    "#r3_results.loc[56, ['First_name']] = 'Jud'\n",
    "#r3_results.loc[56, ['Time']] = '0:59:01'\n",
    "#r3_results.loc[56, ['Heat']] = 304"
   ]
  },
  {
   "cell_type": "markdown",
   "metadata": {},
   "source": [
    "#### Assign next round heats\n",
    "- This populates the results from Round 1 in the Bracket DF as appropriate based on processing method for this bracket / tournament\n",
    "- Results in each person being assigned to their appropriate next heat"
   ]
  },
  {
   "cell_type": "code",
   "execution_count": null,
   "metadata": {},
   "outputs": [],
   "source": [
    "#Run function to add Round 3 results to master bracket dataframe and therefore assign next heats as well.\n",
    "#Note that if you missed any ties, this function will catch them and warn you, and won't add the data to the dataframe\n",
    "sart19.nxt_ht_assigns(r3_results, 3)"
   ]
  },
  {
   "cell_type": "code",
   "execution_count": null,
   "metadata": {},
   "outputs": [],
   "source": [
    "#visual for example purposes:\n",
    "sart19.bracket_df[(sart19.bracket_df['Nxt_Heat'] == 'Heat 406')]\n"
   ]
  },
  {
   "cell_type": "markdown",
   "metadata": {},
   "source": [
    "#### Print the .txt file with next heat assignments for use in handing out heat assignment info"
   ]
  },
  {
   "cell_type": "code",
   "execution_count": null,
   "metadata": {
    "collapsed": true
   },
   "outputs": [],
   "source": [
    "#This prints the next heat assignments for round 4.\n",
    "#Print 2 copies - one for start chief (Kathy), and one for event director (Eric) to fill out the large vinyl bracket\n",
    "print(*sart19.print_heat_assigns(4), sep='\\n', file = open(\"2019_event_files/04_Magnuson1/R4_heat_assigns.txt\", 'w'))"
   ]
  },
  {
   "cell_type": "markdown",
   "metadata": {},
   "source": [
    "#### Process the next round CSV for import to SportSoftware with correct heat assignments\n",
    "- This function pulls in the existing baseline Time Trial CSV created in LostTime, updates the heat assignments for Round 4, and then in the following line exports a new CSV with those new assignments.  For every round you'll use the Time Trial CSV as the baseline to pull into Jupyter Notebook.\n",
    "- This resulting file is what you'll import into SportSoftware to assign heats (i.e. classes in SS) for the next round"
   ]
  },
  {
   "cell_type": "code",
   "execution_count": null,
   "metadata": {
    "collapsed": true
   },
   "outputs": [],
   "source": [
    "#Pull in baseline file and apply next round heat assignments\n",
    "r4_ss_import = sart19.assign_nxt_ht_to_ss_import_csv('2019_event_files/2019SART_RegMaster.csv', 3)\n",
    "#Round must be put in as an integer here!"
   ]
  },
  {
   "cell_type": "code",
   "execution_count": null,
   "metadata": {
    "collapsed": true
   },
   "outputs": [],
   "source": [
    "#Export the revised data to CSV for import to SS\n",
    "r4_ss_import.to_csv('2019_event_files/04_Magnuson1/SS_import_R4_with_heats.csv', index=False)\n"
   ]
  },
  {
   "cell_type": "code",
   "execution_count": null,
   "metadata": {},
   "outputs": [],
   "source": [
    "#Visual for example purposes\n",
    "r4_ss_import[r4_ss_import['Long']=='Heat 406']"
   ]
  },
  {
   "cell_type": "code",
   "execution_count": null,
   "metadata": {
    "collapsed": true
   },
   "outputs": [],
   "source": [
    "#Save a copy of the bracket at the end of Saturday!\n",
    "#Send a copy to Eric if he wants to post progress Saturday night\n",
    "sart19.bracket_df.to_csv('2019_event_files/SART2019_Bracket_EndSaturday.csv')"
   ]
  },
  {
   "cell_type": "markdown",
   "metadata": {},
   "source": [
    "# Round 4"
   ]
  },
  {
   "cell_type": "markdown",
   "metadata": {},
   "source": [
    "#### Import and process the results from Round 4\n",
    "\n",
    "- Use the CSV results pulled from SportSoftware\n",
    "- Address any ties, mp's, dnf's, and dns's as shown below"
   ]
  },
  {
   "cell_type": "code",
   "execution_count": null,
   "metadata": {},
   "outputs": [],
   "source": [
    "#Using the R4 results csv as an input to the function, process the results into the needed format\n",
    "r4_results = sart19.clean_results_csv('2019_event_files/04_Magnuson1/R4_Magnuson1_Results.csv')\n",
    "r4_results.sort_values(by='Heat', inplace=True)\n",
    "\n",
    "#View number of records in the results to assess how many DNS's you may have\n",
    "r4_results.info()"
   ]
  },
  {
   "cell_type": "code",
   "execution_count": null,
   "metadata": {
    "collapsed": true
   },
   "outputs": [],
   "source": [
    "r4_results.reset_index(inplace=True, drop=True)"
   ]
  },
  {
   "cell_type": "code",
   "execution_count": null,
   "metadata": {},
   "outputs": [],
   "source": [
    "#visual for example purposes\n",
    "r4_results[r4_results['Heat']==404]"
   ]
  },
  {
   "cell_type": "code",
   "execution_count": null,
   "metadata": {},
   "outputs": [],
   "source": [
    "#visual for example purposes\n",
    "r4_results.tail()"
   ]
  },
  {
   "cell_type": "code",
   "execution_count": null,
   "metadata": {
    "collapsed": true
   },
   "outputs": [],
   "source": [
    "#You'll only have to execute this cell if you don't export results in the correct format\n",
    "#Example from 2018 - note times above don't have the leading 00's for hours\n",
    "#from datetime import datetime\n",
    "#r4_results['Time'] = r4_results['Time'].apply(lambda x: '00:{}'.format(x))"
   ]
  },
  {
   "cell_type": "markdown",
   "metadata": {
    "collapsed": true
   },
   "source": [
    "### Address any ties, mps, dnfs, and dns's\n",
    "\n",
    "- Refer to the detailed instructions provided in the Time Trial section above"
   ]
  },
  {
   "cell_type": "code",
   "execution_count": null,
   "metadata": {
    "collapsed": true
   },
   "outputs": [],
   "source": [
    "#break ties:\n",
    "\n",
    "#r4_results.loc[47, ['Time']] = '0:13:38'\n",
    "#r4_results.loc[53, ['Time']] = '0:13:38.5'\n",
    "\n",
    "#Added dns's\n",
    "\n",
    "#r4_results.loc[54, ['Surname']] = 'Kelley'\n",
    "#r4_results.loc[54, ['First_name']] = 'Jud'\n",
    "#r4_results.loc[54, ['Time']] = '0:59:01'\n",
    "#r4_results.loc[54, ['Heat']] = 402\n",
    "\n",
    "#r4_results.loc[55, ['Surname']] = 'Breseman'\n",
    "#r4_results.loc[55, ['First_name']] = 'Dana'\n",
    "#r4_results.loc[55, ['Time']] = '0:59:02'\n",
    "#r4_results.loc[55, ['Heat']] = 404\n",
    "\n",
    "#r4_results.loc[56, ['Surname']] = 'Warner'\n",
    "#r4_results.loc[56, ['First_name']] = 'Steve'\n",
    "#r4_results.loc[56, ['Time']] = '0:59:03'\n",
    "#r4_results.loc[56, ['Heat']] = 402\n",
    "\n",
    "#r4_results.loc[57, ['Surname']] = 'Chan'\n",
    "#r4_results.loc[57, ['First_name']] = 'Jessie'\n",
    "#r4_results.loc[57, ['Time']] = '0:59:04'\n",
    "#r4_results.loc[57, ['Heat']] = 404"
   ]
  },
  {
   "cell_type": "markdown",
   "metadata": {},
   "source": [
    "#### Assign next round heats\n",
    "- This populates the results from Round 1 in the Bracket DF as appropriate based on processing method for this bracket / tournament\n",
    "- Results in each person being assigned to their appropriate next heat"
   ]
  },
  {
   "cell_type": "code",
   "execution_count": null,
   "metadata": {},
   "outputs": [],
   "source": [
    "#Run function to add Round 4 results to master bracket dataframe and therefore assign next heats as well.\n",
    "#Note that if you missed any ties, this function will catch them and warn you, and won't add the data to the dataframe\n",
    "sart19.nxt_ht_assigns(r4_results, 4)"
   ]
  },
  {
   "cell_type": "code",
   "execution_count": null,
   "metadata": {},
   "outputs": [],
   "source": [
    "#visual for example purposes:\n",
    "sart19.bracket_df[(sart19.bracket_df['Nxt_Heat'] == 'Heat 504')]"
   ]
  },
  {
   "cell_type": "markdown",
   "metadata": {},
   "source": [
    "#### Print the .txt file with next heat assignments for use in handing out heat assignment info"
   ]
  },
  {
   "cell_type": "code",
   "execution_count": null,
   "metadata": {
    "collapsed": true
   },
   "outputs": [],
   "source": [
    "#This prints the next heat assignments for round 5.\n",
    "#Print 2 copies - one for start chief (Kathy), and one for event director (Eric) to fill out the large vinyl bracket\n",
    "print(*sart19.print_heat_assigns(5), sep='\\n', file = open(\"2019_event_files/05_Magnuson2/R5_heat_assigns.txt\", 'w'))"
   ]
  },
  {
   "cell_type": "markdown",
   "metadata": {},
   "source": [
    "#### Process the next round CSV for import to SportSoftware with correct heat assignments\n",
    "- This function pulls in the existing baseline Time Trial CSV created in LostTime, updates the heat assignments for Round 5, and then in the following line exports a new CSV with those new assignments.  For every round you'll use the Time Trial CSV as the baseline to pull into Jupyter Notebook.\n",
    "- This resulting file is what you'll import into SportSoftware to assign heats (i.e. classes in SS) for the next round"
   ]
  },
  {
   "cell_type": "code",
   "execution_count": null,
   "metadata": {
    "collapsed": true
   },
   "outputs": [],
   "source": [
    "#Pull in baseline file and apply next round heat assignments\n",
    "r5_ss_import = sart19.assign_nxt_ht_to_ss_import_csv('2019_event_files/2019SART_RegMaster.csv', 4)\n",
    "#Round must be put in as an integer here!"
   ]
  },
  {
   "cell_type": "code",
   "execution_count": null,
   "metadata": {
    "collapsed": true
   },
   "outputs": [],
   "source": [
    "#Export the revised data to CSV for import to SS\n",
    "r5_ss_import.to_csv('2019_event_files/05_Magnuson2/SS_import_R5_with_heats.csv')"
   ]
  },
  {
   "cell_type": "code",
   "execution_count": null,
   "metadata": {},
   "outputs": [],
   "source": [
    "#Visual for example purposes\n",
    "r5_ss_import[r5_ss_import['Long']=='Heat 508']"
   ]
  },
  {
   "cell_type": "markdown",
   "metadata": {},
   "source": [
    "## Round 5"
   ]
  },
  {
   "cell_type": "markdown",
   "metadata": {},
   "source": [
    "#### Import and process the results from Round 5\n",
    "\n",
    "- Use the CSV results pulled from SportSoftware\n",
    "- Address any ties, mp's, dnf's, and dns's as shown below"
   ]
  },
  {
   "cell_type": "code",
   "execution_count": null,
   "metadata": {
    "collapsed": true
   },
   "outputs": [],
   "source": [
    "#Using the R5 results csv as an input to the function, process the results into the needed format\n",
    "r5_results = sart19.clean_results_csv('2019_event_files/05_Magnuson2//R5_Magnuson2_Results.csv')"
   ]
  },
  {
   "cell_type": "code",
   "execution_count": null,
   "metadata": {},
   "outputs": [],
   "source": [
    "#View number of records in the results to assess how many DNS's you may have\n",
    "r5_results.info()"
   ]
  },
  {
   "cell_type": "code",
   "execution_count": null,
   "metadata": {
    "collapsed": true
   },
   "outputs": [],
   "source": [
    "#You'll only have to execute this cell if you don't export results in the correct format\n",
    "#Example from 2018 - note times above don't have the leading 00's for hours\n",
    "#r5_results['Time'] = r5_results['Time'].apply(lambda x: '00:{}'.format(x))"
   ]
  },
  {
   "cell_type": "markdown",
   "metadata": {},
   "source": [
    "### Address any ties, mps, dnfs, and dns's\n",
    "\n",
    "- Refer to the detailed instructions provided in the Time Trial section above"
   ]
  },
  {
   "cell_type": "code",
   "execution_count": null,
   "metadata": {
    "collapsed": true
   },
   "outputs": [],
   "source": [
    "#break ties:\n",
    "#None\n",
    "\n",
    "#Set high times to drive mp and dnfs (and disqs) to last seeds:\n",
    "\n",
    "#r5_results.loc['9', ['Time']] = '00:55:00' #Prahkar mp\n",
    "#r5_results.loc['21', ['Time']] = '00:55:10' #Alexander mp\n",
    "#r5_results.loc['24', ['Time']] = '00:55:20' #Rebecca mp\n",
    "#r5_results.loc['25', ['Time']] = '00:55:30' #Christophe mp\n",
    "#r5_results.loc['33', ['Time']] = '00:55:40' #Stan mp\n",
    "#r5_results.loc['48', ['Time']] = '00:55:50' #Ian mp\n",
    "#r5_results.loc['49', ['Time']] = '00:56:00' #Eric J mp\n",
    "#r5_results.loc['5', ['Time']] = '00:56:10' #Richard mp\n",
    "\n",
    "#Added dns's\n",
    "\n",
    "#r5_results.loc[54, ['Surname']] = 'Kelley'\n",
    "#r5_results.loc[54, ['First_name']] = 'Jud'\n",
    "#r5_results.loc[54, ['Time']] = '0:59:01'\n",
    "#r5_results.loc[54, ['Heat']] = 502\n",
    "\n",
    "#r5_results.loc[55, ['Surname']] = 'Breseman'\n",
    "#r5_results.loc[55, ['First_name']] = 'Dana'\n",
    "#r5_results.loc[55, ['Time']] = '0:59:02'\n",
    "#r5_results.loc[55, ['Heat']] = 504\n",
    "\n",
    "#r5_results.loc[56, ['Surname']] = 'Warner'\n",
    "#r5_results.loc[56, ['First_name']] = 'Steve'\n",
    "#r5_results.loc[56, ['Time']] = '0:59:03'\n",
    "#r5_results.loc[56, ['Heat']] = 502\n",
    "\n",
    "#r5_results.loc[57, ['Surname']] = 'Chan'\n",
    "#r5_results.loc[57, ['First_name']] = 'Jessie'\n",
    "#r5_results.loc[57, ['Time']] = '0:59:04'\n",
    "#r5_results.loc[57, ['Heat']] = 504"
   ]
  },
  {
   "cell_type": "code",
   "execution_count": null,
   "metadata": {},
   "outputs": [],
   "source": [
    "r5_results"
   ]
  },
  {
   "cell_type": "markdown",
   "metadata": {},
   "source": [
    "#### print .txt file with final results!"
   ]
  },
  {
   "cell_type": "code",
   "execution_count": null,
   "metadata": {},
   "outputs": [],
   "source": [
    "#This function verifies no ties (or flags them if you missed any), and prints the results for awards\n",
    "#It also calculates the correct places for the combined time bottom heats\n",
    "print(*sart19.print_final_results(r4_results, r5_results), sep='\\n', file = open(\"2019_event_files/Final_Results.txt\", 'w'))"
   ]
  },
  {
   "cell_type": "code",
   "execution_count": null,
   "metadata": {
    "collapsed": true
   },
   "outputs": [],
   "source": [
    "#Save a copy of the final bracket!\n",
    "sart19.bracket_df.to_csv('2019_event_files/SART2019_Bracket_EndofTournament.csv')"
   ]
  },
  {
   "cell_type": "code",
   "execution_count": null,
   "metadata": {
    "collapsed": true
   },
   "outputs": [],
   "source": []
  }
 ],
 "metadata": {
  "kernelspec": {
   "display_name": "Python 2",
   "language": "python",
   "name": "python2"
  },
  "language_info": {
   "codemirror_mode": {
    "name": "ipython",
    "version": 2
   },
   "file_extension": ".py",
   "mimetype": "text/x-python",
   "name": "python",
   "nbconvert_exporter": "python",
   "pygments_lexer": "ipython2",
   "version": "2.7.13"
  }
 },
 "nbformat": 4,
 "nbformat_minor": 2
}
