{
 "cells": [
  {
   "cell_type": "code",
   "execution_count": 2,
   "metadata": {
    "collapsed": true
   },
   "outputs": [],
   "source": [
    "import pandas as pd\n",
    "import numpy as np\n",
    "import matplotlib.pyplot as plt\n",
    "\n",
    "%matplotlib inline"
   ]
  },
  {
   "cell_type": "code",
   "execution_count": 3,
   "metadata": {
    "collapsed": true
   },
   "outputs": [],
   "source": [
    "h_pairs = {101: 102, 103: 104, 105: 106, 107: 108, 109: 110, 111:112, 113: 114, 115: 116, \n",
    "          201: 203, 205: 207, 209: 211, 213: 215, 202: 204, 206: 208, 210: 212, 214: 216, \n",
    "          301: 302, 303: 304, 305: 306, 307: 308, 309: 310, 311: 312, 313: 314, 315: 316,\n",
    "          401: 402, 403: 404, 405: 406, 407: 408, 409: 410, 411: 412, 413: 414, 415: 416}\n",
    "\n",
    "fd_into_ht_pairs = [(201, 202), (203, 204), (205, 206), (207, 208), (209, 210), (211, 212), \n",
    "                    (213, 214), (215, 216), (316, 312), (315, 311), (314, 310), (313, 309), \n",
    "                   (308, 304), (307, 303), (306, 302), (305, 301), (403, 401), (404, 402), \n",
    "                   (407, 405), (408, 406), (411, 409), (412, 410), (415, 413), (416, 414), \n",
    "                   (502, 501), (504, 503), (506, 505), (508, 507), (510, 509), (512, 511), \n",
    "                   (514, 513), (516, 515)]\n",
    "\n",
    "bef_aft_ht_pairs = zip(sorted(zip(h_pairs.keys(), h_pairs.values())), fd_into_ht_pairs)"
   ]
  },
  {
   "cell_type": "code",
   "execution_count": 4,
   "metadata": {},
   "outputs": [
    {
     "data": {
      "text/plain": [
       "((101, 102), (201, 202))"
      ]
     },
     "execution_count": 4,
     "metadata": {},
     "output_type": "execute_result"
    }
   ],
   "source": [
    "bef_aft_ht_pairs[0] #prior heat 1, prior heat 2, win heat, lose heat in that order"
   ]
  },
  {
   "cell_type": "code",
   "execution_count": 5,
   "metadata": {
    "collapsed": true
   },
   "outputs": [],
   "source": [
    "def assign_ht_sd_keys(pri_heat_pair1, pri_heat_pair2, win_heat, lose_heat):\n",
    "    h_seed_key['Heat {}'.format(win_heat)].append('W{}'.format(pri_heat_pair1))\n",
    "    h_seed_key['Heat {}'.format(win_heat)].append('W{}'.format(pri_heat_pair2))\n",
    "    for i in range(1,4):\n",
    "        h_seed_key['Heat {}'.format(win_heat)].append('{}/{}-Q{}'.format(pri_heat_pair1, pri_heat_pair2, i))\n",
    "    for i in range(4,9):\n",
    "        h_seed_key['Heat {}'.format(lose_heat)].append('{}/{}-Q{}'.format(pri_heat_pair1, pri_heat_pair2, i))"
   ]
  },
  {
   "cell_type": "code",
   "execution_count": 6,
   "metadata": {
    "collapsed": true
   },
   "outputs": [],
   "source": [
    "from collections import defaultdict\n",
    "\n",
    "r0_seeds = {'Heat 101': [1, 32, 33, 64, 65], 'Heat 102': [16, 17, 48, 49, 80],\n",
    "             'Heat 103': [8, 25, 40, 57, 72], 'Heat 104': [9, 24, 41, 56, 73],\n",
    "             'Heat 105': [4, 29, 36, 61, 68], 'Heat 106': [13, 20, 45, 52, 77], \n",
    "             'Heat 107': [5, 28, 37, 60, 69], 'Heat 108': [12, 21, 44, 53, 76], \n",
    "             'Heat 109': [2, 31, 34, 63, 66], 'Heat 110': [15, 18, 47, 50, 79],\n",
    "             'Heat 111': [7, 26, 39, 58, 71], 'Heat 112': [10, 23, 42, 55, 74], \n",
    "             'Heat 113': [3, 30, 35, 62, 67], 'Heat 114': [14, 19, 46, 51, 78], \n",
    "             'Heat 115': [6, 27, 38, 59, 70], 'Heat 116': [11, 22, 43, 54, 75]}\n",
    "\n",
    "h_seed_key = defaultdict(lambda: [], r0_seeds)\n",
    "\n",
    "for pri_heats, wn_ls_heats in bef_aft_ht_pairs:\n",
    "    pri_heat1 = pri_heats[0]\n",
    "    pri_heat2 = pri_heats[1]\n",
    "    win_ht = wn_ls_heats[0]\n",
    "    lose_ht = wn_ls_heats[1]\n",
    "    assign_ht_sd_keys(pri_heat1, pri_heat2, win_ht, lose_ht)"
   ]
  },
  {
   "cell_type": "code",
   "execution_count": 7,
   "metadata": {},
   "outputs": [
    {
     "data": {
      "text/plain": [
       "defaultdict(<function __main__.<lambda>>,\n",
       "            {'Heat 101': [1, 32, 33, 64, 65],\n",
       "             'Heat 102': [16, 17, 48, 49, 80],\n",
       "             'Heat 103': [8, 25, 40, 57, 72],\n",
       "             'Heat 104': [9, 24, 41, 56, 73],\n",
       "             'Heat 105': [4, 29, 36, 61, 68],\n",
       "             'Heat 106': [13, 20, 45, 52, 77],\n",
       "             'Heat 107': [5, 28, 37, 60, 69],\n",
       "             'Heat 108': [12, 21, 44, 53, 76],\n",
       "             'Heat 109': [2, 31, 34, 63, 66],\n",
       "             'Heat 110': [15, 18, 47, 50, 79],\n",
       "             'Heat 111': [7, 26, 39, 58, 71],\n",
       "             'Heat 112': [10, 23, 42, 55, 74],\n",
       "             'Heat 113': [3, 30, 35, 62, 67],\n",
       "             'Heat 114': [14, 19, 46, 51, 78],\n",
       "             'Heat 115': [6, 27, 38, 59, 70],\n",
       "             'Heat 116': [11, 22, 43, 54, 75],\n",
       "             'Heat 201': ['W101',\n",
       "              'W102',\n",
       "              '101/102-Q1',\n",
       "              '101/102-Q2',\n",
       "              '101/102-Q3'],\n",
       "             'Heat 202': ['101/102-Q4',\n",
       "              '101/102-Q5',\n",
       "              '101/102-Q6',\n",
       "              '101/102-Q7',\n",
       "              '101/102-Q8'],\n",
       "             'Heat 203': ['W103',\n",
       "              'W104',\n",
       "              '103/104-Q1',\n",
       "              '103/104-Q2',\n",
       "              '103/104-Q3'],\n",
       "             'Heat 204': ['103/104-Q4',\n",
       "              '103/104-Q5',\n",
       "              '103/104-Q6',\n",
       "              '103/104-Q7',\n",
       "              '103/104-Q8'],\n",
       "             'Heat 205': ['W105',\n",
       "              'W106',\n",
       "              '105/106-Q1',\n",
       "              '105/106-Q2',\n",
       "              '105/106-Q3'],\n",
       "             'Heat 206': ['105/106-Q4',\n",
       "              '105/106-Q5',\n",
       "              '105/106-Q6',\n",
       "              '105/106-Q7',\n",
       "              '105/106-Q8'],\n",
       "             'Heat 207': ['W107',\n",
       "              'W108',\n",
       "              '107/108-Q1',\n",
       "              '107/108-Q2',\n",
       "              '107/108-Q3'],\n",
       "             'Heat 208': ['107/108-Q4',\n",
       "              '107/108-Q5',\n",
       "              '107/108-Q6',\n",
       "              '107/108-Q7',\n",
       "              '107/108-Q8'],\n",
       "             'Heat 209': ['W109',\n",
       "              'W110',\n",
       "              '109/110-Q1',\n",
       "              '109/110-Q2',\n",
       "              '109/110-Q3'],\n",
       "             'Heat 210': ['109/110-Q4',\n",
       "              '109/110-Q5',\n",
       "              '109/110-Q6',\n",
       "              '109/110-Q7',\n",
       "              '109/110-Q8'],\n",
       "             'Heat 211': ['W111',\n",
       "              'W112',\n",
       "              '111/112-Q1',\n",
       "              '111/112-Q2',\n",
       "              '111/112-Q3'],\n",
       "             'Heat 212': ['111/112-Q4',\n",
       "              '111/112-Q5',\n",
       "              '111/112-Q6',\n",
       "              '111/112-Q7',\n",
       "              '111/112-Q8'],\n",
       "             'Heat 213': ['W113',\n",
       "              'W114',\n",
       "              '113/114-Q1',\n",
       "              '113/114-Q2',\n",
       "              '113/114-Q3'],\n",
       "             'Heat 214': ['113/114-Q4',\n",
       "              '113/114-Q5',\n",
       "              '113/114-Q6',\n",
       "              '113/114-Q7',\n",
       "              '113/114-Q8'],\n",
       "             'Heat 215': ['W115',\n",
       "              'W116',\n",
       "              '115/116-Q1',\n",
       "              '115/116-Q2',\n",
       "              '115/116-Q3'],\n",
       "             'Heat 216': ['115/116-Q4',\n",
       "              '115/116-Q5',\n",
       "              '115/116-Q6',\n",
       "              '115/116-Q7',\n",
       "              '115/116-Q8'],\n",
       "             'Heat 301': ['214/216-Q4',\n",
       "              '214/216-Q5',\n",
       "              '214/216-Q6',\n",
       "              '214/216-Q7',\n",
       "              '214/216-Q8'],\n",
       "             'Heat 302': ['213/215-Q4',\n",
       "              '213/215-Q5',\n",
       "              '213/215-Q6',\n",
       "              '213/215-Q7',\n",
       "              '213/215-Q8'],\n",
       "             'Heat 303': ['210/212-Q4',\n",
       "              '210/212-Q5',\n",
       "              '210/212-Q6',\n",
       "              '210/212-Q7',\n",
       "              '210/212-Q8'],\n",
       "             'Heat 304': ['209/211-Q4',\n",
       "              '209/211-Q5',\n",
       "              '209/211-Q6',\n",
       "              '209/211-Q7',\n",
       "              '209/211-Q8'],\n",
       "             'Heat 305': ['W214',\n",
       "              'W216',\n",
       "              '214/216-Q1',\n",
       "              '214/216-Q2',\n",
       "              '214/216-Q3'],\n",
       "             'Heat 306': ['W213',\n",
       "              'W215',\n",
       "              '213/215-Q1',\n",
       "              '213/215-Q2',\n",
       "              '213/215-Q3'],\n",
       "             'Heat 307': ['W210',\n",
       "              'W212',\n",
       "              '210/212-Q1',\n",
       "              '210/212-Q2',\n",
       "              '210/212-Q3'],\n",
       "             'Heat 308': ['W209',\n",
       "              'W211',\n",
       "              '209/211-Q1',\n",
       "              '209/211-Q2',\n",
       "              '209/211-Q3'],\n",
       "             'Heat 309': ['206/208-Q4',\n",
       "              '206/208-Q5',\n",
       "              '206/208-Q6',\n",
       "              '206/208-Q7',\n",
       "              '206/208-Q8'],\n",
       "             'Heat 310': ['205/207-Q4',\n",
       "              '205/207-Q5',\n",
       "              '205/207-Q6',\n",
       "              '205/207-Q7',\n",
       "              '205/207-Q8'],\n",
       "             'Heat 311': ['202/204-Q4',\n",
       "              '202/204-Q5',\n",
       "              '202/204-Q6',\n",
       "              '202/204-Q7',\n",
       "              '202/204-Q8'],\n",
       "             'Heat 312': ['201/203-Q4',\n",
       "              '201/203-Q5',\n",
       "              '201/203-Q6',\n",
       "              '201/203-Q7',\n",
       "              '201/203-Q8'],\n",
       "             'Heat 313': ['W206',\n",
       "              'W208',\n",
       "              '206/208-Q1',\n",
       "              '206/208-Q2',\n",
       "              '206/208-Q3'],\n",
       "             'Heat 314': ['W205',\n",
       "              'W207',\n",
       "              '205/207-Q1',\n",
       "              '205/207-Q2',\n",
       "              '205/207-Q3'],\n",
       "             'Heat 315': ['W202',\n",
       "              'W204',\n",
       "              '202/204-Q1',\n",
       "              '202/204-Q2',\n",
       "              '202/204-Q3'],\n",
       "             'Heat 316': ['W201',\n",
       "              'W203',\n",
       "              '201/203-Q1',\n",
       "              '201/203-Q2',\n",
       "              '201/203-Q3'],\n",
       "             'Heat 401': ['301/302-Q4',\n",
       "              '301/302-Q5',\n",
       "              '301/302-Q6',\n",
       "              '301/302-Q7',\n",
       "              '301/302-Q8'],\n",
       "             'Heat 402': ['303/304-Q4',\n",
       "              '303/304-Q5',\n",
       "              '303/304-Q6',\n",
       "              '303/304-Q7',\n",
       "              '303/304-Q8'],\n",
       "             'Heat 403': ['W301',\n",
       "              'W302',\n",
       "              '301/302-Q1',\n",
       "              '301/302-Q2',\n",
       "              '301/302-Q3'],\n",
       "             'Heat 404': ['W303',\n",
       "              'W304',\n",
       "              '303/304-Q1',\n",
       "              '303/304-Q2',\n",
       "              '303/304-Q3'],\n",
       "             'Heat 405': ['305/306-Q4',\n",
       "              '305/306-Q5',\n",
       "              '305/306-Q6',\n",
       "              '305/306-Q7',\n",
       "              '305/306-Q8'],\n",
       "             'Heat 406': ['307/308-Q4',\n",
       "              '307/308-Q5',\n",
       "              '307/308-Q6',\n",
       "              '307/308-Q7',\n",
       "              '307/308-Q8'],\n",
       "             'Heat 407': ['W305',\n",
       "              'W306',\n",
       "              '305/306-Q1',\n",
       "              '305/306-Q2',\n",
       "              '305/306-Q3'],\n",
       "             'Heat 408': ['W307',\n",
       "              'W308',\n",
       "              '307/308-Q1',\n",
       "              '307/308-Q2',\n",
       "              '307/308-Q3'],\n",
       "             'Heat 409': ['309/310-Q4',\n",
       "              '309/310-Q5',\n",
       "              '309/310-Q6',\n",
       "              '309/310-Q7',\n",
       "              '309/310-Q8'],\n",
       "             'Heat 410': ['311/312-Q4',\n",
       "              '311/312-Q5',\n",
       "              '311/312-Q6',\n",
       "              '311/312-Q7',\n",
       "              '311/312-Q8'],\n",
       "             'Heat 411': ['W309',\n",
       "              'W310',\n",
       "              '309/310-Q1',\n",
       "              '309/310-Q2',\n",
       "              '309/310-Q3'],\n",
       "             'Heat 412': ['W311',\n",
       "              'W312',\n",
       "              '311/312-Q1',\n",
       "              '311/312-Q2',\n",
       "              '311/312-Q3'],\n",
       "             'Heat 413': ['313/314-Q4',\n",
       "              '313/314-Q5',\n",
       "              '313/314-Q6',\n",
       "              '313/314-Q7',\n",
       "              '313/314-Q8'],\n",
       "             'Heat 414': ['315/316-Q4',\n",
       "              '315/316-Q5',\n",
       "              '315/316-Q6',\n",
       "              '315/316-Q7',\n",
       "              '315/316-Q8'],\n",
       "             'Heat 415': ['W313',\n",
       "              'W314',\n",
       "              '313/314-Q1',\n",
       "              '313/314-Q2',\n",
       "              '313/314-Q3'],\n",
       "             'Heat 416': ['W315',\n",
       "              'W316',\n",
       "              '315/316-Q1',\n",
       "              '315/316-Q2',\n",
       "              '315/316-Q3'],\n",
       "             'Heat 501': ['401/402-Q4',\n",
       "              '401/402-Q5',\n",
       "              '401/402-Q6',\n",
       "              '401/402-Q7',\n",
       "              '401/402-Q8'],\n",
       "             'Heat 502': ['W401',\n",
       "              'W402',\n",
       "              '401/402-Q1',\n",
       "              '401/402-Q2',\n",
       "              '401/402-Q3'],\n",
       "             'Heat 503': ['403/404-Q4',\n",
       "              '403/404-Q5',\n",
       "              '403/404-Q6',\n",
       "              '403/404-Q7',\n",
       "              '403/404-Q8'],\n",
       "             'Heat 504': ['W403',\n",
       "              'W404',\n",
       "              '403/404-Q1',\n",
       "              '403/404-Q2',\n",
       "              '403/404-Q3'],\n",
       "             'Heat 505': ['405/406-Q4',\n",
       "              '405/406-Q5',\n",
       "              '405/406-Q6',\n",
       "              '405/406-Q7',\n",
       "              '405/406-Q8'],\n",
       "             'Heat 506': ['W405',\n",
       "              'W406',\n",
       "              '405/406-Q1',\n",
       "              '405/406-Q2',\n",
       "              '405/406-Q3'],\n",
       "             'Heat 507': ['407/408-Q4',\n",
       "              '407/408-Q5',\n",
       "              '407/408-Q6',\n",
       "              '407/408-Q7',\n",
       "              '407/408-Q8'],\n",
       "             'Heat 508': ['W407',\n",
       "              'W408',\n",
       "              '407/408-Q1',\n",
       "              '407/408-Q2',\n",
       "              '407/408-Q3'],\n",
       "             'Heat 509': ['409/410-Q4',\n",
       "              '409/410-Q5',\n",
       "              '409/410-Q6',\n",
       "              '409/410-Q7',\n",
       "              '409/410-Q8'],\n",
       "             'Heat 510': ['W409',\n",
       "              'W410',\n",
       "              '409/410-Q1',\n",
       "              '409/410-Q2',\n",
       "              '409/410-Q3'],\n",
       "             'Heat 511': ['411/412-Q4',\n",
       "              '411/412-Q5',\n",
       "              '411/412-Q6',\n",
       "              '411/412-Q7',\n",
       "              '411/412-Q8'],\n",
       "             'Heat 512': ['W411',\n",
       "              'W412',\n",
       "              '411/412-Q1',\n",
       "              '411/412-Q2',\n",
       "              '411/412-Q3'],\n",
       "             'Heat 513': ['413/414-Q4',\n",
       "              '413/414-Q5',\n",
       "              '413/414-Q6',\n",
       "              '413/414-Q7',\n",
       "              '413/414-Q8'],\n",
       "             'Heat 514': ['W413',\n",
       "              'W414',\n",
       "              '413/414-Q1',\n",
       "              '413/414-Q2',\n",
       "              '413/414-Q3'],\n",
       "             'Heat 515': ['415/416-Q4',\n",
       "              '415/416-Q5',\n",
       "              '415/416-Q6',\n",
       "              '415/416-Q7',\n",
       "              '415/416-Q8'],\n",
       "             'Heat 516': ['W415',\n",
       "              'W416',\n",
       "              '415/416-Q1',\n",
       "              '415/416-Q2',\n",
       "              '415/416-Q3']})"
      ]
     },
     "execution_count": 7,
     "metadata": {},
     "output_type": "execute_result"
    }
   ],
   "source": [
    "h_seed_key"
   ]
  },
  {
   "cell_type": "code",
   "execution_count": 15,
   "metadata": {
    "scrolled": false
   },
   "outputs": [
    {
     "data": {
      "text/plain": [
       "400"
      ]
     },
     "execution_count": 15,
     "metadata": {},
     "output_type": "execute_result"
    }
   ],
   "source": [
    "sd_h_key = {val:key for key, value in h_seed_key.iteritems() \n",
    "            for i, val in enumerate(value)}\n",
    "\n",
    "index_test = [i for i in sd_h_key.keys()]\n",
    "len(index_test)"
   ]
  },
  {
   "cell_type": "code",
   "execution_count": 10,
   "metadata": {},
   "outputs": [
    {
     "data": {
      "text/plain": [
       "400"
      ]
     },
     "execution_count": 10,
     "metadata": {},
     "output_type": "execute_result"
    }
   ],
   "source": [
    "RH_index = range(1,81) #start with R0 seeds 1-80 in list\n",
    "\n",
    "#add winners seeds for all heats in tournament, W101 - 116 thru W401-416\n",
    "for i in range(1,10):\n",
    "    for j in range(1,5):\n",
    "        RH_index.append('W{}0{}'.format(j, i))      \n",
    "for i in range(10,17):\n",
    "    for j in range(1,5):\n",
    "        RH_index.append('W{}{}'.format(j, i))\n",
    "\n",
    "#add next place seeds for all of R1 results (Q1 - Q8 for each heat pair per h_pairs dict):\n",
    "for key, value in h_pairs.iteritems():\n",
    "    for i in range(1,9):\n",
    "        RH_index.append('{}/{}-Q{}'.format(key, value, i))\n",
    "\n",
    "RH_index = sorted(RH_index)\n",
    "\n",
    "len(RH_index) #5 rounds of 80 seeds each = 400 total round/heat indices"
   ]
  },
  {
   "cell_type": "code",
   "execution_count": 8,
   "metadata": {
    "collapsed": true
   },
   "outputs": [],
   "source": [
    "bracket_df = pd.DataFrame(index=RH_index, columns=['Round', 'Nxt_Heat', 'First_name', \n",
    "                                                   'Surname', 'Time'])\n",
    "bracket_df.index.name = 'Seed'"
   ]
  },
  {
   "cell_type": "code",
   "execution_count": 9,
   "metadata": {
    "collapsed": true
   },
   "outputs": [],
   "source": [
    "for val in bracket_df.index:\n",
    "    bracket_df.loc[val,['Nxt_Heat']] = sd_h_key[val]\n",
    "    bracket_df.loc[val,['Round']] = int(str(bracket_df.loc[val,['Nxt_Heat']]).split()[2][0])-1"
   ]
  },
  {
   "cell_type": "code",
   "execution_count": 10,
   "metadata": {},
   "outputs": [
    {
     "data": {
      "text/html": [
       "<div>\n",
       "<style>\n",
       "    .dataframe thead tr:only-child th {\n",
       "        text-align: right;\n",
       "    }\n",
       "\n",
       "    .dataframe thead th {\n",
       "        text-align: left;\n",
       "    }\n",
       "\n",
       "    .dataframe tbody tr th {\n",
       "        vertical-align: top;\n",
       "    }\n",
       "</style>\n",
       "<table border=\"1\" class=\"dataframe\">\n",
       "  <thead>\n",
       "    <tr style=\"text-align: right;\">\n",
       "      <th></th>\n",
       "      <th>Round</th>\n",
       "      <th>Nxt_Heat</th>\n",
       "      <th>First_name</th>\n",
       "      <th>Surname</th>\n",
       "      <th>Time</th>\n",
       "    </tr>\n",
       "    <tr>\n",
       "      <th>Seed</th>\n",
       "      <th></th>\n",
       "      <th></th>\n",
       "      <th></th>\n",
       "      <th></th>\n",
       "      <th></th>\n",
       "    </tr>\n",
       "  </thead>\n",
       "  <tbody>\n",
       "    <tr>\n",
       "      <th>1</th>\n",
       "      <td>0</td>\n",
       "      <td>Heat 101</td>\n",
       "      <td>NaN</td>\n",
       "      <td>NaN</td>\n",
       "      <td>NaN</td>\n",
       "    </tr>\n",
       "    <tr>\n",
       "      <th>2</th>\n",
       "      <td>0</td>\n",
       "      <td>Heat 109</td>\n",
       "      <td>NaN</td>\n",
       "      <td>NaN</td>\n",
       "      <td>NaN</td>\n",
       "    </tr>\n",
       "    <tr>\n",
       "      <th>3</th>\n",
       "      <td>0</td>\n",
       "      <td>Heat 113</td>\n",
       "      <td>NaN</td>\n",
       "      <td>NaN</td>\n",
       "      <td>NaN</td>\n",
       "    </tr>\n",
       "    <tr>\n",
       "      <th>4</th>\n",
       "      <td>0</td>\n",
       "      <td>Heat 105</td>\n",
       "      <td>NaN</td>\n",
       "      <td>NaN</td>\n",
       "      <td>NaN</td>\n",
       "    </tr>\n",
       "    <tr>\n",
       "      <th>5</th>\n",
       "      <td>0</td>\n",
       "      <td>Heat 107</td>\n",
       "      <td>NaN</td>\n",
       "      <td>NaN</td>\n",
       "      <td>NaN</td>\n",
       "    </tr>\n",
       "  </tbody>\n",
       "</table>\n",
       "</div>"
      ],
      "text/plain": [
       "     Round  Nxt_Heat First_name Surname Time\n",
       "Seed                                        \n",
       "1        0  Heat 101        NaN     NaN  NaN\n",
       "2        0  Heat 109        NaN     NaN  NaN\n",
       "3        0  Heat 113        NaN     NaN  NaN\n",
       "4        0  Heat 105        NaN     NaN  NaN\n",
       "5        0  Heat 107        NaN     NaN  NaN"
      ]
     },
     "execution_count": 10,
     "metadata": {},
     "output_type": "execute_result"
    }
   ],
   "source": [
    "bracket_df.head()"
   ]
  },
  {
   "cell_type": "code",
   "execution_count": 11,
   "metadata": {
    "collapsed": true
   },
   "outputs": [],
   "source": [
    "time_trial_df = pd.read_csv('test_data/TimeTrialResults.csv')"
   ]
  },
  {
   "cell_type": "code",
   "execution_count": 12,
   "metadata": {
    "collapsed": true
   },
   "outputs": [],
   "source": [
    "tt_df_cleaned = time_trial_df[['Surname', 'First name', 'Time']]\n",
    "tt_df_cleaned = tt_df_cleaned.rename(index=str, columns={'First name': 'First_name'})\n",
    "#tt_df_cleaned.Time = pd.to_datetime(tt_df_cleaned.Time).dt.time\n",
    "tt_df_cleaned = tt_df_cleaned.sort_values(['Time'])\n",
    "tt_df_cleaned['Seed'] = [int(i)+1 for i in tt_df_cleaned.index]"
   ]
  },
  {
   "cell_type": "code",
   "execution_count": 13,
   "metadata": {},
   "outputs": [
    {
     "data": {
      "text/html": [
       "<div>\n",
       "<style>\n",
       "    .dataframe thead tr:only-child th {\n",
       "        text-align: right;\n",
       "    }\n",
       "\n",
       "    .dataframe thead th {\n",
       "        text-align: left;\n",
       "    }\n",
       "\n",
       "    .dataframe tbody tr th {\n",
       "        vertical-align: top;\n",
       "    }\n",
       "</style>\n",
       "<table border=\"1\" class=\"dataframe\">\n",
       "  <thead>\n",
       "    <tr style=\"text-align: right;\">\n",
       "      <th></th>\n",
       "      <th>Surname</th>\n",
       "      <th>First_name</th>\n",
       "      <th>Time</th>\n",
       "      <th>Seed</th>\n",
       "    </tr>\n",
       "  </thead>\n",
       "  <tbody>\n",
       "    <tr>\n",
       "      <th>53</th>\n",
       "      <td>Byers</td>\n",
       "      <td>Kate</td>\n",
       "      <td>10:02</td>\n",
       "      <td>54</td>\n",
       "    </tr>\n",
       "    <tr>\n",
       "      <th>54</th>\n",
       "      <td>Woods</td>\n",
       "      <td>Joanne</td>\n",
       "      <td>10:06</td>\n",
       "      <td>55</td>\n",
       "    </tr>\n",
       "    <tr>\n",
       "      <th>55</th>\n",
       "      <td>krogh</td>\n",
       "      <td>jacob</td>\n",
       "      <td>10:14</td>\n",
       "      <td>56</td>\n",
       "    </tr>\n",
       "    <tr>\n",
       "      <th>56</th>\n",
       "      <td>Klinge</td>\n",
       "      <td>Charlie</td>\n",
       "      <td>10:22</td>\n",
       "      <td>57</td>\n",
       "    </tr>\n",
       "    <tr>\n",
       "      <th>57</th>\n",
       "      <td>Devine</td>\n",
       "      <td>Kirk</td>\n",
       "      <td>10:29</td>\n",
       "      <td>58</td>\n",
       "    </tr>\n",
       "  </tbody>\n",
       "</table>\n",
       "</div>"
      ],
      "text/plain": [
       "   Surname First_name   Time  Seed\n",
       "53   Byers       Kate  10:02    54\n",
       "54   Woods     Joanne  10:06    55\n",
       "55   krogh      jacob  10:14    56\n",
       "56  Klinge    Charlie  10:22    57\n",
       "57  Devine       Kirk  10:29    58"
      ]
     },
     "execution_count": 13,
     "metadata": {},
     "output_type": "execute_result"
    }
   ],
   "source": [
    "tt_df_cleaned.head()"
   ]
  },
  {
   "cell_type": "code",
   "execution_count": 14,
   "metadata": {
    "collapsed": true
   },
   "outputs": [],
   "source": [
    "for val in tt_df_cleaned['Seed']:\n",
    "    bracket_df.loc[val,['First_name']] = (tt_df_cleaned['First_name']\n",
    "                                          [tt_df_cleaned['Seed']==val].item())\n",
    "    bracket_df.loc[val,['Surname']] = (tt_df_cleaned['Surname']\n",
    "                                            [tt_df_cleaned['Seed']==val].item())\n",
    "    bracket_df.loc[val,['Time']] = (tt_df_cleaned['Time']\n",
    "                                           [tt_df_cleaned['Seed']==val].item())"
   ]
  },
  {
   "cell_type": "code",
   "execution_count": 15,
   "metadata": {
    "collapsed": true
   },
   "outputs": [],
   "source": [
    "#bracket_df[bracket_df['First_name'].notnull()]\n",
    "#use this command if want to print all results so far (will mask out future heats w/no results)"
   ]
  },
  {
   "cell_type": "code",
   "execution_count": 16,
   "metadata": {},
   "outputs": [
    {
     "name": "stdout",
     "output_type": "stream",
     "text": [
      "Heat 101:\n"
     ]
    },
    {
     "data": {
      "text/html": [
       "<div>\n",
       "<style>\n",
       "    .dataframe thead tr:only-child th {\n",
       "        text-align: right;\n",
       "    }\n",
       "\n",
       "    .dataframe thead th {\n",
       "        text-align: left;\n",
       "    }\n",
       "\n",
       "    .dataframe tbody tr th {\n",
       "        vertical-align: top;\n",
       "    }\n",
       "</style>\n",
       "<table border=\"1\" class=\"dataframe\">\n",
       "  <thead>\n",
       "    <tr style=\"text-align: right;\">\n",
       "      <th></th>\n",
       "      <th>Nxt_Heat</th>\n",
       "      <th>First_name</th>\n",
       "      <th>Surname</th>\n",
       "    </tr>\n",
       "    <tr>\n",
       "      <th>Seed</th>\n",
       "      <th></th>\n",
       "      <th></th>\n",
       "      <th></th>\n",
       "    </tr>\n",
       "  </thead>\n",
       "  <tbody>\n",
       "    <tr>\n",
       "      <th>1</th>\n",
       "      <td>Heat 101</td>\n",
       "      <td>Adam</td>\n",
       "      <td>Woods</td>\n",
       "    </tr>\n",
       "    <tr>\n",
       "      <th>32</th>\n",
       "      <td>Heat 101</td>\n",
       "      <td>Ryan</td>\n",
       "      <td>Breseman</td>\n",
       "    </tr>\n",
       "    <tr>\n",
       "      <th>33</th>\n",
       "      <td>Heat 101</td>\n",
       "      <td>Ott</td>\n",
       "      <td>Toomet</td>\n",
       "    </tr>\n",
       "    <tr>\n",
       "      <th>64</th>\n",
       "      <td>Heat 101</td>\n",
       "      <td>Ryan</td>\n",
       "      <td>Lee</td>\n",
       "    </tr>\n",
       "    <tr>\n",
       "      <th>65</th>\n",
       "      <td>Heat 101</td>\n",
       "      <td>Jan</td>\n",
       "      <td>Urban</td>\n",
       "    </tr>\n",
       "  </tbody>\n",
       "</table>\n",
       "</div>"
      ],
      "text/plain": [
       "      Nxt_Heat First_name   Surname\n",
       "Seed                               \n",
       "1     Heat 101       Adam     Woods\n",
       "32    Heat 101       Ryan  Breseman\n",
       "33    Heat 101        Ott    Toomet\n",
       "64    Heat 101       Ryan       Lee\n",
       "65    Heat 101        Jan     Urban"
      ]
     },
     "execution_count": 16,
     "metadata": {},
     "output_type": "execute_result"
    }
   ],
   "source": [
    "print 'Heat 101:'\n",
    "bracket_df[['Nxt_Heat', 'First_name', 'Surname']][bracket_df['Nxt_Heat'] == 'Heat 101']"
   ]
  },
  {
   "cell_type": "code",
   "execution_count": 17,
   "metadata": {
    "collapsed": true
   },
   "outputs": [],
   "source": [
    "def clean_results_csv(raw_csv):\n",
    "    df = pd.read_csv(raw_csv)\n",
    "    df = df[['Surname', 'First name', 'Time', 'Entry cl. No']]\n",
    "    df = df.rename(index=str, columns={'First name': 'First_name'})\n",
    "    df = df.rename(index=str, columns={'Entry cl. No': 'Heat'})\n",
    "    #r1_results_df.Time = pd.to_datetime(r1_results_df.Time).dt.time\n",
    "    df = df.sort_values(['Time'])\n",
    "    return df"
   ]
  },
  {
   "cell_type": "code",
   "execution_count": 18,
   "metadata": {
    "collapsed": true
   },
   "outputs": [],
   "source": [
    "r1_results_df = clean_results_csv('test_data/R1-Woodland-Results.csv')"
   ]
  },
  {
   "cell_type": "code",
   "execution_count": 19,
   "metadata": {},
   "outputs": [
    {
     "data": {
      "text/html": [
       "<div>\n",
       "<style>\n",
       "    .dataframe thead tr:only-child th {\n",
       "        text-align: right;\n",
       "    }\n",
       "\n",
       "    .dataframe thead th {\n",
       "        text-align: left;\n",
       "    }\n",
       "\n",
       "    .dataframe tbody tr th {\n",
       "        vertical-align: top;\n",
       "    }\n",
       "</style>\n",
       "<table border=\"1\" class=\"dataframe\">\n",
       "  <thead>\n",
       "    <tr style=\"text-align: right;\">\n",
       "      <th></th>\n",
       "      <th>Surname</th>\n",
       "      <th>First_name</th>\n",
       "      <th>Time</th>\n",
       "      <th>Heat</th>\n",
       "    </tr>\n",
       "  </thead>\n",
       "  <tbody>\n",
       "    <tr>\n",
       "      <th>0</th>\n",
       "      <td>Enger</td>\n",
       "      <td>Will</td>\n",
       "      <td>13:59</td>\n",
       "      <td>101</td>\n",
       "    </tr>\n",
       "    <tr>\n",
       "      <th>1</th>\n",
       "      <td>Toomet</td>\n",
       "      <td>Ott</td>\n",
       "      <td>16:22</td>\n",
       "      <td>101</td>\n",
       "    </tr>\n",
       "    <tr>\n",
       "      <th>2</th>\n",
       "      <td>Breseman</td>\n",
       "      <td>Ryan</td>\n",
       "      <td>18:08</td>\n",
       "      <td>101</td>\n",
       "    </tr>\n",
       "    <tr>\n",
       "      <th>3</th>\n",
       "      <td>Urban</td>\n",
       "      <td>Jan</td>\n",
       "      <td>28:38</td>\n",
       "      <td>101</td>\n",
       "    </tr>\n",
       "    <tr>\n",
       "      <th>4</th>\n",
       "      <td>Lee</td>\n",
       "      <td>Ryan</td>\n",
       "      <td>29:37</td>\n",
       "      <td>101</td>\n",
       "    </tr>\n",
       "  </tbody>\n",
       "</table>\n",
       "</div>"
      ],
      "text/plain": [
       "    Surname First_name   Time  Heat\n",
       "0     Enger       Will  13:59   101\n",
       "1    Toomet        Ott  16:22   101\n",
       "2  Breseman       Ryan  18:08   101\n",
       "3     Urban        Jan  28:38   101\n",
       "4       Lee       Ryan  29:37   101"
      ]
     },
     "execution_count": 19,
     "metadata": {},
     "output_type": "execute_result"
    }
   ],
   "source": [
    "r1_results_df[r1_results_df['Heat'] == 101]"
   ]
  },
  {
   "cell_type": "code",
   "execution_count": 20,
   "metadata": {},
   "outputs": [
    {
     "data": {
      "text/html": [
       "<div>\n",
       "<style>\n",
       "    .dataframe thead tr:only-child th {\n",
       "        text-align: right;\n",
       "    }\n",
       "\n",
       "    .dataframe thead th {\n",
       "        text-align: left;\n",
       "    }\n",
       "\n",
       "    .dataframe tbody tr th {\n",
       "        vertical-align: top;\n",
       "    }\n",
       "</style>\n",
       "<table border=\"1\" class=\"dataframe\">\n",
       "  <thead>\n",
       "    <tr style=\"text-align: right;\">\n",
       "      <th></th>\n",
       "      <th>Surname</th>\n",
       "      <th>First_name</th>\n",
       "      <th>Time</th>\n",
       "      <th>Heat</th>\n",
       "    </tr>\n",
       "  </thead>\n",
       "  <tbody>\n",
       "    <tr>\n",
       "      <th>5</th>\n",
       "      <td>Gusiatnikov</td>\n",
       "      <td>Vladimir</td>\n",
       "      <td>14:35</td>\n",
       "      <td>102</td>\n",
       "    </tr>\n",
       "    <tr>\n",
       "      <th>6</th>\n",
       "      <td>Sheldrake</td>\n",
       "      <td>Scott</td>\n",
       "      <td>14:58</td>\n",
       "      <td>102</td>\n",
       "    </tr>\n",
       "    <tr>\n",
       "      <th>7</th>\n",
       "      <td>Grandjean</td>\n",
       "      <td>Susan</td>\n",
       "      <td>17:01</td>\n",
       "      <td>102</td>\n",
       "    </tr>\n",
       "    <tr>\n",
       "      <th>8</th>\n",
       "      <td>Bruneel</td>\n",
       "      <td>Jack</td>\n",
       "      <td>22:12</td>\n",
       "      <td>102</td>\n",
       "    </tr>\n",
       "  </tbody>\n",
       "</table>\n",
       "</div>"
      ],
      "text/plain": [
       "       Surname First_name   Time  Heat\n",
       "5  Gusiatnikov   Vladimir  14:35   102\n",
       "6    Sheldrake      Scott  14:58   102\n",
       "7    Grandjean      Susan  17:01   102\n",
       "8      Bruneel       Jack  22:12   102"
      ]
     },
     "execution_count": 20,
     "metadata": {},
     "output_type": "execute_result"
    }
   ],
   "source": [
    "r1_results_df[r1_results_df['Heat'] == 102]"
   ]
  },
  {
   "cell_type": "code",
   "execution_count": 21,
   "metadata": {
    "collapsed": true
   },
   "outputs": [],
   "source": [
    "def nxt_ht_assigns(results_df, rnd, h_pairs, person_info):\n",
    "    '''define inputs, how function works'''\n",
    "    for ht1, ht2 in h_pairs.iteritems():\n",
    "        if ht1 < (rnd * 100 + 100):\n",
    "            temp_df1 = results_df[(results_df['Heat'] == ht1)].sort_values('Time')\n",
    "            temp_df2 = results_df[(results_df['Heat'] == ht2)].sort_values('Time')\n",
    "            temp_dftot = pd.concat([temp_df1, temp_df2]).sort_values('Time')\n",
    "            temp_dftot.reset_index(drop=True, inplace=True)\n",
    "            temp_dftot = temp_dftot.drop([0, 1])\n",
    "            for colnm in person_info:\n",
    "                ht_win1 = temp_df1[colnm][temp_df1['Time'] == temp_df1['Time'].min()].item()\n",
    "                bracket_df.loc['W{}'.format(ht1),[colnm]] = ht_win1\n",
    "                ht_win2 = temp_df2[colnm][temp_df2['Time'] == temp_df2['Time'].min()].item()\n",
    "                bracket_df.loc['W{}'.format(ht2),[colnm]] = ht_win2\n",
    "        \n",
    "            for i, row in enumerate(temp_dftot.values):\n",
    "                for j, colnm in enumerate(person_info):\n",
    "                    bracket_df.loc['{}/{}-Q{}'.format(ht1, ht2, i+1),[colnm]] = row[j]"
   ]
  },
  {
   "cell_type": "code",
   "execution_count": 22,
   "metadata": {
    "collapsed": true
   },
   "outputs": [],
   "source": [
    "person_info = ['Surname', 'First_name', 'Time']\n",
    "nxt_ht_assigns(r1_results_df, 1, h_pairs, person_info)"
   ]
  },
  {
   "cell_type": "code",
   "execution_count": 24,
   "metadata": {
    "collapsed": true
   },
   "outputs": [],
   "source": [
    "#bracket_df[bracket_df['First_name'].notnull()]"
   ]
  },
  {
   "cell_type": "code",
   "execution_count": 36,
   "metadata": {
    "collapsed": true
   },
   "outputs": [],
   "source": [
    "def print_heat_assigns(rnd):\n",
    "    for heat in xrange((rnd*100 + 1), (rnd*100 + 17)):\n",
    "        print 'Heat {}: \\n'.format(heat)\n",
    "        df = bracket_df[bracket_df['Nxt_Heat'] == 'Heat {}'.format(heat)].sort_values('Time')\n",
    "        print df[['First_name', 'Surname']]\n",
    "        print '\\n'"
   ]
  },
  {
   "cell_type": "code",
   "execution_count": 38,
   "metadata": {
    "collapsed": true
   },
   "outputs": [],
   "source": [
    "#print_heat_assigns(1)"
   ]
  },
  {
   "cell_type": "code",
   "execution_count": 44,
   "metadata": {
    "collapsed": true
   },
   "outputs": [],
   "source": [
    "bracket_df.to_csv('test_data/bracket_postR1.csv')"
   ]
  },
  {
   "cell_type": "code",
   "execution_count": 45,
   "metadata": {
    "collapsed": true
   },
   "outputs": [],
   "source": [
    "bracket_df.to_excel('test_data/bracket_postR1_excelform.xls')"
   ]
  },
  {
   "cell_type": "code",
   "execution_count": 47,
   "metadata": {
    "collapsed": true
   },
   "outputs": [],
   "source": [
    "bracket_df[bracket_df['Round'] == 1].to_excel('test_data/bracket_postR1_excelform.xls', sheet_name = 'Sheet2')"
   ]
  },
  {
   "cell_type": "code",
   "execution_count": null,
   "metadata": {
    "collapsed": true
   },
   "outputs": [],
   "source": []
  }
 ],
 "metadata": {
  "kernelspec": {
   "display_name": "Python 2",
   "language": "python",
   "name": "python2"
  },
  "language_info": {
   "codemirror_mode": {
    "name": "ipython",
    "version": 2
   },
   "file_extension": ".py",
   "mimetype": "text/x-python",
   "name": "python",
   "nbconvert_exporter": "python",
   "pygments_lexer": "ipython2",
   "version": "2.7.13"
  }
 },
 "nbformat": 4,
 "nbformat_minor": 2
}
