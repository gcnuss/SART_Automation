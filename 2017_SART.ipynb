{
 "cells": [
  {
   "cell_type": "markdown",
   "metadata": {},
   "source": [
    "## Initial Event Preparation\n",
    "- Occurs pre-event\n",
    "- Instantiate class and define bracket format via the dictionary and lists of tuples as shown below"
   ]
  },
  {
   "cell_type": "code",
   "execution_count": 1,
   "metadata": {
    "collapsed": true
   },
   "outputs": [],
   "source": [
    "from SART_Class_v2 import SART\n",
    "import pandas as pd"
   ]
  },
  {
   "cell_type": "code",
   "execution_count": 2,
   "metadata": {
    "collapsed": true
   },
   "outputs": [],
   "source": [
    "r0_seeds = {'Heat 101': [1, 32, 33, 64, 65], 'Heat 102': [16, 17, 48, 49, 80],\n",
    "    'Heat 103': [8, 25, 40, 57, 72], 'Heat 104': [9, 24, 41, 56, 73],\n",
    "    'Heat 105': [4, 29, 36, 61, 68], 'Heat 106': [13, 20, 45, 52, 77],\n",
    "    'Heat 107': [5, 28, 37, 60, 69], 'Heat 108': [12, 21, 44, 53, 76],\n",
    "    'Heat 109': [2, 31, 34, 63, 66], 'Heat 110': [15, 18, 47, 50, 79],\n",
    "    'Heat 111': [7, 26, 39, 58, 71], 'Heat 112': [10, 23, 42, 55, 74],\n",
    "    'Heat 113': [3, 30, 35, 62, 67], 'Heat 114': [14, 19, 46, 51, 78],\n",
    "    'Heat 115': [6, 27, 38, 59, 70], 'Heat 116': [11, 22, 43, 54, 75]}\n",
    "\n",
    "#heat pairs round 1 - 4:\n",
    "h_pairs = [(101, 102), (103, 104), (105, 106), (107, 108), (109, 110),\n",
    "    (111, 112), (113, 114), (115, 116), (201, 203), (205, 207), (209, 211),\n",
    "    (213, 215), (202, 204), (206, 208), (210, 212), (214, 216), (301, 302),\n",
    "    (303, 304), (305, 306), (307, 308), (309, 310), (311, 312), (313, 314),\n",
    "    (315, 316), (401, 402), (403, 404), (405, 406), (407, 408), (409, 410),\n",
    "    (411, 412), (413, 414), (415, 416)]\n",
    "\n",
    "#heat pairs round 2 - 5 that prior round feed into e.g. 101, 102 feed into 201, 202:\n",
    "fd_into_ht_pairs = [(201, 202), (203, 204), (205, 206), (207, 208),\n",
    "    (209, 210), (211, 212), (213, 214), (215, 216), (316, 312), (315, 311),\n",
    "    (314, 310), (313, 309), (308, 304), (307, 303), (306, 302), (305, 301),\n",
    "    (403, 401), (404, 402), (407, 405), (408, 406), (411, 409), (412, 410),\n",
    "    (415, 413), (416, 414), (502, 501), (504, 503), (506, 505), (508, 507),\n",
    "    (510, 509), (512, 511), (514, 513), (516, 515)]\n",
    "\n",
    "#Bracket columns:\n",
    "columns = ['Round', 'Nxt_Heat', 'First_name', 'Surname', 'Time', 'Nxt_Heat_Time']\n",
    "\n",
    "#Heat start times:\n",
    "#Heat start times:\n",
    "start_times = {'Heat 101': '12:00pm',\n",
    "             'Heat 102': '12:03pm',\n",
    "             'Heat 103': '12:06pm',\n",
    "             'Heat 104': '12:09pm',\n",
    "             'Heat 105': '12:12pm',\n",
    "             'Heat 106': '12:15pm',\n",
    "             'Heat 107': '12:18pm',\n",
    "             'Heat 108': '12:21pm',\n",
    "             'Heat 109': '12:24pm',\n",
    "             'Heat 110': '12:27pm',\n",
    "             'Heat 111': '12:30pm',\n",
    "             'Heat 112': '12:33pm',\n",
    "             'Heat 113': '12:36pm',\n",
    "             'Heat 114': '12:39pm',\n",
    "             'Heat 115': '12:42pm',\n",
    "             'Heat 116': '12:45pm',\n",
    "             'Heat 201': '3:00pm',\n",
    "             'Heat 202': '3:03pm',\n",
    "             'Heat 203': '3:06pm',\n",
    "             'Heat 204': '3:09pm',\n",
    "             'Heat 205': '3:12pm',\n",
    "             'Heat 206': '3:15pm',\n",
    "             'Heat 207': '3:18pm',\n",
    "             'Heat 208': '3:21pm',\n",
    "             'Heat 209': '3:24pm',\n",
    "             'Heat 210': '3:27pm',\n",
    "             'Heat 211': '3:30pm',\n",
    "             'Heat 212': '3:33pm',\n",
    "             'Heat 213': '3:36pm',\n",
    "             'Heat 214': '3:39pm',\n",
    "             'Heat 215': '3:42pm',\n",
    "             'Heat 216': '3:45pm',\n",
    "             'Heat 301': '8:00pm',\n",
    "             'Heat 302': '8:03pm',\n",
    "             'Heat 303': '8:06pm',\n",
    "             'Heat 304': '8:09pm',\n",
    "             'Heat 305': '8:12pm',\n",
    "             'Heat 306': '8:15pm',\n",
    "             'Heat 307': '8:18pm',\n",
    "             'Heat 308': '8:21pm',\n",
    "             'Heat 309': '8:24pm',\n",
    "             'Heat 310': '8:27pm',\n",
    "             'Heat 311': '8:30pm',\n",
    "             'Heat 312': '8:33pm',\n",
    "             'Heat 313': '8:36pm',\n",
    "             'Heat 314': '8:39pm',\n",
    "             'Heat 315': '8:42pm',\n",
    "             'Heat 316': '8:45pm',\n",
    "             'Heat 401': '9:15am',\n",
    "             'Heat 402': '9:18am',\n",
    "             'Heat 403': '9:21am',\n",
    "             'Heat 404': '9:24am',\n",
    "             'Heat 405': '9:27am',\n",
    "             'Heat 406': '9:30am',\n",
    "             'Heat 407': '9:33am',\n",
    "             'Heat 408': '9:36am',\n",
    "             'Heat 409': '9:39am',\n",
    "             'Heat 410': '9:42am',\n",
    "             'Heat 411': '9:45am',\n",
    "             'Heat 412': '9:48am',\n",
    "             'Heat 413': '9:51am',\n",
    "             'Heat 414': '9:54am',\n",
    "             'Heat 415': '9:57am',\n",
    "             'Heat 416': '10:00am',\n",
    "             'Heat 501': '11:15am',\n",
    "             'Heat 502': '11:18am',\n",
    "             'Heat 503': '11:21am',\n",
    "             'Heat 504': '11:24am',\n",
    "             'Heat 505': '11:27am',\n",
    "             'Heat 506': '11:30am',\n",
    "             'Heat 507': '11:33am',\n",
    "             'Heat 508': '11:36am',\n",
    "             'Heat 509': '11:39am',\n",
    "             'Heat 510': '11:42am',\n",
    "             'Heat 511': '11:45am',\n",
    "             'Heat 512': '11:48am',\n",
    "             'Heat 513': '11:51am',\n",
    "             'Heat 514': '11:54am',\n",
    "             'Heat 515': '11:57am',\n",
    "             'Heat 516': '12:00pm'}"
   ]
  },
  {
   "cell_type": "code",
   "execution_count": 3,
   "metadata": {
    "collapsed": true
   },
   "outputs": [],
   "source": [
    "sart17 = SART(r0_seeds, h_pairs, fd_into_ht_pairs, columns, start_times)"
   ]
  },
  {
   "cell_type": "markdown",
   "metadata": {},
   "source": [
    "#### Call Functions to prepare the keys for our DataFrame\n",
    "- Using the r0_seeds, h_pairs, and fd_into_ht_pairs data\n",
    "- This is done in a few functions behind the scenes for this class"
   ]
  },
  {
   "cell_type": "code",
   "execution_count": 4,
   "metadata": {
    "collapsed": true
   },
   "outputs": [],
   "source": [
    "sart17.prepare_sd_h_keys()"
   ]
  },
  {
   "cell_type": "markdown",
   "metadata": {},
   "source": [
    "#### Create the Bracket DataFrame"
   ]
  },
  {
   "cell_type": "code",
   "execution_count": 5,
   "metadata": {
    "collapsed": true
   },
   "outputs": [],
   "source": [
    "sart17.create_bracket()"
   ]
  },
  {
   "cell_type": "code",
   "execution_count": 6,
   "metadata": {},
   "outputs": [
    {
     "data": {
      "text/html": [
       "<div>\n",
       "<style>\n",
       "    .dataframe thead tr:only-child th {\n",
       "        text-align: right;\n",
       "    }\n",
       "\n",
       "    .dataframe thead th {\n",
       "        text-align: left;\n",
       "    }\n",
       "\n",
       "    .dataframe tbody tr th {\n",
       "        vertical-align: top;\n",
       "    }\n",
       "</style>\n",
       "<table border=\"1\" class=\"dataframe\">\n",
       "  <thead>\n",
       "    <tr style=\"text-align: right;\">\n",
       "      <th></th>\n",
       "      <th>Round</th>\n",
       "      <th>Nxt_Heat</th>\n",
       "      <th>First_name</th>\n",
       "      <th>Surname</th>\n",
       "      <th>Time</th>\n",
       "      <th>Nxt_Heat_Time</th>\n",
       "    </tr>\n",
       "    <tr>\n",
       "      <th>Seed</th>\n",
       "      <th></th>\n",
       "      <th></th>\n",
       "      <th></th>\n",
       "      <th></th>\n",
       "      <th></th>\n",
       "      <th></th>\n",
       "    </tr>\n",
       "  </thead>\n",
       "  <tbody>\n",
       "    <tr>\n",
       "      <th>1</th>\n",
       "      <td>0</td>\n",
       "      <td>Heat 101</td>\n",
       "      <td>NaN</td>\n",
       "      <td>NaN</td>\n",
       "      <td>NaN</td>\n",
       "      <td>12:00pm</td>\n",
       "    </tr>\n",
       "    <tr>\n",
       "      <th>2</th>\n",
       "      <td>0</td>\n",
       "      <td>Heat 109</td>\n",
       "      <td>NaN</td>\n",
       "      <td>NaN</td>\n",
       "      <td>NaN</td>\n",
       "      <td>12:24pm</td>\n",
       "    </tr>\n",
       "    <tr>\n",
       "      <th>3</th>\n",
       "      <td>0</td>\n",
       "      <td>Heat 113</td>\n",
       "      <td>NaN</td>\n",
       "      <td>NaN</td>\n",
       "      <td>NaN</td>\n",
       "      <td>12:36pm</td>\n",
       "    </tr>\n",
       "    <tr>\n",
       "      <th>4</th>\n",
       "      <td>0</td>\n",
       "      <td>Heat 105</td>\n",
       "      <td>NaN</td>\n",
       "      <td>NaN</td>\n",
       "      <td>NaN</td>\n",
       "      <td>12:12pm</td>\n",
       "    </tr>\n",
       "    <tr>\n",
       "      <th>5</th>\n",
       "      <td>0</td>\n",
       "      <td>Heat 107</td>\n",
       "      <td>NaN</td>\n",
       "      <td>NaN</td>\n",
       "      <td>NaN</td>\n",
       "      <td>12:18pm</td>\n",
       "    </tr>\n",
       "  </tbody>\n",
       "</table>\n",
       "</div>"
      ],
      "text/plain": [
       "     Round  Nxt_Heat First_name Surname Time Nxt_Heat_Time\n",
       "Seed                                                      \n",
       "1        0  Heat 101        NaN     NaN  NaN       12:00pm\n",
       "2        0  Heat 109        NaN     NaN  NaN       12:24pm\n",
       "3        0  Heat 113        NaN     NaN  NaN       12:36pm\n",
       "4        0  Heat 105        NaN     NaN  NaN       12:12pm\n",
       "5        0  Heat 107        NaN     NaN  NaN       12:18pm"
      ]
     },
     "execution_count": 6,
     "metadata": {},
     "output_type": "execute_result"
    }
   ],
   "source": [
    "sart17.bracket_df.head()"
   ]
  },
  {
   "cell_type": "code",
   "execution_count": 7,
   "metadata": {},
   "outputs": [
    {
     "name": "stdout",
     "output_type": "stream",
     "text": [
      "<class 'pandas.core.frame.DataFrame'>\n",
      "Index: 400 entries, 1 to W416\n",
      "Data columns (total 6 columns):\n",
      "Round            400 non-null object\n",
      "Nxt_Heat         400 non-null object\n",
      "First_name       0 non-null object\n",
      "Surname          0 non-null object\n",
      "Time             0 non-null object\n",
      "Nxt_Heat_Time    400 non-null object\n",
      "dtypes: object(6)\n",
      "memory usage: 21.9+ KB\n"
     ]
    }
   ],
   "source": [
    "sart17.bracket_df.info()\n",
    "#for a bracket of 80 people and 5 rounds, total s/b 400 and it is"
   ]
  },
  {
   "cell_type": "markdown",
   "metadata": {},
   "source": [
    "## Time Trial"
   ]
  },
  {
   "cell_type": "markdown",
   "metadata": {},
   "source": [
    "#### Process the time trial results\n",
    "- Use the CSV results file pulled from SportSoftware\n",
    "- Address any ties, mp's, dnf's, and dns's as shown below"
   ]
  },
  {
   "cell_type": "code",
   "execution_count": null,
   "metadata": {
    "collapsed": true
   },
   "outputs": [],
   "source": [
    "sart17.process_time_trial_results('INSERT FILENAME HERE')"
   ]
  },
  {
   "cell_type": "code",
   "execution_count": null,
   "metadata": {},
   "outputs": [],
   "source": [
    "sart17._check_TT_for_ties()"
   ]
  },
  {
   "cell_type": "code",
   "execution_count": null,
   "metadata": {
    "collapsed": true
   },
   "outputs": [],
   "source": [
    "sart17.tt_df_cleaned.sort_values(by='Seed', inplace=True)\n",
    "\n",
    "#Adjusting seeds to break ties based on time at go control:\n",
    "\n",
    "#Format: sart17.tt_df_cleaned.loc['0', ['Seed']] = 2\n",
    "#Format: sart17.tt_df_cleaned.loc['0', ['Time']] = '5:53.2'\n",
    "\n",
    "#Set high times to drive mp and dnfs to last seeds:\n",
    "\n",
    "#Format: sart17.tt_df_cleaned.loc['73', ['Time']] = '50:10'\n",
    "\n",
    "#These steps completed by reviewing data and pulling tie-breakers from SS; tie break is who is ahead at the go control"
   ]
  },
  {
   "cell_type": "markdown",
   "metadata": {},
   "source": [
    "#### Add the time trial results to the Bracket DataFrame Using Seed as Key\n",
    "- Now each person has their Round 1 Heat Assignment since those were already associated with each seed in the Bracket DF"
   ]
  },
  {
   "cell_type": "code",
   "execution_count": null,
   "metadata": {},
   "outputs": [],
   "source": [
    "sart17.add_time_trial_results()"
   ]
  },
  {
   "cell_type": "markdown",
   "metadata": {},
   "source": [
    "#### Print the .txt file with next heat assignments for use in handing out heat assignment info"
   ]
  },
  {
   "cell_type": "code",
   "execution_count": null,
   "metadata": {
    "collapsed": true
   },
   "outputs": [],
   "source": [
    "from __future__ import print_function\n",
    "print(*sart17.print_heat_assigns(1), sep='\\n', file = open(\"2017_event_files/R1_heat_assigns\", 'w'))"
   ]
  },
  {
   "cell_type": "markdown",
   "metadata": {},
   "source": [
    "#### Process the next round CSV for import to SportSoftware with correct heat assignments\n",
    "- This function pulls in the existing CSV, updates the heat assignments, and then in the following line exports a new CSV with those new assignments"
   ]
  },
  {
   "cell_type": "code",
   "execution_count": null,
   "metadata": {
    "collapsed": true
   },
   "outputs": [],
   "source": [
    "r1_ss_import = sart17.assign_nxt_ht_to_ss_import_csv('INSERT FILENAME HERE', 0)\n",
    "#Round must be put in as an integer here!"
   ]
  },
  {
   "cell_type": "code",
   "execution_count": null,
   "metadata": {
    "collapsed": true
   },
   "outputs": [],
   "source": [
    "r1_ss_import.to_csv('2017_event_files/SS_import_R1_with_heats.csv')"
   ]
  },
  {
   "cell_type": "markdown",
   "metadata": {},
   "source": [
    "## Round 1"
   ]
  },
  {
   "cell_type": "markdown",
   "metadata": {},
   "source": [
    "#### Import and process the results from Round 1\n",
    "\n",
    "- Use the CSV results pulled from SportSoftware\n",
    "- Address any ties, mp's, dnf's, and dns's as shown below"
   ]
  },
  {
   "cell_type": "code",
   "execution_count": null,
   "metadata": {},
   "outputs": [],
   "source": [
    "r1_results = sart17.clean_results_csv('INSERT FILENAME HERE')\n",
    "r1_results.sort_values(by='Heat', inplace=True)\n",
    "\n",
    "r1_results.info()"
   ]
  },
  {
   "cell_type": "code",
   "execution_count": null,
   "metadata": {
    "collapsed": true
   },
   "outputs": [],
   "source": [
    "#break ties:\n",
    "\n",
    "#Format: r1_results.loc['67', ['Time']] = '17:19.5'\n",
    "\n",
    "#Set high times to drive mp and dnfs to last seeds:\n",
    "\n",
    "#Format: r1_results.loc['49', ['Time']] = '55:10'\n",
    "\n",
    "#Added dns's\n",
    "\n",
    "#Format:\n",
    "#r1_results.loc['74', ['Surname']] = 'Nasman'\n",
    "#r1_results.loc['74', ['First_name']] = 'Linnea'\n",
    "#r1_results.loc['74', ['Time']] = '50:10'\n",
    "#r1_results.loc['74', ['Heat']] = 108 #get heat from bracket_df"
   ]
  },
  {
   "cell_type": "markdown",
   "metadata": {},
   "source": [
    "#### Assign next round heats\n",
    "- This populates the results from Round 1 in the Bracket DF as appropriate based on processing method for this bracket / tournament\n",
    "- Results in each person being assigned to their appropriate next heat"
   ]
  },
  {
   "cell_type": "code",
   "execution_count": null,
   "metadata": {},
   "outputs": [],
   "source": [
    "sart17.nxt_ht_assigns(r1_results, 1)"
   ]
  },
  {
   "cell_type": "code",
   "execution_count": null,
   "metadata": {},
   "outputs": [],
   "source": [
    "#visual for example purposes:\n",
    "sart17.bracket_df[sart17.bracket_df['Nxt_Heat'] == 'Heat 201']"
   ]
  },
  {
   "cell_type": "markdown",
   "metadata": {},
   "source": [
    "#### Print the .txt file with next heat assignments for use in handing out heat assignment info"
   ]
  },
  {
   "cell_type": "code",
   "execution_count": null,
   "metadata": {
    "collapsed": true
   },
   "outputs": [],
   "source": [
    "print(*sart17.print_heat_assigns(2), sep='\\n', file = open(\"2017_event_files/R2_heat_assigns\", 'w'))"
   ]
  },
  {
   "cell_type": "markdown",
   "metadata": {},
   "source": [
    "#### Process the next round CSV for import to SportSoftware with correct heat assignments\n",
    "- This function pulls in the existing CSV, updates the heat assignments, and then in the following line exports a new CSV with those new assignments"
   ]
  },
  {
   "cell_type": "code",
   "execution_count": null,
   "metadata": {
    "collapsed": true
   },
   "outputs": [],
   "source": [
    "r2_ss_import = sart17.assign_nxt_ht_to_ss_import_csv('INSERT FILENAME HERE', 1)\n",
    "#Round must be put in as an integer here!"
   ]
  },
  {
   "cell_type": "code",
   "execution_count": null,
   "metadata": {
    "collapsed": true
   },
   "outputs": [],
   "source": [
    "r2_ss_import.to_csv('2017_event_files/SS_import_R2_with_heats.csv')"
   ]
  },
  {
   "cell_type": "markdown",
   "metadata": {
    "collapsed": true
   },
   "source": [
    "## Round 2"
   ]
  },
  {
   "cell_type": "markdown",
   "metadata": {},
   "source": [
    "#### Import and process the results from Round 2\n",
    "\n",
    "- Use the CSV results pulled from SportSoftware\n",
    "- Address any ties, mp's, dnf's, and dns's as shown below"
   ]
  },
  {
   "cell_type": "code",
   "execution_count": null,
   "metadata": {},
   "outputs": [],
   "source": [
    "r2_results = sart17.clean_results_csv('INSERT FILENAME HERE')\n",
    "r2_results.sort_values(by='Heat', inplace=True)\n",
    "\n",
    "r2_results.info()"
   ]
  },
  {
   "cell_type": "code",
   "execution_count": null,
   "metadata": {
    "collapsed": true
   },
   "outputs": [],
   "source": [
    "#break ties:\n",
    "\n",
    "#Format: r1_results.loc['67', ['Time']] = '17:19.5'\n",
    "\n",
    "#Set high times to drive mp and dnfs to last seeds:\n",
    "\n",
    "#Format: r1_results.loc['49', ['Time']] = '55:10'\n",
    "\n",
    "#Added dns's\n",
    "\n",
    "#Format:\n",
    "#r1_results.loc['74', ['Surname']] = 'Nasman'\n",
    "#r1_results.loc['74', ['First_name']] = 'Linnea'\n",
    "#r1_results.loc['74', ['Time']] = '50:10'\n",
    "#r1_results.loc['74', ['Heat']] = 108 #get heat from bracket_df"
   ]
  },
  {
   "cell_type": "markdown",
   "metadata": {},
   "source": [
    "#### Assign next round heats\n",
    "- This populates the results from Round 1 in the Bracket DF as appropriate based on processing method for this bracket / tournament\n",
    "- Results in each person being assigned to their appropriate next heat"
   ]
  },
  {
   "cell_type": "code",
   "execution_count": null,
   "metadata": {},
   "outputs": [],
   "source": [
    "sart17.nxt_ht_assigns(r2_results, 2)"
   ]
  },
  {
   "cell_type": "code",
   "execution_count": null,
   "metadata": {},
   "outputs": [],
   "source": [
    "#visual for example purposes:\n",
    "sart17.bracket_df[sart17.bracket_df['Nxt_Heat'] == 'Heat 316']"
   ]
  },
  {
   "cell_type": "markdown",
   "metadata": {},
   "source": [
    "#### Print the .txt file with next heat assignments for use in handing out heat assignment info"
   ]
  },
  {
   "cell_type": "code",
   "execution_count": null,
   "metadata": {
    "collapsed": true
   },
   "outputs": [],
   "source": [
    "print(*sart17.print_heat_assigns(3), sep='\\n', file = open(\"2017_event_files/R3_heat_assigns\", 'w'))"
   ]
  },
  {
   "cell_type": "markdown",
   "metadata": {},
   "source": [
    "#### Process the next round CSV for import to SportSoftware with correct heat assignments\n",
    "- This function pulls in the existing CSV, updates the heat assignments, and then in the following line exports a new CSV with those new assignments"
   ]
  },
  {
   "cell_type": "code",
   "execution_count": null,
   "metadata": {
    "collapsed": true
   },
   "outputs": [],
   "source": [
    "r3_ss_import = sart17.assign_nxt_ht_to_ss_import_csv('INSERT FILENAME HERE', 2)\n",
    "#Round must be put in as an integer here!"
   ]
  },
  {
   "cell_type": "code",
   "execution_count": null,
   "metadata": {
    "collapsed": true
   },
   "outputs": [],
   "source": [
    "r3_ss_import.to_csv('2017_event_files/SS_import_R3_with_heats.csv')"
   ]
  },
  {
   "cell_type": "markdown",
   "metadata": {},
   "source": [
    "## Round 3"
   ]
  },
  {
   "cell_type": "markdown",
   "metadata": {},
   "source": [
    "#### Import and process the results from Round 3\n",
    "\n",
    "- Use the CSV results pulled from SportSoftware\n",
    "- Address any ties, mp's, dnf's, and dns's as shown below"
   ]
  },
  {
   "cell_type": "code",
   "execution_count": null,
   "metadata": {},
   "outputs": [],
   "source": [
    "r3_results = sart17.clean_results_csv('INSERT FILENAME HERE')\n",
    "r3_results.sort_values(by='Heat', inplace=True)\n",
    "\n",
    "r3_results.info()"
   ]
  },
  {
   "cell_type": "code",
   "execution_count": null,
   "metadata": {
    "collapsed": true
   },
   "outputs": [],
   "source": [
    "#break ties:\n",
    "\n",
    "#Format: r1_results.loc['67', ['Time']] = '17:19.5'\n",
    "\n",
    "#Set high times to drive mp and dnfs to last seeds:\n",
    "\n",
    "#Format: r1_results.loc['49', ['Time']] = '55:10'\n",
    "\n",
    "#Added dns's\n",
    "\n",
    "#Format:\n",
    "#r1_results.loc['74', ['Surname']] = 'Nasman'\n",
    "#r1_results.loc['74', ['First_name']] = 'Linnea'\n",
    "#r1_results.loc['74', ['Time']] = '50:10'\n",
    "#r1_results.loc['74', ['Heat']] = 108 #get heat from bracket_df"
   ]
  },
  {
   "cell_type": "markdown",
   "metadata": {},
   "source": [
    "#### Assign next round heats\n",
    "- This populates the results from Round 1 in the Bracket DF as appropriate based on processing method for this bracket / tournament\n",
    "- Results in each person being assigned to their appropriate next heat"
   ]
  },
  {
   "cell_type": "code",
   "execution_count": null,
   "metadata": {},
   "outputs": [],
   "source": [
    "sart17.nxt_ht_assigns(r3_results, 3)"
   ]
  },
  {
   "cell_type": "code",
   "execution_count": null,
   "metadata": {},
   "outputs": [],
   "source": [
    "#visual for example purposes:\n",
    "sart17.bracket_df[(sart17.bracket_df['Nxt_Heat'] == 'Heat 311')]"
   ]
  },
  {
   "cell_type": "markdown",
   "metadata": {},
   "source": [
    "#### Print the .txt file with next heat assignments for use in handing out heat assignment info"
   ]
  },
  {
   "cell_type": "code",
   "execution_count": null,
   "metadata": {
    "collapsed": true
   },
   "outputs": [],
   "source": [
    "print(*sart17.print_heat_assigns(4), sep='\\n', file = open(\"2017_event_files/R4_heat_assigns\", 'w'))"
   ]
  },
  {
   "cell_type": "markdown",
   "metadata": {},
   "source": [
    "#### Process the next round CSV for import to SportSoftware with correct heat assignments\n",
    "- This function pulls in the existing CSV, updates the heat assignments, and then in the following line exports a new CSV with those new assignments"
   ]
  },
  {
   "cell_type": "code",
   "execution_count": null,
   "metadata": {
    "collapsed": true
   },
   "outputs": [],
   "source": [
    "r4_ss_import = sart17.assign_nxt_ht_to_ss_import_csv('INSERT FILENAME HERE', 3)\n",
    "#Round must be put in as an integer here!"
   ]
  },
  {
   "cell_type": "code",
   "execution_count": null,
   "metadata": {
    "collapsed": true
   },
   "outputs": [],
   "source": [
    "r4_ss_import.to_csv('2017_event_files/SS_import_R4_with_heats.csv')"
   ]
  },
  {
   "cell_type": "markdown",
   "metadata": {},
   "source": [
    "# Round 4"
   ]
  },
  {
   "cell_type": "markdown",
   "metadata": {},
   "source": [
    "#### Import and process the results from Round 4\n",
    "\n",
    "- Use the CSV results pulled from SportSoftware\n",
    "- Address any ties, mp's, dnf's, and dns's as shown below"
   ]
  },
  {
   "cell_type": "code",
   "execution_count": null,
   "metadata": {},
   "outputs": [],
   "source": [
    "r4_results = sart17.clean_results_csv('INSERT FILENAME HERE')\n",
    "r4_results.sort_values(by='Heat', inplace=True)\n",
    "\n",
    "r4_results.info()"
   ]
  },
  {
   "cell_type": "code",
   "execution_count": null,
   "metadata": {
    "collapsed": true
   },
   "outputs": [],
   "source": [
    "#break ties:\n",
    "\n",
    "#Format: r1_results.loc['67', ['Time']] = '17:19.5'\n",
    "\n",
    "#Set high times to drive mp and dnfs to last seeds:\n",
    "\n",
    "#Format: r1_results.loc['49', ['Time']] = '55:10'\n",
    "\n",
    "#Added dns's\n",
    "\n",
    "#Format:\n",
    "#r1_results.loc['74', ['Surname']] = 'Nasman'\n",
    "#r1_results.loc['74', ['First_name']] = 'Linnea'\n",
    "#r1_results.loc['74', ['Time']] = '50:10'\n",
    "#r1_results.loc['74', ['Heat']] = 108 #get heat from bracket_df"
   ]
  },
  {
   "cell_type": "markdown",
   "metadata": {},
   "source": [
    "#### Assign next round heats\n",
    "- This populates the results from Round 1 in the Bracket DF as appropriate based on processing method for this bracket / tournament\n",
    "- Results in each person being assigned to their appropriate next heat"
   ]
  },
  {
   "cell_type": "code",
   "execution_count": null,
   "metadata": {},
   "outputs": [],
   "source": [
    "sart17.nxt_ht_assigns(r4_results, 4)"
   ]
  },
  {
   "cell_type": "code",
   "execution_count": null,
   "metadata": {},
   "outputs": [],
   "source": [
    "#visual for example purposes:\n",
    "sart17.bracket_df[(sart17.bracket_df['Nxt_Heat'] == 'Heat 511')]"
   ]
  },
  {
   "cell_type": "markdown",
   "metadata": {},
   "source": [
    "#### Print the .txt file with next heat assignments for use in handing out heat assignment info"
   ]
  },
  {
   "cell_type": "code",
   "execution_count": null,
   "metadata": {
    "collapsed": true
   },
   "outputs": [],
   "source": [
    "print(*sart17.print_heat_assigns(5), sep='\\n', file = open(\"2017_event_files/R5_heat_assigns\", 'w'))"
   ]
  },
  {
   "cell_type": "markdown",
   "metadata": {},
   "source": [
    "#### Process the next round CSV for import to SportSoftware with correct heat assignments\n",
    "- This function pulls in the existing CSV, updates the heat assignments, and then in the following line exports a new CSV with those new assignments"
   ]
  },
  {
   "cell_type": "code",
   "execution_count": null,
   "metadata": {
    "collapsed": true
   },
   "outputs": [],
   "source": [
    "r5_ss_import = sart17.assign_nxt_ht_to_ss_import_csv('INSERT FILENAME HERE', 4)\n",
    "#Round must be put in as an integer here!"
   ]
  },
  {
   "cell_type": "code",
   "execution_count": null,
   "metadata": {
    "collapsed": true
   },
   "outputs": [],
   "source": [
    "r5_ss_import.to_csv('2017_event_files/SS_import_R5_with_heats.csv')"
   ]
  },
  {
   "cell_type": "markdown",
   "metadata": {},
   "source": [
    "## Round 5"
   ]
  },
  {
   "cell_type": "markdown",
   "metadata": {},
   "source": [
    "#### Import and process the results from Round 5\n",
    "\n",
    "- Use the CSV results pulled from SportSoftware\n",
    "- Address any ties, mp's, dnf's, and dns's as shown below"
   ]
  },
  {
   "cell_type": "code",
   "execution_count": null,
   "metadata": {
    "collapsed": true
   },
   "outputs": [],
   "source": [
    "r5_results = sart17.clean_results_csv('INSERT FILENAME HERE')"
   ]
  },
  {
   "cell_type": "code",
   "execution_count": null,
   "metadata": {},
   "outputs": [],
   "source": [
    "r5_results.info()"
   ]
  },
  {
   "cell_type": "code",
   "execution_count": null,
   "metadata": {
    "collapsed": true
   },
   "outputs": [],
   "source": [
    "r5_results.sort_values(by=['Heat', 'Time'], ascending=[False, True], inplace=True)"
   ]
  },
  {
   "cell_type": "code",
   "execution_count": null,
   "metadata": {
    "collapsed": true
   },
   "outputs": [],
   "source": [
    "r5_results.reset_index(inplace=True, drop=True)\n",
    "r5_results.index += 1"
   ]
  },
  {
   "cell_type": "code",
   "execution_count": null,
   "metadata": {
    "collapsed": true
   },
   "outputs": [],
   "source": [
    "#break ties:\n",
    "#Format: r5_results.loc['11', ['Time']] = '29:45.5' #Jud vs Terry\n",
    "\n",
    "#Set high times to drive mp and dnfs (and disqs) to last seeds:\n",
    "#Format: r5_results.loc['xx', ['Time']] = '59:00'\n",
    "\n",
    "#Added dns's\n",
    "#Format:\n",
    "#r4_results.loc['74', ['Surname']] = 'Nordberg'\n",
    "#r4_results.loc['74', ['First_name']] = 'Robin'\n",
    "#r4_results.loc['74', ['Time']] = '59:10'\n",
    "#r4_results.loc['74', ['Heat']] = 416"
   ]
  },
  {
   "cell_type": "markdown",
   "metadata": {},
   "source": [
    "#### print .txt file with final results!"
   ]
  },
  {
   "cell_type": "code",
   "execution_count": null,
   "metadata": {},
   "outputs": [],
   "source": [
    "print(*sart17.print_final_results(r5_results), sep='\\n', file = open(\"2017_event_files/Final_Results\", 'w'))"
   ]
  },
  {
   "cell_type": "code",
   "execution_count": null,
   "metadata": {
    "collapsed": true
   },
   "outputs": [],
   "source": []
  }
 ],
 "metadata": {
  "kernelspec": {
   "display_name": "Python 2",
   "language": "python",
   "name": "python2"
  },
  "language_info": {
   "codemirror_mode": {
    "name": "ipython",
    "version": 2
   },
   "file_extension": ".py",
   "mimetype": "text/x-python",
   "name": "python",
   "nbconvert_exporter": "python",
   "pygments_lexer": "ipython2",
   "version": "2.7.13"
  }
 },
 "nbformat": 4,
 "nbformat_minor": 2
}
