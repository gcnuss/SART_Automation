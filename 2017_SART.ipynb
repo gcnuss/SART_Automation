{
 "cells": [
  {
   "cell_type": "markdown",
   "metadata": {},
   "source": [
    "## Initial Event Preparation\n",
    "- Occurs pre-event\n",
    "- Instantiate class and define bracket format via the dictionary and lists of tuples as shown below"
   ]
  },
  {
   "cell_type": "code",
   "execution_count": 1,
   "metadata": {
    "collapsed": true
   },
   "outputs": [],
   "source": [
    "from SART_Class_v2 import SART\n",
    "import pandas as pd"
   ]
  },
  {
   "cell_type": "code",
   "execution_count": 2,
   "metadata": {
    "collapsed": true
   },
   "outputs": [],
   "source": [
    "r0_seeds = {'Heat 101': [1, 32, 33, 64, 65], 'Heat 102': [16, 17, 48, 49, 80],\n",
    "    'Heat 103': [8, 25, 40, 57, 72], 'Heat 104': [9, 24, 41, 56, 73],\n",
    "    'Heat 105': [4, 29, 36, 61, 68], 'Heat 106': [13, 20, 45, 52, 77],\n",
    "    'Heat 107': [5, 28, 37, 60, 69], 'Heat 108': [12, 21, 44, 53, 76],\n",
    "    'Heat 109': [2, 31, 34, 63, 66], 'Heat 110': [15, 18, 47, 50, 79],\n",
    "    'Heat 111': [7, 26, 39, 58, 71], 'Heat 112': [10, 23, 42, 55, 74],\n",
    "    'Heat 113': [3, 30, 35, 62, 67], 'Heat 114': [14, 19, 46, 51, 78],\n",
    "    'Heat 115': [6, 27, 38, 59, 70], 'Heat 116': [11, 22, 43, 54, 75]}\n",
    "\n",
    "#heat pairs round 1 - 4:\n",
    "h_pairs = [(101, 102), (103, 104), (105, 106), (107, 108), (109, 110),\n",
    "    (111, 112), (113, 114), (115, 116), (201, 203), (205, 207), (209, 211),\n",
    "    (213, 215), (202, 204), (206, 208), (210, 212), (214, 216), (301, 302),\n",
    "    (303, 304), (305, 306), (307, 308), (309, 310), (311, 312), (313, 314),\n",
    "    (315, 316), (401, 402), (403, 404), (405, 406), (407, 408), (409, 410),\n",
    "    (411, 412), (413, 414), (415, 416)]\n",
    "\n",
    "#heat pairs round 2 - 5 that prior round feed into e.g. 101, 102 feed into 201, 202:\n",
    "fd_into_ht_pairs = [(201, 202), (203, 204), (205, 206), (207, 208),\n",
    "    (209, 210), (211, 212), (213, 214), (215, 216), (316, 312), (315, 311),\n",
    "    (314, 310), (313, 309), (308, 304), (307, 303), (306, 302), (305, 301),\n",
    "    (403, 401), (404, 402), (407, 405), (408, 406), (411, 409), (412, 410),\n",
    "    (415, 413), (416, 414), (502, 501), (504, 503), (506, 505), (508, 507),\n",
    "    (510, 509), (512, 511), (514, 513), (516, 515)]\n",
    "\n",
    "#Bracket columns:\n",
    "columns = ['Round', 'Nxt_Heat', 'First_name', 'Surname', 'Time', 'Nxt_Heat_Time']\n",
    "\n",
    "#Heat start times:\n",
    "#Heat start times:\n",
    "start_times = {'Heat 101': '12:00pm',\n",
    "             'Heat 102': '12:03pm',\n",
    "             'Heat 103': '12:06pm',\n",
    "             'Heat 104': '12:09pm',\n",
    "             'Heat 105': '12:12pm',\n",
    "             'Heat 106': '12:15pm',\n",
    "             'Heat 107': '12:18pm',\n",
    "             'Heat 108': '12:21pm',\n",
    "             'Heat 109': '12:24pm',\n",
    "             'Heat 110': '12:27pm',\n",
    "             'Heat 111': '12:30pm',\n",
    "             'Heat 112': '12:33pm',\n",
    "             'Heat 113': '12:36pm',\n",
    "             'Heat 114': '12:39pm',\n",
    "             'Heat 115': '12:42pm',\n",
    "             'Heat 116': '12:45pm',\n",
    "             'Heat 201': '3:00pm',\n",
    "             'Heat 202': '3:03pm',\n",
    "             'Heat 203': '3:06pm',\n",
    "             'Heat 204': '3:09pm',\n",
    "             'Heat 205': '3:12pm',\n",
    "             'Heat 206': '3:15pm',\n",
    "             'Heat 207': '3:18pm',\n",
    "             'Heat 208': '3:21pm',\n",
    "             'Heat 209': '3:24pm',\n",
    "             'Heat 210': '3:27pm',\n",
    "             'Heat 211': '3:30pm',\n",
    "             'Heat 212': '3:33pm',\n",
    "             'Heat 213': '3:36pm',\n",
    "             'Heat 214': '3:39pm',\n",
    "             'Heat 215': '3:42pm',\n",
    "             'Heat 216': '3:45pm',\n",
    "             'Heat 301': '8:00pm',\n",
    "             'Heat 302': '8:03pm',\n",
    "             'Heat 303': '8:06pm',\n",
    "             'Heat 304': '8:09pm',\n",
    "             'Heat 305': '8:12pm',\n",
    "             'Heat 306': '8:15pm',\n",
    "             'Heat 307': '8:18pm',\n",
    "             'Heat 308': '8:21pm',\n",
    "             'Heat 309': '8:24pm',\n",
    "             'Heat 310': '8:27pm',\n",
    "             'Heat 311': '8:30pm',\n",
    "             'Heat 312': '8:33pm',\n",
    "             'Heat 313': '8:36pm',\n",
    "             'Heat 314': '8:39pm',\n",
    "             'Heat 315': '8:42pm',\n",
    "             'Heat 316': '8:45pm',\n",
    "             'Heat 401': '9:15am',\n",
    "             'Heat 402': '9:18am',\n",
    "             'Heat 403': '9:21am',\n",
    "             'Heat 404': '9:24am',\n",
    "             'Heat 405': '9:27am',\n",
    "             'Heat 406': '9:30am',\n",
    "             'Heat 407': '9:33am',\n",
    "             'Heat 408': '9:36am',\n",
    "             'Heat 409': '9:39am',\n",
    "             'Heat 410': '9:42am',\n",
    "             'Heat 411': '9:45am',\n",
    "             'Heat 412': '9:48am',\n",
    "             'Heat 413': '9:51am',\n",
    "             'Heat 414': '9:54am',\n",
    "             'Heat 415': '9:57am',\n",
    "             'Heat 416': '10:00am',\n",
    "             'Heat 501': '11:15am',\n",
    "             'Heat 502': '11:18am',\n",
    "             'Heat 503': '11:21am',\n",
    "             'Heat 504': '11:24am',\n",
    "             'Heat 505': '11:27am',\n",
    "             'Heat 506': '11:30am',\n",
    "             'Heat 507': '11:33am',\n",
    "             'Heat 508': '11:36am',\n",
    "             'Heat 509': '11:39am',\n",
    "             'Heat 510': '11:42am',\n",
    "             'Heat 511': '11:45am',\n",
    "             'Heat 512': '11:48am',\n",
    "             'Heat 513': '11:51am',\n",
    "             'Heat 514': '11:54am',\n",
    "             'Heat 515': '11:57am',\n",
    "             'Heat 516': '12:00pm'}"
   ]
  },
  {
   "cell_type": "code",
   "execution_count": 3,
   "metadata": {
    "collapsed": true
   },
   "outputs": [],
   "source": [
    "sart17 = SART(r0_seeds, h_pairs, fd_into_ht_pairs, columns, start_times)"
   ]
  },
  {
   "cell_type": "markdown",
   "metadata": {},
   "source": [
    "#### Call Functions to prepare the keys for our DataFrame\n",
    "- Using the r0_seeds, h_pairs, and fd_into_ht_pairs data\n",
    "- This is done in a few functions behind the scenes for this class"
   ]
  },
  {
   "cell_type": "code",
   "execution_count": 4,
   "metadata": {
    "collapsed": true
   },
   "outputs": [],
   "source": [
    "sart17.prepare_sd_h_keys()"
   ]
  },
  {
   "cell_type": "markdown",
   "metadata": {},
   "source": [
    "#### Create the Bracket DataFrame"
   ]
  },
  {
   "cell_type": "code",
   "execution_count": 5,
   "metadata": {
    "collapsed": true
   },
   "outputs": [],
   "source": [
    "sart17.create_bracket()"
   ]
  },
  {
   "cell_type": "code",
   "execution_count": 6,
   "metadata": {},
   "outputs": [
    {
     "data": {
      "text/html": [
       "<div>\n",
       "<style>\n",
       "    .dataframe thead tr:only-child th {\n",
       "        text-align: right;\n",
       "    }\n",
       "\n",
       "    .dataframe thead th {\n",
       "        text-align: left;\n",
       "    }\n",
       "\n",
       "    .dataframe tbody tr th {\n",
       "        vertical-align: top;\n",
       "    }\n",
       "</style>\n",
       "<table border=\"1\" class=\"dataframe\">\n",
       "  <thead>\n",
       "    <tr style=\"text-align: right;\">\n",
       "      <th></th>\n",
       "      <th>Round</th>\n",
       "      <th>Nxt_Heat</th>\n",
       "      <th>First_name</th>\n",
       "      <th>Surname</th>\n",
       "      <th>Time</th>\n",
       "      <th>Nxt_Heat_Time</th>\n",
       "    </tr>\n",
       "    <tr>\n",
       "      <th>Seed</th>\n",
       "      <th></th>\n",
       "      <th></th>\n",
       "      <th></th>\n",
       "      <th></th>\n",
       "      <th></th>\n",
       "      <th></th>\n",
       "    </tr>\n",
       "  </thead>\n",
       "  <tbody>\n",
       "    <tr>\n",
       "      <th>1</th>\n",
       "      <td>0</td>\n",
       "      <td>Heat 101</td>\n",
       "      <td>NaN</td>\n",
       "      <td>NaN</td>\n",
       "      <td>NaN</td>\n",
       "      <td>12:00pm</td>\n",
       "    </tr>\n",
       "    <tr>\n",
       "      <th>2</th>\n",
       "      <td>0</td>\n",
       "      <td>Heat 109</td>\n",
       "      <td>NaN</td>\n",
       "      <td>NaN</td>\n",
       "      <td>NaN</td>\n",
       "      <td>12:24pm</td>\n",
       "    </tr>\n",
       "    <tr>\n",
       "      <th>3</th>\n",
       "      <td>0</td>\n",
       "      <td>Heat 113</td>\n",
       "      <td>NaN</td>\n",
       "      <td>NaN</td>\n",
       "      <td>NaN</td>\n",
       "      <td>12:36pm</td>\n",
       "    </tr>\n",
       "    <tr>\n",
       "      <th>4</th>\n",
       "      <td>0</td>\n",
       "      <td>Heat 105</td>\n",
       "      <td>NaN</td>\n",
       "      <td>NaN</td>\n",
       "      <td>NaN</td>\n",
       "      <td>12:12pm</td>\n",
       "    </tr>\n",
       "    <tr>\n",
       "      <th>5</th>\n",
       "      <td>0</td>\n",
       "      <td>Heat 107</td>\n",
       "      <td>NaN</td>\n",
       "      <td>NaN</td>\n",
       "      <td>NaN</td>\n",
       "      <td>12:18pm</td>\n",
       "    </tr>\n",
       "  </tbody>\n",
       "</table>\n",
       "</div>"
      ],
      "text/plain": [
       "     Round  Nxt_Heat First_name Surname Time Nxt_Heat_Time\n",
       "Seed                                                      \n",
       "1        0  Heat 101        NaN     NaN  NaN       12:00pm\n",
       "2        0  Heat 109        NaN     NaN  NaN       12:24pm\n",
       "3        0  Heat 113        NaN     NaN  NaN       12:36pm\n",
       "4        0  Heat 105        NaN     NaN  NaN       12:12pm\n",
       "5        0  Heat 107        NaN     NaN  NaN       12:18pm"
      ]
     },
     "execution_count": 6,
     "metadata": {},
     "output_type": "execute_result"
    }
   ],
   "source": [
    "sart17.bracket_df.head()"
   ]
  },
  {
   "cell_type": "code",
   "execution_count": 7,
   "metadata": {},
   "outputs": [
    {
     "name": "stdout",
     "output_type": "stream",
     "text": [
      "<class 'pandas.core.frame.DataFrame'>\n",
      "Index: 400 entries, 1 to W416\n",
      "Data columns (total 6 columns):\n",
      "Round            400 non-null object\n",
      "Nxt_Heat         400 non-null object\n",
      "First_name       0 non-null object\n",
      "Surname          0 non-null object\n",
      "Time             0 non-null object\n",
      "Nxt_Heat_Time    400 non-null object\n",
      "dtypes: object(6)\n",
      "memory usage: 21.9+ KB\n"
     ]
    }
   ],
   "source": [
    "sart17.bracket_df.info()\n",
    "#for a bracket of 80 people and 5 rounds, total s/b 400 and it is"
   ]
  },
  {
   "cell_type": "markdown",
   "metadata": {},
   "source": [
    "## Time Trial"
   ]
  },
  {
   "cell_type": "markdown",
   "metadata": {},
   "source": [
    "#### Process the time trial results\n",
    "- Use the CSV results file pulled from SportSoftware\n",
    "- Address any ties, mp's, dnf's, and dns's as shown below"
   ]
  },
  {
   "cell_type": "code",
   "execution_count": 8,
   "metadata": {
    "collapsed": true
   },
   "outputs": [],
   "source": [
    "sart17.process_time_trial_results('2017_event_files/TT_R0_Results.csv')"
   ]
  },
  {
   "cell_type": "code",
   "execution_count": 9,
   "metadata": {},
   "outputs": [
    {
     "data": {
      "text/plain": [
       "'Warning: Ties exist - diff in list length is 9.  Fix before proceeding.'"
      ]
     },
     "execution_count": 9,
     "metadata": {},
     "output_type": "execute_result"
    }
   ],
   "source": [
    "sart17._check_TT_for_ties()"
   ]
  },
  {
   "cell_type": "code",
   "execution_count": 10,
   "metadata": {},
   "outputs": [
    {
     "data": {
      "text/html": [
       "<div>\n",
       "<style>\n",
       "    .dataframe thead tr:only-child th {\n",
       "        text-align: right;\n",
       "    }\n",
       "\n",
       "    .dataframe thead th {\n",
       "        text-align: left;\n",
       "    }\n",
       "\n",
       "    .dataframe tbody tr th {\n",
       "        vertical-align: top;\n",
       "    }\n",
       "</style>\n",
       "<table border=\"1\" class=\"dataframe\">\n",
       "  <thead>\n",
       "    <tr style=\"text-align: right;\">\n",
       "      <th></th>\n",
       "      <th>Surname</th>\n",
       "      <th>First_name</th>\n",
       "      <th>Time</th>\n",
       "      <th>Seed</th>\n",
       "    </tr>\n",
       "  </thead>\n",
       "  <tbody>\n",
       "    <tr>\n",
       "      <th>64</th>\n",
       "      <td>Kelley</td>\n",
       "      <td>Jud</td>\n",
       "      <td>0:13:06</td>\n",
       "      <td>65</td>\n",
       "    </tr>\n",
       "    <tr>\n",
       "      <th>65</th>\n",
       "      <td>Forgrave</td>\n",
       "      <td>Bob</td>\n",
       "      <td>0:13:08</td>\n",
       "      <td>66</td>\n",
       "    </tr>\n",
       "    <tr>\n",
       "      <th>66</th>\n",
       "      <td>Ricks</td>\n",
       "      <td>Kristy</td>\n",
       "      <td>0:13:21</td>\n",
       "      <td>67</td>\n",
       "    </tr>\n",
       "    <tr>\n",
       "      <th>67</th>\n",
       "      <td>Byers</td>\n",
       "      <td>Kate</td>\n",
       "      <td>0:13:45</td>\n",
       "      <td>68</td>\n",
       "    </tr>\n",
       "    <tr>\n",
       "      <th>68</th>\n",
       "      <td>Nasman</td>\n",
       "      <td>Linnea</td>\n",
       "      <td>0:13:45</td>\n",
       "      <td>69</td>\n",
       "    </tr>\n",
       "    <tr>\n",
       "      <th>69</th>\n",
       "      <td>Buchholz</td>\n",
       "      <td>Larson</td>\n",
       "      <td>0:14:23</td>\n",
       "      <td>70</td>\n",
       "    </tr>\n",
       "    <tr>\n",
       "      <th>70</th>\n",
       "      <td>Klinge</td>\n",
       "      <td>Jill</td>\n",
       "      <td>0:14:45</td>\n",
       "      <td>71</td>\n",
       "    </tr>\n",
       "    <tr>\n",
       "      <th>71</th>\n",
       "      <td>Lee</td>\n",
       "      <td>Brandon</td>\n",
       "      <td>0:17:06</td>\n",
       "      <td>72</td>\n",
       "    </tr>\n",
       "    <tr>\n",
       "      <th>72</th>\n",
       "      <td>Hopkins</td>\n",
       "      <td>Kyle</td>\n",
       "      <td>0:17:48</td>\n",
       "      <td>73</td>\n",
       "    </tr>\n",
       "    <tr>\n",
       "      <th>73</th>\n",
       "      <td>Hopkins</td>\n",
       "      <td>Jared</td>\n",
       "      <td>0:33:52</td>\n",
       "      <td>74</td>\n",
       "    </tr>\n",
       "  </tbody>\n",
       "</table>\n",
       "</div>"
      ],
      "text/plain": [
       "     Surname First_name     Time  Seed\n",
       "64    Kelley        Jud  0:13:06    65\n",
       "65  Forgrave        Bob  0:13:08    66\n",
       "66     Ricks     Kristy  0:13:21    67\n",
       "67     Byers       Kate  0:13:45    68\n",
       "68    Nasman     Linnea  0:13:45    69\n",
       "69  Buchholz     Larson  0:14:23    70\n",
       "70    Klinge       Jill  0:14:45    71\n",
       "71       Lee    Brandon  0:17:06    72\n",
       "72   Hopkins       Kyle  0:17:48    73\n",
       "73   Hopkins      Jared  0:33:52    74"
      ]
     },
     "execution_count": 10,
     "metadata": {},
     "output_type": "execute_result"
    }
   ],
   "source": [
    "sart17.tt_df_cleaned.tail(10)"
   ]
  },
  {
   "cell_type": "code",
   "execution_count": 11,
   "metadata": {
    "collapsed": true
   },
   "outputs": [],
   "source": [
    "sart17.tt_df_cleaned.sort_values(by='Seed', inplace=True)\n",
    "\n",
    "#Adjusting seeds to break ties based on time at go control:\n",
    "\n",
    "#Chris, Brett\n",
    "sart17.tt_df_cleaned.loc['21', ['Time']] = '0:09:24'\n",
    "sart17.tt_df_cleaned.loc['22', ['Time']] = '0:09:24.5'\n",
    "\n",
    "#Ethan, Carlo\n",
    "sart17.tt_df_cleaned.loc['24', ['Seed']] = 26\n",
    "sart17.tt_df_cleaned.loc['24', ['Time']] = '0:09:26.5'\n",
    "sart17.tt_df_cleaned.loc['25', ['Seed']] = 25\n",
    "sart17.tt_df_cleaned.loc['25', ['Time']] = '0:09:26'\n",
    "\n",
    "#Ott, Kyle\n",
    "sart17.tt_df_cleaned.loc['27', ['Time']] = '0:09:35'\n",
    "sart17.tt_df_cleaned.loc['28', ['Time']] = '0:09:35.5'\n",
    "\n",
    "#Rachel, Matt F\n",
    "sart17.tt_df_cleaned.loc['31', ['Time']] = '0:09:51'\n",
    "sart17.tt_df_cleaned.loc['32', ['Time']] = '0:09:51.5'\n",
    "\n",
    "#David V, RJ\n",
    "sart17.tt_df_cleaned.loc['39', ['Seed']] = 41\n",
    "sart17.tt_df_cleaned.loc['39', ['Time']] = '0:10:13.5'\n",
    "sart17.tt_df_cleaned.loc['40', ['Seed']] = 40\n",
    "sart17.tt_df_cleaned.loc['40', ['Time']] = '0:10:13'\n",
    "\n",
    "#Christophe, Ryan B\n",
    "sart17.tt_df_cleaned.loc['43', ['Seed']] = 45\n",
    "sart17.tt_df_cleaned.loc['43', ['Time']] = '0:10:17.5'\n",
    "sart17.tt_df_cleaned.loc['44', ['Seed']] = 44\n",
    "sart17.tt_df_cleaned.loc['44', ['Time']] = '0:10:17'\n",
    "\n",
    "#Sherri Jessica, Joanne\n",
    "sart17.tt_df_cleaned.loc['48', ['Seed']] = 49\n",
    "sart17.tt_df_cleaned.loc['48', ['Time']] = '0:10:36'\n",
    "sart17.tt_df_cleaned.loc['49', ['Seed']] = 51\n",
    "sart17.tt_df_cleaned.loc['49', ['Time']] = '0:10:36.5'\n",
    "sart17.tt_df_cleaned.loc['50', ['Seed']] = 50\n",
    "sart17.tt_df_cleaned.loc['50', ['Time']] = '0:10:36.2'\n",
    "\n",
    "#Kate, Linnea\n",
    "sart17.tt_df_cleaned.loc['67', ['Time']] = '0:13:45'\n",
    "sart17.tt_df_cleaned.loc['68', ['Time']] = '0:13:45.5'\n",
    "\n",
    "#Add DNS's\n",
    "sart17.tt_df_cleaned.loc['74', ['Surname']] = 'Cassata'\n",
    "sart17.tt_df_cleaned.loc['74', ['First_name']] = 'Julie'\n",
    "sart17.tt_df_cleaned.loc['74', ['Time']] = '0:59:00'\n",
    "sart17.tt_df_cleaned.loc['74', ['Seed']] = 75\n",
    "#sart17.tt_df_cleaned.loc['75', ['Heat']] = 116 #get from bracket_df\n",
    "\n",
    "sart17.tt_df_cleaned.loc['75', ['Surname']] = 'Bone'\n",
    "sart17.tt_df_cleaned.loc['75', ['First_name']] = 'Eric'\n",
    "sart17.tt_df_cleaned.loc['75', ['Time']] = '0:59:10'\n",
    "sart17.tt_df_cleaned.loc['75', ['Seed']] = 76\n",
    "#sart17.tt_df_cleaned.loc['76', ['Heat']] = 108 #get from bracket_df\n",
    "\n",
    "sart17.tt_df_cleaned.loc['76', ['Surname']] = 'Cutler'\n",
    "sart17.tt_df_cleaned.loc['76', ['First_name']] = 'Courtney'\n",
    "sart17.tt_df_cleaned.loc['76', ['Time']] = '0:59:20'\n",
    "sart17.tt_df_cleaned.loc['76', ['Seed']] = 77\n",
    "#sart17.tt_df_cleaned.loc['77', ['Heat']] = 106 #get from bracket_df\n",
    "\n",
    "sart17.tt_df_cleaned.loc['77', ['Surname']] = 'Ratliff'\n",
    "sart17.tt_df_cleaned.loc['77', ['First_name']] = 'Hayden'\n",
    "sart17.tt_df_cleaned.loc['77', ['Time']] = '0:59:30'\n",
    "sart17.tt_df_cleaned.loc['77', ['Seed']] = 78\n",
    "#sart17.tt_df_cleaned.loc['78', ['Heat']] = 114 #get from bracket_df\n",
    "\n",
    "sart17.tt_df_cleaned.loc['78', ['Surname']] = 'Smith'\n",
    "sart17.tt_df_cleaned.loc['78', ['First_name']] = 'Ben'\n",
    "sart17.tt_df_cleaned.loc['78', ['Time']] = '0:59:40'\n",
    "sart17.tt_df_cleaned.loc['78', ['Seed']] = 79\n",
    "#sart17.tt_df_cleaned.loc['79', ['Heat']] = 110 #get from bracket_df\n",
    "\n",
    "sart17.tt_df_cleaned.loc['79', ['Surname']] = 'Gusiatnikov'\n",
    "sart17.tt_df_cleaned.loc['79', ['First_name']] = 'Vladimir'\n",
    "sart17.tt_df_cleaned.loc['79', ['Time']] = '0:59:50'\n",
    "sart17.tt_df_cleaned.loc['79', ['Seed']] = 80\n",
    "#sart17.tt_df_cleaned.loc['80', ['Heat']] = 102 #get from bracket_df\n",
    "\n",
    "#These steps completed by reviewing data and pulling tie-breakers from SS; tie break is who is ahead at the go control"
   ]
  },
  {
   "cell_type": "markdown",
   "metadata": {},
   "source": [
    "#### Add the time trial results to the Bracket DataFrame Using Seed as Key\n",
    "- Now each person has their Round 1 Heat Assignment since those were already associated with each seed in the Bracket DF"
   ]
  },
  {
   "cell_type": "code",
   "execution_count": 12,
   "metadata": {},
   "outputs": [
    {
     "name": "stdout",
     "output_type": "stream",
     "text": [
      "No Ties, results added to bracket!\n"
     ]
    }
   ],
   "source": [
    "sart17.add_time_trial_results()"
   ]
  },
  {
   "cell_type": "markdown",
   "metadata": {},
   "source": [
    "#### Print the .txt file with next heat assignments for use in handing out heat assignment info"
   ]
  },
  {
   "cell_type": "code",
   "execution_count": 13,
   "metadata": {
    "collapsed": true
   },
   "outputs": [],
   "source": [
    "from __future__ import print_function\n",
    "print(*sart17.print_heat_assigns(1), sep='\\n', file = open(\"2017_event_files/R1_heat_assigns.txt\", 'w'))"
   ]
  },
  {
   "cell_type": "markdown",
   "metadata": {},
   "source": [
    "#### Process the next round CSV for import to SportSoftware with correct heat assignments\n",
    "- This function pulls in the existing CSV, updates the heat assignments, and then in the following line exports a new CSV with those new assignments"
   ]
  },
  {
   "cell_type": "code",
   "execution_count": 14,
   "metadata": {
    "collapsed": true
   },
   "outputs": [],
   "source": [
    "r1_ss_import = sart17.assign_nxt_ht_to_ss_import_csv('2017_event_files/EntryForOE-R01-Lynndale-preevent.csv', 0)\n",
    "#Round must be put in as an integer here!"
   ]
  },
  {
   "cell_type": "code",
   "execution_count": 15,
   "metadata": {
    "collapsed": true
   },
   "outputs": [],
   "source": [
    "r1_ss_import.to_csv('2017_event_files/SS_import_R1_with_heats.csv', index=False)"
   ]
  },
  {
   "cell_type": "markdown",
   "metadata": {},
   "source": [
    "## Round 1"
   ]
  },
  {
   "cell_type": "markdown",
   "metadata": {},
   "source": [
    "#### Import and process the results from Round 1\n",
    "\n",
    "- Use the CSV results pulled from SportSoftware\n",
    "- Address any ties, mp's, dnf's, and dns's as shown below"
   ]
  },
  {
   "cell_type": "code",
   "execution_count": 16,
   "metadata": {},
   "outputs": [
    {
     "name": "stdout",
     "output_type": "stream",
     "text": [
      "<class 'pandas.core.frame.DataFrame'>\n",
      "Index: 76 entries, 4 to 73\n",
      "Data columns (total 4 columns):\n",
      "Surname       76 non-null object\n",
      "First_name    76 non-null object\n",
      "Time          76 non-null object\n",
      "Heat          76 non-null int64\n",
      "dtypes: int64(1), object(3)\n",
      "memory usage: 3.0+ KB\n"
     ]
    }
   ],
   "source": [
    "r1_results = sart17.clean_results_csv('2017_event_files/R1_Lynndale_Results.csv')\n",
    "r1_results.sort_values(by='Heat', inplace=True)\n",
    "\n",
    "r1_results.info()"
   ]
  },
  {
   "cell_type": "code",
   "execution_count": 17,
   "metadata": {},
   "outputs": [
    {
     "data": {
      "text/plain": [
       "(     Surname First_name     Time  Heat\n",
       " 51    Klinge       Jill  0:33:44   111\n",
       " 49    Mihata     Annika  0:23:17   111\n",
       " 47    Laraia     Thomas  0:18:09   111\n",
       " 48  O'Connor      Ethan  0:22:19   111\n",
       " 50  Colleran     Joshua  0:23:19   111,\n",
       "       Surname First_name     Time  Heat\n",
       " 52    Doubson      Julia  0:18:09   112\n",
       " 56    Hopkins      Jared  0:42:51   112\n",
       " 54   Buchholz      Brett  0:21:26   112\n",
       " 55   Collings      Laura  0:25:00   112\n",
       " 53  Potrebich       Nina  0:20:28   112)"
      ]
     },
     "execution_count": 17,
     "metadata": {},
     "output_type": "execute_result"
    }
   ],
   "source": [
    "r1_results[r1_results['Heat']==111], r1_results[r1_results['Heat']==112]"
   ]
  },
  {
   "cell_type": "code",
   "execution_count": 18,
   "metadata": {
    "collapsed": true
   },
   "outputs": [],
   "source": [
    "#break ties:\n",
    "\n",
    "#Thomas L, Julia D\n",
    "r1_results.loc['47', ['Time']] = '0:18:09.5'\n",
    "\n",
    "#Set high times to drive mp and dnfs to last seeds:\n",
    "\n",
    "#Lillian Bakker mp\n",
    "r1_results.loc['42', ['Time']] = '59:00'\n",
    "\n",
    "#Jared Hopkins dnf\n",
    "r1_results.loc['56', ['Time']] = '59:01'\n",
    "\n",
    "#Added dns'\n",
    "r1_results.loc['76', ['Surname']] = 'Gusiatnikov'\n",
    "r1_results.loc['76', ['First_name']] = 'Vladimir'\n",
    "r1_results.loc['76', ['Time']] = '59:10'\n",
    "r1_results.loc['76', ['Heat']] = 102 #get heat from bracket_df\n",
    "\n",
    "r1_results.loc['77', ['Surname']] = 'Cutler'\n",
    "r1_results.loc['77', ['First_name']] = 'Courtney'\n",
    "r1_results.loc['77', ['Time']] = '59:20'\n",
    "r1_results.loc['77', ['Heat']] = 114 #get heat from bracket_df\n",
    "\n",
    "r1_results.loc['78', ['Surname']] = 'Smith'\n",
    "r1_results.loc['78', ['First_name']] = 'Ben'\n",
    "r1_results.loc['78', ['Time']] = '59:30'\n",
    "r1_results.loc['78', ['Heat']] = 110 #get heat from bracket_df\n",
    "\n",
    "r1_results.loc['79', ['Surname']] = 'Ratliff'\n",
    "r1_results.loc['79', ['First_name']] = 'Hayden'\n",
    "r1_results.loc['79', ['Time']] = '59:40'\n",
    "r1_results.loc['79', ['Heat']] = 106 #get heat from bracket_df"
   ]
  },
  {
   "cell_type": "markdown",
   "metadata": {},
   "source": [
    "#### Assign next round heats\n",
    "- This populates the results from Round 1 in the Bracket DF as appropriate based on processing method for this bracket / tournament\n",
    "- Results in each person being assigned to their appropriate next heat"
   ]
  },
  {
   "cell_type": "code",
   "execution_count": 19,
   "metadata": {},
   "outputs": [
    {
     "name": "stdout",
     "output_type": "stream",
     "text": [
      "No Ties, proceeding with next heat assignments!\n",
      "No Ties, proceeding with next heat assignments!\n",
      "No Ties, proceeding with next heat assignments!\n",
      "No Ties, proceeding with next heat assignments!\n",
      "No Ties, proceeding with next heat assignments!\n",
      "No Ties, proceeding with next heat assignments!\n",
      "No Ties, proceeding with next heat assignments!\n",
      "No Ties, proceeding with next heat assignments!\n"
     ]
    }
   ],
   "source": [
    "sart17.nxt_ht_assigns(r1_results, 1)"
   ]
  },
  {
   "cell_type": "code",
   "execution_count": 20,
   "metadata": {},
   "outputs": [
    {
     "data": {
      "text/html": [
       "<div>\n",
       "<style>\n",
       "    .dataframe thead tr:only-child th {\n",
       "        text-align: right;\n",
       "    }\n",
       "\n",
       "    .dataframe thead th {\n",
       "        text-align: left;\n",
       "    }\n",
       "\n",
       "    .dataframe tbody tr th {\n",
       "        vertical-align: top;\n",
       "    }\n",
       "</style>\n",
       "<table border=\"1\" class=\"dataframe\">\n",
       "  <thead>\n",
       "    <tr style=\"text-align: right;\">\n",
       "      <th></th>\n",
       "      <th>Round</th>\n",
       "      <th>Nxt_Heat</th>\n",
       "      <th>First_name</th>\n",
       "      <th>Surname</th>\n",
       "      <th>Time</th>\n",
       "      <th>Nxt_Heat_Time</th>\n",
       "    </tr>\n",
       "    <tr>\n",
       "      <th>Seed</th>\n",
       "      <th></th>\n",
       "      <th></th>\n",
       "      <th></th>\n",
       "      <th></th>\n",
       "      <th></th>\n",
       "      <th></th>\n",
       "    </tr>\n",
       "  </thead>\n",
       "  <tbody>\n",
       "    <tr>\n",
       "      <th>105/106-Q4</th>\n",
       "      <td>1</td>\n",
       "      <td>Heat 206</td>\n",
       "      <td>Kyle</td>\n",
       "      <td>Haddad-Fonda</td>\n",
       "      <td>0:21:43</td>\n",
       "      <td>3:15pm</td>\n",
       "    </tr>\n",
       "    <tr>\n",
       "      <th>105/106-Q5</th>\n",
       "      <td>1</td>\n",
       "      <td>Heat 206</td>\n",
       "      <td>Emily</td>\n",
       "      <td>Ross</td>\n",
       "      <td>0:22:53</td>\n",
       "      <td>3:15pm</td>\n",
       "    </tr>\n",
       "    <tr>\n",
       "      <th>105/106-Q6</th>\n",
       "      <td>1</td>\n",
       "      <td>Heat 206</td>\n",
       "      <td>Oleg</td>\n",
       "      <td>Slyusarchuk</td>\n",
       "      <td>0:23:39</td>\n",
       "      <td>3:15pm</td>\n",
       "    </tr>\n",
       "    <tr>\n",
       "      <th>105/106-Q7</th>\n",
       "      <td>1</td>\n",
       "      <td>Heat 206</td>\n",
       "      <td>Kate</td>\n",
       "      <td>Byers</td>\n",
       "      <td>0:32:49</td>\n",
       "      <td>3:15pm</td>\n",
       "    </tr>\n",
       "    <tr>\n",
       "      <th>105/106-Q8</th>\n",
       "      <td>1</td>\n",
       "      <td>Heat 206</td>\n",
       "      <td>Hayden</td>\n",
       "      <td>Ratliff</td>\n",
       "      <td>59:40</td>\n",
       "      <td>3:15pm</td>\n",
       "    </tr>\n",
       "  </tbody>\n",
       "</table>\n",
       "</div>"
      ],
      "text/plain": [
       "           Round  Nxt_Heat First_name       Surname     Time Nxt_Heat_Time\n",
       "Seed                                                                      \n",
       "105/106-Q4     1  Heat 206       Kyle  Haddad-Fonda  0:21:43        3:15pm\n",
       "105/106-Q5     1  Heat 206      Emily          Ross  0:22:53        3:15pm\n",
       "105/106-Q6     1  Heat 206       Oleg   Slyusarchuk  0:23:39        3:15pm\n",
       "105/106-Q7     1  Heat 206       Kate         Byers  0:32:49        3:15pm\n",
       "105/106-Q8     1  Heat 206     Hayden       Ratliff    59:40        3:15pm"
      ]
     },
     "execution_count": 20,
     "metadata": {},
     "output_type": "execute_result"
    }
   ],
   "source": [
    "#visual for example purposes:\n",
    "sart17.bracket_df[sart17.bracket_df['Nxt_Heat'] == 'Heat 206']"
   ]
  },
  {
   "cell_type": "markdown",
   "metadata": {},
   "source": [
    "#### Print the .txt file with next heat assignments for use in handing out heat assignment info"
   ]
  },
  {
   "cell_type": "code",
   "execution_count": 21,
   "metadata": {
    "collapsed": true
   },
   "outputs": [],
   "source": [
    "print(*sart17.print_heat_assigns(2), sep='\\n', file = open(\"2017_event_files/R2_heat_assigns.txt\", 'w'))"
   ]
  },
  {
   "cell_type": "markdown",
   "metadata": {},
   "source": [
    "#### Process the next round CSV for import to SportSoftware with correct heat assignments\n",
    "- This function pulls in the existing CSV, updates the heat assignments, and then in the following line exports a new CSV with those new assignments"
   ]
  },
  {
   "cell_type": "code",
   "execution_count": 22,
   "metadata": {
    "collapsed": true
   },
   "outputs": [],
   "source": [
    "r2_ss_import = sart17.assign_nxt_ht_to_ss_import_csv('2017_event_files/EntryForOE-R02-EdmondsCC-preevent.csv', 1)\n",
    "#Round must be put in as an integer here!"
   ]
  },
  {
   "cell_type": "code",
   "execution_count": 23,
   "metadata": {
    "collapsed": true
   },
   "outputs": [],
   "source": [
    "r2_ss_import.to_csv('2017_event_files/SS_import_R2_with_heats.csv', index=False)"
   ]
  },
  {
   "cell_type": "markdown",
   "metadata": {
    "collapsed": true
   },
   "source": [
    "## Round 2"
   ]
  },
  {
   "cell_type": "markdown",
   "metadata": {},
   "source": [
    "#### Import and process the results from Round 2\n",
    "\n",
    "- Use the CSV results pulled from SportSoftware\n",
    "- Address any ties, mp's, dnf's, and dns's as shown below"
   ]
  },
  {
   "cell_type": "code",
   "execution_count": 24,
   "metadata": {},
   "outputs": [
    {
     "name": "stdout",
     "output_type": "stream",
     "text": [
      "<class 'pandas.core.frame.DataFrame'>\n",
      "Index: 76 entries, 0 to 75\n",
      "Data columns (total 4 columns):\n",
      "Surname       76 non-null object\n",
      "First_name    76 non-null object\n",
      "Time          76 non-null object\n",
      "Heat          76 non-null int64\n",
      "dtypes: int64(1), object(3)\n",
      "memory usage: 3.0+ KB\n"
     ]
    }
   ],
   "source": [
    "r2_results = sart17.clean_results_csv('2017_event_files/R2_EdmondsCC_Results.csv')\n",
    "r2_results.sort_values(by='Heat', inplace=True)\n",
    "\n",
    "r2_results.info()"
   ]
  },
  {
   "cell_type": "code",
   "execution_count": 25,
   "metadata": {
    "collapsed": true
   },
   "outputs": [],
   "source": [
    "#break ties:\n",
    "\n",
    "#Format: r1_results.loc['67', ['Time']] = '17:19.5'\n",
    "\n",
    "#Set high times to drive mp and dnfs to last seeds:\n",
    "\n",
    "#Tom Herrnstein, mp\n",
    "r2_results.loc['60', ['Time']] = '55:10'\n",
    "\n",
    "#Bruce C, mp\n",
    "r2_results.loc['59', ['Time']] = '55:20'\n",
    "\n",
    "#Don H, dsq olive green\n",
    "r2_results.loc['36', ['Time']] = '55:30'\n",
    "\n",
    "#Added dns's\n",
    "r2_results.loc['76', ['Surname']] = 'Gusiatnikov'\n",
    "r2_results.loc['76', ['First_name']] = 'Vladimir'\n",
    "r2_results.loc['76', ['Time']] = '59:10'\n",
    "r2_results.loc['76', ['Heat']] = 202 #get heat from bracket_df\n",
    "\n",
    "r2_results.loc['77', ['Surname']] = 'Hopkins'\n",
    "r2_results.loc['77', ['First_name']] = 'Kyle'\n",
    "r2_results.loc['77', ['Time']] = '59:20'\n",
    "r2_results.loc['77', ['Heat']] = 204 #get heat from bracket_df\n",
    "\n",
    "r2_results.loc['78', ['Surname']] = 'Smith'\n",
    "r2_results.loc['78', ['First_name']] = 'Ben'\n",
    "r2_results.loc['78', ['Time']] = '59:30'\n",
    "r2_results.loc['78', ['Heat']] = 210 #get heat from bracket_df\n",
    "\n",
    "r2_results.loc['79', ['Surname']] = 'Ratliff'\n",
    "r2_results.loc['79', ['First_name']] = 'Hayden'\n",
    "r2_results.loc['79', ['Time']] = '59:40'\n",
    "r2_results.loc['79', ['Heat']] = 206 #get heat from bracket_df"
   ]
  },
  {
   "cell_type": "markdown",
   "metadata": {},
   "source": [
    "#### Assign next round heats\n",
    "- This populates the results from Round 1 in the Bracket DF as appropriate based on processing method for this bracket / tournament\n",
    "- Results in each person being assigned to their appropriate next heat"
   ]
  },
  {
   "cell_type": "code",
   "execution_count": 26,
   "metadata": {},
   "outputs": [
    {
     "name": "stdout",
     "output_type": "stream",
     "text": [
      "No Ties, proceeding with next heat assignments!\n",
      "No Ties, proceeding with next heat assignments!\n",
      "No Ties, proceeding with next heat assignments!\n",
      "No Ties, proceeding with next heat assignments!\n",
      "No Ties, proceeding with next heat assignments!\n",
      "No Ties, proceeding with next heat assignments!\n",
      "No Ties, proceeding with next heat assignments!\n",
      "No Ties, proceeding with next heat assignments!\n"
     ]
    }
   ],
   "source": [
    "sart17.nxt_ht_assigns(r2_results, 2)"
   ]
  },
  {
   "cell_type": "code",
   "execution_count": 27,
   "metadata": {},
   "outputs": [
    {
     "data": {
      "text/html": [
       "<div>\n",
       "<style>\n",
       "    .dataframe thead tr:only-child th {\n",
       "        text-align: right;\n",
       "    }\n",
       "\n",
       "    .dataframe thead th {\n",
       "        text-align: left;\n",
       "    }\n",
       "\n",
       "    .dataframe tbody tr th {\n",
       "        vertical-align: top;\n",
       "    }\n",
       "</style>\n",
       "<table border=\"1\" class=\"dataframe\">\n",
       "  <thead>\n",
       "    <tr style=\"text-align: right;\">\n",
       "      <th></th>\n",
       "      <th>Round</th>\n",
       "      <th>Nxt_Heat</th>\n",
       "      <th>First_name</th>\n",
       "      <th>Surname</th>\n",
       "      <th>Time</th>\n",
       "      <th>Nxt_Heat_Time</th>\n",
       "    </tr>\n",
       "    <tr>\n",
       "      <th>Seed</th>\n",
       "      <th></th>\n",
       "      <th></th>\n",
       "      <th></th>\n",
       "      <th></th>\n",
       "      <th></th>\n",
       "      <th></th>\n",
       "    </tr>\n",
       "  </thead>\n",
       "  <tbody>\n",
       "    <tr>\n",
       "      <th>201/203-Q1</th>\n",
       "      <td>2</td>\n",
       "      <td>Heat 316</td>\n",
       "      <td>Mark</td>\n",
       "      <td>Prior</td>\n",
       "      <td>0:15:19</td>\n",
       "      <td>8:45pm</td>\n",
       "    </tr>\n",
       "    <tr>\n",
       "      <th>201/203-Q2</th>\n",
       "      <td>2</td>\n",
       "      <td>Heat 316</td>\n",
       "      <td>Carlo</td>\n",
       "      <td>Giacometti</td>\n",
       "      <td>0:17:25</td>\n",
       "      <td>8:45pm</td>\n",
       "    </tr>\n",
       "    <tr>\n",
       "      <th>201/203-Q3</th>\n",
       "      <td>2</td>\n",
       "      <td>Heat 316</td>\n",
       "      <td>Brian</td>\n",
       "      <td>Gruber</td>\n",
       "      <td>0:18:21</td>\n",
       "      <td>8:45pm</td>\n",
       "    </tr>\n",
       "    <tr>\n",
       "      <th>W201</th>\n",
       "      <td>2</td>\n",
       "      <td>Heat 316</td>\n",
       "      <td>Will</td>\n",
       "      <td>Enger</td>\n",
       "      <td>0:14:28</td>\n",
       "      <td>8:45pm</td>\n",
       "    </tr>\n",
       "    <tr>\n",
       "      <th>W203</th>\n",
       "      <td>2</td>\n",
       "      <td>Heat 316</td>\n",
       "      <td>David</td>\n",
       "      <td>Bakker</td>\n",
       "      <td>0:15:11</td>\n",
       "      <td>8:45pm</td>\n",
       "    </tr>\n",
       "  </tbody>\n",
       "</table>\n",
       "</div>"
      ],
      "text/plain": [
       "           Round  Nxt_Heat First_name     Surname     Time Nxt_Heat_Time\n",
       "Seed                                                                    \n",
       "201/203-Q1     2  Heat 316       Mark       Prior  0:15:19        8:45pm\n",
       "201/203-Q2     2  Heat 316      Carlo  Giacometti  0:17:25        8:45pm\n",
       "201/203-Q3     2  Heat 316      Brian      Gruber  0:18:21        8:45pm\n",
       "W201           2  Heat 316       Will       Enger  0:14:28        8:45pm\n",
       "W203           2  Heat 316      David      Bakker  0:15:11        8:45pm"
      ]
     },
     "execution_count": 27,
     "metadata": {},
     "output_type": "execute_result"
    }
   ],
   "source": [
    "#visual for example purposes:\n",
    "sart17.bracket_df[sart17.bracket_df['Nxt_Heat'] == 'Heat 316']"
   ]
  },
  {
   "cell_type": "markdown",
   "metadata": {},
   "source": [
    "#### Print the .txt file with next heat assignments for use in handing out heat assignment info"
   ]
  },
  {
   "cell_type": "code",
   "execution_count": 28,
   "metadata": {
    "collapsed": true
   },
   "outputs": [],
   "source": [
    "print(*sart17.print_heat_assigns(3), sep='\\n', file = open(\"2017_event_files/R3_heat_assigns.txt\", 'w'))"
   ]
  },
  {
   "cell_type": "markdown",
   "metadata": {},
   "source": [
    "#### Process the next round CSV for import to SportSoftware with correct heat assignments\n",
    "- This function pulls in the existing CSV, updates the heat assignments, and then in the following line exports a new CSV with those new assignments"
   ]
  },
  {
   "cell_type": "code",
   "execution_count": 29,
   "metadata": {
    "collapsed": true
   },
   "outputs": [],
   "source": [
    "r3_ss_import = sart17.assign_nxt_ht_to_ss_import_csv('2017_event_files/EntryForOE-R03-LynnwoodGolf-preevent.csv', 2)\n",
    "#Round must be put in as an integer here!"
   ]
  },
  {
   "cell_type": "code",
   "execution_count": 30,
   "metadata": {
    "collapsed": true
   },
   "outputs": [],
   "source": [
    "r3_ss_import.to_csv('2017_event_files/SS_import_R3_with_heats.csv', index=False)"
   ]
  },
  {
   "cell_type": "markdown",
   "metadata": {},
   "source": [
    "## Round 3"
   ]
  },
  {
   "cell_type": "markdown",
   "metadata": {},
   "source": [
    "#### Import and process the results from Round 3\n",
    "\n",
    "- Use the CSV results pulled from SportSoftware\n",
    "- Address any ties, mp's, dnf's, and dns's as shown below"
   ]
  },
  {
   "cell_type": "code",
   "execution_count": 43,
   "metadata": {},
   "outputs": [
    {
     "name": "stdout",
     "output_type": "stream",
     "text": [
      "<class 'pandas.core.frame.DataFrame'>\n",
      "Index: 76 entries, 4 to 74\n",
      "Data columns (total 4 columns):\n",
      "Surname       76 non-null object\n",
      "First_name    76 non-null object\n",
      "Time          76 non-null object\n",
      "Heat          76 non-null int64\n",
      "dtypes: int64(1), object(3)\n",
      "memory usage: 3.0+ KB\n"
     ]
    }
   ],
   "source": [
    "r3_results = sart17.clean_results_csv('2017_event_files/R3_LynnwoodGolf_Results.csv')\n",
    "r3_results.sort_values(by='Heat', inplace=True)\n",
    "\n",
    "r3_results.info()\n"
   ]
  },
  {
   "cell_type": "code",
   "execution_count": 44,
   "metadata": {
    "collapsed": true
   },
   "outputs": [],
   "source": [
    "#break ties:\n",
    "#no ties to break\n",
    "\n",
    "#Set high times to drive mp and dnfs to last seeds:\n",
    "\n",
    "#Don Haliburton, mp\n",
    "r3_results.loc['13', ['Time']] = '55:10'\n",
    "\n",
    "\n",
    "#Add dns's:\n",
    "\n",
    "r3_results.loc['76', ['Surname']] = 'Gusiatnikov'\n",
    "r3_results.loc['76', ['First_name']] = 'Vladimir'\n",
    "r3_results.loc['76', ['Time']] = '59:10'\n",
    "r3_results.loc['76', ['Heat']] = 304 #get heat from bracket_df\n",
    "\n",
    "r3_results.loc['77', ['Surname']] = 'Prior'\n",
    "r3_results.loc['77', ['First_name']] = 'Mark'\n",
    "r3_results.loc['77', ['Time']] = '59:20'\n",
    "r3_results.loc['77', ['Heat']] = 316 #get heat from bracket_df\n",
    "\n",
    "r3_results.loc['78', ['Surname']] = 'Devine'\n",
    "r3_results.loc['78', ['First_name']] = 'Cameron'\n",
    "r3_results.loc['78', ['Time']] = '59:30'\n",
    "r3_results.loc['78', ['Heat']] = 310 #get heat from bracket_df\n",
    "\n",
    "r3_results.loc['79', ['Surname']] = 'Ratliff'\n",
    "r3_results.loc['79', ['First_name']] = 'Hayden'\n",
    "r3_results.loc['79', ['Time']] = '59:40'\n",
    "r3_results.loc['79', ['Heat']] = 303 #get heat from bracket_df"
   ]
  },
  {
   "cell_type": "markdown",
   "metadata": {},
   "source": [
    "#### Assign next round heats\n",
    "- This populates the results from Round 1 in the Bracket DF as appropriate based on processing method for this bracket / tournament\n",
    "- Results in each person being assigned to their appropriate next heat"
   ]
  },
  {
   "cell_type": "code",
   "execution_count": 45,
   "metadata": {},
   "outputs": [
    {
     "name": "stdout",
     "output_type": "stream",
     "text": [
      "No Ties, proceeding with next heat assignments!\n",
      "No Ties, proceeding with next heat assignments!\n",
      "No Ties, proceeding with next heat assignments!\n",
      "No Ties, proceeding with next heat assignments!\n",
      "No Ties, proceeding with next heat assignments!\n",
      "No Ties, proceeding with next heat assignments!\n",
      "No Ties, proceeding with next heat assignments!\n",
      "No Ties, proceeding with next heat assignments!\n"
     ]
    }
   ],
   "source": [
    "sart17.nxt_ht_assigns(r3_results, 3)\n"
   ]
  },
  {
   "cell_type": "code",
   "execution_count": 46,
   "metadata": {},
   "outputs": [
    {
     "data": {
      "text/html": [
       "<div>\n",
       "<style>\n",
       "    .dataframe thead tr:only-child th {\n",
       "        text-align: right;\n",
       "    }\n",
       "\n",
       "    .dataframe thead th {\n",
       "        text-align: left;\n",
       "    }\n",
       "\n",
       "    .dataframe tbody tr th {\n",
       "        vertical-align: top;\n",
       "    }\n",
       "</style>\n",
       "<table border=\"1\" class=\"dataframe\">\n",
       "  <thead>\n",
       "    <tr style=\"text-align: right;\">\n",
       "      <th></th>\n",
       "      <th>Round</th>\n",
       "      <th>Nxt_Heat</th>\n",
       "      <th>First_name</th>\n",
       "      <th>Surname</th>\n",
       "      <th>Time</th>\n",
       "      <th>Nxt_Heat_Time</th>\n",
       "    </tr>\n",
       "    <tr>\n",
       "      <th>Seed</th>\n",
       "      <th></th>\n",
       "      <th></th>\n",
       "      <th></th>\n",
       "      <th></th>\n",
       "      <th></th>\n",
       "      <th></th>\n",
       "    </tr>\n",
       "  </thead>\n",
       "  <tbody>\n",
       "    <tr>\n",
       "      <th>309/310-Q1</th>\n",
       "      <td>3</td>\n",
       "      <td>Heat 411</td>\n",
       "      <td>Nina</td>\n",
       "      <td>Potrebich</td>\n",
       "      <td>0:20:00</td>\n",
       "      <td>9:45am</td>\n",
       "    </tr>\n",
       "    <tr>\n",
       "      <th>309/310-Q2</th>\n",
       "      <td>3</td>\n",
       "      <td>Heat 411</td>\n",
       "      <td>Ethan</td>\n",
       "      <td>O'Connor</td>\n",
       "      <td>0:20:09</td>\n",
       "      <td>9:45am</td>\n",
       "    </tr>\n",
       "    <tr>\n",
       "      <th>309/310-Q3</th>\n",
       "      <td>3</td>\n",
       "      <td>Heat 411</td>\n",
       "      <td>Rick</td>\n",
       "      <td>Breseman</td>\n",
       "      <td>0:21:07</td>\n",
       "      <td>9:45am</td>\n",
       "    </tr>\n",
       "    <tr>\n",
       "      <th>W309</th>\n",
       "      <td>3</td>\n",
       "      <td>Heat 411</td>\n",
       "      <td>Bruce</td>\n",
       "      <td>Christopherson</td>\n",
       "      <td>0:20:23</td>\n",
       "      <td>9:45am</td>\n",
       "    </tr>\n",
       "    <tr>\n",
       "      <th>W310</th>\n",
       "      <td>3</td>\n",
       "      <td>Heat 411</td>\n",
       "      <td>Anastasiya</td>\n",
       "      <td>Gordeeva</td>\n",
       "      <td>0:18:28</td>\n",
       "      <td>9:45am</td>\n",
       "    </tr>\n",
       "  </tbody>\n",
       "</table>\n",
       "</div>"
      ],
      "text/plain": [
       "           Round  Nxt_Heat  First_name         Surname     Time Nxt_Heat_Time\n",
       "Seed                                                                         \n",
       "309/310-Q1     3  Heat 411        Nina       Potrebich  0:20:00        9:45am\n",
       "309/310-Q2     3  Heat 411       Ethan        O'Connor  0:20:09        9:45am\n",
       "309/310-Q3     3  Heat 411        Rick        Breseman  0:21:07        9:45am\n",
       "W309           3  Heat 411       Bruce  Christopherson  0:20:23        9:45am\n",
       "W310           3  Heat 411  Anastasiya        Gordeeva  0:18:28        9:45am"
      ]
     },
     "execution_count": 46,
     "metadata": {},
     "output_type": "execute_result"
    }
   ],
   "source": [
    "#visual for example purposes:\n",
    "sart17.bracket_df[(sart17.bracket_df['Nxt_Heat'] == 'Heat 411')]\n"
   ]
  },
  {
   "cell_type": "markdown",
   "metadata": {},
   "source": [
    "#### Print the .txt file with next heat assignments for use in handing out heat assignment info"
   ]
  },
  {
   "cell_type": "code",
   "execution_count": 47,
   "metadata": {
    "collapsed": true
   },
   "outputs": [],
   "source": [
    "print(*sart17.print_heat_assigns(4), sep='\\n', file = open(\"2017_event_files/R4_heat_assigns.txt\", 'w'))"
   ]
  },
  {
   "cell_type": "markdown",
   "metadata": {},
   "source": [
    "#### Process the next round CSV for import to SportSoftware with correct heat assignments\n",
    "- This function pulls in the existing CSV, updates the heat assignments, and then in the following line exports a new CSV with those new assignments"
   ]
  },
  {
   "cell_type": "code",
   "execution_count": 48,
   "metadata": {
    "collapsed": true
   },
   "outputs": [],
   "source": [
    "r4_ss_import = sart17.assign_nxt_ht_to_ss_import_csv('2017_event_files/EntryForOE-R04-SouthSeattleColl1-preevent.csv', 3)\n",
    "#Round must be put in as an integer here!"
   ]
  },
  {
   "cell_type": "code",
   "execution_count": 49,
   "metadata": {},
   "outputs": [],
   "source": [
    "r4_ss_import.to_csv('2017_event_files/SS_import_R4_with_heats.csv', index=False)\n"
   ]
  },
  {
   "cell_type": "markdown",
   "metadata": {},
   "source": [
    "# Round 4"
   ]
  },
  {
   "cell_type": "markdown",
   "metadata": {},
   "source": [
    "#### Import and process the results from Round 4\n",
    "\n",
    "- Use the CSV results pulled from SportSoftware\n",
    "- Address any ties, mp's, dnf's, and dns's as shown below"
   ]
  },
  {
   "cell_type": "code",
   "execution_count": 50,
   "metadata": {},
   "outputs": [
    {
     "name": "stdout",
     "output_type": "stream",
     "text": [
      "<class 'pandas.core.frame.DataFrame'>\n",
      "Index: 77 entries, 1 to 72\n",
      "Data columns (total 4 columns):\n",
      "Surname       77 non-null object\n",
      "First_name    77 non-null object\n",
      "Time          75 non-null object\n",
      "Heat          77 non-null int64\n",
      "dtypes: int64(1), object(3)\n",
      "memory usage: 3.0+ KB\n"
     ]
    }
   ],
   "source": [
    "r4_results = sart17.clean_results_csv('2017_event_files/R4_SSC1_Results.csv')\n",
    "r4_results.sort_values(by='Heat', inplace=True)\n",
    "\n",
    "r4_results.info()"
   ]
  },
  {
   "cell_type": "code",
   "execution_count": 51,
   "metadata": {
    "collapsed": true
   },
   "outputs": [],
   "source": [
    "#break ties:\n",
    "\n",
    "r4_results.loc['70', ['Time']] = '0:13:38'\n",
    "r4_results.loc['74', ['Time']] = '0:13:38.5'\n",
    "\n",
    "\n",
    "#Set high times to drive mp and dnfs to last seeds:\n",
    "\n",
    "r4_results.loc['4', ['Time']] = '55:40' #Lillian B dnf\n",
    "r4_results.loc['3', ['Time']] = '55:35'#Bob F mp\n",
    "r4_results.loc['46', ['Time']] = '55:30' #Kevin M dnf\n",
    "r4_results.loc['12', ['Time']] = '55:25' #Jared H mp\n",
    "r4_results.loc['61', ['Time']] = '55:20' #Sue G mp\n",
    "r4_results.loc['66', ['Time']] = '55:15' #Ott mp\n",
    "r4_results.loc['65', ['Time']] = '55:10' #Tori B mp\n",
    "\n",
    "\n",
    "#Added dns's\n",
    "\n",
    "#Format:\n",
    "r4_results.loc['77', ['Surname']] = 'Gusiatnikov'\n",
    "r4_results.loc['77', ['First_name']] = 'Vladimir'\n",
    "r4_results.loc['77', ['Time']] = '59:10'\n",
    "r4_results.loc['77', ['Heat']] = 402 #get heat from bracket_df\n",
    "\n",
    "r4_results.loc['78', ['Surname']] = 'Ratliff'\n",
    "r4_results.loc['78', ['First_name']] = 'Hayden'\n",
    "r4_results.loc['78', ['Time']] = '59:20'\n",
    "r4_results.loc['78', ['Heat']] = 402 #get heat from bracket_df\n",
    "\n",
    "r4_results.loc['79', ['Surname']] = 'Ferguson'\n",
    "r4_results.loc['79', ['First_name']] = 'Matthew'\n",
    "r4_results.loc['79', ['Time']] = '59:30'\n",
    "r4_results.loc['79', ['Heat']] = 406 #get heat from bracket_df"
   ]
  },
  {
   "cell_type": "markdown",
   "metadata": {},
   "source": [
    "#### Assign next round heats\n",
    "- This populates the results from Round 1 in the Bracket DF as appropriate based on processing method for this bracket / tournament\n",
    "- Results in each person being assigned to their appropriate next heat"
   ]
  },
  {
   "cell_type": "code",
   "execution_count": 52,
   "metadata": {},
   "outputs": [
    {
     "name": "stdout",
     "output_type": "stream",
     "text": [
      "No Ties, proceeding with next heat assignments!\n",
      "No Ties, proceeding with next heat assignments!\n",
      "No Ties, proceeding with next heat assignments!\n",
      "No Ties, proceeding with next heat assignments!\n",
      "No Ties, proceeding with next heat assignments!\n",
      "No Ties, proceeding with next heat assignments!\n",
      "No Ties, proceeding with next heat assignments!\n",
      "No Ties, proceeding with next heat assignments!\n"
     ]
    }
   ],
   "source": [
    "sart17.nxt_ht_assigns(r4_results, 4)"
   ]
  },
  {
   "cell_type": "code",
   "execution_count": 53,
   "metadata": {},
   "outputs": [
    {
     "data": {
      "text/html": [
       "<div>\n",
       "<style>\n",
       "    .dataframe thead tr:only-child th {\n",
       "        text-align: right;\n",
       "    }\n",
       "\n",
       "    .dataframe thead th {\n",
       "        text-align: left;\n",
       "    }\n",
       "\n",
       "    .dataframe tbody tr th {\n",
       "        vertical-align: top;\n",
       "    }\n",
       "</style>\n",
       "<table border=\"1\" class=\"dataframe\">\n",
       "  <thead>\n",
       "    <tr style=\"text-align: right;\">\n",
       "      <th></th>\n",
       "      <th>Round</th>\n",
       "      <th>Nxt_Heat</th>\n",
       "      <th>First_name</th>\n",
       "      <th>Surname</th>\n",
       "      <th>Time</th>\n",
       "      <th>Nxt_Heat_Time</th>\n",
       "    </tr>\n",
       "    <tr>\n",
       "      <th>Seed</th>\n",
       "      <th></th>\n",
       "      <th></th>\n",
       "      <th></th>\n",
       "      <th></th>\n",
       "      <th></th>\n",
       "      <th></th>\n",
       "    </tr>\n",
       "  </thead>\n",
       "  <tbody>\n",
       "    <tr>\n",
       "      <th>401/402-Q4</th>\n",
       "      <td>4</td>\n",
       "      <td>Heat 501</td>\n",
       "      <td>Brandon</td>\n",
       "      <td>Lee</td>\n",
       "      <td>0:47:30</td>\n",
       "      <td>11:15am</td>\n",
       "    </tr>\n",
       "    <tr>\n",
       "      <th>401/402-Q5</th>\n",
       "      <td>4</td>\n",
       "      <td>Heat 501</td>\n",
       "      <td>Bob</td>\n",
       "      <td>Forgrave</td>\n",
       "      <td>55:35</td>\n",
       "      <td>11:15am</td>\n",
       "    </tr>\n",
       "    <tr>\n",
       "      <th>401/402-Q6</th>\n",
       "      <td>4</td>\n",
       "      <td>Heat 501</td>\n",
       "      <td>Lillian</td>\n",
       "      <td>Bakker</td>\n",
       "      <td>55:40</td>\n",
       "      <td>11:15am</td>\n",
       "    </tr>\n",
       "    <tr>\n",
       "      <th>401/402-Q7</th>\n",
       "      <td>4</td>\n",
       "      <td>Heat 501</td>\n",
       "      <td>Vladimir</td>\n",
       "      <td>Gusiatnikov</td>\n",
       "      <td>59:10</td>\n",
       "      <td>11:15am</td>\n",
       "    </tr>\n",
       "    <tr>\n",
       "      <th>401/402-Q8</th>\n",
       "      <td>4</td>\n",
       "      <td>Heat 501</td>\n",
       "      <td>Hayden</td>\n",
       "      <td>Ratliff</td>\n",
       "      <td>59:20</td>\n",
       "      <td>11:15am</td>\n",
       "    </tr>\n",
       "  </tbody>\n",
       "</table>\n",
       "</div>"
      ],
      "text/plain": [
       "           Round  Nxt_Heat First_name      Surname     Time Nxt_Heat_Time\n",
       "Seed                                                                     \n",
       "401/402-Q4     4  Heat 501    Brandon          Lee  0:47:30       11:15am\n",
       "401/402-Q5     4  Heat 501        Bob     Forgrave    55:35       11:15am\n",
       "401/402-Q6     4  Heat 501    Lillian       Bakker    55:40       11:15am\n",
       "401/402-Q7     4  Heat 501   Vladimir  Gusiatnikov    59:10       11:15am\n",
       "401/402-Q8     4  Heat 501     Hayden      Ratliff    59:20       11:15am"
      ]
     },
     "execution_count": 53,
     "metadata": {},
     "output_type": "execute_result"
    }
   ],
   "source": [
    "#visual for example purposes:\n",
    "sart17.bracket_df[(sart17.bracket_df['Nxt_Heat'] == 'Heat 501')]"
   ]
  },
  {
   "cell_type": "markdown",
   "metadata": {},
   "source": [
    "#### Print the .txt file with next heat assignments for use in handing out heat assignment info"
   ]
  },
  {
   "cell_type": "code",
   "execution_count": 54,
   "metadata": {
    "collapsed": true
   },
   "outputs": [],
   "source": [
    "print(*sart17.print_heat_assigns(5), sep='\\n', file = open(\"2017_event_files/R5_heat_assigns.txt\", 'w'))"
   ]
  },
  {
   "cell_type": "markdown",
   "metadata": {},
   "source": [
    "#### Process the next round CSV for import to SportSoftware with correct heat assignments\n",
    "- This function pulls in the existing CSV, updates the heat assignments, and then in the following line exports a new CSV with those new assignments"
   ]
  },
  {
   "cell_type": "code",
   "execution_count": 55,
   "metadata": {
    "collapsed": true
   },
   "outputs": [],
   "source": [
    "r5_ss_import = sart17.assign_nxt_ht_to_ss_import_csv('2017_event_files/EntryForOE-R05-SouthSeattleColl2-Champs-preevent.csv', 4)\n",
    "#Round must be put in as an integer here!"
   ]
  },
  {
   "cell_type": "code",
   "execution_count": 56,
   "metadata": {
    "collapsed": true
   },
   "outputs": [],
   "source": [
    "r5_ss_import.to_csv('2017_event_files/SS_import_R5_with_heats.csv')"
   ]
  },
  {
   "cell_type": "markdown",
   "metadata": {},
   "source": [
    "## Round 5"
   ]
  },
  {
   "cell_type": "markdown",
   "metadata": {},
   "source": [
    "#### Import and process the results from Round 5\n",
    "\n",
    "- Use the CSV results pulled from SportSoftware\n",
    "- Address any ties, mp's, dnf's, and dns's as shown below"
   ]
  },
  {
   "cell_type": "code",
   "execution_count": 69,
   "metadata": {},
   "outputs": [],
   "source": [
    "r5_results = sart17.clean_results_csv('2017_event_files/R5_SSC2Champs_Results.csv')"
   ]
  },
  {
   "cell_type": "code",
   "execution_count": 70,
   "metadata": {},
   "outputs": [
    {
     "name": "stdout",
     "output_type": "stream",
     "text": [
      "<class 'pandas.core.frame.DataFrame'>\n",
      "Index: 72 entries, 67 to 8\n",
      "Data columns (total 4 columns):\n",
      "Surname       72 non-null object\n",
      "First_name    72 non-null object\n",
      "Time          72 non-null object\n",
      "Heat          72 non-null int64\n",
      "dtypes: int64(1), object(3)\n",
      "memory usage: 2.8+ KB\n"
     ]
    }
   ],
   "source": [
    "r5_results.info()"
   ]
  },
  {
   "cell_type": "code",
   "execution_count": 71,
   "metadata": {
    "collapsed": true
   },
   "outputs": [],
   "source": [
    "r5_results.sort_values(by=['Heat', 'Time'], ascending=[False, True], inplace=True)"
   ]
  },
  {
   "cell_type": "code",
   "execution_count": 72,
   "metadata": {
    "collapsed": true
   },
   "outputs": [],
   "source": [
    "r5_results.reset_index(inplace=True, drop=True)\n",
    "r5_results.index += 1"
   ]
  },
  {
   "cell_type": "code",
   "execution_count": 73,
   "metadata": {
    "collapsed": true
   },
   "outputs": [],
   "source": [
    "#break ties:\n",
    "#Format: r5_results.loc['11', ['Time']] = '29:45.5' #Jud vs Terry\n",
    "\n",
    "#Set high times to drive mp and dnfs (and disqs) to last seeds:\n",
    "\n",
    "r5_results.loc['4', ['Time']] = '55:00' #Courtney C mp\n",
    "r5_results.loc['17', ['Time']] = '55:10' #Shannon C mp\n",
    "r5_results.loc['22', ['Time']] = '55:20' #Janne M mp\n",
    "r5_results.loc['46', ['Time']] = '55:30' #Christophe mp\n",
    "\n",
    "#Added dns's\n",
    "\n",
    "r5_results.loc['75', ['Surname']] = 'Lee'\n",
    "r5_results.loc['75', ['First_name']] = 'Brandon'\n",
    "r5_results.loc['75', ['Time']] = '59:10'\n",
    "r5_results.loc['75', ['Heat']] = 501 #get heat from bracket_df\n",
    "\n",
    "r5_results.loc['76', ['Surname']] = 'Bakker'\n",
    "r5_results.loc['76', ['First_name']] = 'Lillian'\n",
    "r5_results.loc['76', ['Time']] = '59:20'\n",
    "r5_results.loc['76', ['Heat']] = 501 #get heat from bracket_df\n",
    "\n",
    "r5_results.loc['77', ['Surname']] = 'Gusiatnikov'\n",
    "r5_results.loc['77', ['First_name']] = 'Vladimir'\n",
    "r5_results.loc['77', ['Time']] = '59:30'\n",
    "r5_results.loc['77', ['Heat']] = 501 #get heat from bracket_df\n",
    "\n",
    "r5_results.loc['78', ['Surname']] = 'Ratliff'\n",
    "r5_results.loc['78', ['First_name']] = 'Hayden'\n",
    "r5_results.loc['78', ['Time']] = '59:40'\n",
    "r5_results.loc['78', ['Heat']] = 501 #get heat from bracket_df\n",
    "\n",
    "r5_results.loc['79', ['Surname']] = 'Ferguson'\n",
    "r5_results.loc['79', ['First_name']] = 'Matthew'\n",
    "r5_results.loc['79', ['Time']] = '59:50'\n",
    "r5_results.loc['79', ['Heat']] = 505 #get heat from bracket_df"
   ]
  },
  {
   "cell_type": "markdown",
   "metadata": {},
   "source": [
    "#### print .txt file with final results!"
   ]
  },
  {
   "cell_type": "code",
   "execution_count": 75,
   "metadata": {},
   "outputs": [
    {
     "name": "stdout",
     "output_type": "stream",
     "text": [
      "No ties, proceeding with print out\n"
     ]
    }
   ],
   "source": [
    "print(*sart17.print_final_results(r5_results), sep='\\n', file = open(\"2017_event_files/Final_Results.txt\", 'w'))"
   ]
  },
  {
   "cell_type": "code",
   "execution_count": null,
   "metadata": {
    "collapsed": true
   },
   "outputs": [],
   "source": []
  }
 ],
 "metadata": {
  "kernelspec": {
   "display_name": "Python 2",
   "language": "python",
   "name": "python2"
  },
  "language_info": {
   "codemirror_mode": {
    "name": "ipython",
    "version": 2
   },
   "file_extension": ".py",
   "mimetype": "text/x-python",
   "name": "python",
   "nbconvert_exporter": "python",
   "pygments_lexer": "ipython2",
   "version": "2.7.13"
  }
 },
 "nbformat": 4,
 "nbformat_minor": 2
}
