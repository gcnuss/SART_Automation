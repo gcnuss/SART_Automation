{
 "cells": [
  {
   "cell_type": "markdown",
   "metadata": {},
   "source": [
    "## Initial Event Preparation\n",
    "- Occurs pre-event\n",
    "- Instantiate class and define bracket format via the dictionary and lists of tuples as shown below\n",
    "\n",
    "#### Important Note:\n",
    "Final registration includes 57 people for this year.  Utilize definitions and functions for 56 people and also execute function for adding the one-off 57th person to the bracket format.  The time calculations and next heat assignments functions will handle the 57th person as-is."
   ]
  },
  {
   "cell_type": "code",
   "execution_count": 1,
   "metadata": {
    "collapsed": true
   },
   "outputs": [],
   "source": [
    "from SART_Class_v5 import SART\n",
    "import pandas as pd"
   ]
  },
  {
   "cell_type": "code",
   "execution_count": 2,
   "metadata": {
    "collapsed": true
   },
   "outputs": [],
   "source": [
    "#ALL UPDATES FOR 2018 COMPLETE, INCLUDES CHANGE TO 64 PERSON BRACKET\n",
    "#Round 0 seeding assignments for Round 1 Heats:\n",
    "r0_seeds = {'Heat 101': [1, 32, 33, 64], 'Heat 102': [16, 17, 48, 49],\n",
    "    'Heat 103': [8, 25, 40, 57], 'Heat 104': [9, 24, 41, 56],\n",
    "    'Heat 105': [4, 29, 36, 61], 'Heat 106': [13, 20, 45, 52],\n",
    "    'Heat 107': [5, 28, 37, 60], 'Heat 108': [12, 21, 44, 53],\n",
    "    'Heat 109': [2, 31, 34, 63], 'Heat 110': [15, 18, 47, 50],\n",
    "    'Heat 111': [7, 26, 39, 58], 'Heat 112': [10, 23, 42, 55],\n",
    "    'Heat 113': [3, 30, 35, 62], 'Heat 114': [14, 19, 46, 51],\n",
    "    'Heat 115': [6, 27, 38, 59], 'Heat 116': [11, 22, 43, 54]}\n",
    "\n",
    "r0_seeds_fiftysix = {'Heat 101': [1, 32, 33], 'Heat 102': [16, 17, 48, 49],\n",
    "    'Heat 103': [8, 25, 40], 'Heat 104': [9, 24, 41, 56],\n",
    "    'Heat 105': [4, 29, 36], 'Heat 106': [13, 20, 45, 52],\n",
    "    'Heat 107': [5, 28, 37], 'Heat 108': [12, 21, 44, 53],\n",
    "    'Heat 109': [2, 31, 34], 'Heat 110': [15, 18, 47, 50],\n",
    "    'Heat 111': [7, 26, 39], 'Heat 112': [10, 23, 42, 55],\n",
    "    'Heat 113': [3, 30, 35], 'Heat 114': [14, 19, 46, 51],\n",
    "    'Heat 115': [6, 27, 38], 'Heat 116': [11, 22, 43, 54]}\n",
    "\n",
    "#Heat Pairs - prior heats and feed into heats\n",
    "bef_aft_ht_pairs = [((101, 102), (201, 202)),\n",
    "                     ((103, 104), (203, 204)),\n",
    "                     ((105, 106), (205, 206)),\n",
    "                     ((107, 108), (207, 208)),\n",
    "                     ((109, 110), (209, 210)), #210 becomes 202 for 56\n",
    "                     ((111, 112), (211, 212)), #212 becomes 204 for 56\n",
    "                     ((113, 114), (213, 214)), #214 becomes 206 for 56\n",
    "                     ((115, 116), (215, 216)), #216 becomes 208 for 56\n",
    "                     ((201, 203), (301, 302)),\n",
    "                     ((205, 207), (305, 306)),\n",
    "                     ((209, 211), (309, 310)),\n",
    "                     ((213, 215), (313, 314)),\n",
    "                     ((202, 204), (303, 304)),\n",
    "                     ((206, 208), (307, 308)),\n",
    "                     ((210, 212), (311, 312)), #remove this line for 56, include for 64\n",
    "                     ((214, 216), (315, 316)), #remove this line for 56, include for 64\n",
    "                     ((301, 305), (416, 414)),\n",
    "                     ((309, 313), (415, 413)),\n",
    "                     ((302, 306), (412, 410)),\n",
    "                     ((310, 314), (411, 409)),\n",
    "                     ((303, 307), (408, 406)),\n",
    "                     ((311, 315), (407, 405)), #remove this line for 56, include for 64\n",
    "                     ((304, 308), (404, 402)),\n",
    "                     ((312, 316), (403, 401)), #remove this line for 56, include for 64\n",
    "                     ((416, 415), (516, 515)),\n",
    "                     ((414, 413), (514, 513)),\n",
    "                     ((412, 411), (512, 511)),\n",
    "                     ((410, 409), (510, 509)),\n",
    "                     ((408, 407), (508, 507)),\n",
    "                     ((406, 405), (506, 505)),\n",
    "                     ((404, 403), (504, 503)),\n",
    "                     ((402, 401), (502, 501))]\n",
    "\n",
    "bef_aft_ht_pairs_fiftysix = [((101, 102), (201, 202)),\n",
    "                     ((103, 104), (203, 204)),\n",
    "                     ((105, 106), (205, 206)),\n",
    "                     ((107, 108), (207, 208)),\n",
    "                     ((109, 110), (209, 202)), #210 becomes 202 for 56\n",
    "                     ((111, 112), (211, 204)), #212 becomes 204 for 56\n",
    "                     ((113, 114), (213, 206)), #214 becomes 206 for 56\n",
    "                     ((115, 116), (215, 208)), #216 becomes 208 for 56\n",
    "                     ((201, 203), (301, 302)),\n",
    "                     ((205, 207), (305, 306)),\n",
    "                     ((209, 211), (309, 310)),\n",
    "                     ((213, 215), (313, 314)),\n",
    "                     ((202, 204), (303, 304)),\n",
    "                     ((206, 208), (307, 308)),\n",
    "                     #((210, 212), (311, 312)), #remove this line for 56, include for 64\n",
    "                     #((214, 216), (315, 316)), #remove this line for 56, include for 64\n",
    "                     ((301, 305), (416, 414)),\n",
    "                     ((309, 313), (415, 413)),\n",
    "                     ((302, 306), (412, 410)),\n",
    "                     ((310, 314), (411, 409)),\n",
    "                     ((303, 307), (408, 406)),\n",
    "                     #((311, 315), (407, 405)), #remove this line for 56, include for 64\n",
    "                     ((304, 308), (404, 402)),\n",
    "                     #((312, 316), (403, 401)), #remove this line for 56, include for 64\n",
    "                     ((416, 415), (516, 515)),\n",
    "                     ((414, 413), (514, 513)),\n",
    "                     ((412, 411), (512, 511)),\n",
    "                     ((410, 409), (510, 509)),\n",
    "                     ((408, 408), (508, 508)), #407, 507 are empty - same group of 6 for 408, 508\n",
    "                     ((406, 406), (506, 506)), #405, 505 are empty - same group of 6 for 406, 506\n",
    "                     ((404, 404), (504, 504)), #403, 503 are empty - same group of 6 for 404, 504\n",
    "                     ((402, 402), (502, 502))] #401, 501 are empty - same group of 6 for 402, 502\n",
    "\n",
    "#Only needed for 56 person bracket; don't need for 64 person bracket\n",
    "six_person_heats_R2_R3 = [202, 204, 206, 208, 303, 304, 307, 308]\n",
    "six_person_heats_R4 = [408, 406, 404, 402]\n",
    "\n",
    "#Bracket columns:\n",
    "columns = ['Round', 'Nxt_Heat', 'First_name', 'Surname', 'Time', 'Nxt_Heat_Time']\n",
    "\n",
    "#Heat start times:\n",
    "#Round 1 - 11:15am - 12pm\n",
    "#Round 2 - 2:15 - 3:00pm\n",
    "#Round 3 - 4:15 - 5pm\n",
    "#Round 4 - 9:15 - 10am\n",
    "#Round 5 - 11:15am - 12pm\n",
    "start_times = {'Heat 101': '11:15am',\n",
    "             'Heat 102': '11:18am',\n",
    "             'Heat 103': '11:21am',\n",
    "             'Heat 104': '11:24am',\n",
    "             'Heat 105': '11:27am',\n",
    "             'Heat 106': '11:30am',\n",
    "             'Heat 107': '11:33am',\n",
    "             'Heat 108': '11:36am',\n",
    "             'Heat 109': '11:39am',\n",
    "             'Heat 110': '11:42am',\n",
    "             'Heat 111': '11:45am',\n",
    "             'Heat 112': '11:48am',\n",
    "             'Heat 113': '11:51am',\n",
    "             'Heat 114': '11:54am',\n",
    "             'Heat 115': '11:57am',\n",
    "             'Heat 116': '12:00pm',\n",
    "             'Heat 201': '2:15pm',\n",
    "             'Heat 202': '2:18pm',\n",
    "             'Heat 203': '2:21pm',\n",
    "             'Heat 204': '2:24pm',\n",
    "             'Heat 205': '2:27pm',\n",
    "             'Heat 206': '2:30pm',\n",
    "             'Heat 207': '2:33pm',\n",
    "             'Heat 208': '2:36pm',\n",
    "             'Heat 209': '2:39pm',\n",
    "             'Heat 210': '2:42pm',\n",
    "             'Heat 211': '2:45pm',\n",
    "             'Heat 212': '2:48pm',\n",
    "             'Heat 213': '2:51pm',\n",
    "             'Heat 214': '2:54pm',\n",
    "             'Heat 215': '2:57pm',\n",
    "             'Heat 216': '3:00pm',\n",
    "             'Heat 301': '4:15pm',\n",
    "             'Heat 302': '4:18pm',\n",
    "             'Heat 303': '4:21pm',\n",
    "             'Heat 304': '4:24pm',\n",
    "             'Heat 305': '4:27pm',\n",
    "             'Heat 306': '4:30pm',\n",
    "             'Heat 307': '4:33pm',\n",
    "             'Heat 308': '4:36pm',\n",
    "             'Heat 309': '4:39pm',\n",
    "             'Heat 310': '4:42pm',\n",
    "             'Heat 311': '4:45pm',\n",
    "             'Heat 312': '4:48pm',\n",
    "             'Heat 313': '4:51pm',\n",
    "             'Heat 314': '4:54pm',\n",
    "             'Heat 315': '4:57pm',\n",
    "             'Heat 316': '5:00pm',\n",
    "             'Heat 401': '9:15am',\n",
    "             'Heat 402': '9:18am',\n",
    "             'Heat 403': '9:21am',\n",
    "             'Heat 404': '9:24am',\n",
    "             'Heat 405': '9:27am',\n",
    "             'Heat 406': '9:30am',\n",
    "             'Heat 407': '9:33am',\n",
    "             'Heat 408': '9:36am',\n",
    "             'Heat 409': '9:39am',\n",
    "             'Heat 410': '9:42am',\n",
    "             'Heat 411': '9:45am',\n",
    "             'Heat 412': '9:48am',\n",
    "             'Heat 413': '9:51am',\n",
    "             'Heat 414': '9:54am',\n",
    "             'Heat 415': '9:57am',\n",
    "             'Heat 416': '10:00am',\n",
    "             'Heat 501': '11:15am',\n",
    "             'Heat 502': '11:18am',\n",
    "             'Heat 503': '11:21am',\n",
    "             'Heat 504': '11:24am',\n",
    "             'Heat 505': '11:27am',\n",
    "             'Heat 506': '11:30am',\n",
    "             'Heat 507': '11:33am',\n",
    "             'Heat 508': '11:36am',\n",
    "             'Heat 509': '11:39am',\n",
    "             'Heat 510': '11:42am',\n",
    "             'Heat 511': '11:45am',\n",
    "             'Heat 512': '11:48am',\n",
    "             'Heat 513': '11:51am',\n",
    "             'Heat 514': '11:54am',\n",
    "             'Heat 515': '11:57am',\n",
    "             'Heat 516': '12:00pm'}"
   ]
  },
  {
   "cell_type": "code",
   "execution_count": 3,
   "metadata": {
    "collapsed": true
   },
   "outputs": [],
   "source": [
    "sart18 = SART(r0_seeds_fiftysix, bef_aft_ht_pairs_fiftysix, columns, start_times, six_person_heats_R2_R3, six_person_heats_R4)"
   ]
  },
  {
   "cell_type": "markdown",
   "metadata": {},
   "source": [
    "#### Call Functions to prepare the keys for our DataFrame\n",
    "- Using the r0_seeds and before/after heat pairs data\n",
    "- This is done in a few functions behind the scenes for this class"
   ]
  },
  {
   "cell_type": "code",
   "execution_count": 4,
   "metadata": {
    "collapsed": true
   },
   "outputs": [],
   "source": [
    "sart18.prepare_sd_h_keys(alter_for_fiftysix=True, include_fiftysevenandeight=True)"
   ]
  },
  {
   "cell_type": "code",
   "execution_count": 5,
   "metadata": {},
   "outputs": [
    {
     "data": {
      "text/plain": [
       "['103/104-Q3',\n",
       " '103/104-Q4',\n",
       " '103/104-Q5',\n",
       " '111/112-Q3',\n",
       " '111/112-Q4',\n",
       " '111/112-Q5',\n",
       " '103/104-Q6',\n",
       " '111/112-Q6']"
      ]
     },
     "execution_count": 5,
     "metadata": {},
     "output_type": "execute_result"
    }
   ],
   "source": [
    "sart18.h_seed_key['Heat 204']"
   ]
  },
  {
   "cell_type": "markdown",
   "metadata": {},
   "source": [
    "#### Create the Bracket DataFrame"
   ]
  },
  {
   "cell_type": "code",
   "execution_count": 6,
   "metadata": {
    "collapsed": true
   },
   "outputs": [],
   "source": [
    "sart18.create_bracket()"
   ]
  },
  {
   "cell_type": "code",
   "execution_count": 7,
   "metadata": {},
   "outputs": [
    {
     "data": {
      "text/html": [
       "<div>\n",
       "<style>\n",
       "    .dataframe thead tr:only-child th {\n",
       "        text-align: right;\n",
       "    }\n",
       "\n",
       "    .dataframe thead th {\n",
       "        text-align: left;\n",
       "    }\n",
       "\n",
       "    .dataframe tbody tr th {\n",
       "        vertical-align: top;\n",
       "    }\n",
       "</style>\n",
       "<table border=\"1\" class=\"dataframe\">\n",
       "  <thead>\n",
       "    <tr style=\"text-align: right;\">\n",
       "      <th></th>\n",
       "      <th>Round</th>\n",
       "      <th>Nxt_Heat</th>\n",
       "      <th>First_name</th>\n",
       "      <th>Surname</th>\n",
       "      <th>Time</th>\n",
       "      <th>Nxt_Heat_Time</th>\n",
       "    </tr>\n",
       "    <tr>\n",
       "      <th>Seed</th>\n",
       "      <th></th>\n",
       "      <th></th>\n",
       "      <th></th>\n",
       "      <th></th>\n",
       "      <th></th>\n",
       "      <th></th>\n",
       "    </tr>\n",
       "  </thead>\n",
       "  <tbody>\n",
       "    <tr>\n",
       "      <th>1</th>\n",
       "      <td>0</td>\n",
       "      <td>Heat 101</td>\n",
       "      <td>NaN</td>\n",
       "      <td>NaN</td>\n",
       "      <td>NaN</td>\n",
       "      <td>11:15am</td>\n",
       "    </tr>\n",
       "    <tr>\n",
       "      <th>2</th>\n",
       "      <td>0</td>\n",
       "      <td>Heat 109</td>\n",
       "      <td>NaN</td>\n",
       "      <td>NaN</td>\n",
       "      <td>NaN</td>\n",
       "      <td>11:39am</td>\n",
       "    </tr>\n",
       "    <tr>\n",
       "      <th>3</th>\n",
       "      <td>0</td>\n",
       "      <td>Heat 113</td>\n",
       "      <td>NaN</td>\n",
       "      <td>NaN</td>\n",
       "      <td>NaN</td>\n",
       "      <td>11:51am</td>\n",
       "    </tr>\n",
       "    <tr>\n",
       "      <th>4</th>\n",
       "      <td>0</td>\n",
       "      <td>Heat 105</td>\n",
       "      <td>NaN</td>\n",
       "      <td>NaN</td>\n",
       "      <td>NaN</td>\n",
       "      <td>11:27am</td>\n",
       "    </tr>\n",
       "    <tr>\n",
       "      <th>5</th>\n",
       "      <td>0</td>\n",
       "      <td>Heat 107</td>\n",
       "      <td>NaN</td>\n",
       "      <td>NaN</td>\n",
       "      <td>NaN</td>\n",
       "      <td>11:33am</td>\n",
       "    </tr>\n",
       "  </tbody>\n",
       "</table>\n",
       "</div>"
      ],
      "text/plain": [
       "     Round  Nxt_Heat First_name Surname Time Nxt_Heat_Time\n",
       "Seed                                                      \n",
       "1        0  Heat 101        NaN     NaN  NaN       11:15am\n",
       "2        0  Heat 109        NaN     NaN  NaN       11:39am\n",
       "3        0  Heat 113        NaN     NaN  NaN       11:51am\n",
       "4        0  Heat 105        NaN     NaN  NaN       11:27am\n",
       "5        0  Heat 107        NaN     NaN  NaN       11:33am"
      ]
     },
     "execution_count": 7,
     "metadata": {},
     "output_type": "execute_result"
    }
   ],
   "source": [
    "sart18.bracket_df.head()"
   ]
  },
  {
   "cell_type": "code",
   "execution_count": 8,
   "metadata": {
    "collapsed": true
   },
   "outputs": [],
   "source": [
    "sart18.bracket_df.to_csv('2018_event_files_58/PreEvent_Bracket_Dataframe.csv')"
   ]
  },
  {
   "cell_type": "code",
   "execution_count": 9,
   "metadata": {},
   "outputs": [
    {
     "name": "stdout",
     "output_type": "stream",
     "text": [
      "<class 'pandas.core.frame.DataFrame'>\n",
      "Index: 290 entries, 1 to W416\n",
      "Data columns (total 6 columns):\n",
      "Round            290 non-null object\n",
      "Nxt_Heat         290 non-null object\n",
      "First_name       0 non-null object\n",
      "Surname          0 non-null object\n",
      "Time             0 non-null object\n",
      "Nxt_Heat_Time    290 non-null object\n",
      "dtypes: object(6)\n",
      "memory usage: 15.9+ KB\n"
     ]
    }
   ],
   "source": [
    "sart18.bracket_df.info()\n",
    "#for a bracket of 58 people and 5 rounds, total s/b 290 and it is"
   ]
  },
  {
   "cell_type": "code",
   "execution_count": 10,
   "metadata": {},
   "outputs": [
    {
     "data": {
      "text/html": [
       "<div>\n",
       "<style>\n",
       "    .dataframe thead tr:only-child th {\n",
       "        text-align: right;\n",
       "    }\n",
       "\n",
       "    .dataframe thead th {\n",
       "        text-align: left;\n",
       "    }\n",
       "\n",
       "    .dataframe tbody tr th {\n",
       "        vertical-align: top;\n",
       "    }\n",
       "</style>\n",
       "<table border=\"1\" class=\"dataframe\">\n",
       "  <thead>\n",
       "    <tr style=\"text-align: right;\">\n",
       "      <th></th>\n",
       "      <th>Round</th>\n",
       "      <th>Nxt_Heat</th>\n",
       "      <th>First_name</th>\n",
       "      <th>Surname</th>\n",
       "      <th>Time</th>\n",
       "      <th>Nxt_Heat_Time</th>\n",
       "    </tr>\n",
       "    <tr>\n",
       "      <th>Seed</th>\n",
       "      <th></th>\n",
       "      <th></th>\n",
       "      <th></th>\n",
       "      <th></th>\n",
       "      <th></th>\n",
       "      <th></th>\n",
       "    </tr>\n",
       "  </thead>\n",
       "  <tbody>\n",
       "    <tr>\n",
       "      <th>402-Q1</th>\n",
       "      <td>4</td>\n",
       "      <td>Heat 502</td>\n",
       "      <td>NaN</td>\n",
       "      <td>NaN</td>\n",
       "      <td>NaN</td>\n",
       "      <td>11:18am</td>\n",
       "    </tr>\n",
       "    <tr>\n",
       "      <th>402-Q2</th>\n",
       "      <td>4</td>\n",
       "      <td>Heat 502</td>\n",
       "      <td>NaN</td>\n",
       "      <td>NaN</td>\n",
       "      <td>NaN</td>\n",
       "      <td>11:18am</td>\n",
       "    </tr>\n",
       "    <tr>\n",
       "      <th>402-Q3</th>\n",
       "      <td>4</td>\n",
       "      <td>Heat 502</td>\n",
       "      <td>NaN</td>\n",
       "      <td>NaN</td>\n",
       "      <td>NaN</td>\n",
       "      <td>11:18am</td>\n",
       "    </tr>\n",
       "    <tr>\n",
       "      <th>402-Q4</th>\n",
       "      <td>4</td>\n",
       "      <td>Heat 502</td>\n",
       "      <td>NaN</td>\n",
       "      <td>NaN</td>\n",
       "      <td>NaN</td>\n",
       "      <td>11:18am</td>\n",
       "    </tr>\n",
       "    <tr>\n",
       "      <th>402-Q5</th>\n",
       "      <td>4</td>\n",
       "      <td>Heat 502</td>\n",
       "      <td>NaN</td>\n",
       "      <td>NaN</td>\n",
       "      <td>NaN</td>\n",
       "      <td>11:18am</td>\n",
       "    </tr>\n",
       "    <tr>\n",
       "      <th>402-Q6</th>\n",
       "      <td>4</td>\n",
       "      <td>Heat 502</td>\n",
       "      <td>NaN</td>\n",
       "      <td>NaN</td>\n",
       "      <td>NaN</td>\n",
       "      <td>11:18am</td>\n",
       "    </tr>\n",
       "    <tr>\n",
       "      <th>402-Q7</th>\n",
       "      <td>4</td>\n",
       "      <td>Heat 502</td>\n",
       "      <td>NaN</td>\n",
       "      <td>NaN</td>\n",
       "      <td>NaN</td>\n",
       "      <td>11:18am</td>\n",
       "    </tr>\n",
       "    <tr>\n",
       "      <th>402-Q8</th>\n",
       "      <td>4</td>\n",
       "      <td>Heat 502</td>\n",
       "      <td>NaN</td>\n",
       "      <td>NaN</td>\n",
       "      <td>NaN</td>\n",
       "      <td>11:18am</td>\n",
       "    </tr>\n",
       "  </tbody>\n",
       "</table>\n",
       "</div>"
      ],
      "text/plain": [
       "       Round  Nxt_Heat First_name Surname Time Nxt_Heat_Time\n",
       "Seed                                                        \n",
       "402-Q1     4  Heat 502        NaN     NaN  NaN       11:18am\n",
       "402-Q2     4  Heat 502        NaN     NaN  NaN       11:18am\n",
       "402-Q3     4  Heat 502        NaN     NaN  NaN       11:18am\n",
       "402-Q4     4  Heat 502        NaN     NaN  NaN       11:18am\n",
       "402-Q5     4  Heat 502        NaN     NaN  NaN       11:18am\n",
       "402-Q6     4  Heat 502        NaN     NaN  NaN       11:18am\n",
       "402-Q7     4  Heat 502        NaN     NaN  NaN       11:18am\n",
       "402-Q8     4  Heat 502        NaN     NaN  NaN       11:18am"
      ]
     },
     "execution_count": 10,
     "metadata": {},
     "output_type": "execute_result"
    }
   ],
   "source": [
    "sart18.bracket_df[sart18.bracket_df['Nxt_Heat']=='Heat 502']"
   ]
  },
  {
   "cell_type": "code",
   "execution_count": 11,
   "metadata": {},
   "outputs": [
    {
     "data": {
      "text/html": [
       "<div>\n",
       "<style>\n",
       "    .dataframe thead tr:only-child th {\n",
       "        text-align: right;\n",
       "    }\n",
       "\n",
       "    .dataframe thead th {\n",
       "        text-align: left;\n",
       "    }\n",
       "\n",
       "    .dataframe tbody tr th {\n",
       "        vertical-align: top;\n",
       "    }\n",
       "</style>\n",
       "<table border=\"1\" class=\"dataframe\">\n",
       "  <thead>\n",
       "    <tr style=\"text-align: right;\">\n",
       "      <th></th>\n",
       "      <th>Round</th>\n",
       "      <th>Nxt_Heat</th>\n",
       "      <th>First_name</th>\n",
       "      <th>Surname</th>\n",
       "      <th>Time</th>\n",
       "      <th>Nxt_Heat_Time</th>\n",
       "    </tr>\n",
       "    <tr>\n",
       "      <th>Seed</th>\n",
       "      <th></th>\n",
       "      <th></th>\n",
       "      <th></th>\n",
       "      <th></th>\n",
       "      <th></th>\n",
       "      <th></th>\n",
       "    </tr>\n",
       "  </thead>\n",
       "  <tbody>\n",
       "    <tr>\n",
       "      <th>202/204-Q1</th>\n",
       "      <td>2</td>\n",
       "      <td>Heat 303</td>\n",
       "      <td>NaN</td>\n",
       "      <td>NaN</td>\n",
       "      <td>NaN</td>\n",
       "      <td>4:21pm</td>\n",
       "    </tr>\n",
       "    <tr>\n",
       "      <th>202/204-Q10</th>\n",
       "      <td>2</td>\n",
       "      <td>Heat 304</td>\n",
       "      <td>NaN</td>\n",
       "      <td>NaN</td>\n",
       "      <td>NaN</td>\n",
       "      <td>4:24pm</td>\n",
       "    </tr>\n",
       "    <tr>\n",
       "      <th>202/204-Q11</th>\n",
       "      <td>2</td>\n",
       "      <td>Heat 304</td>\n",
       "      <td>NaN</td>\n",
       "      <td>NaN</td>\n",
       "      <td>NaN</td>\n",
       "      <td>4:24pm</td>\n",
       "    </tr>\n",
       "    <tr>\n",
       "      <th>202/204-Q12</th>\n",
       "      <td>2</td>\n",
       "      <td>Heat 304</td>\n",
       "      <td>NaN</td>\n",
       "      <td>NaN</td>\n",
       "      <td>NaN</td>\n",
       "      <td>4:24pm</td>\n",
       "    </tr>\n",
       "    <tr>\n",
       "      <th>202/204-Q2</th>\n",
       "      <td>2</td>\n",
       "      <td>Heat 303</td>\n",
       "      <td>NaN</td>\n",
       "      <td>NaN</td>\n",
       "      <td>NaN</td>\n",
       "      <td>4:21pm</td>\n",
       "    </tr>\n",
       "    <tr>\n",
       "      <th>202/204-Q3</th>\n",
       "      <td>2</td>\n",
       "      <td>Heat 303</td>\n",
       "      <td>NaN</td>\n",
       "      <td>NaN</td>\n",
       "      <td>NaN</td>\n",
       "      <td>4:21pm</td>\n",
       "    </tr>\n",
       "    <tr>\n",
       "      <th>202/204-Q4</th>\n",
       "      <td>2</td>\n",
       "      <td>Heat 303</td>\n",
       "      <td>NaN</td>\n",
       "      <td>NaN</td>\n",
       "      <td>NaN</td>\n",
       "      <td>4:21pm</td>\n",
       "    </tr>\n",
       "    <tr>\n",
       "      <th>202/204-Q5</th>\n",
       "      <td>2</td>\n",
       "      <td>Heat 304</td>\n",
       "      <td>NaN</td>\n",
       "      <td>NaN</td>\n",
       "      <td>NaN</td>\n",
       "      <td>4:24pm</td>\n",
       "    </tr>\n",
       "    <tr>\n",
       "      <th>202/204-Q6</th>\n",
       "      <td>2</td>\n",
       "      <td>Heat 304</td>\n",
       "      <td>NaN</td>\n",
       "      <td>NaN</td>\n",
       "      <td>NaN</td>\n",
       "      <td>4:24pm</td>\n",
       "    </tr>\n",
       "    <tr>\n",
       "      <th>202/204-Q7</th>\n",
       "      <td>2</td>\n",
       "      <td>Heat 304</td>\n",
       "      <td>NaN</td>\n",
       "      <td>NaN</td>\n",
       "      <td>NaN</td>\n",
       "      <td>4:24pm</td>\n",
       "    </tr>\n",
       "    <tr>\n",
       "      <th>202/204-Q8</th>\n",
       "      <td>2</td>\n",
       "      <td>Heat 304</td>\n",
       "      <td>NaN</td>\n",
       "      <td>NaN</td>\n",
       "      <td>NaN</td>\n",
       "      <td>4:24pm</td>\n",
       "    </tr>\n",
       "    <tr>\n",
       "      <th>202/204-Q9</th>\n",
       "      <td>2</td>\n",
       "      <td>Heat 304</td>\n",
       "      <td>NaN</td>\n",
       "      <td>NaN</td>\n",
       "      <td>NaN</td>\n",
       "      <td>4:24pm</td>\n",
       "    </tr>\n",
       "    <tr>\n",
       "      <th>W204</th>\n",
       "      <td>2</td>\n",
       "      <td>Heat 303</td>\n",
       "      <td>NaN</td>\n",
       "      <td>NaN</td>\n",
       "      <td>NaN</td>\n",
       "      <td>4:21pm</td>\n",
       "    </tr>\n",
       "  </tbody>\n",
       "</table>\n",
       "</div>"
      ],
      "text/plain": [
       "            Round  Nxt_Heat First_name Surname Time Nxt_Heat_Time\n",
       "Seed                                                             \n",
       "202/204-Q1      2  Heat 303        NaN     NaN  NaN        4:21pm\n",
       "202/204-Q10     2  Heat 304        NaN     NaN  NaN        4:24pm\n",
       "202/204-Q11     2  Heat 304        NaN     NaN  NaN        4:24pm\n",
       "202/204-Q12     2  Heat 304        NaN     NaN  NaN        4:24pm\n",
       "202/204-Q2      2  Heat 303        NaN     NaN  NaN        4:21pm\n",
       "202/204-Q3      2  Heat 303        NaN     NaN  NaN        4:21pm\n",
       "202/204-Q4      2  Heat 303        NaN     NaN  NaN        4:21pm\n",
       "202/204-Q5      2  Heat 304        NaN     NaN  NaN        4:24pm\n",
       "202/204-Q6      2  Heat 304        NaN     NaN  NaN        4:24pm\n",
       "202/204-Q7      2  Heat 304        NaN     NaN  NaN        4:24pm\n",
       "202/204-Q8      2  Heat 304        NaN     NaN  NaN        4:24pm\n",
       "202/204-Q9      2  Heat 304        NaN     NaN  NaN        4:24pm\n",
       "W204            2  Heat 303        NaN     NaN  NaN        4:21pm"
      ]
     },
     "execution_count": 11,
     "metadata": {},
     "output_type": "execute_result"
    }
   ],
   "source": [
    "sart18.bracket_df.filter(like=\"204\", axis=0)"
   ]
  },
  {
   "cell_type": "markdown",
   "metadata": {},
   "source": [
    "## Time Trial"
   ]
  },
  {
   "cell_type": "markdown",
   "metadata": {},
   "source": [
    "#### Process the time trial results\n",
    "- Use the CSV results file pulled from SportSoftware\n",
    "- Address any ties, mp's, dnf's, and dns's as shown below"
   ]
  },
  {
   "cell_type": "code",
   "execution_count": 12,
   "metadata": {
    "collapsed": true
   },
   "outputs": [],
   "source": [
    "sart18.process_time_trial_results('2018_event_files_58/00_NSC1_TimeTrial/TT_R0_Results.csv')"
   ]
  },
  {
   "cell_type": "code",
   "execution_count": 13,
   "metadata": {},
   "outputs": [
    {
     "data": {
      "text/plain": [
       "'Warning: Ties exist - diff in list length is 2.  Fix before proceeding.'"
      ]
     },
     "execution_count": 13,
     "metadata": {},
     "output_type": "execute_result"
    }
   ],
   "source": [
    "sart18._check_TT_for_ties()"
   ]
  },
  {
   "cell_type": "code",
   "execution_count": 14,
   "metadata": {},
   "outputs": [
    {
     "data": {
      "text/html": [
       "<div>\n",
       "<style>\n",
       "    .dataframe thead tr:only-child th {\n",
       "        text-align: right;\n",
       "    }\n",
       "\n",
       "    .dataframe thead th {\n",
       "        text-align: left;\n",
       "    }\n",
       "\n",
       "    .dataframe tbody tr th {\n",
       "        vertical-align: top;\n",
       "    }\n",
       "</style>\n",
       "<table border=\"1\" class=\"dataframe\">\n",
       "  <thead>\n",
       "    <tr style=\"text-align: right;\">\n",
       "      <th></th>\n",
       "      <th>Surname</th>\n",
       "      <th>First_name</th>\n",
       "      <th>Time</th>\n",
       "      <th>Seed</th>\n",
       "    </tr>\n",
       "  </thead>\n",
       "  <tbody>\n",
       "    <tr>\n",
       "      <th>16</th>\n",
       "      <td>Herrnstein</td>\n",
       "      <td>Tom</td>\n",
       "      <td>0:10:26</td>\n",
       "      <td>17</td>\n",
       "    </tr>\n",
       "  </tbody>\n",
       "</table>\n",
       "</div>"
      ],
      "text/plain": [
       "       Surname First_name     Time  Seed\n",
       "16  Herrnstein        Tom  0:10:26    17"
      ]
     },
     "execution_count": 14,
     "metadata": {},
     "output_type": "execute_result"
    }
   ],
   "source": [
    "sart18.tt_df_cleaned[sart18.tt_df_cleaned['First_name']=='Tom']"
   ]
  },
  {
   "cell_type": "code",
   "execution_count": 15,
   "metadata": {},
   "outputs": [
    {
     "name": "stdout",
     "output_type": "stream",
     "text": [
      "<class 'pandas.core.frame.DataFrame'>\n",
      "Index: 54 entries, 0 to 52\n",
      "Data columns (total 4 columns):\n",
      "Surname       54 non-null object\n",
      "First_name    54 non-null object\n",
      "Time          54 non-null object\n",
      "Seed          54 non-null int64\n",
      "dtypes: int64(1), object(3)\n",
      "memory usage: 2.1+ KB\n"
     ]
    }
   ],
   "source": [
    "sart18.tt_df_cleaned.info()"
   ]
  },
  {
   "cell_type": "code",
   "execution_count": 16,
   "metadata": {
    "collapsed": true
   },
   "outputs": [],
   "source": [
    "sart18.tt_df_cleaned.sort_values(by='Seed', inplace=True)\n",
    "\n",
    "#Adjusting seeds to break ties based on time at go control:\n",
    "\n",
    "#mp, Olga\n",
    "#no changes needed for this heat - seed already assigned properly\n",
    "\n",
    "#Stan, Tom\n",
    "sart18.tt_df_cleaned.loc['17', ['Seed']] = int(17) #move Stan up\n",
    "sart18.tt_df_cleaned.loc['16', ['Seed']] = int(18)\n",
    "sart18.tt_df_cleaned.loc['16', ['Time']] = '0:10:26.5' #Tom moves down\n",
    "\n",
    "#Christophe, Peter\n",
    "sart18.tt_df_cleaned.loc['21', ['Time']] = '0:10:39.5' #Peter moves down\n",
    "\n",
    "#Add DNS's\n",
    "sart18.tt_df_cleaned.loc['54', ['Surname']] = 'Roecks'\n",
    "sart18.tt_df_cleaned.loc['54', ['First_name']] = 'Marissa'\n",
    "sart18.tt_df_cleaned.loc['54', ['Time']] = '0:59:00'\n",
    "sart18.tt_df_cleaned.loc['54', ['Seed']] = int(55)\n",
    "#sart18.tt_df_cleaned.loc['54', ['Heat']] = 112 #get from bracket_df\n",
    "\n",
    "sart18.tt_df_cleaned.loc['55', ['Surname']] = 'Bone'\n",
    "sart18.tt_df_cleaned.loc['55', ['First_name']] = 'Eric'\n",
    "sart18.tt_df_cleaned.loc['55', ['Time']] = '0:59:01'\n",
    "sart18.tt_df_cleaned.loc['55', ['Seed']] = int(56)\n",
    "#sart18.tt_df_cleaned.loc['55', ['Heat']] = 104 #get from bracket_df\n",
    "\n",
    "sart18.tt_df_cleaned.loc['56', ['Surname']] = 'Chan'\n",
    "sart18.tt_df_cleaned.loc['56', ['First_name']] = 'Jessie'\n",
    "sart18.tt_df_cleaned.loc['56', ['Time']] = '0:59:02'\n",
    "sart18.tt_df_cleaned.loc['56', ['Seed']] = int(57)\n",
    "#sart18.tt_df_cleaned.loc['56', ['Heat']] = 103 #get from bracket_df\n",
    "\n",
    "sart18.tt_df_cleaned.loc['57', ['Surname']] = 'Warner'\n",
    "sart18.tt_df_cleaned.loc['57', ['First_name']] = 'Steve'\n",
    "sart18.tt_df_cleaned.loc['57', ['Time']] = '0:59:03'\n",
    "sart18.tt_df_cleaned.loc['57', ['Seed']] = int(58)\n",
    "#sart18.tt_df_cleaned.loc['57', ['Heat']] = 111 #get from bracket_df\n",
    "\n",
    "#These steps completed by reviewing data and pulling tie-breakers from SS; tie break is who is ahead at the go control"
   ]
  },
  {
   "cell_type": "code",
   "execution_count": 17,
   "metadata": {},
   "outputs": [
    {
     "name": "stdout",
     "output_type": "stream",
     "text": [
      "<class 'pandas.core.frame.DataFrame'>\n",
      "Index: 58 entries, 0 to 57\n",
      "Data columns (total 4 columns):\n",
      "Surname       58 non-null object\n",
      "First_name    58 non-null object\n",
      "Time          58 non-null object\n",
      "Seed          58 non-null float64\n",
      "dtypes: float64(1), object(3)\n",
      "memory usage: 4.8+ KB\n"
     ]
    }
   ],
   "source": [
    "sart18.tt_df_cleaned.info()"
   ]
  },
  {
   "cell_type": "markdown",
   "metadata": {},
   "source": [
    "#### Add the time trial results to the Bracket DataFrame Using Seed as Key\n",
    "- Now each person has their Round 1 Heat Assignment since those were already associated with each seed in the Bracket DF"
   ]
  },
  {
   "cell_type": "code",
   "execution_count": 18,
   "metadata": {},
   "outputs": [
    {
     "name": "stdout",
     "output_type": "stream",
     "text": [
      "No Ties, results added to bracket!\n"
     ]
    }
   ],
   "source": [
    "sart18.add_time_trial_results()"
   ]
  },
  {
   "cell_type": "code",
   "execution_count": 19,
   "metadata": {
    "collapsed": true
   },
   "outputs": [],
   "source": [
    "#Add DNS's\n",
    "sart18.tt_df_cleaned.loc['54', ['Surname']] = 'Roecks'\n",
    "sart18.tt_df_cleaned.loc['54', ['First_name']] = 'Marissa'\n",
    "sart18.tt_df_cleaned.loc['54', ['Time']] = '0:59:00'\n",
    "sart18.tt_df_cleaned.loc['54', ['Seed']] = int(55)\n",
    "#sart18.tt_df_cleaned.loc['54', ['Heat']] = 112 #get from bracket_df\n",
    "\n",
    "sart18.tt_df_cleaned.loc['55', ['Surname']] = 'Bone'\n",
    "sart18.tt_df_cleaned.loc['55', ['First_name']] = 'Eric'\n",
    "sart18.tt_df_cleaned.loc['55', ['Time']] = '0:59:01'\n",
    "sart18.tt_df_cleaned.loc['55', ['Seed']] = int(56)\n",
    "#sart18.tt_df_cleaned.loc['55', ['Heat']] = 104 #get from bracket_df\n",
    "\n",
    "sart18.tt_df_cleaned.loc['56', ['Surname']] = 'Chan'\n",
    "sart18.tt_df_cleaned.loc['56', ['First_name']] = 'Jessie'\n",
    "sart18.tt_df_cleaned.loc['56', ['Time']] = '0:59:02'\n",
    "sart18.tt_df_cleaned.loc['56', ['Seed']] = int(57)\n",
    "#sart18.tt_df_cleaned.loc['56', ['Heat']] = 103 #get from bracket_df\n",
    "\n",
    "sart18.tt_df_cleaned.loc['57', ['Surname']] = 'Warner'\n",
    "sart18.tt_df_cleaned.loc['57', ['First_name']] = 'Steve'\n",
    "sart18.tt_df_cleaned.loc['57', ['Time']] = '0:59:03'\n",
    "sart18.tt_df_cleaned.loc['57', ['Seed']] = int(58)\n",
    "#sart18.tt_df_cleaned.loc['57', ['Heat']] = 111 #get from bracket_df"
   ]
  },
  {
   "cell_type": "markdown",
   "metadata": {},
   "source": [
    "#### Print the .txt file with next heat assignments for use in handing out heat assignment info"
   ]
  },
  {
   "cell_type": "code",
   "execution_count": 20,
   "metadata": {
    "collapsed": true
   },
   "outputs": [],
   "source": [
    "from __future__ import print_function\n",
    "print(*sart18.print_heat_assigns(1), sep='\\n', file = open(\"2018_event_files_58/01_NSC2/R1_heat_assigns.txt\", 'w'))"
   ]
  },
  {
   "cell_type": "markdown",
   "metadata": {},
   "source": [
    "#### Process the next round CSV for import to SportSoftware with correct heat assignments\n",
    "- This function pulls in the existing CSV, updates the heat assignments, and then in the following line exports a new CSV with those new assignments"
   ]
  },
  {
   "cell_type": "code",
   "execution_count": 21,
   "metadata": {
    "collapsed": true
   },
   "outputs": [],
   "source": [
    "r1_ss_import = sart18.assign_nxt_ht_to_ss_import_csv('2018_event_files_58/01_NSC2/EntryForOE-20180906074203-R01-PreEvent.csv', 0)\n",
    "#Round must be put in as an integer here!"
   ]
  },
  {
   "cell_type": "code",
   "execution_count": 22,
   "metadata": {
    "collapsed": true
   },
   "outputs": [],
   "source": [
    "r1_ss_import.to_csv('2018_event_files_58/01_NSC2/SS_import_R1_with_heats.csv', index=False)"
   ]
  },
  {
   "cell_type": "markdown",
   "metadata": {},
   "source": [
    "## Round 1"
   ]
  },
  {
   "cell_type": "markdown",
   "metadata": {},
   "source": [
    "#### Import and process the results from Round 1\n",
    "\n",
    "- Use the CSV results pulled from SportSoftware\n",
    "- Address any ties, mp's, dnf's, and dns's as shown below"
   ]
  },
  {
   "cell_type": "code",
   "execution_count": 23,
   "metadata": {},
   "outputs": [
    {
     "name": "stdout",
     "output_type": "stream",
     "text": [
      "<class 'pandas.core.frame.DataFrame'>\n",
      "RangeIndex: 55 entries, 0 to 54\n",
      "Data columns (total 4 columns):\n",
      "Surname       55 non-null object\n",
      "First_name    55 non-null object\n",
      "Time          55 non-null object\n",
      "Heat          55 non-null int64\n",
      "dtypes: int64(1), object(3)\n",
      "memory usage: 1.8+ KB\n"
     ]
    }
   ],
   "source": [
    "r1_results = sart18.clean_results_csv('2018_event_files_58/01_NSC2/R1_NSC_Results.csv')\n",
    "r1_results.sort_values(by='Heat', inplace=True)\n",
    "\n",
    "r1_results.reset_index(inplace=True, drop=True) #not required for actual event; necessary due to way test file was edited to support test\n",
    "r1_results.info()"
   ]
  },
  {
   "cell_type": "code",
   "execution_count": 24,
   "metadata": {},
   "outputs": [
    {
     "data": {
      "text/html": [
       "<div>\n",
       "<style>\n",
       "    .dataframe thead tr:only-child th {\n",
       "        text-align: right;\n",
       "    }\n",
       "\n",
       "    .dataframe thead th {\n",
       "        text-align: left;\n",
       "    }\n",
       "\n",
       "    .dataframe tbody tr th {\n",
       "        vertical-align: top;\n",
       "    }\n",
       "</style>\n",
       "<table border=\"1\" class=\"dataframe\">\n",
       "  <thead>\n",
       "    <tr style=\"text-align: right;\">\n",
       "      <th></th>\n",
       "      <th>Surname</th>\n",
       "      <th>First_name</th>\n",
       "      <th>Time</th>\n",
       "      <th>Heat</th>\n",
       "    </tr>\n",
       "  </thead>\n",
       "  <tbody>\n",
       "    <tr>\n",
       "      <th>0</th>\n",
       "      <td>Collings</td>\n",
       "      <td>Ian</td>\n",
       "      <td>0:15:53</td>\n",
       "      <td>101</td>\n",
       "    </tr>\n",
       "    <tr>\n",
       "      <th>1</th>\n",
       "      <td>Mason</td>\n",
       "      <td>Andrew</td>\n",
       "      <td>0:20:27</td>\n",
       "      <td>101</td>\n",
       "    </tr>\n",
       "    <tr>\n",
       "      <th>2</th>\n",
       "      <td>Breseman</td>\n",
       "      <td>Ryan</td>\n",
       "      <td>0:21:58</td>\n",
       "      <td>101</td>\n",
       "    </tr>\n",
       "    <tr>\n",
       "      <th>3</th>\n",
       "      <td>Vaisar</td>\n",
       "      <td>Tomas</td>\n",
       "      <td>0:21:12</td>\n",
       "      <td>102</td>\n",
       "    </tr>\n",
       "    <tr>\n",
       "      <th>4</th>\n",
       "      <td>Byers-Jensen</td>\n",
       "      <td>Kate</td>\n",
       "      <td>0:30:31</td>\n",
       "      <td>102</td>\n",
       "    </tr>\n",
       "  </tbody>\n",
       "</table>\n",
       "</div>"
      ],
      "text/plain": [
       "        Surname First_name     Time  Heat\n",
       "0      Collings        Ian  0:15:53   101\n",
       "1         Mason     Andrew  0:20:27   101\n",
       "2      Breseman       Ryan  0:21:58   101\n",
       "3        Vaisar      Tomas  0:21:12   102\n",
       "4  Byers-Jensen       Kate  0:30:31   102"
      ]
     },
     "execution_count": 24,
     "metadata": {},
     "output_type": "execute_result"
    }
   ],
   "source": [
    "r1_results.head()"
   ]
  },
  {
   "cell_type": "code",
   "execution_count": 25,
   "metadata": {},
   "outputs": [
    {
     "data": {
      "text/plain": [
       "(     Surname First_name     Time  Heat\n",
       " 34    McNair       Abra  0:21:28   111\n",
       " 35  Collings      Laura  0:31:43   111\n",
       " 36    Mihata        Kai  0:17:58   111,\n",
       "         Surname First_name     Time  Heat\n",
       " 37       Mihata      Kevin  0:22:46   112\n",
       " 38  Gusiatnikov   Vladimir  0:20:28   112\n",
       " 39     Breseman       Dana  0:26:14   112\n",
       " 40       Roecks    Marissa  0:27:17   112)"
      ]
     },
     "execution_count": 25,
     "metadata": {},
     "output_type": "execute_result"
    }
   ],
   "source": [
    "r1_results[r1_results['Heat']==111], r1_results[r1_results['Heat']==112]"
   ]
  },
  {
   "cell_type": "code",
   "execution_count": 26,
   "metadata": {},
   "outputs": [
    {
     "data": {
      "text/html": [
       "<div>\n",
       "<style>\n",
       "    .dataframe thead tr:only-child th {\n",
       "        text-align: right;\n",
       "    }\n",
       "\n",
       "    .dataframe thead th {\n",
       "        text-align: left;\n",
       "    }\n",
       "\n",
       "    .dataframe tbody tr th {\n",
       "        vertical-align: top;\n",
       "    }\n",
       "</style>\n",
       "<table border=\"1\" class=\"dataframe\">\n",
       "  <thead>\n",
       "    <tr style=\"text-align: right;\">\n",
       "      <th></th>\n",
       "      <th>Surname</th>\n",
       "      <th>First_name</th>\n",
       "      <th>Time</th>\n",
       "      <th>Heat</th>\n",
       "    </tr>\n",
       "  </thead>\n",
       "  <tbody>\n",
       "  </tbody>\n",
       "</table>\n",
       "</div>"
      ],
      "text/plain": [
       "Empty DataFrame\n",
       "Columns: [Surname, First_name, Time, Heat]\n",
       "Index: []"
      ]
     },
     "execution_count": 26,
     "metadata": {},
     "output_type": "execute_result"
    }
   ],
   "source": [
    "r1_results[r1_results['First_name']=='Steve']"
   ]
  },
  {
   "cell_type": "code",
   "execution_count": 27,
   "metadata": {
    "collapsed": true
   },
   "outputs": [],
   "source": [
    "#break ties:\n",
    "#none\n",
    "\n",
    "#Set high times to drive mp and dnfs to last seeds:\n",
    "\n",
    "#Olga mp\n",
    "r1_results.loc['54', ['Time']] = '59:00'\n",
    "\n",
    "#Stephen mp\n",
    "r1_results.loc['22', ['Time']] = '59:01'\n",
    "\n",
    "r1_results.loc[55, ['Surname']] = 'Bone'\n",
    "r1_results.loc[55, ['First_name']] = 'Eric'\n",
    "r1_results.loc[55, ['Time']] = '0:59:02'\n",
    "r1_results.loc[55, ['Heat']] = 104\n",
    "\n",
    "r1_results.loc[56, ['Surname']] = 'Chan'\n",
    "r1_results.loc[56, ['First_name']] = 'Jessie'\n",
    "r1_results.loc[56, ['Time']] = '0:59:03'\n",
    "r1_results.loc[56, ['Heat']] = 104\n",
    "\n",
    "r1_results.loc[57, ['Surname']] = 'Warner'\n",
    "r1_results.loc[57, ['First_name']] = 'Steve'\n",
    "r1_results.loc[57, ['Time']] = '0:59:04'\n",
    "r1_results.loc[57, ['Heat']] = 111"
   ]
  },
  {
   "cell_type": "markdown",
   "metadata": {},
   "source": [
    "#### Assign next round heats\n",
    "- This populates the results from Round 1 in the Bracket DF as appropriate based on processing method for this bracket / tournament\n",
    "- Results in each person being assigned to their appropriate next heat"
   ]
  },
  {
   "cell_type": "code",
   "execution_count": 28,
   "metadata": {},
   "outputs": [
    {
     "name": "stdout",
     "output_type": "stream",
     "text": [
      "Processing Heat Pair 101, 102 per Normal Function\n",
      "No Ties, proceeding with next heat assignments!\n",
      "Processing Heat Pair 103, 104 per Normal Function\n",
      "No Ties, proceeding with next heat assignments!\n",
      "Processing Heat Pair 105, 106 per Normal Function\n",
      "No Ties, proceeding with next heat assignments!\n",
      "Processing Heat Pair 107, 108 per Normal Function\n",
      "No Ties, proceeding with next heat assignments!\n",
      "Processing Heat Pair 109, 110 per Normal Function\n",
      "No Ties, proceeding with next heat assignments!\n",
      "Processing Heat Pair 111, 112 per Normal Function\n",
      "No Ties, proceeding with next heat assignments!\n",
      "Processing Heat Pair 113, 114 per Normal Function\n",
      "No Ties, proceeding with next heat assignments!\n",
      "Processing Heat Pair 115, 116 per Normal Function\n",
      "No Ties, proceeding with next heat assignments!\n"
     ]
    }
   ],
   "source": [
    "sart18.nxt_ht_assigns_fiftysix(r1_results, 1)"
   ]
  },
  {
   "cell_type": "code",
   "execution_count": 29,
   "metadata": {},
   "outputs": [
    {
     "data": {
      "text/html": [
       "<div>\n",
       "<style>\n",
       "    .dataframe thead tr:only-child th {\n",
       "        text-align: right;\n",
       "    }\n",
       "\n",
       "    .dataframe thead th {\n",
       "        text-align: left;\n",
       "    }\n",
       "\n",
       "    .dataframe tbody tr th {\n",
       "        vertical-align: top;\n",
       "    }\n",
       "</style>\n",
       "<table border=\"1\" class=\"dataframe\">\n",
       "  <thead>\n",
       "    <tr style=\"text-align: right;\">\n",
       "      <th></th>\n",
       "      <th>Round</th>\n",
       "      <th>Nxt_Heat</th>\n",
       "      <th>First_name</th>\n",
       "      <th>Surname</th>\n",
       "      <th>Time</th>\n",
       "      <th>Nxt_Heat_Time</th>\n",
       "    </tr>\n",
       "    <tr>\n",
       "      <th>Seed</th>\n",
       "      <th></th>\n",
       "      <th></th>\n",
       "      <th></th>\n",
       "      <th></th>\n",
       "      <th></th>\n",
       "      <th></th>\n",
       "    </tr>\n",
       "  </thead>\n",
       "  <tbody>\n",
       "    <tr>\n",
       "      <th>103/104-Q3</th>\n",
       "      <td>1</td>\n",
       "      <td>Heat 204</td>\n",
       "      <td>Kate</td>\n",
       "      <td>Knapp</td>\n",
       "      <td>0:25:42</td>\n",
       "      <td>2:24pm</td>\n",
       "    </tr>\n",
       "    <tr>\n",
       "      <th>103/104-Q4</th>\n",
       "      <td>1</td>\n",
       "      <td>Heat 204</td>\n",
       "      <td>Tim</td>\n",
       "      <td>Waterhouse</td>\n",
       "      <td>0:26:52</td>\n",
       "      <td>2:24pm</td>\n",
       "    </tr>\n",
       "    <tr>\n",
       "      <th>103/104-Q5</th>\n",
       "      <td>1</td>\n",
       "      <td>Heat 204</td>\n",
       "      <td>Eric</td>\n",
       "      <td>Bone</td>\n",
       "      <td>0:59:02</td>\n",
       "      <td>2:24pm</td>\n",
       "    </tr>\n",
       "    <tr>\n",
       "      <th>103/104-Q6</th>\n",
       "      <td>1</td>\n",
       "      <td>Heat 204</td>\n",
       "      <td>Jessie</td>\n",
       "      <td>Chan</td>\n",
       "      <td>0:59:03</td>\n",
       "      <td>2:24pm</td>\n",
       "    </tr>\n",
       "    <tr>\n",
       "      <th>111/112-Q3</th>\n",
       "      <td>1</td>\n",
       "      <td>Heat 204</td>\n",
       "      <td>Dana</td>\n",
       "      <td>Breseman</td>\n",
       "      <td>0:26:14</td>\n",
       "      <td>2:24pm</td>\n",
       "    </tr>\n",
       "    <tr>\n",
       "      <th>111/112-Q4</th>\n",
       "      <td>1</td>\n",
       "      <td>Heat 204</td>\n",
       "      <td>Marissa</td>\n",
       "      <td>Roecks</td>\n",
       "      <td>0:27:17</td>\n",
       "      <td>2:24pm</td>\n",
       "    </tr>\n",
       "    <tr>\n",
       "      <th>111/112-Q5</th>\n",
       "      <td>1</td>\n",
       "      <td>Heat 204</td>\n",
       "      <td>Laura</td>\n",
       "      <td>Collings</td>\n",
       "      <td>0:31:43</td>\n",
       "      <td>2:24pm</td>\n",
       "    </tr>\n",
       "    <tr>\n",
       "      <th>111/112-Q6</th>\n",
       "      <td>1</td>\n",
       "      <td>Heat 204</td>\n",
       "      <td>Steve</td>\n",
       "      <td>Warner</td>\n",
       "      <td>0:59:04</td>\n",
       "      <td>2:24pm</td>\n",
       "    </tr>\n",
       "  </tbody>\n",
       "</table>\n",
       "</div>"
      ],
      "text/plain": [
       "           Round  Nxt_Heat First_name     Surname     Time Nxt_Heat_Time\n",
       "Seed                                                                    \n",
       "103/104-Q3     1  Heat 204       Kate       Knapp  0:25:42        2:24pm\n",
       "103/104-Q4     1  Heat 204        Tim  Waterhouse  0:26:52        2:24pm\n",
       "103/104-Q5     1  Heat 204       Eric        Bone  0:59:02        2:24pm\n",
       "103/104-Q6     1  Heat 204     Jessie        Chan  0:59:03        2:24pm\n",
       "111/112-Q3     1  Heat 204       Dana    Breseman  0:26:14        2:24pm\n",
       "111/112-Q4     1  Heat 204    Marissa      Roecks  0:27:17        2:24pm\n",
       "111/112-Q5     1  Heat 204      Laura    Collings  0:31:43        2:24pm\n",
       "111/112-Q6     1  Heat 204      Steve      Warner  0:59:04        2:24pm"
      ]
     },
     "execution_count": 29,
     "metadata": {},
     "output_type": "execute_result"
    }
   ],
   "source": [
    "#visual for example purposes:\n",
    "sart18.bracket_df[sart18.bracket_df['Nxt_Heat'] == 'Heat 204']"
   ]
  },
  {
   "cell_type": "markdown",
   "metadata": {},
   "source": [
    "#### Print the .txt file with next heat assignments for use in handing out heat assignment info"
   ]
  },
  {
   "cell_type": "code",
   "execution_count": 30,
   "metadata": {
    "collapsed": true
   },
   "outputs": [],
   "source": [
    "print(*sart18.print_heat_assigns(2), sep='\\n', file = open(\"2018_event_files_58/02_Shorecrest1/R2_heat_assigns.txt\", 'w'))"
   ]
  },
  {
   "cell_type": "markdown",
   "metadata": {},
   "source": [
    "#### Process the next round CSV for import to SportSoftware with correct heat assignments\n",
    "- This function pulls in the existing CSV, updates the heat assignments, and then in the following line exports a new CSV with those new assignments"
   ]
  },
  {
   "cell_type": "code",
   "execution_count": 31,
   "metadata": {
    "collapsed": true
   },
   "outputs": [],
   "source": [
    "r2_ss_import = sart18.assign_nxt_ht_to_ss_import_csv('2018_event_files_58/02_Shorecrest1/EntryForOE-20180906074203-R02-PreEvent.csv', 1)\n",
    "#Round must be put in as an integer here!"
   ]
  },
  {
   "cell_type": "code",
   "execution_count": 32,
   "metadata": {
    "collapsed": true
   },
   "outputs": [],
   "source": [
    "r2_ss_import.to_csv('2018_event_files_58/02_Shorecrest1/SS_import_R2_with_heats.csv', index=False)"
   ]
  },
  {
   "cell_type": "code",
   "execution_count": 33,
   "metadata": {},
   "outputs": [
    {
     "data": {
      "text/html": [
       "<div>\n",
       "<style>\n",
       "    .dataframe thead tr:only-child th {\n",
       "        text-align: right;\n",
       "    }\n",
       "\n",
       "    .dataframe thead th {\n",
       "        text-align: left;\n",
       "    }\n",
       "\n",
       "    .dataframe tbody tr th {\n",
       "        vertical-align: top;\n",
       "    }\n",
       "</style>\n",
       "<table border=\"1\" class=\"dataframe\">\n",
       "  <thead>\n",
       "    <tr style=\"text-align: right;\">\n",
       "      <th></th>\n",
       "      <th>OE0001</th>\n",
       "      <th>Stno</th>\n",
       "      <th>XStno</th>\n",
       "      <th>Chipno</th>\n",
       "      <th>Database Id</th>\n",
       "      <th>Surname</th>\n",
       "      <th>First name</th>\n",
       "      <th>YB</th>\n",
       "      <th>S</th>\n",
       "      <th>Block</th>\n",
       "      <th>...</th>\n",
       "      <th>EMail</th>\n",
       "      <th>Rented</th>\n",
       "      <th>Start fee</th>\n",
       "      <th>Paid</th>\n",
       "      <th>Team</th>\n",
       "      <th>Course no.</th>\n",
       "      <th>Course</th>\n",
       "      <th>km</th>\n",
       "      <th>m</th>\n",
       "      <th>Course controls</th>\n",
       "    </tr>\n",
       "  </thead>\n",
       "  <tbody>\n",
       "    <tr>\n",
       "      <th>23</th>\n",
       "      <td>NaN</td>\n",
       "      <td>1024</td>\n",
       "      <td>NaN</td>\n",
       "      <td>2068608</td>\n",
       "      <td>24</td>\n",
       "      <td>Klinge</td>\n",
       "      <td>Jill</td>\n",
       "      <td>NaN</td>\n",
       "      <td>F</td>\n",
       "      <td>NaN</td>\n",
       "      <td>...</td>\n",
       "      <td>NaN</td>\n",
       "      <td>NaN</td>\n",
       "      <td>0</td>\n",
       "      <td>X</td>\n",
       "      <td>NaN</td>\n",
       "      <td>NaN</td>\n",
       "      <td>NaN</td>\n",
       "      <td>NaN</td>\n",
       "      <td>NaN</td>\n",
       "      <td>NaN</td>\n",
       "    </tr>\n",
       "    <tr>\n",
       "      <th>29</th>\n",
       "      <td>NaN</td>\n",
       "      <td>1030</td>\n",
       "      <td>NaN</td>\n",
       "      <td>1398038</td>\n",
       "      <td>30</td>\n",
       "      <td>Myachin</td>\n",
       "      <td>Alexander</td>\n",
       "      <td>NaN</td>\n",
       "      <td>M</td>\n",
       "      <td>NaN</td>\n",
       "      <td>...</td>\n",
       "      <td>NaN</td>\n",
       "      <td>NaN</td>\n",
       "      <td>0</td>\n",
       "      <td>X</td>\n",
       "      <td>NaN</td>\n",
       "      <td>NaN</td>\n",
       "      <td>NaN</td>\n",
       "      <td>NaN</td>\n",
       "      <td>NaN</td>\n",
       "      <td>NaN</td>\n",
       "    </tr>\n",
       "    <tr>\n",
       "      <th>32</th>\n",
       "      <td>NaN</td>\n",
       "      <td>1033</td>\n",
       "      <td>NaN</td>\n",
       "      <td>2093749</td>\n",
       "      <td>33</td>\n",
       "      <td>Nasman</td>\n",
       "      <td>Linnea</td>\n",
       "      <td>NaN</td>\n",
       "      <td>F</td>\n",
       "      <td>NaN</td>\n",
       "      <td>...</td>\n",
       "      <td>NaN</td>\n",
       "      <td>NaN</td>\n",
       "      <td>0</td>\n",
       "      <td>X</td>\n",
       "      <td>NaN</td>\n",
       "      <td>NaN</td>\n",
       "      <td>NaN</td>\n",
       "      <td>NaN</td>\n",
       "      <td>NaN</td>\n",
       "      <td>NaN</td>\n",
       "    </tr>\n",
       "    <tr>\n",
       "      <th>37</th>\n",
       "      <td>NaN</td>\n",
       "      <td>1038</td>\n",
       "      <td>NaN</td>\n",
       "      <td>12277</td>\n",
       "      <td>38</td>\n",
       "      <td>Shustrova</td>\n",
       "      <td>Olga</td>\n",
       "      <td>NaN</td>\n",
       "      <td>F</td>\n",
       "      <td>NaN</td>\n",
       "      <td>...</td>\n",
       "      <td>NaN</td>\n",
       "      <td>NaN</td>\n",
       "      <td>0</td>\n",
       "      <td>X</td>\n",
       "      <td>NaN</td>\n",
       "      <td>NaN</td>\n",
       "      <td>NaN</td>\n",
       "      <td>NaN</td>\n",
       "      <td>NaN</td>\n",
       "      <td>NaN</td>\n",
       "    </tr>\n",
       "    <tr>\n",
       "      <th>39</th>\n",
       "      <td>NaN</td>\n",
       "      <td>1040</td>\n",
       "      <td>NaN</td>\n",
       "      <td>1470119</td>\n",
       "      <td>40</td>\n",
       "      <td>Tarry</td>\n",
       "      <td>Stephen</td>\n",
       "      <td>NaN</td>\n",
       "      <td>M</td>\n",
       "      <td>NaN</td>\n",
       "      <td>...</td>\n",
       "      <td>NaN</td>\n",
       "      <td>NaN</td>\n",
       "      <td>0</td>\n",
       "      <td>X</td>\n",
       "      <td>NaN</td>\n",
       "      <td>NaN</td>\n",
       "      <td>NaN</td>\n",
       "      <td>NaN</td>\n",
       "      <td>NaN</td>\n",
       "      <td>NaN</td>\n",
       "    </tr>\n",
       "    <tr>\n",
       "      <th>56</th>\n",
       "      <td>NaN</td>\n",
       "      <td>1057</td>\n",
       "      <td>NaN</td>\n",
       "      <td>2034258</td>\n",
       "      <td>57</td>\n",
       "      <td>Srivastava</td>\n",
       "      <td>Prakhar</td>\n",
       "      <td>NaN</td>\n",
       "      <td>M</td>\n",
       "      <td>NaN</td>\n",
       "      <td>...</td>\n",
       "      <td>NaN</td>\n",
       "      <td>X</td>\n",
       "      <td>0</td>\n",
       "      <td>X</td>\n",
       "      <td>NaN</td>\n",
       "      <td>NaN</td>\n",
       "      <td>NaN</td>\n",
       "      <td>NaN</td>\n",
       "      <td>NaN</td>\n",
       "      <td>NaN</td>\n",
       "    </tr>\n",
       "  </tbody>\n",
       "</table>\n",
       "<p>6 rows × 57 columns</p>\n",
       "</div>"
      ],
      "text/plain": [
       "    OE0001  Stno  XStno   Chipno  Database Id     Surname First name  YB  S  \\\n",
       "23     NaN  1024    NaN  2068608           24      Klinge       Jill NaN  F   \n",
       "29     NaN  1030    NaN  1398038           30     Myachin  Alexander NaN  M   \n",
       "32     NaN  1033    NaN  2093749           33      Nasman     Linnea NaN  F   \n",
       "37     NaN  1038    NaN    12277           38   Shustrova       Olga NaN  F   \n",
       "39     NaN  1040    NaN  1470119           40       Tarry    Stephen NaN  M   \n",
       "56     NaN  1057    NaN  2034258           57  Srivastava    Prakhar NaN  M   \n",
       "\n",
       "    Block       ...         EMail  Rented  Start fee  Paid  Team  Course no.  \\\n",
       "23    NaN       ...           NaN     NaN          0     X   NaN         NaN   \n",
       "29    NaN       ...           NaN     NaN          0     X   NaN         NaN   \n",
       "32    NaN       ...           NaN     NaN          0     X   NaN         NaN   \n",
       "37    NaN       ...           NaN     NaN          0     X   NaN         NaN   \n",
       "39    NaN       ...           NaN     NaN          0     X   NaN         NaN   \n",
       "56    NaN       ...           NaN       X          0     X   NaN         NaN   \n",
       "\n",
       "    Course  km   m  Course controls  \n",
       "23     NaN NaN NaN              NaN  \n",
       "29     NaN NaN NaN              NaN  \n",
       "32     NaN NaN NaN              NaN  \n",
       "37     NaN NaN NaN              NaN  \n",
       "39     NaN NaN NaN              NaN  \n",
       "56     NaN NaN NaN              NaN  \n",
       "\n",
       "[6 rows x 57 columns]"
      ]
     },
     "execution_count": 33,
     "metadata": {},
     "output_type": "execute_result"
    }
   ],
   "source": [
    "r2_ss_import[r2_ss_import['Long']=='Heat 208']"
   ]
  },
  {
   "cell_type": "markdown",
   "metadata": {
    "collapsed": true
   },
   "source": [
    "## Round 2"
   ]
  },
  {
   "cell_type": "markdown",
   "metadata": {},
   "source": [
    "#### Import and process the results from Round 2\n",
    "\n",
    "- Use the CSV results pulled from SportSoftware\n",
    "- Address any ties, mp's, dnf's, and dns's as shown below"
   ]
  },
  {
   "cell_type": "code",
   "execution_count": 34,
   "metadata": {},
   "outputs": [
    {
     "name": "stdout",
     "output_type": "stream",
     "text": [
      "<class 'pandas.core.frame.DataFrame'>\n",
      "RangeIndex: 56 entries, 0 to 55\n",
      "Data columns (total 4 columns):\n",
      "Surname       56 non-null object\n",
      "First_name    56 non-null object\n",
      "Time          56 non-null object\n",
      "Heat          56 non-null int64\n",
      "dtypes: int64(1), object(3)\n",
      "memory usage: 1.8+ KB\n"
     ]
    }
   ],
   "source": [
    "r2_results = sart18.clean_results_csv('2018_event_files_58/02_Shorecrest1/R2_Shorecrest1_Results.csv')\n",
    "r2_results.sort_values(by='Heat', inplace=True)\n",
    "\n",
    "r2_results.reset_index(inplace=True, drop=True) #not required for actual event; necessary due to way test file was edited to support test\n",
    "\n",
    "r2_results.info()"
   ]
  },
  {
   "cell_type": "code",
   "execution_count": 35,
   "metadata": {},
   "outputs": [
    {
     "data": {
      "text/html": [
       "<div>\n",
       "<style>\n",
       "    .dataframe thead tr:only-child th {\n",
       "        text-align: right;\n",
       "    }\n",
       "\n",
       "    .dataframe thead th {\n",
       "        text-align: left;\n",
       "    }\n",
       "\n",
       "    .dataframe tbody tr th {\n",
       "        vertical-align: top;\n",
       "    }\n",
       "</style>\n",
       "<table border=\"1\" class=\"dataframe\">\n",
       "  <thead>\n",
       "    <tr style=\"text-align: right;\">\n",
       "      <th></th>\n",
       "      <th>Surname</th>\n",
       "      <th>First_name</th>\n",
       "      <th>Time</th>\n",
       "      <th>Heat</th>\n",
       "    </tr>\n",
       "  </thead>\n",
       "  <tbody>\n",
       "    <tr>\n",
       "      <th>14</th>\n",
       "      <td>Roecks</td>\n",
       "      <td>Marissa</td>\n",
       "      <td>0:25:54</td>\n",
       "      <td>204</td>\n",
       "    </tr>\n",
       "    <tr>\n",
       "      <th>15</th>\n",
       "      <td>Knapp</td>\n",
       "      <td>Kate</td>\n",
       "      <td>0:24:43</td>\n",
       "      <td>204</td>\n",
       "    </tr>\n",
       "    <tr>\n",
       "      <th>16</th>\n",
       "      <td>Waterhouse</td>\n",
       "      <td>Tim</td>\n",
       "      <td>0:26:49</td>\n",
       "      <td>204</td>\n",
       "    </tr>\n",
       "    <tr>\n",
       "      <th>17</th>\n",
       "      <td>Warner</td>\n",
       "      <td>Steve</td>\n",
       "      <td>0:50:40</td>\n",
       "      <td>204</td>\n",
       "    </tr>\n",
       "    <tr>\n",
       "      <th>18</th>\n",
       "      <td>Collings</td>\n",
       "      <td>Laura</td>\n",
       "      <td>0:26:59</td>\n",
       "      <td>204</td>\n",
       "    </tr>\n",
       "    <tr>\n",
       "      <th>19</th>\n",
       "      <td>Breseman</td>\n",
       "      <td>Dana</td>\n",
       "      <td>0:29:37</td>\n",
       "      <td>204</td>\n",
       "    </tr>\n",
       "    <tr>\n",
       "      <th>20</th>\n",
       "      <td>Chan</td>\n",
       "      <td>Jessie</td>\n",
       "      <td>0:43:07</td>\n",
       "      <td>204</td>\n",
       "    </tr>\n",
       "  </tbody>\n",
       "</table>\n",
       "</div>"
      ],
      "text/plain": [
       "       Surname First_name     Time  Heat\n",
       "14      Roecks    Marissa  0:25:54   204\n",
       "15       Knapp       Kate  0:24:43   204\n",
       "16  Waterhouse        Tim  0:26:49   204\n",
       "17      Warner      Steve  0:50:40   204\n",
       "18    Collings      Laura  0:26:59   204\n",
       "19    Breseman       Dana  0:29:37   204\n",
       "20        Chan     Jessie  0:43:07   204"
      ]
     },
     "execution_count": 35,
     "metadata": {},
     "output_type": "execute_result"
    }
   ],
   "source": [
    "r2_results[r2_results['Heat']==204]"
   ]
  },
  {
   "cell_type": "code",
   "execution_count": 36,
   "metadata": {},
   "outputs": [
    {
     "data": {
      "text/html": [
       "<div>\n",
       "<style>\n",
       "    .dataframe thead tr:only-child th {\n",
       "        text-align: right;\n",
       "    }\n",
       "\n",
       "    .dataframe thead th {\n",
       "        text-align: left;\n",
       "    }\n",
       "\n",
       "    .dataframe tbody tr th {\n",
       "        vertical-align: top;\n",
       "    }\n",
       "</style>\n",
       "<table border=\"1\" class=\"dataframe\">\n",
       "  <thead>\n",
       "    <tr style=\"text-align: right;\">\n",
       "      <th></th>\n",
       "      <th>Surname</th>\n",
       "      <th>First_name</th>\n",
       "      <th>Time</th>\n",
       "      <th>Heat</th>\n",
       "    </tr>\n",
       "  </thead>\n",
       "  <tbody>\n",
       "    <tr>\n",
       "      <th>20</th>\n",
       "      <td>Chan</td>\n",
       "      <td>Jessie</td>\n",
       "      <td>0:43:07</td>\n",
       "      <td>204</td>\n",
       "    </tr>\n",
       "  </tbody>\n",
       "</table>\n",
       "</div>"
      ],
      "text/plain": [
       "   Surname First_name     Time  Heat\n",
       "20    Chan     Jessie  0:43:07   204"
      ]
     },
     "execution_count": 36,
     "metadata": {},
     "output_type": "execute_result"
    }
   ],
   "source": [
    "r2_results[r2_results['First_name']=='Jessie']"
   ]
  },
  {
   "cell_type": "code",
   "execution_count": 37,
   "metadata": {
    "collapsed": true
   },
   "outputs": [],
   "source": [
    "#break ties:\n",
    "#None\n",
    "\n",
    "#Set high times to drive mp and dnfs to last seeds:\n",
    "\n",
    "#Steve W (Aidan) mp\n",
    "r2_results.loc['17', ['Time']] = '59:00'\n",
    "\n",
    "#Jessie C (Kyle) mp\n",
    "r2_results.loc['20', ['Time']] = '59:01'\n",
    "\n",
    "#Ad DNS's\n",
    "\n",
    "r2_results.loc[57, ['Surname']] = 'Bone'\n",
    "r2_results.loc[57, ['First_name']] = 'Eric'\n",
    "r2_results.loc[57, ['Time']] = '0:59:03'\n",
    "r2_results.loc[57, ['Heat']] = 204\n",
    "\n",
    "r2_results.loc[56, ['Surname']] = 'Buchholz'\n",
    "r2_results.loc[56, ['First_name']] = 'Brett'\n",
    "r2_results.loc[56, ['Time']] = '0:59:02'\n",
    "r2_results.loc[56, ['Heat']] = 215\n",
    "\n"
   ]
  },
  {
   "cell_type": "markdown",
   "metadata": {},
   "source": [
    "#### Assign next round heats\n",
    "- This populates the results from Round 1 in the Bracket DF as appropriate based on processing method for this bracket / tournament\n",
    "- Results in each person being assigned to their appropriate next heat"
   ]
  },
  {
   "cell_type": "code",
   "execution_count": 38,
   "metadata": {},
   "outputs": [
    {
     "name": "stdout",
     "output_type": "stream",
     "text": [
      "Processing Heat Pair 201, 203 per Normal Function\n",
      "No Ties, proceeding with next heat assignments!\n",
      "Processing Heat Pair 205, 207 per Normal Function\n",
      "No Ties, proceeding with next heat assignments!\n",
      "Processing Heat Pair 209, 211 per Normal Function\n",
      "No Ties, proceeding with next heat assignments!\n",
      "Processing Heat Pair 213, 215 per Normal Function\n",
      "No Ties, proceeding with next heat assignments!\n",
      "Processing Heat Pair 202, 204 per Normal Function\n",
      "No Ties, proceeding with next heat assignments!\n",
      "Processing Heat Pair 206, 208 per Normal Function\n",
      "No Ties, proceeding with next heat assignments!\n"
     ]
    }
   ],
   "source": [
    "sart18.nxt_ht_assigns_fiftysix(r2_results, 2)"
   ]
  },
  {
   "cell_type": "code",
   "execution_count": 39,
   "metadata": {},
   "outputs": [
    {
     "data": {
      "text/html": [
       "<div>\n",
       "<style>\n",
       "    .dataframe thead tr:only-child th {\n",
       "        text-align: right;\n",
       "    }\n",
       "\n",
       "    .dataframe thead th {\n",
       "        text-align: left;\n",
       "    }\n",
       "\n",
       "    .dataframe tbody tr th {\n",
       "        vertical-align: top;\n",
       "    }\n",
       "</style>\n",
       "<table border=\"1\" class=\"dataframe\">\n",
       "  <thead>\n",
       "    <tr style=\"text-align: right;\">\n",
       "      <th></th>\n",
       "      <th>Round</th>\n",
       "      <th>Nxt_Heat</th>\n",
       "      <th>First_name</th>\n",
       "      <th>Surname</th>\n",
       "      <th>Time</th>\n",
       "      <th>Nxt_Heat_Time</th>\n",
       "    </tr>\n",
       "    <tr>\n",
       "      <th>Seed</th>\n",
       "      <th></th>\n",
       "      <th></th>\n",
       "      <th></th>\n",
       "      <th></th>\n",
       "      <th></th>\n",
       "      <th></th>\n",
       "    </tr>\n",
       "  </thead>\n",
       "  <tbody>\n",
       "    <tr>\n",
       "      <th>202/204-Q1</th>\n",
       "      <td>2</td>\n",
       "      <td>Heat 303</td>\n",
       "      <td>Ing</td>\n",
       "      <td>Uhlin</td>\n",
       "      <td>0:23:16</td>\n",
       "      <td>4:21pm</td>\n",
       "    </tr>\n",
       "    <tr>\n",
       "      <th>202/204-Q2</th>\n",
       "      <td>2</td>\n",
       "      <td>Heat 303</td>\n",
       "      <td>Marissa</td>\n",
       "      <td>Roecks</td>\n",
       "      <td>0:25:54</td>\n",
       "      <td>4:21pm</td>\n",
       "    </tr>\n",
       "    <tr>\n",
       "      <th>202/204-Q3</th>\n",
       "      <td>2</td>\n",
       "      <td>Heat 303</td>\n",
       "      <td>Tim</td>\n",
       "      <td>Waterhouse</td>\n",
       "      <td>0:26:49</td>\n",
       "      <td>4:21pm</td>\n",
       "    </tr>\n",
       "    <tr>\n",
       "      <th>202/204-Q4</th>\n",
       "      <td>2</td>\n",
       "      <td>Heat 303</td>\n",
       "      <td>Laura</td>\n",
       "      <td>Collings</td>\n",
       "      <td>0:26:59</td>\n",
       "      <td>4:21pm</td>\n",
       "    </tr>\n",
       "    <tr>\n",
       "      <th>W202</th>\n",
       "      <td>2</td>\n",
       "      <td>Heat 303</td>\n",
       "      <td>Ryan</td>\n",
       "      <td>Breseman</td>\n",
       "      <td>0:22:49</td>\n",
       "      <td>4:21pm</td>\n",
       "    </tr>\n",
       "    <tr>\n",
       "      <th>W204</th>\n",
       "      <td>2</td>\n",
       "      <td>Heat 303</td>\n",
       "      <td>Kate</td>\n",
       "      <td>Knapp</td>\n",
       "      <td>0:24:43</td>\n",
       "      <td>4:21pm</td>\n",
       "    </tr>\n",
       "  </tbody>\n",
       "</table>\n",
       "</div>"
      ],
      "text/plain": [
       "           Round  Nxt_Heat First_name     Surname     Time Nxt_Heat_Time\n",
       "Seed                                                                    \n",
       "202/204-Q1     2  Heat 303        Ing       Uhlin  0:23:16        4:21pm\n",
       "202/204-Q2     2  Heat 303    Marissa      Roecks  0:25:54        4:21pm\n",
       "202/204-Q3     2  Heat 303        Tim  Waterhouse  0:26:49        4:21pm\n",
       "202/204-Q4     2  Heat 303      Laura    Collings  0:26:59        4:21pm\n",
       "W202           2  Heat 303       Ryan    Breseman  0:22:49        4:21pm\n",
       "W204           2  Heat 303       Kate       Knapp  0:24:43        4:21pm"
      ]
     },
     "execution_count": 39,
     "metadata": {},
     "output_type": "execute_result"
    }
   ],
   "source": [
    "#visual for example purposes:\n",
    "sart18.bracket_df[sart18.bracket_df['Nxt_Heat'] == 'Heat 303']"
   ]
  },
  {
   "cell_type": "markdown",
   "metadata": {},
   "source": [
    "#### Print the .txt file with next heat assignments for use in handing out heat assignment info"
   ]
  },
  {
   "cell_type": "code",
   "execution_count": 40,
   "metadata": {
    "collapsed": true
   },
   "outputs": [],
   "source": [
    "print(*sart18.print_heat_assigns(3), sep='\\n', file = open(\"2018_event_files_58/03_Shorecrest2/R3_heat_assigns.txt\", 'w'))"
   ]
  },
  {
   "cell_type": "markdown",
   "metadata": {},
   "source": [
    "#### Process the next round CSV for import to SportSoftware with correct heat assignments\n",
    "- This function pulls in the existing CSV, updates the heat assignments, and then in the following line exports a new CSV with those new assignments"
   ]
  },
  {
   "cell_type": "code",
   "execution_count": 41,
   "metadata": {},
   "outputs": [],
   "source": [
    "r3_ss_import = sart18.assign_nxt_ht_to_ss_import_csv('2018_event_files_58/03_Shorecrest2/EntryForOE-20180906074203-R03-PreEvent.csv', 2)\n",
    "#Round must be put in as an integer here!"
   ]
  },
  {
   "cell_type": "code",
   "execution_count": 42,
   "metadata": {
    "collapsed": true
   },
   "outputs": [],
   "source": [
    "r3_ss_import.to_csv('2018_event_files_58/03_Shorecrest2/SS_import_R3_with_heats.csv', index=False)"
   ]
  },
  {
   "cell_type": "code",
   "execution_count": 44,
   "metadata": {},
   "outputs": [
    {
     "data": {
      "text/html": [
       "<div>\n",
       "<style>\n",
       "    .dataframe thead tr:only-child th {\n",
       "        text-align: right;\n",
       "    }\n",
       "\n",
       "    .dataframe thead th {\n",
       "        text-align: left;\n",
       "    }\n",
       "\n",
       "    .dataframe tbody tr th {\n",
       "        vertical-align: top;\n",
       "    }\n",
       "</style>\n",
       "<table border=\"1\" class=\"dataframe\">\n",
       "  <thead>\n",
       "    <tr style=\"text-align: right;\">\n",
       "      <th></th>\n",
       "      <th>OE0001</th>\n",
       "      <th>Stno</th>\n",
       "      <th>XStno</th>\n",
       "      <th>Chipno</th>\n",
       "      <th>Database Id</th>\n",
       "      <th>Surname</th>\n",
       "      <th>First name</th>\n",
       "      <th>YB</th>\n",
       "      <th>S</th>\n",
       "      <th>Block</th>\n",
       "      <th>...</th>\n",
       "      <th>EMail</th>\n",
       "      <th>Rented</th>\n",
       "      <th>Start fee</th>\n",
       "      <th>Paid</th>\n",
       "      <th>Team</th>\n",
       "      <th>Course no.</th>\n",
       "      <th>Course</th>\n",
       "      <th>km</th>\n",
       "      <th>m</th>\n",
       "      <th>Course controls</th>\n",
       "    </tr>\n",
       "  </thead>\n",
       "  <tbody>\n",
       "    <tr>\n",
       "      <th>0</th>\n",
       "      <td>NaN</td>\n",
       "      <td>1001</td>\n",
       "      <td>NaN</td>\n",
       "      <td>504076</td>\n",
       "      <td>1</td>\n",
       "      <td>Bone</td>\n",
       "      <td>Eric</td>\n",
       "      <td>NaN</td>\n",
       "      <td>M</td>\n",
       "      <td>NaN</td>\n",
       "      <td>...</td>\n",
       "      <td>NaN</td>\n",
       "      <td>NaN</td>\n",
       "      <td>0</td>\n",
       "      <td>X</td>\n",
       "      <td>NaN</td>\n",
       "      <td>NaN</td>\n",
       "      <td>NaN</td>\n",
       "      <td>NaN</td>\n",
       "      <td>NaN</td>\n",
       "      <td>NaN</td>\n",
       "    </tr>\n",
       "    <tr>\n",
       "      <th>3</th>\n",
       "      <td>NaN</td>\n",
       "      <td>1004</td>\n",
       "      <td>NaN</td>\n",
       "      <td>2034229</td>\n",
       "      <td>4</td>\n",
       "      <td>Byers-Jensen</td>\n",
       "      <td>Kate</td>\n",
       "      <td>NaN</td>\n",
       "      <td>F</td>\n",
       "      <td>NaN</td>\n",
       "      <td>...</td>\n",
       "      <td>NaN</td>\n",
       "      <td>NaN</td>\n",
       "      <td>0</td>\n",
       "      <td>X</td>\n",
       "      <td>NaN</td>\n",
       "      <td>NaN</td>\n",
       "      <td>NaN</td>\n",
       "      <td>NaN</td>\n",
       "      <td>NaN</td>\n",
       "      <td>NaN</td>\n",
       "    </tr>\n",
       "    <tr>\n",
       "      <th>22</th>\n",
       "      <td>NaN</td>\n",
       "      <td>1023</td>\n",
       "      <td>NaN</td>\n",
       "      <td>2053420</td>\n",
       "      <td>23</td>\n",
       "      <td>Kelley</td>\n",
       "      <td>Jud</td>\n",
       "      <td>NaN</td>\n",
       "      <td>M</td>\n",
       "      <td>NaN</td>\n",
       "      <td>...</td>\n",
       "      <td>NaN</td>\n",
       "      <td>NaN</td>\n",
       "      <td>0</td>\n",
       "      <td>X</td>\n",
       "      <td>NaN</td>\n",
       "      <td>NaN</td>\n",
       "      <td>NaN</td>\n",
       "      <td>NaN</td>\n",
       "      <td>NaN</td>\n",
       "      <td>NaN</td>\n",
       "    </tr>\n",
       "    <tr>\n",
       "      <th>34</th>\n",
       "      <td>NaN</td>\n",
       "      <td>1035</td>\n",
       "      <td>NaN</td>\n",
       "      <td>2127296</td>\n",
       "      <td>35</td>\n",
       "      <td>Pleiss</td>\n",
       "      <td>Richard</td>\n",
       "      <td>NaN</td>\n",
       "      <td>M</td>\n",
       "      <td>NaN</td>\n",
       "      <td>...</td>\n",
       "      <td>NaN</td>\n",
       "      <td>NaN</td>\n",
       "      <td>0</td>\n",
       "      <td>X</td>\n",
       "      <td>NaN</td>\n",
       "      <td>NaN</td>\n",
       "      <td>NaN</td>\n",
       "      <td>NaN</td>\n",
       "      <td>NaN</td>\n",
       "      <td>NaN</td>\n",
       "    </tr>\n",
       "    <tr>\n",
       "      <th>44</th>\n",
       "      <td>NaN</td>\n",
       "      <td>1045</td>\n",
       "      <td>NaN</td>\n",
       "      <td>2053403</td>\n",
       "      <td>45</td>\n",
       "      <td>Warner</td>\n",
       "      <td>Steve</td>\n",
       "      <td>NaN</td>\n",
       "      <td>M</td>\n",
       "      <td>NaN</td>\n",
       "      <td>...</td>\n",
       "      <td>NaN</td>\n",
       "      <td>NaN</td>\n",
       "      <td>0</td>\n",
       "      <td>X</td>\n",
       "      <td>NaN</td>\n",
       "      <td>NaN</td>\n",
       "      <td>NaN</td>\n",
       "      <td>NaN</td>\n",
       "      <td>NaN</td>\n",
       "      <td>NaN</td>\n",
       "    </tr>\n",
       "    <tr>\n",
       "      <th>50</th>\n",
       "      <td>NaN</td>\n",
       "      <td>1051</td>\n",
       "      <td>NaN</td>\n",
       "      <td>2092276</td>\n",
       "      <td>51</td>\n",
       "      <td>Buchholz</td>\n",
       "      <td>Larson</td>\n",
       "      <td>NaN</td>\n",
       "      <td>M</td>\n",
       "      <td>NaN</td>\n",
       "      <td>...</td>\n",
       "      <td>NaN</td>\n",
       "      <td>NaN</td>\n",
       "      <td>0</td>\n",
       "      <td>X</td>\n",
       "      <td>NaN</td>\n",
       "      <td>NaN</td>\n",
       "      <td>NaN</td>\n",
       "      <td>NaN</td>\n",
       "      <td>NaN</td>\n",
       "      <td>NaN</td>\n",
       "    </tr>\n",
       "    <tr>\n",
       "      <th>55</th>\n",
       "      <td>NaN</td>\n",
       "      <td>1056</td>\n",
       "      <td>NaN</td>\n",
       "      <td>2053405</td>\n",
       "      <td>56</td>\n",
       "      <td>Chan</td>\n",
       "      <td>Jessie</td>\n",
       "      <td>NaN</td>\n",
       "      <td>F</td>\n",
       "      <td>NaN</td>\n",
       "      <td>...</td>\n",
       "      <td>NaN</td>\n",
       "      <td>X</td>\n",
       "      <td>0</td>\n",
       "      <td>X</td>\n",
       "      <td>NaN</td>\n",
       "      <td>NaN</td>\n",
       "      <td>NaN</td>\n",
       "      <td>NaN</td>\n",
       "      <td>NaN</td>\n",
       "      <td>NaN</td>\n",
       "    </tr>\n",
       "    <tr>\n",
       "      <th>57</th>\n",
       "      <td>NaN</td>\n",
       "      <td>1058</td>\n",
       "      <td>NaN</td>\n",
       "      <td>348563</td>\n",
       "      <td>58</td>\n",
       "      <td>Breseman</td>\n",
       "      <td>Dana</td>\n",
       "      <td>NaN</td>\n",
       "      <td>F</td>\n",
       "      <td>NaN</td>\n",
       "      <td>...</td>\n",
       "      <td>NaN</td>\n",
       "      <td>NaN</td>\n",
       "      <td>0</td>\n",
       "      <td>X</td>\n",
       "      <td>NaN</td>\n",
       "      <td>NaN</td>\n",
       "      <td>NaN</td>\n",
       "      <td>NaN</td>\n",
       "      <td>NaN</td>\n",
       "      <td>NaN</td>\n",
       "    </tr>\n",
       "  </tbody>\n",
       "</table>\n",
       "<p>8 rows × 57 columns</p>\n",
       "</div>"
      ],
      "text/plain": [
       "    OE0001  Stno  XStno   Chipno  Database Id       Surname First name  YB  S  \\\n",
       "0      NaN  1001    NaN   504076            1          Bone       Eric NaN  M   \n",
       "3      NaN  1004    NaN  2034229            4  Byers-Jensen       Kate NaN  F   \n",
       "22     NaN  1023    NaN  2053420           23        Kelley        Jud NaN  M   \n",
       "34     NaN  1035    NaN  2127296           35        Pleiss    Richard NaN  M   \n",
       "44     NaN  1045    NaN  2053403           45        Warner      Steve NaN  M   \n",
       "50     NaN  1051    NaN  2092276           51      Buchholz     Larson NaN  M   \n",
       "55     NaN  1056    NaN  2053405           56          Chan     Jessie NaN  F   \n",
       "57     NaN  1058    NaN   348563           58      Breseman       Dana NaN  F   \n",
       "\n",
       "    Block       ...         EMail  Rented  Start fee  Paid  Team  Course no.  \\\n",
       "0     NaN       ...           NaN     NaN          0     X   NaN         NaN   \n",
       "3     NaN       ...           NaN     NaN          0     X   NaN         NaN   \n",
       "22    NaN       ...           NaN     NaN          0     X   NaN         NaN   \n",
       "34    NaN       ...           NaN     NaN          0     X   NaN         NaN   \n",
       "44    NaN       ...           NaN     NaN          0     X   NaN         NaN   \n",
       "50    NaN       ...           NaN     NaN          0     X   NaN         NaN   \n",
       "55    NaN       ...           NaN       X          0     X   NaN         NaN   \n",
       "57    NaN       ...           NaN     NaN          0     X   NaN         NaN   \n",
       "\n",
       "    Course  km   m  Course controls  \n",
       "0      NaN NaN NaN              NaN  \n",
       "3      NaN NaN NaN              NaN  \n",
       "22     NaN NaN NaN              NaN  \n",
       "34     NaN NaN NaN              NaN  \n",
       "44     NaN NaN NaN              NaN  \n",
       "50     NaN NaN NaN              NaN  \n",
       "55     NaN NaN NaN              NaN  \n",
       "57     NaN NaN NaN              NaN  \n",
       "\n",
       "[8 rows x 57 columns]"
      ]
     },
     "execution_count": 44,
     "metadata": {},
     "output_type": "execute_result"
    }
   ],
   "source": [
    "r3_ss_import[r3_ss_import['Long']=='Heat 304']"
   ]
  },
  {
   "cell_type": "markdown",
   "metadata": {},
   "source": [
    "## Round 3"
   ]
  },
  {
   "cell_type": "markdown",
   "metadata": {},
   "source": [
    "#### Import and process the results from Round 3\n",
    "\n",
    "- Use the CSV results pulled from SportSoftware\n",
    "- Address any ties, mp's, dnf's, and dns's as shown below"
   ]
  },
  {
   "cell_type": "code",
   "execution_count": 63,
   "metadata": {},
   "outputs": [
    {
     "name": "stdout",
     "output_type": "stream",
     "text": [
      "<class 'pandas.core.frame.DataFrame'>\n",
      "Index: 56 entries, 0 to 55\n",
      "Data columns (total 4 columns):\n",
      "Surname       56 non-null object\n",
      "First_name    56 non-null object\n",
      "Time          56 non-null object\n",
      "Heat          56 non-null int64\n",
      "dtypes: int64(1), object(3)\n",
      "memory usage: 2.2+ KB\n"
     ]
    }
   ],
   "source": [
    "r3_results = sart18.clean_results_csv('2018_event_files_58/03_Shorecrest2/R3_Shorecrest2_Results.csv')\n",
    "r3_results.sort_values(by='Heat', inplace=True)\n",
    "\n",
    "r3_results.info()\n"
   ]
  },
  {
   "cell_type": "code",
   "execution_count": 64,
   "metadata": {
    "collapsed": true
   },
   "outputs": [],
   "source": [
    "r3_results.reset_index(inplace=True, drop=True)"
   ]
  },
  {
   "cell_type": "code",
   "execution_count": 65,
   "metadata": {},
   "outputs": [
    {
     "data": {
      "text/html": [
       "<div>\n",
       "<style>\n",
       "    .dataframe thead tr:only-child th {\n",
       "        text-align: right;\n",
       "    }\n",
       "\n",
       "    .dataframe thead th {\n",
       "        text-align: left;\n",
       "    }\n",
       "\n",
       "    .dataframe tbody tr th {\n",
       "        vertical-align: top;\n",
       "    }\n",
       "</style>\n",
       "<table border=\"1\" class=\"dataframe\">\n",
       "  <thead>\n",
       "    <tr style=\"text-align: right;\">\n",
       "      <th></th>\n",
       "      <th>Surname</th>\n",
       "      <th>First_name</th>\n",
       "      <th>Time</th>\n",
       "      <th>Heat</th>\n",
       "    </tr>\n",
       "  </thead>\n",
       "  <tbody>\n",
       "    <tr>\n",
       "      <th>47</th>\n",
       "      <td>McNair</td>\n",
       "      <td>Abra</td>\n",
       "      <td>0:25:03</td>\n",
       "      <td>310</td>\n",
       "    </tr>\n",
       "  </tbody>\n",
       "</table>\n",
       "</div>"
      ],
      "text/plain": [
       "   Surname First_name     Time  Heat\n",
       "47  McNair       Abra  0:25:03   310"
      ]
     },
     "execution_count": 65,
     "metadata": {},
     "output_type": "execute_result"
    }
   ],
   "source": [
    "r3_results[r3_results['First_name']=='Abra']"
   ]
  },
  {
   "cell_type": "code",
   "execution_count": 66,
   "metadata": {
    "collapsed": true
   },
   "outputs": [],
   "source": [
    "#break ties:\n",
    "\n",
    "#Abra, Peter (sort of - Peter won heat so doesn't matter but need to break tie for code to proceed)\n",
    "\n",
    "r3_results.loc[47, ['Time']] = '0:25:03.5'\n",
    "\n",
    "#Set high times to drive mp and dnfs to last seeds:\n",
    "\n",
    "#Oyvind, mp\n",
    "r3_results.loc[33, ['Time']] = '59:00'\n",
    "\n",
    "\n",
    "#Add dns's:\n",
    "\n",
    "r3_results.loc[57, ['Surname']] = 'Bone'\n",
    "r3_results.loc[57, ['First_name']] = 'Eric'\n",
    "r3_results.loc[57, ['Time']] = '0:59:02'\n",
    "r3_results.loc[57, ['Heat']] = 304\n",
    "\n",
    "r3_results.loc[56, ['Surname']] = 'Kelley'\n",
    "r3_results.loc[56, ['First_name']] = 'Jud'\n",
    "r3_results.loc[56, ['Time']] = '0:59:01'\n",
    "r3_results.loc[56, ['Heat']] = 304"
   ]
  },
  {
   "cell_type": "markdown",
   "metadata": {},
   "source": [
    "#### Assign next round heats\n",
    "- This populates the results from Round 1 in the Bracket DF as appropriate based on processing method for this bracket / tournament\n",
    "- Results in each person being assigned to their appropriate next heat"
   ]
  },
  {
   "cell_type": "code",
   "execution_count": 67,
   "metadata": {},
   "outputs": [
    {
     "name": "stdout",
     "output_type": "stream",
     "text": [
      "Processing Heat Pair 301, 305 per Normal Function\n",
      "No Ties, proceeding with next heat assignments!\n",
      "Processing Heat Pair 309, 313 per Normal Function\n",
      "No Ties, proceeding with next heat assignments!\n",
      "Processing Heat Pair 302, 306 per Normal Function\n",
      "No Ties, proceeding with next heat assignments!\n",
      "Processing Heat Pair 310, 314 per Normal Function\n",
      "No Ties, proceeding with next heat assignments!\n",
      "Processing Heat Pair 303, 307 per Normal Function\n",
      "No Ties, proceeding with next heat assignments!\n",
      "Processing Heat Pair 304, 308 per Normal Function\n",
      "No Ties, proceeding with next heat assignments!\n"
     ]
    }
   ],
   "source": [
    "sart18.nxt_ht_assigns_fiftysix(r3_results, 3)\n"
   ]
  },
  {
   "cell_type": "code",
   "execution_count": 68,
   "metadata": {},
   "outputs": [
    {
     "data": {
      "text/html": [
       "<div>\n",
       "<style>\n",
       "    .dataframe thead tr:only-child th {\n",
       "        text-align: right;\n",
       "    }\n",
       "\n",
       "    .dataframe thead th {\n",
       "        text-align: left;\n",
       "    }\n",
       "\n",
       "    .dataframe tbody tr th {\n",
       "        vertical-align: top;\n",
       "    }\n",
       "</style>\n",
       "<table border=\"1\" class=\"dataframe\">\n",
       "  <thead>\n",
       "    <tr style=\"text-align: right;\">\n",
       "      <th></th>\n",
       "      <th>Round</th>\n",
       "      <th>Nxt_Heat</th>\n",
       "      <th>First_name</th>\n",
       "      <th>Surname</th>\n",
       "      <th>Time</th>\n",
       "      <th>Nxt_Heat_Time</th>\n",
       "    </tr>\n",
       "    <tr>\n",
       "      <th>Seed</th>\n",
       "      <th></th>\n",
       "      <th></th>\n",
       "      <th></th>\n",
       "      <th></th>\n",
       "      <th></th>\n",
       "      <th></th>\n",
       "    </tr>\n",
       "  </thead>\n",
       "  <tbody>\n",
       "    <tr>\n",
       "      <th>304/308-Q10</th>\n",
       "      <td>3</td>\n",
       "      <td>Heat 402</td>\n",
       "      <td>Jud</td>\n",
       "      <td>Kelley</td>\n",
       "      <td>0:59:01</td>\n",
       "      <td>9:18am</td>\n",
       "    </tr>\n",
       "    <tr>\n",
       "      <th>304/308-Q11</th>\n",
       "      <td>3</td>\n",
       "      <td>Heat 402</td>\n",
       "      <td>Eric</td>\n",
       "      <td>Bone</td>\n",
       "      <td>0:59:02</td>\n",
       "      <td>9:18am</td>\n",
       "    </tr>\n",
       "    <tr>\n",
       "      <th>304/308-Q12</th>\n",
       "      <td>3</td>\n",
       "      <td>Heat 402</td>\n",
       "      <td>Steve</td>\n",
       "      <td>Warner</td>\n",
       "      <td>1:02:05</td>\n",
       "      <td>9:18am</td>\n",
       "    </tr>\n",
       "    <tr>\n",
       "      <th>304/308-Q5</th>\n",
       "      <td>3</td>\n",
       "      <td>Heat 402</td>\n",
       "      <td>Kate</td>\n",
       "      <td>Byers-Jensen</td>\n",
       "      <td>0:42:03</td>\n",
       "      <td>9:18am</td>\n",
       "    </tr>\n",
       "    <tr>\n",
       "      <th>304/308-Q6</th>\n",
       "      <td>3</td>\n",
       "      <td>Heat 402</td>\n",
       "      <td>Richard</td>\n",
       "      <td>Pleiss</td>\n",
       "      <td>0:44:05</td>\n",
       "      <td>9:18am</td>\n",
       "    </tr>\n",
       "    <tr>\n",
       "      <th>304/308-Q7</th>\n",
       "      <td>3</td>\n",
       "      <td>Heat 402</td>\n",
       "      <td>Terry</td>\n",
       "      <td>Farrah</td>\n",
       "      <td>0:46:41</td>\n",
       "      <td>9:18am</td>\n",
       "    </tr>\n",
       "    <tr>\n",
       "      <th>304/308-Q8</th>\n",
       "      <td>3</td>\n",
       "      <td>Heat 402</td>\n",
       "      <td>Olga</td>\n",
       "      <td>Shustrova</td>\n",
       "      <td>0:46:53</td>\n",
       "      <td>9:18am</td>\n",
       "    </tr>\n",
       "    <tr>\n",
       "      <th>304/308-Q9</th>\n",
       "      <td>3</td>\n",
       "      <td>Heat 402</td>\n",
       "      <td>Jennifer</td>\n",
       "      <td>Castelluccio</td>\n",
       "      <td>0:50:48</td>\n",
       "      <td>9:18am</td>\n",
       "    </tr>\n",
       "  </tbody>\n",
       "</table>\n",
       "</div>"
      ],
      "text/plain": [
       "            Round  Nxt_Heat First_name       Surname     Time Nxt_Heat_Time\n",
       "Seed                                                                       \n",
       "304/308-Q10     3  Heat 402        Jud        Kelley  0:59:01        9:18am\n",
       "304/308-Q11     3  Heat 402       Eric          Bone  0:59:02        9:18am\n",
       "304/308-Q12     3  Heat 402      Steve        Warner  1:02:05        9:18am\n",
       "304/308-Q5      3  Heat 402       Kate  Byers-Jensen  0:42:03        9:18am\n",
       "304/308-Q6      3  Heat 402    Richard        Pleiss  0:44:05        9:18am\n",
       "304/308-Q7      3  Heat 402      Terry        Farrah  0:46:41        9:18am\n",
       "304/308-Q8      3  Heat 402       Olga     Shustrova  0:46:53        9:18am\n",
       "304/308-Q9      3  Heat 402   Jennifer  Castelluccio  0:50:48        9:18am"
      ]
     },
     "execution_count": 68,
     "metadata": {},
     "output_type": "execute_result"
    }
   ],
   "source": [
    "#visual for example purposes:\n",
    "sart18.bracket_df[(sart18.bracket_df['Nxt_Heat'] == 'Heat 402')]\n"
   ]
  },
  {
   "cell_type": "markdown",
   "metadata": {},
   "source": [
    "#### Print the .txt file with next heat assignments for use in handing out heat assignment info"
   ]
  },
  {
   "cell_type": "code",
   "execution_count": 69,
   "metadata": {
    "collapsed": true
   },
   "outputs": [],
   "source": [
    "print(*sart18.print_heat_assigns(4), sep='\\n', file = open(\"2018_event_files_58/04_Shoreline1/R4_heat_assigns.txt\", 'w'))"
   ]
  },
  {
   "cell_type": "markdown",
   "metadata": {},
   "source": [
    "#### Process the next round CSV for import to SportSoftware with correct heat assignments\n",
    "- This function pulls in the existing CSV, updates the heat assignments, and then in the following line exports a new CSV with those new assignments"
   ]
  },
  {
   "cell_type": "code",
   "execution_count": 70,
   "metadata": {},
   "outputs": [],
   "source": [
    "r4_ss_import = sart18.assign_nxt_ht_to_ss_import_csv('2018_event_files_58/04_Shoreline1/EntryForOE-20180906074203-R04-PreEvent.csv', 3)\n",
    "#Round must be put in as an integer here!"
   ]
  },
  {
   "cell_type": "code",
   "execution_count": 71,
   "metadata": {
    "collapsed": true
   },
   "outputs": [],
   "source": [
    "r4_ss_import.to_csv('2018_event_files_58/04_Shoreline1/SS_import_R4_with_heats.csv', index=False)\n"
   ]
  },
  {
   "cell_type": "code",
   "execution_count": 72,
   "metadata": {},
   "outputs": [
    {
     "data": {
      "text/html": [
       "<div>\n",
       "<style>\n",
       "    .dataframe thead tr:only-child th {\n",
       "        text-align: right;\n",
       "    }\n",
       "\n",
       "    .dataframe thead th {\n",
       "        text-align: left;\n",
       "    }\n",
       "\n",
       "    .dataframe tbody tr th {\n",
       "        vertical-align: top;\n",
       "    }\n",
       "</style>\n",
       "<table border=\"1\" class=\"dataframe\">\n",
       "  <thead>\n",
       "    <tr style=\"text-align: right;\">\n",
       "      <th></th>\n",
       "      <th>OE0001</th>\n",
       "      <th>Stno</th>\n",
       "      <th>XStno</th>\n",
       "      <th>Chipno</th>\n",
       "      <th>Database Id</th>\n",
       "      <th>Surname</th>\n",
       "      <th>First name</th>\n",
       "      <th>YB</th>\n",
       "      <th>S</th>\n",
       "      <th>Block</th>\n",
       "      <th>...</th>\n",
       "      <th>EMail</th>\n",
       "      <th>Rented</th>\n",
       "      <th>Start fee</th>\n",
       "      <th>Paid</th>\n",
       "      <th>Team</th>\n",
       "      <th>Course no.</th>\n",
       "      <th>Course</th>\n",
       "      <th>km</th>\n",
       "      <th>m</th>\n",
       "      <th>Course controls</th>\n",
       "    </tr>\n",
       "  </thead>\n",
       "  <tbody>\n",
       "    <tr>\n",
       "      <th>8</th>\n",
       "      <td>NaN</td>\n",
       "      <td>1009</td>\n",
       "      <td>NaN</td>\n",
       "      <td>1135311</td>\n",
       "      <td>9</td>\n",
       "      <td>Collings</td>\n",
       "      <td>Laura</td>\n",
       "      <td>NaN</td>\n",
       "      <td>F</td>\n",
       "      <td>NaN</td>\n",
       "      <td>...</td>\n",
       "      <td>NaN</td>\n",
       "      <td>NaN</td>\n",
       "      <td>0</td>\n",
       "      <td>X</td>\n",
       "      <td>NaN</td>\n",
       "      <td>NaN</td>\n",
       "      <td>NaN</td>\n",
       "      <td>NaN</td>\n",
       "      <td>NaN</td>\n",
       "      <td>NaN</td>\n",
       "    </tr>\n",
       "    <tr>\n",
       "      <th>10</th>\n",
       "      <td>NaN</td>\n",
       "      <td>1011</td>\n",
       "      <td>NaN</td>\n",
       "      <td>2027189</td>\n",
       "      <td>11</td>\n",
       "      <td>Devine</td>\n",
       "      <td>Nancy</td>\n",
       "      <td>NaN</td>\n",
       "      <td>F</td>\n",
       "      <td>NaN</td>\n",
       "      <td>...</td>\n",
       "      <td>NaN</td>\n",
       "      <td>NaN</td>\n",
       "      <td>0</td>\n",
       "      <td>X</td>\n",
       "      <td>NaN</td>\n",
       "      <td>NaN</td>\n",
       "      <td>NaN</td>\n",
       "      <td>NaN</td>\n",
       "      <td>NaN</td>\n",
       "      <td>NaN</td>\n",
       "    </tr>\n",
       "    <tr>\n",
       "      <th>11</th>\n",
       "      <td>NaN</td>\n",
       "      <td>1012</td>\n",
       "      <td>NaN</td>\n",
       "      <td>2053401</td>\n",
       "      <td>12</td>\n",
       "      <td>Devine</td>\n",
       "      <td>Kirk</td>\n",
       "      <td>NaN</td>\n",
       "      <td>M</td>\n",
       "      <td>NaN</td>\n",
       "      <td>...</td>\n",
       "      <td>NaN</td>\n",
       "      <td>NaN</td>\n",
       "      <td>0</td>\n",
       "      <td>X</td>\n",
       "      <td>NaN</td>\n",
       "      <td>NaN</td>\n",
       "      <td>NaN</td>\n",
       "      <td>NaN</td>\n",
       "      <td>NaN</td>\n",
       "      <td>NaN</td>\n",
       "    </tr>\n",
       "    <tr>\n",
       "      <th>29</th>\n",
       "      <td>NaN</td>\n",
       "      <td>1030</td>\n",
       "      <td>NaN</td>\n",
       "      <td>1398038</td>\n",
       "      <td>30</td>\n",
       "      <td>Myachin</td>\n",
       "      <td>Alexander</td>\n",
       "      <td>NaN</td>\n",
       "      <td>M</td>\n",
       "      <td>NaN</td>\n",
       "      <td>...</td>\n",
       "      <td>NaN</td>\n",
       "      <td>NaN</td>\n",
       "      <td>0</td>\n",
       "      <td>X</td>\n",
       "      <td>NaN</td>\n",
       "      <td>NaN</td>\n",
       "      <td>NaN</td>\n",
       "      <td>NaN</td>\n",
       "      <td>NaN</td>\n",
       "      <td>NaN</td>\n",
       "    </tr>\n",
       "    <tr>\n",
       "      <th>36</th>\n",
       "      <td>NaN</td>\n",
       "      <td>1037</td>\n",
       "      <td>NaN</td>\n",
       "      <td>2053404</td>\n",
       "      <td>37</td>\n",
       "      <td>Roecks</td>\n",
       "      <td>Marissa</td>\n",
       "      <td>NaN</td>\n",
       "      <td>F</td>\n",
       "      <td>NaN</td>\n",
       "      <td>...</td>\n",
       "      <td>NaN</td>\n",
       "      <td>NaN</td>\n",
       "      <td>0</td>\n",
       "      <td>X</td>\n",
       "      <td>NaN</td>\n",
       "      <td>NaN</td>\n",
       "      <td>NaN</td>\n",
       "      <td>NaN</td>\n",
       "      <td>NaN</td>\n",
       "      <td>NaN</td>\n",
       "    </tr>\n",
       "    <tr>\n",
       "      <th>45</th>\n",
       "      <td>NaN</td>\n",
       "      <td>1046</td>\n",
       "      <td>NaN</td>\n",
       "      <td>2053402</td>\n",
       "      <td>46</td>\n",
       "      <td>Waterhouse</td>\n",
       "      <td>Tim</td>\n",
       "      <td>NaN</td>\n",
       "      <td>M</td>\n",
       "      <td>NaN</td>\n",
       "      <td>...</td>\n",
       "      <td>NaN</td>\n",
       "      <td>NaN</td>\n",
       "      <td>0</td>\n",
       "      <td>X</td>\n",
       "      <td>NaN</td>\n",
       "      <td>NaN</td>\n",
       "      <td>NaN</td>\n",
       "      <td>NaN</td>\n",
       "      <td>NaN</td>\n",
       "      <td>NaN</td>\n",
       "    </tr>\n",
       "  </tbody>\n",
       "</table>\n",
       "<p>6 rows × 57 columns</p>\n",
       "</div>"
      ],
      "text/plain": [
       "    OE0001  Stno  XStno   Chipno  Database Id     Surname First name  YB  S  \\\n",
       "8      NaN  1009    NaN  1135311            9    Collings      Laura NaN  F   \n",
       "10     NaN  1011    NaN  2027189           11      Devine      Nancy NaN  F   \n",
       "11     NaN  1012    NaN  2053401           12      Devine       Kirk NaN  M   \n",
       "29     NaN  1030    NaN  1398038           30     Myachin  Alexander NaN  M   \n",
       "36     NaN  1037    NaN  2053404           37      Roecks    Marissa NaN  F   \n",
       "45     NaN  1046    NaN  2053402           46  Waterhouse        Tim NaN  M   \n",
       "\n",
       "    Block       ...         EMail  Rented  Start fee  Paid  Team  Course no.  \\\n",
       "8     NaN       ...           NaN     NaN          0     X   NaN         NaN   \n",
       "10    NaN       ...           NaN     NaN          0     X   NaN         NaN   \n",
       "11    NaN       ...           NaN     NaN          0     X   NaN         NaN   \n",
       "29    NaN       ...           NaN     NaN          0     X   NaN         NaN   \n",
       "36    NaN       ...           NaN     NaN          0     X   NaN         NaN   \n",
       "45    NaN       ...           NaN     NaN          0     X   NaN         NaN   \n",
       "\n",
       "    Course  km   m  Course controls  \n",
       "8      NaN NaN NaN              NaN  \n",
       "10     NaN NaN NaN              NaN  \n",
       "11     NaN NaN NaN              NaN  \n",
       "29     NaN NaN NaN              NaN  \n",
       "36     NaN NaN NaN              NaN  \n",
       "45     NaN NaN NaN              NaN  \n",
       "\n",
       "[6 rows x 57 columns]"
      ]
     },
     "execution_count": 72,
     "metadata": {},
     "output_type": "execute_result"
    }
   ],
   "source": [
    "r4_ss_import[r4_ss_import['Long']=='Heat 406']"
   ]
  },
  {
   "cell_type": "markdown",
   "metadata": {},
   "source": [
    "# Round 4"
   ]
  },
  {
   "cell_type": "markdown",
   "metadata": {},
   "source": [
    "#### Import and process the results from Round 4\n",
    "\n",
    "- Use the CSV results pulled from SportSoftware\n",
    "- Address any ties, mp's, dnf's, and dns's as shown below"
   ]
  },
  {
   "cell_type": "code",
   "execution_count": null,
   "metadata": {
    "collapsed": true
   },
   "outputs": [],
   "source": [
    "r4_results = sart18.clean_results_csv('2018_event_files_58/04_Shoreline1/R4_Shoreline1_Results.csv')\n",
    "r4_results.sort_values(by='Heat', inplace=True)\n",
    "\n",
    "r4_results.info()"
   ]
  },
  {
   "cell_type": "code",
   "execution_count": null,
   "metadata": {
    "collapsed": true
   },
   "outputs": [],
   "source": [
    "r4_results.reset_index(inplace=True, drop=True)"
   ]
  },
  {
   "cell_type": "code",
   "execution_count": null,
   "metadata": {
    "collapsed": true
   },
   "outputs": [],
   "source": [
    "r4_results[r4_results['Heat']==404]"
   ]
  },
  {
   "cell_type": "code",
   "execution_count": null,
   "metadata": {
    "collapsed": true
   },
   "outputs": [],
   "source": [
    "r4_results.tail()"
   ]
  },
  {
   "cell_type": "code",
   "execution_count": null,
   "metadata": {
    "collapsed": true
   },
   "outputs": [],
   "source": [
    "#break ties:\n",
    "\n",
    "#r4_results.loc[47, ['Time']] = '0:13:38'\n",
    "#r4_results.loc[53, ['Time']] = '0:13:38.5'\n",
    "\n",
    "\n",
    "#Set high times to drive mp and dnfs to last seeds:\n",
    "\n",
    "#r4_results.loc['4', ['Time']] = '55:40' #Lillian B dnf\n",
    "#r4_results.loc['3', ['Time']] = '55:35'#Bob F mp\n",
    "#r4_results.loc[30, ['Time']] = '00:55:30' #Kevin M dnf\n",
    "#r4_results.loc['12', ['Time']] = '55:25' #Jared H mp\n",
    "#r4_results.loc[23, ['Time']] = '00:55:20' #Sue G mp\n",
    "#r4_results.loc[46, ['Time']] = '00:55:15' #Ott mp\n",
    "#r4_results.loc[43, ['Time']] = '00:55:10' #Tori B mp\n",
    "\n",
    "\n",
    "#Added dns's\n",
    "\n",
    "#Format:\n",
    "#r4_results.loc['77', ['Surname']] = 'Gusiatnikov'\n",
    "#r4_results.loc['77', ['First_name']] = 'Vladimir'\n",
    "#r4_results.loc['77', ['Time']] = '59:10'\n",
    "#r4_results.loc['77', ['Heat']] = 402 #get heat from bracket_df\n",
    "\n",
    "#r4_results.loc['78', ['Surname']] = 'Ratliff'\n",
    "#r4_results.loc['78', ['First_name']] = 'Hayden'\n",
    "#r4_results.loc['78', ['Time']] = '59:20'\n",
    "#r4_results.loc['78', ['Heat']] = 402 #get heat from bracket_df"
   ]
  },
  {
   "cell_type": "markdown",
   "metadata": {},
   "source": [
    "#### Assign next round heats\n",
    "- This populates the results from Round 1 in the Bracket DF as appropriate based on processing method for this bracket / tournament\n",
    "- Results in each person being assigned to their appropriate next heat"
   ]
  },
  {
   "cell_type": "code",
   "execution_count": null,
   "metadata": {
    "collapsed": true
   },
   "outputs": [],
   "source": [
    "sart18.nxt_ht_assigns_fiftysix(r4_results, 4)"
   ]
  },
  {
   "cell_type": "code",
   "execution_count": null,
   "metadata": {
    "collapsed": true
   },
   "outputs": [],
   "source": [
    "#visual for example purposes:\n",
    "sart18.bracket_df[(sart18.bracket_df['Nxt_Heat'] == 'Heat 504')]"
   ]
  },
  {
   "cell_type": "markdown",
   "metadata": {},
   "source": [
    "#### Print the .txt file with next heat assignments for use in handing out heat assignment info"
   ]
  },
  {
   "cell_type": "code",
   "execution_count": null,
   "metadata": {
    "collapsed": true
   },
   "outputs": [],
   "source": [
    "print(*sart18.print_heat_assigns(5), sep='\\n', file = open(\"2018_event_files_58/05_Shoreline2_Champs/R5_heat_assigns.txt\", 'w'))"
   ]
  },
  {
   "cell_type": "markdown",
   "metadata": {},
   "source": [
    "#### Process the next round CSV for import to SportSoftware with correct heat assignments\n",
    "- This function pulls in the existing CSV, updates the heat assignments, and then in the following line exports a new CSV with those new assignments"
   ]
  },
  {
   "cell_type": "code",
   "execution_count": null,
   "metadata": {
    "collapsed": true
   },
   "outputs": [],
   "source": [
    "r5_ss_import = sart18.assign_nxt_ht_to_ss_import_csv('2018_event_files_58/05_Shoreline2_Champs/EntryForOE-20180906074203-R05-PreEvent.csv', 4)\n",
    "#Round must be put in as an integer here!"
   ]
  },
  {
   "cell_type": "code",
   "execution_count": null,
   "metadata": {
    "collapsed": true
   },
   "outputs": [],
   "source": [
    "r5_ss_import.to_csv('2018_event_files_58/05_Shoreline2_Champs/SS_import_R5_with_heats.csv')"
   ]
  },
  {
   "cell_type": "code",
   "execution_count": null,
   "metadata": {
    "collapsed": true
   },
   "outputs": [],
   "source": [
    "r5_ss_import[r5_ss_import['Long']=='Heat 504']"
   ]
  },
  {
   "cell_type": "markdown",
   "metadata": {},
   "source": [
    "## Round 5"
   ]
  },
  {
   "cell_type": "markdown",
   "metadata": {},
   "source": [
    "#### Import and process the results from Round 5\n",
    "\n",
    "- Use the CSV results pulled from SportSoftware\n",
    "- Address any ties, mp's, dnf's, and dns's as shown below"
   ]
  },
  {
   "cell_type": "code",
   "execution_count": null,
   "metadata": {
    "collapsed": true
   },
   "outputs": [],
   "source": [
    "r5_results = sart18.clean_results_csv('2018_event_files_58/05_Shoreline2_Champs/R5_Shoreline2_Results.csv')"
   ]
  },
  {
   "cell_type": "code",
   "execution_count": null,
   "metadata": {
    "collapsed": true
   },
   "outputs": [],
   "source": [
    "r5_results.info()"
   ]
  },
  {
   "cell_type": "code",
   "execution_count": null,
   "metadata": {
    "collapsed": true
   },
   "outputs": [],
   "source": [
    "#break ties:\n",
    "#Format: r5_results.loc['11', ['Time']] = '29:45.5' #Jud vs Terry\n",
    "\n",
    "#Set high times to drive mp and dnfs (and disqs) to last seeds:\n",
    "\n",
    "#r5_results.loc['4', ['Time']] = '55:00' #Courtney C mp\n",
    "#r5_results.loc['17', ['Time']] = '55:10' #Shannon C mp\n",
    "#r5_results.loc[50, ['Time']] = '00:55:20' #Janne M mp\n",
    "#r5_results.loc[24, ['Time']] = '00:55:30' #Christophe mp\n",
    "\n",
    "#Added dns's\n",
    "\n",
    "#r5_results.loc['75', ['Surname']] = 'Lee'\n",
    "#r5_results.loc['75', ['First_name']] = 'Brandon'\n",
    "#r5_results.loc['75', ['Time']] = '59:10'\n",
    "#r5_results.loc['75', ['Heat']] = 501 #get heat from bracket_df\n",
    "\n",
    "#r5_results.loc['76', ['Surname']] = 'Bakker'\n",
    "#r5_results.loc['76', ['First_name']] = 'Lillian'\n",
    "#r5_results.loc['76', ['Time']] = '59:20'\n",
    "#r5_results.loc['76', ['Heat']] = 501 #get heat from bracket_df\n",
    "\n",
    "#r5_results.loc['77', ['Surname']] = 'Gusiatnikov'\n",
    "#r5_results.loc['77', ['First_name']] = 'Vladimir'\n",
    "#r5_results.loc['77', ['Time']] = '59:30'\n",
    "#r5_results.loc['77', ['Heat']] = 501 #get heat from bracket_df\n",
    "\n",
    "#r5_results.loc['78', ['Surname']] = 'Ratliff'\n",
    "#r5_results.loc['78', ['First_name']] = 'Hayden'\n",
    "#r5_results.loc['78', ['Time']] = '59:40'\n",
    "#r5_results.loc['78', ['Heat']] = 501 #get heat from bracket_df"
   ]
  },
  {
   "cell_type": "code",
   "execution_count": null,
   "metadata": {
    "collapsed": true
   },
   "outputs": [],
   "source": [
    "r5_results[r5_results['First_name']=='Matthew']"
   ]
  },
  {
   "cell_type": "markdown",
   "metadata": {},
   "source": [
    "#### print .txt file with final results!"
   ]
  },
  {
   "cell_type": "code",
   "execution_count": null,
   "metadata": {
    "collapsed": true
   },
   "outputs": [],
   "source": [
    "print(*sart18.print_final_results(r4_results, r5_results), sep='\\n', file = open(\"2018_event_files_58/Final_Results.txt\", 'w'))"
   ]
  },
  {
   "cell_type": "code",
   "execution_count": null,
   "metadata": {
    "collapsed": true
   },
   "outputs": [],
   "source": []
  }
 ],
 "metadata": {
  "kernelspec": {
   "display_name": "Python 2",
   "language": "python",
   "name": "python2"
  },
  "language_info": {
   "codemirror_mode": {
    "name": "ipython",
    "version": 2
   },
   "file_extension": ".py",
   "mimetype": "text/x-python",
   "name": "python",
   "nbconvert_exporter": "python",
   "pygments_lexer": "ipython2",
   "version": "2.7.13"
  }
 },
 "nbformat": 4,
 "nbformat_minor": 2
}
